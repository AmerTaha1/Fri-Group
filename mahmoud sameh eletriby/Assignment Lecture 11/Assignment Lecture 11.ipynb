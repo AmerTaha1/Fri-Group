{
 "cells": [
  {
   "cell_type": "code",
   "execution_count": 2,
   "metadata": {},
   "outputs": [],
   "source": [
    "import requests\n",
    "import json"
   ]
  },
  {
   "cell_type": "code",
   "execution_count": 3,
   "metadata": {},
   "outputs": [
    {
     "data": {
      "text/plain": [
       "'{\"motd\":{\"msg\":\"If you or your company use this project or like what we doing, please consider backing us so we can continue maintaining and evolving this project.\",\"url\":\"https://exchangerate.host/#/donate\"},\"success\":true,\"base\":\"EUR\",\"date\":\"2021-10-17\",\"rates\":{\"AED\":4.257865,\"AFN\":103.550778,\"ALL\":121.457058,\"AMD\":555.470151,\"ANG\":2.081765,\"AOA\":692.695013,\"ARS\":114.907961,\"AUD\":1.56271,\"AWG\":2.087282,\"AZN\":1.971971,\"BAM\":1.953842,\"BBD\":2.318695,\"BDT\":99.190721,\"BGN\":1.956066,\"BHD\":0.437603,\"BIF\":2314.39599,\"BMD\":1.159116,\"BND\":1.563173,\"BOB\":8.010002,\"BRL\":6.327783,\"BSD\":1.159336,\"BTC\":0.000019,\"BTN\":86.883446,\"BWP\":12.980538,\"BYN\":2.8661,\"BZD\":2.337354,\"CAD\":1.434402,\"CDF\":2330.622002,\"CHF\":1.070294,\"CLF\":0.035305,\"CLP\":954.674113,\"CNH\":7.456078,\"CNY\":7.459166,\"COP\":4371.936923,\"CRC\":728.093049,\"CUC\":1.159838,\"CUP\":29.843122,\"CVE\":110.632544,\"CZK\":25.359789,\"DJF\":206.357527,\"DKK\":7.435119,\"DOP\":65.446471,\"DZD\":159.025907,\"EGP\":18.219371,\"ERN\":17.384824,\"ETB\":54.065645,\"EUR\":1,\"FJD\":2.441681,\"FKP\":0.843805,\"GBP\":0.843938,\"GEL\":3.63438,\"GGP\":0.844147,\"GHS\":7.0293,\"GIP\":0.843482,\"GMD\":60.264976,\"GNF\":11305.423455,\"GTQ\":8.969609,\"GYD\":242.281203,\"HKD\":9.014457,\"HNL\":28.075394,\"HRK\":7.503012,\"HTG\":115.336457,\"HUF\":359.716271,\"IDR\":16299.800737,\"ILS\":3.732781,\"IMP\":0.84414,\"INR\":86.849347,\"IQD\":1692.04689,\"IRR\":48907.109015,\"ISK\":149.260298,\"JEP\":0.84377,\"JMD\":174.232517,\"JOD\":0.821763,\"JPY\":132.560424,\"KES\":128.585082,\"KGS\":98.281024,\"KHR\":4728.460641,\"KMF\":492.142402,\"KPW\":1043.042802,\"KRW\":1370.77875,\"KWD\":0.350268,\"KYD\":0.966858,\"KZT\":493.998188,\"LAK\":11738.865066,\"LBP\":1766.153708,\"LKR\":233.285222,\"LRD\":191.746259,\"LSL\":17.04796,\"LYD\":5.279745,\"MAD\":10.496013,\"MDL\":20.035677,\"MGA\":4572.00461,\"MKD\":61.592836,\"MMK\":2219.679477,\"MNT\":3306.297003,\"MOP\":9.287982,\"MRO\":413.740202,\"MRU\":42.069806,\"MUR\":49.897669,\"MVR\":17.906993,\"MWK\":947.430347,\"MXN\":23.572695,\"MYR\":4.818802,\"MZN\":73.998256,\"NAD\":17.141074,\"NGN\":476.172398,\"NIO\":40.736897,\"NOK\":9.761416,\"NPR\":139.010901,\"NZD\":1.638962,\"OMR\":0.44673,\"PAB\":1.159806,\"PEN\":4.559869,\"PGK\":4.091467,\"PHP\":58.770205,\"PKR\":198.410849,\"PLN\":4.56508,\"PYG\":7997.563569,\"QAR\":4.219811,\"RON\":4.944964,\"RSD\":117.396879,\"RUB\":82.267886,\"RWF\":1153.142322,\"SAR\":4.347349,\"SBD\":9.333164,\"SCR\":15.60041,\"SDG\":511.671402,\"SEK\":9.981704,\"SGD\":1.56356,\"SHP\":0.844228,\"SLL\":12264.849141,\"SOS\":676.818673,\"SRD\":24.818455,\"SSP\":150.964197,\"STD\":24273.908952,\"STN\":24.743711,\"SVC\":10.142091,\"SYP\":1457.135943,\"SZL\":17.042015,\"THB\":38.878027,\"TJS\":13.104472,\"TMT\":4.056995,\"TND\":3.272743,\"TOP\":2.618969,\"TRY\":10.74171,\"TTD\":7.880768,\"TWD\":32.413084,\"TZS\":2671.348851,\"UAH\":30.582867,\"UGX\":4184.573672,\"USD\":1.159388,\"UYU\":50.748493,\"UZS\":12406.412923,\"VES\":4.818419,\"VND\":26396.495115,\"VUV\":130.273423,\"WST\":2.989832,\"XAF\":655.372998,\"XAG\":0.050475,\"XAU\":0.001555,\"XCD\":3.132944,\"XDR\":0.822263,\"XOF\":655.373368,\"XPD\":0.001214,\"XPF\":119.22625,\"XPT\":0.00136,\"YER\":290.023973,\"ZAR\":16.927876,\"ZMW\":19.92081,\"ZWL\":373.177383}}'"
      ]
     },
     "execution_count": 3,
     "metadata": {},
     "output_type": "execute_result"
    }
   ],
   "source": [
    "data = requests.get('https://api.exchangerate.host/latest')\n",
    "data.text"
   ]
  },
  {
   "cell_type": "code",
   "execution_count": 4,
   "metadata": {},
   "outputs": [],
   "source": [
    "data =json.loads(data.text)"
   ]
  },
  {
   "cell_type": "code",
   "execution_count": 5,
   "metadata": {},
   "outputs": [
    {
     "data": {
      "text/plain": [
       "{'motd': {'msg': 'If you or your company use this project or like what we doing, please consider backing us so we can continue maintaining and evolving this project.',\n",
       "  'url': 'https://exchangerate.host/#/donate'},\n",
       " 'success': True,\n",
       " 'base': 'EUR',\n",
       " 'date': '2021-10-17',\n",
       " 'rates': {'AED': 4.257865,\n",
       "  'AFN': 103.550778,\n",
       "  'ALL': 121.457058,\n",
       "  'AMD': 555.470151,\n",
       "  'ANG': 2.081765,\n",
       "  'AOA': 692.695013,\n",
       "  'ARS': 114.907961,\n",
       "  'AUD': 1.56271,\n",
       "  'AWG': 2.087282,\n",
       "  'AZN': 1.971971,\n",
       "  'BAM': 1.953842,\n",
       "  'BBD': 2.318695,\n",
       "  'BDT': 99.190721,\n",
       "  'BGN': 1.956066,\n",
       "  'BHD': 0.437603,\n",
       "  'BIF': 2314.39599,\n",
       "  'BMD': 1.159116,\n",
       "  'BND': 1.563173,\n",
       "  'BOB': 8.010002,\n",
       "  'BRL': 6.327783,\n",
       "  'BSD': 1.159336,\n",
       "  'BTC': 1.9e-05,\n",
       "  'BTN': 86.883446,\n",
       "  'BWP': 12.980538,\n",
       "  'BYN': 2.8661,\n",
       "  'BZD': 2.337354,\n",
       "  'CAD': 1.434402,\n",
       "  'CDF': 2330.622002,\n",
       "  'CHF': 1.070294,\n",
       "  'CLF': 0.035305,\n",
       "  'CLP': 954.674113,\n",
       "  'CNH': 7.456078,\n",
       "  'CNY': 7.459166,\n",
       "  'COP': 4371.936923,\n",
       "  'CRC': 728.093049,\n",
       "  'CUC': 1.159838,\n",
       "  'CUP': 29.843122,\n",
       "  'CVE': 110.632544,\n",
       "  'CZK': 25.359789,\n",
       "  'DJF': 206.357527,\n",
       "  'DKK': 7.435119,\n",
       "  'DOP': 65.446471,\n",
       "  'DZD': 159.025907,\n",
       "  'EGP': 18.219371,\n",
       "  'ERN': 17.384824,\n",
       "  'ETB': 54.065645,\n",
       "  'EUR': 1,\n",
       "  'FJD': 2.441681,\n",
       "  'FKP': 0.843805,\n",
       "  'GBP': 0.843938,\n",
       "  'GEL': 3.63438,\n",
       "  'GGP': 0.844147,\n",
       "  'GHS': 7.0293,\n",
       "  'GIP': 0.843482,\n",
       "  'GMD': 60.264976,\n",
       "  'GNF': 11305.423455,\n",
       "  'GTQ': 8.969609,\n",
       "  'GYD': 242.281203,\n",
       "  'HKD': 9.014457,\n",
       "  'HNL': 28.075394,\n",
       "  'HRK': 7.503012,\n",
       "  'HTG': 115.336457,\n",
       "  'HUF': 359.716271,\n",
       "  'IDR': 16299.800737,\n",
       "  'ILS': 3.732781,\n",
       "  'IMP': 0.84414,\n",
       "  'INR': 86.849347,\n",
       "  'IQD': 1692.04689,\n",
       "  'IRR': 48907.109015,\n",
       "  'ISK': 149.260298,\n",
       "  'JEP': 0.84377,\n",
       "  'JMD': 174.232517,\n",
       "  'JOD': 0.821763,\n",
       "  'JPY': 132.560424,\n",
       "  'KES': 128.585082,\n",
       "  'KGS': 98.281024,\n",
       "  'KHR': 4728.460641,\n",
       "  'KMF': 492.142402,\n",
       "  'KPW': 1043.042802,\n",
       "  'KRW': 1370.77875,\n",
       "  'KWD': 0.350268,\n",
       "  'KYD': 0.966858,\n",
       "  'KZT': 493.998188,\n",
       "  'LAK': 11738.865066,\n",
       "  'LBP': 1766.153708,\n",
       "  'LKR': 233.285222,\n",
       "  'LRD': 191.746259,\n",
       "  'LSL': 17.04796,\n",
       "  'LYD': 5.279745,\n",
       "  'MAD': 10.496013,\n",
       "  'MDL': 20.035677,\n",
       "  'MGA': 4572.00461,\n",
       "  'MKD': 61.592836,\n",
       "  'MMK': 2219.679477,\n",
       "  'MNT': 3306.297003,\n",
       "  'MOP': 9.287982,\n",
       "  'MRO': 413.740202,\n",
       "  'MRU': 42.069806,\n",
       "  'MUR': 49.897669,\n",
       "  'MVR': 17.906993,\n",
       "  'MWK': 947.430347,\n",
       "  'MXN': 23.572695,\n",
       "  'MYR': 4.818802,\n",
       "  'MZN': 73.998256,\n",
       "  'NAD': 17.141074,\n",
       "  'NGN': 476.172398,\n",
       "  'NIO': 40.736897,\n",
       "  'NOK': 9.761416,\n",
       "  'NPR': 139.010901,\n",
       "  'NZD': 1.638962,\n",
       "  'OMR': 0.44673,\n",
       "  'PAB': 1.159806,\n",
       "  'PEN': 4.559869,\n",
       "  'PGK': 4.091467,\n",
       "  'PHP': 58.770205,\n",
       "  'PKR': 198.410849,\n",
       "  'PLN': 4.56508,\n",
       "  'PYG': 7997.563569,\n",
       "  'QAR': 4.219811,\n",
       "  'RON': 4.944964,\n",
       "  'RSD': 117.396879,\n",
       "  'RUB': 82.267886,\n",
       "  'RWF': 1153.142322,\n",
       "  'SAR': 4.347349,\n",
       "  'SBD': 9.333164,\n",
       "  'SCR': 15.60041,\n",
       "  'SDG': 511.671402,\n",
       "  'SEK': 9.981704,\n",
       "  'SGD': 1.56356,\n",
       "  'SHP': 0.844228,\n",
       "  'SLL': 12264.849141,\n",
       "  'SOS': 676.818673,\n",
       "  'SRD': 24.818455,\n",
       "  'SSP': 150.964197,\n",
       "  'STD': 24273.908952,\n",
       "  'STN': 24.743711,\n",
       "  'SVC': 10.142091,\n",
       "  'SYP': 1457.135943,\n",
       "  'SZL': 17.042015,\n",
       "  'THB': 38.878027,\n",
       "  'TJS': 13.104472,\n",
       "  'TMT': 4.056995,\n",
       "  'TND': 3.272743,\n",
       "  'TOP': 2.618969,\n",
       "  'TRY': 10.74171,\n",
       "  'TTD': 7.880768,\n",
       "  'TWD': 32.413084,\n",
       "  'TZS': 2671.348851,\n",
       "  'UAH': 30.582867,\n",
       "  'UGX': 4184.573672,\n",
       "  'USD': 1.159388,\n",
       "  'UYU': 50.748493,\n",
       "  'UZS': 12406.412923,\n",
       "  'VES': 4.818419,\n",
       "  'VND': 26396.495115,\n",
       "  'VUV': 130.273423,\n",
       "  'WST': 2.989832,\n",
       "  'XAF': 655.372998,\n",
       "  'XAG': 0.050475,\n",
       "  'XAU': 0.001555,\n",
       "  'XCD': 3.132944,\n",
       "  'XDR': 0.822263,\n",
       "  'XOF': 655.373368,\n",
       "  'XPD': 0.001214,\n",
       "  'XPF': 119.22625,\n",
       "  'XPT': 0.00136,\n",
       "  'YER': 290.023973,\n",
       "  'ZAR': 16.927876,\n",
       "  'ZMW': 19.92081,\n",
       "  'ZWL': 373.177383}}"
      ]
     },
     "execution_count": 5,
     "metadata": {},
     "output_type": "execute_result"
    }
   ],
   "source": [
    "data"
   ]
  },
  {
   "cell_type": "code",
   "execution_count": 6,
   "metadata": {},
   "outputs": [],
   "source": [
    "import csv\n",
    "with open('Exchange rate.csv','w+',newline='') as file:\n",
    "    columns=csv.DictWriter(file,fieldnames=['EUR','USD'])\n",
    "    columns.writeheader()\n",
    "    data['rates']\n",
    "    EUR=data['rates']['EUR']\n",
    "    USD=data['rates']['USD']\n",
    "    columns.writerow({'EUR':EUR,'USD':USD})"
   ]
  },
  {
   "cell_type": "code",
   "execution_count": 7,
   "metadata": {},
   "outputs": [
    {
     "data": {
      "text/plain": [
       "int"
      ]
     },
     "execution_count": 7,
     "metadata": {},
     "output_type": "execute_result"
    }
   ],
   "source": [
    "type(EUR)"
   ]
  },
  {
   "cell_type": "code",
   "execution_count": 8,
   "metadata": {},
   "outputs": [
    {
     "data": {
      "text/plain": [
       "1.15808"
      ]
     },
     "execution_count": 8,
     "metadata": {},
     "output_type": "execute_result"
    }
   ],
   "source": [
    "USD"
   ]
  },
  {
   "cell_type": "code",
   "execution_count": 10,
   "metadata": {},
   "outputs": [
    {
     "data": {
      "text/html": [
       "<div>\n",
       "<style scoped>\n",
       "    .dataframe tbody tr th:only-of-type {\n",
       "        vertical-align: middle;\n",
       "    }\n",
       "\n",
       "    .dataframe tbody tr th {\n",
       "        vertical-align: top;\n",
       "    }\n",
       "\n",
       "    .dataframe thead th {\n",
       "        text-align: right;\n",
       "    }\n",
       "</style>\n",
       "<table border=\"1\" class=\"dataframe\">\n",
       "  <thead>\n",
       "    <tr style=\"text-align: right;\">\n",
       "      <th></th>\n",
       "      <th>EUR</th>\n",
       "      <th>USD</th>\n",
       "    </tr>\n",
       "  </thead>\n",
       "  <tbody>\n",
       "    <tr>\n",
       "      <th>0</th>\n",
       "      <td>1</td>\n",
       "      <td>1.15808</td>\n",
       "    </tr>\n",
       "  </tbody>\n",
       "</table>\n",
       "</div>"
      ],
      "text/plain": [
       "   EUR      USD\n",
       "0    1  1.15808"
      ]
     },
     "execution_count": 10,
     "metadata": {},
     "output_type": "execute_result"
    }
   ],
   "source": [
    "import pandas as pd\n",
    "data=pd.read_csv('Exchange rate.csv')\n",
    "data.head()"
   ]
  },
  {
   "cell_type": "code",
   "execution_count": 8,
   "metadata": {},
   "outputs": [
    {
     "name": "stdout",
     "output_type": "stream",
     "text": [
      "Enter USD : 28\n"
     ]
    },
    {
     "data": {
      "text/plain": [
       "28"
      ]
     },
     "execution_count": 8,
     "metadata": {},
     "output_type": "execute_result"
    }
   ],
   "source": [
    "val=int(input('Enter USD : '))\n",
    "val"
   ]
  },
  {
   "cell_type": "code",
   "execution_count": null,
   "metadata": {},
   "outputs": [],
   "source": [
    "EUR=(val*USD)\n",
    "val"
   ]
  }
 ],
 "metadata": {
  "kernelspec": {
   "display_name": "env1",
   "language": "python",
   "name": "env1"
  },
  "language_info": {
   "codemirror_mode": {
    "name": "ipython",
    "version": 3
   },
   "file_extension": ".py",
   "mimetype": "text/x-python",
   "name": "python",
   "nbconvert_exporter": "python",
   "pygments_lexer": "ipython3",
   "version": "3.7.6"
  }
 },
 "nbformat": 4,
 "nbformat_minor": 4
}
