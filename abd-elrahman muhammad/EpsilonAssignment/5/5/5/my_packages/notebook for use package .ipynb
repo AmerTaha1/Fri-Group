{
 "cells": [
  {
   "cell_type": "code",
   "execution_count": null,
   "id": "04e7dacf",
   "metadata": {},
   "outputs": [],
   "source": []
  },
  {
   "cell_type": "code",
   "execution_count": 21,
   "id": "57626f5a",
   "metadata": {},
   "outputs": [],
   "source": [
    "from Operations.math import get_average as a\n"
   ]
  },
  {
   "cell_type": "code",
   "execution_count": 18,
   "id": "a11e5ab1",
   "metadata": {},
   "outputs": [
    {
     "data": {
      "text/plain": [
       "2.6666666666666665"
      ]
     },
     "execution_count": 18,
     "metadata": {},
     "output_type": "execute_result"
    }
   ],
   "source": [
    "a([1,3,4])"
   ]
  },
  {
   "cell_type": "code",
   "execution_count": 22,
   "id": "5ae12ad4",
   "metadata": {},
   "outputs": [
    {
     "data": {
      "text/plain": [
       "21.0"
      ]
     },
     "execution_count": 22,
     "metadata": {},
     "output_type": "execute_result"
    }
   ],
   "source": [
    "a([15,30,18])"
   ]
  },
  {
   "cell_type": "code",
   "execution_count": null,
   "id": "799d46a0",
   "metadata": {},
   "outputs": [],
   "source": []
  }
 ],
 "metadata": {
  "kernelspec": {
   "display_name": "Python 3",
   "language": "python",
   "name": "python3"
  },
  "language_info": {
   "codemirror_mode": {
    "name": "ipython",
    "version": 3
   },
   "file_extension": ".py",
   "mimetype": "text/x-python",
   "name": "python",
   "nbconvert_exporter": "python",
   "pygments_lexer": "ipython3",
   "version": "3.8.8"
  }
 },
 "nbformat": 4,
 "nbformat_minor": 5
}
