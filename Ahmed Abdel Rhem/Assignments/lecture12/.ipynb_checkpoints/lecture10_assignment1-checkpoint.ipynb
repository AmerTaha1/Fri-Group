{
 "cells": [
  {
   "cell_type": "code",
   "execution_count": 12,
   "id": "751bd239",
   "metadata": {},
   "outputs": [],
   "source": [
    "import json\n",
    "import requests\n"
   ]
  },
  {
   "cell_type": "code",
   "execution_count": 13,
   "id": "02384658",
   "metadata": {},
   "outputs": [],
   "source": [
    "json_resp=requests.request ('GET','https://api.exchangerate.host/latest')"
   ]
  },
  {
   "cell_type": "code",
   "execution_count": 14,
   "id": "3815e1d3",
   "metadata": {},
   "outputs": [
    {
     "data": {
      "text/plain": [
       "'{\"motd\":{\"msg\":\"If you or your company use this project or like what we doing, please consider backing us so we can continue maintaining and evolving this project.\",\"url\":\"https://exchangerate.host/#/donate\"},\"success\":true,\"base\":\"EUR\",\"date\":\"2021-09-26\",\"rates\":{\"AED\":4.302524,\"AFN\":103.000931,\"ALL\":121.388393,\"AMD\":576.282756,\"ANG\":2.102187,\"AOA\":703.693708,\"ARS\":115.405298,\"AUD\":1.613083,\"AWG\":2.108749,\"AZN\":1.99181,\"BAM\":1.952249,\"BBD\":2.342527,\"BDT\":99.810804,\"BGN\":1.955015,\"BHD\":0.442071,\"BIF\":2336.406055,\"BMD\":1.171227,\"BND\":1.584459,\"BOB\":8.086277,\"BRL\":6.248467,\"BSD\":1.172022,\"BTC\":0.000028,\"BTN\":86.310346,\"BWP\":13.023538,\"BYN\":2.931149,\"BZD\":2.360412,\"CAD\":1.482263,\"CDF\":2345.189232,\"CHF\":1.081816,\"CLF\":0.034468,\"CLP\":928.508556,\"CNH\":7.574817,\"CNY\":7.573812,\"COP\":4495.654445,\"CRC\":731.650838,\"CUC\":1.171988,\"CUP\":30.157079,\"CVE\":110.584397,\"CZK\":25.425685,\"DJF\":208.461763,\"DKK\":7.431317,\"DOP\":66.088062,\"DZD\":160.2735,\"EGP\":18.380423,\"ERN\":17.56999,\"ETB\":54.047647,\"EUR\":1,\"FJD\":2.450796,\"FKP\":0.855978,\"GBP\":0.855792,\"GEL\":3.642367,\"GGP\":0.856101,\"GHS\":7.074536,\"GIP\":0.855513,\"GMD\":60.37241,\"GNF\":11441.945221,\"GTQ\":9.057903,\"GYD\":244.769961,\"HKD\":9.119059,\"HNL\":28.341844,\"HRK\":7.498745,\"HTG\":117.096322,\"HUF\":356.615546,\"IDR\":16728.136445,\"ILS\":3.746588,\"IMP\":0.856272,\"INR\":86.445562,\"IQD\":1709.266166,\"IRR\":49415.853817,\"ISK\":150.38538,\"JEP\":0.855724,\"JMD\":173.455108,\"JOD\":0.831368,\"JPY\":129.698028,\"KES\":129.293636,\"KGS\":99.312,\"KHR\":4784.068338,\"KMF\":490.998178,\"KPW\":1054.018415,\"KRW\":1382.239852,\"KWD\":0.352923,\"KYD\":0.976031,\"KZT\":498.359306,\"LAK\":11523.925377,\"LBP\":1789.488076,\"LKR\":233.908269,\"LRD\":200.440159,\"LSL\":17.227507,\"LYD\":5.311797,\"MAD\":10.532616,\"MDL\":20.669994,\"MGA\":4602.543968,\"MKD\":61.424137,\"MMK\":2180.243133,\"MNT\":3325.565435,\"MOP\":9.391357,\"MRO\":418.093446,\"MRU\":42.307723,\"MUR\":50.0512,\"MVR\":18.095249,\"MWK\":954.471749,\"MXN\":23.487242,\"MYR\":4.906213,\"MZN\":74.777343,\"NAD\":17.22756,\"NGN\":481.920702,\"NIO\":41.282837,\"NOK\":10.046077,\"NPR\":138.09724,\"NZD\":1.671584,\"OMR\":0.450923,\"PAB\":1.171833,\"PEN\":4.812054,\"PGK\":4.140658,\"PHP\":59.355902,\"PKR\":198.039219,\"PLN\":4.601939,\"PYG\":8058.814502,\"QAR\":4.263983,\"RON\":4.947145,\"RSD\":117.330236,\"RUB\":85.09449,\"RWF\":1165.275487,\"SAR\":4.393237,\"SBD\":9.433895,\"SCR\":16.323847,\"SDG\":515.883197,\"SEK\":10.132169,\"SGD\":1.58555,\"SHP\":0.855642,\"SLL\":12317.366495,\"SOS\":685.112407,\"SRD\":25.086929,\"SSP\":152.552283,\"STD\":24240.049332,\"STN\":24.858259,\"SVC\":10.245514,\"SYP\":1472.68821,\"SZL\":17.227258,\"THB\":39.140855,\"TJS\":13.27353,\"TMT\":4.099528,\"TND\":3.283238,\"TOP\":2.639678,\"TRY\":10.402704,\"TTD\":7.959577,\"TWD\":32.489051,\"TZS\":2715.851568,\"UAH\":31.301854,\"UGX\":4133.499659,\"USD\":1.171467,\"UYU\":49.917502,\"UZS\":12501.818809,\"VES\":4802081.864918,\"VND\":26692.298515,\"VUV\":130.736388,\"WST\":2.999656,\"XAF\":655.46536,\"XAG\":0.052899,\"XAU\":0.001228,\"XCD\":3.165381,\"XDR\":0.825684,\"XOF\":655.465158,\"XPD\":0.001863,\"XPF\":119.242982,\"XPT\":0.001704,\"YER\":293.836535,\"ZAR\":17.51445,\"ZMW\":19.438106,\"ZWL\":377.104372}}'"
      ]
     },
     "execution_count": 14,
     "metadata": {},
     "output_type": "execute_result"
    }
   ],
   "source": [
    "json_resp.text"
   ]
  },
  {
   "cell_type": "code",
   "execution_count": 15,
   "id": "6d75b431",
   "metadata": {},
   "outputs": [
    {
     "data": {
      "text/plain": [
       "str"
      ]
     },
     "execution_count": 15,
     "metadata": {},
     "output_type": "execute_result"
    }
   ],
   "source": [
    "type (json_resp.text) "
   ]
  },
  {
   "cell_type": "code",
   "execution_count": 16,
   "id": "dbac502b",
   "metadata": {},
   "outputs": [
    {
     "data": {
      "text/plain": [
       "dict"
      ]
     },
     "execution_count": 16,
     "metadata": {},
     "output_type": "execute_result"
    }
   ],
   "source": [
    "data=json.loads(json_resp.text)\n",
    "type(data)"
   ]
  },
  {
   "cell_type": "code",
   "execution_count": 9,
   "id": "b3bf29eb",
   "metadata": {},
   "outputs": [
    {
     "data": {
      "text/plain": [
       "{'motd': {'msg': 'If you or your company use this project or like what we doing, please consider backing us so we can continue maintaining and evolving this project.',\n",
       "  'url': 'https://exchangerate.host/#/donate'},\n",
       " 'success': True,\n",
       " 'base': 'EUR',\n",
       " 'date': '2021-09-26',\n",
       " 'rates': {'AED': 4.302524,\n",
       "  'AFN': 103.000931,\n",
       "  'ALL': 121.388393,\n",
       "  'AMD': 576.282756,\n",
       "  'ANG': 2.102187,\n",
       "  'AOA': 703.693708,\n",
       "  'ARS': 115.405298,\n",
       "  'AUD': 1.613083,\n",
       "  'AWG': 2.108749,\n",
       "  'AZN': 1.99181,\n",
       "  'BAM': 1.952249,\n",
       "  'BBD': 2.342527,\n",
       "  'BDT': 99.810804,\n",
       "  'BGN': 1.955015,\n",
       "  'BHD': 0.442071,\n",
       "  'BIF': 2336.406055,\n",
       "  'BMD': 1.171227,\n",
       "  'BND': 1.584459,\n",
       "  'BOB': 8.086277,\n",
       "  'BRL': 6.248467,\n",
       "  'BSD': 1.172022,\n",
       "  'BTC': 2.8e-05,\n",
       "  'BTN': 86.310346,\n",
       "  'BWP': 13.023538,\n",
       "  'BYN': 2.931149,\n",
       "  'BZD': 2.360412,\n",
       "  'CAD': 1.482263,\n",
       "  'CDF': 2345.189232,\n",
       "  'CHF': 1.081816,\n",
       "  'CLF': 0.034468,\n",
       "  'CLP': 928.508556,\n",
       "  'CNH': 7.574817,\n",
       "  'CNY': 7.573812,\n",
       "  'COP': 4495.654445,\n",
       "  'CRC': 731.650838,\n",
       "  'CUC': 1.171988,\n",
       "  'CUP': 30.157079,\n",
       "  'CVE': 110.584397,\n",
       "  'CZK': 25.425685,\n",
       "  'DJF': 208.461763,\n",
       "  'DKK': 7.431317,\n",
       "  'DOP': 66.088062,\n",
       "  'DZD': 160.2735,\n",
       "  'EGP': 18.380423,\n",
       "  'ERN': 17.56999,\n",
       "  'ETB': 54.047647,\n",
       "  'EUR': 1,\n",
       "  'FJD': 2.450796,\n",
       "  'FKP': 0.855978,\n",
       "  'GBP': 0.855792,\n",
       "  'GEL': 3.642367,\n",
       "  'GGP': 0.856101,\n",
       "  'GHS': 7.074536,\n",
       "  'GIP': 0.855513,\n",
       "  'GMD': 60.37241,\n",
       "  'GNF': 11441.945221,\n",
       "  'GTQ': 9.057903,\n",
       "  'GYD': 244.769961,\n",
       "  'HKD': 9.119059,\n",
       "  'HNL': 28.341844,\n",
       "  'HRK': 7.498745,\n",
       "  'HTG': 117.096322,\n",
       "  'HUF': 356.615546,\n",
       "  'IDR': 16728.136445,\n",
       "  'ILS': 3.746588,\n",
       "  'IMP': 0.856272,\n",
       "  'INR': 86.445562,\n",
       "  'IQD': 1709.266166,\n",
       "  'IRR': 49415.853817,\n",
       "  'ISK': 150.38538,\n",
       "  'JEP': 0.855724,\n",
       "  'JMD': 173.455108,\n",
       "  'JOD': 0.831368,\n",
       "  'JPY': 129.698028,\n",
       "  'KES': 129.293636,\n",
       "  'KGS': 99.312,\n",
       "  'KHR': 4784.068338,\n",
       "  'KMF': 490.998178,\n",
       "  'KPW': 1054.018415,\n",
       "  'KRW': 1382.239852,\n",
       "  'KWD': 0.352923,\n",
       "  'KYD': 0.976031,\n",
       "  'KZT': 498.359306,\n",
       "  'LAK': 11523.925377,\n",
       "  'LBP': 1789.488076,\n",
       "  'LKR': 233.908269,\n",
       "  'LRD': 200.440159,\n",
       "  'LSL': 17.227507,\n",
       "  'LYD': 5.311797,\n",
       "  'MAD': 10.532616,\n",
       "  'MDL': 20.669994,\n",
       "  'MGA': 4602.543968,\n",
       "  'MKD': 61.424137,\n",
       "  'MMK': 2180.243133,\n",
       "  'MNT': 3325.565435,\n",
       "  'MOP': 9.391357,\n",
       "  'MRO': 418.093446,\n",
       "  'MRU': 42.307723,\n",
       "  'MUR': 50.0512,\n",
       "  'MVR': 18.095249,\n",
       "  'MWK': 954.471749,\n",
       "  'MXN': 23.487242,\n",
       "  'MYR': 4.906213,\n",
       "  'MZN': 74.777343,\n",
       "  'NAD': 17.22756,\n",
       "  'NGN': 481.920702,\n",
       "  'NIO': 41.282837,\n",
       "  'NOK': 10.046077,\n",
       "  'NPR': 138.09724,\n",
       "  'NZD': 1.671584,\n",
       "  'OMR': 0.450923,\n",
       "  'PAB': 1.171833,\n",
       "  'PEN': 4.812054,\n",
       "  'PGK': 4.140658,\n",
       "  'PHP': 59.355902,\n",
       "  'PKR': 198.039219,\n",
       "  'PLN': 4.601939,\n",
       "  'PYG': 8058.814502,\n",
       "  'QAR': 4.263983,\n",
       "  'RON': 4.947145,\n",
       "  'RSD': 117.330236,\n",
       "  'RUB': 85.09449,\n",
       "  'RWF': 1165.275487,\n",
       "  'SAR': 4.393237,\n",
       "  'SBD': 9.433895,\n",
       "  'SCR': 16.323847,\n",
       "  'SDG': 515.883197,\n",
       "  'SEK': 10.132169,\n",
       "  'SGD': 1.58555,\n",
       "  'SHP': 0.855642,\n",
       "  'SLL': 12317.366495,\n",
       "  'SOS': 685.112407,\n",
       "  'SRD': 25.086929,\n",
       "  'SSP': 152.552283,\n",
       "  'STD': 24240.049332,\n",
       "  'STN': 24.858259,\n",
       "  'SVC': 10.245514,\n",
       "  'SYP': 1472.68821,\n",
       "  'SZL': 17.227258,\n",
       "  'THB': 39.140855,\n",
       "  'TJS': 13.27353,\n",
       "  'TMT': 4.099528,\n",
       "  'TND': 3.283238,\n",
       "  'TOP': 2.639678,\n",
       "  'TRY': 10.402704,\n",
       "  'TTD': 7.959577,\n",
       "  'TWD': 32.489051,\n",
       "  'TZS': 2715.851568,\n",
       "  'UAH': 31.301854,\n",
       "  'UGX': 4133.499659,\n",
       "  'USD': 1.171467,\n",
       "  'UYU': 49.917502,\n",
       "  'UZS': 12501.818809,\n",
       "  'VES': 4802081.864918,\n",
       "  'VND': 26692.298515,\n",
       "  'VUV': 130.736388,\n",
       "  'WST': 2.999656,\n",
       "  'XAF': 655.46536,\n",
       "  'XAG': 0.052899,\n",
       "  'XAU': 0.001228,\n",
       "  'XCD': 3.165381,\n",
       "  'XDR': 0.825684,\n",
       "  'XOF': 655.465158,\n",
       "  'XPD': 0.001863,\n",
       "  'XPF': 119.242982,\n",
       "  'XPT': 0.001704,\n",
       "  'YER': 293.836535,\n",
       "  'ZAR': 17.51445,\n",
       "  'ZMW': 19.438106,\n",
       "  'ZWL': 377.104372}}"
      ]
     },
     "execution_count": 9,
     "metadata": {},
     "output_type": "execute_result"
    }
   ],
   "source": [
    "data"
   ]
  },
  {
   "cell_type": "code",
   "execution_count": 17,
   "id": "0dcf89c5",
   "metadata": {},
   "outputs": [
    {
     "data": {
      "text/plain": [
       "1.171467"
      ]
     },
     "execution_count": 17,
     "metadata": {},
     "output_type": "execute_result"
    }
   ],
   "source": [
    "data['rates']['USD']"
   ]
  },
  {
   "cell_type": "code",
   "execution_count": 18,
   "id": "219b53c7",
   "metadata": {},
   "outputs": [],
   "source": [
    "def dollarexchange():\n",
    "    Dollar = input('Please write the amount in dollars: ')\n",
    "    Euro = float(Dollar) * float(data['rates']['USD'])\n",
    "    print (f'{Euro} Euro')"
   ]
  },
  {
   "cell_type": "code",
   "execution_count": 20,
   "id": "9a11ea58",
   "metadata": {},
   "outputs": [
    {
     "name": "stdout",
     "output_type": "stream",
     "text": [
      "Please write the ammount in dollars: 5\n",
      "5.857335 Euro\n"
     ]
    }
   ],
   "source": [
    "dollarexchange ()"
   ]
  },
  {
   "cell_type": "code",
   "execution_count": null,
   "id": "13525778",
   "metadata": {},
   "outputs": [],
   "source": []
  }
 ],
 "metadata": {
  "kernelspec": {
   "display_name": "Python 3",
   "language": "python",
   "name": "python3"
  },
  "language_info": {
   "codemirror_mode": {
    "name": "ipython",
    "version": 3
   },
   "file_extension": ".py",
   "mimetype": "text/x-python",
   "name": "python",
   "nbconvert_exporter": "python",
   "pygments_lexer": "ipython3",
   "version": "3.8.8"
  }
 },
 "nbformat": 4,
 "nbformat_minor": 5
}
