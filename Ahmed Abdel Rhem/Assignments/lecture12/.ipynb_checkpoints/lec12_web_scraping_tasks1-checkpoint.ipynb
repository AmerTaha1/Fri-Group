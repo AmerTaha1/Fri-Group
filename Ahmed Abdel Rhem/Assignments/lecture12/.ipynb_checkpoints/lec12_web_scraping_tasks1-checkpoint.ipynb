{
 "cells": [
  {
   "cell_type": "code",
   "execution_count": null,
   "metadata": {},
   "outputs": [],
   "source": [
    "import requests\n",
    "from bs4 import BeautifulSoup\n",
    "from functools import reduce\n",
    "url='https://books.toscrape.com/'\n",
    "response=requests.get(url)"
   ]
  },
  {
   "cell_type": "code",
   "execution_count": null,
   "metadata": {},
   "outputs": [],
   "source": [
    "soup=BeautifulSoup(response.text,'html.parser')"
   ]
  },
  {
   "cell_type": "code",
   "execution_count": null,
   "metadata": {},
   "outputs": [],
   "source": [
    "lst = (soup.find('ul', attrs = {'class':''}).find_all('li'))"
   ]
  },
  {
   "cell_type": "code",
   "execution_count": null,
   "metadata": {},
   "outputs": [],
   "source": [
    "links = []\n",
    "for n in range(len(lst)):\n",
    "    link = soup.find('ul', attrs = {'class':''}).find_all('li')[n].find('a').get('href')\n",
    "    domain = url\n",
    "    full_link = domain+link\n",
    "    links.append(full_link)\n",
    "links"
   ]
  },
  {
   "cell_type": "code",
   "execution_count": null,
   "metadata": {},
   "outputs": [],
   "source": [
    "import csv\n",
    "headings = ['Book_name','Price','Rate','Category']\n",
    "with open('books_list.csv','w',encoding='utf-8',newline='') as file:\n",
    "    writer = csv.DictWriter(file, fieldnames=headings)\n",
    "    writer.writeheader()\n",
    "rate_dict = {'One':1, 'Two' : 2 , 'Three' : 3 , 'Four' : 4 , 'Five' : 5}\n",
    "for url in links:\n",
    "    response=requests.get(url)\n",
    "    soup=BeautifulSoup(response.text,'html.parser')\n",
    "    for book in soup.find_all('article',attrs={'class':'product_pod'}):\n",
    "        pricex=float(book.find('div',attrs={'class':'product_price'}).find('p').get_text()[2:])\n",
    "        titlex=book.find('h3').find('a').get('title').strip()\n",
    "        ratex=rate_dict[book.find('p').get('class')[1]]\n",
    "        categoryx=soup.find('div',attrs={'class':'page-header action'}).find('h1').get_text()\n",
    "        with open('books_list.csv', 'a', encoding='utf-8', newline='') as file:\n",
    "            writer = csv.DictWriter(file, fieldnames=headings)\n",
    "            writer.writerow({'Book_name':titlex,'Price':pricex,'Rate':ratex,'Category':categoryx})\n",
    "    while soup.find('li',attrs={'class':'next'}):\n",
    "        new_page_url=reduce(lambda a,b:a+'/'+b,url.split('/')[:-1])+'/'+soup.find('li',attrs={'class':'next'}).find('a').get('href')\n",
    "        soup=BeautifulSoup(requests.get(new_page_url).text,'html.parser')\n",
    "        for book in soup.find_all('article',attrs={'class':'product_pod'}):\n",
    "            pricex=float(book.find('div',attrs={'class':'product_price'}).find('p').get_text()[2:])\n",
    "            titlex=book.find('h3').find('a').get('title').strip()\n",
    "            ratex=rate_dict[book.find('p').get('class')[1]]\n",
    "            categoryx=soup.find('div',attrs={'class':'page-header action'}).find('h1').get_text()\n",
    "            with open('books_list.csv', 'a', encoding='utf-8', newline='') as file:\n",
    "                writer = csv.DictWriter(file, fieldnames=headings)\n",
    "                writer.writerow({'Book_name':titlex,'Price':pricex,'Rate':ratex,'Category':categoryx})"
   ]
  },
  {
   "cell_type": "code",
   "execution_count": null,
   "metadata": {},
   "outputs": [],
   "source": [
    "import pandas as pd\n",
    "df=pd.read_csv('books_list.csv')\n",
    "df\n"
   ]
  },
  {
   "cell_type": "code",
   "execution_count": null,
   "metadata": {},
   "outputs": [],
   "source": [
    "df.shape"
   ]
  },
  {
   "cell_type": "code",
   "execution_count": null,
   "metadata": {},
   "outputs": [],
   "source": []
  }
 ],
 "metadata": {
  "kernelspec": {
   "display_name": "Python 3",
   "language": "python",
   "name": "python3"
  },
  "language_info": {
   "codemirror_mode": {
    "name": "ipython",
    "version": 3
   },
   "file_extension": ".py",
   "mimetype": "text/x-python",
   "name": "python",
   "nbconvert_exporter": "python",
   "pygments_lexer": "ipython3",
   "version": "3.8.8"
  }
 },
 "nbformat": 4,
 "nbformat_minor": 4
}
