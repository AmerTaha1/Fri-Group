{
 "cells": [
  {
   "cell_type": "code",
   "execution_count": 19,
   "metadata": {},
   "outputs": [],
   "source": [
    "import requests\n",
    "from bs4 import BeautifulSoup\n",
    "from functools import reduce\n",
    "url='https://books.toscrape.com/'\n",
    "response=requests.get(url)"
   ]
  },
  {
   "cell_type": "code",
   "execution_count": 20,
   "metadata": {},
   "outputs": [],
   "source": [
    "soup=BeautifulSoup(response.text,'html.parser')"
   ]
  },
  {
   "cell_type": "code",
   "execution_count": 21,
   "metadata": {},
   "outputs": [],
   "source": [
    "lst = (soup.find('ul', attrs = {'class':''}).find_all('li'))"
   ]
  },
  {
   "cell_type": "code",
   "execution_count": 22,
   "metadata": {},
   "outputs": [
    {
     "data": {
      "text/plain": [
       "['https://books.toscrape.com/catalogue/category/books/travel_2/index.html',\n",
       " 'https://books.toscrape.com/catalogue/category/books/mystery_3/index.html',\n",
       " 'https://books.toscrape.com/catalogue/category/books/historical-fiction_4/index.html',\n",
       " 'https://books.toscrape.com/catalogue/category/books/sequential-art_5/index.html',\n",
       " 'https://books.toscrape.com/catalogue/category/books/classics_6/index.html',\n",
       " 'https://books.toscrape.com/catalogue/category/books/philosophy_7/index.html',\n",
       " 'https://books.toscrape.com/catalogue/category/books/romance_8/index.html',\n",
       " 'https://books.toscrape.com/catalogue/category/books/womens-fiction_9/index.html',\n",
       " 'https://books.toscrape.com/catalogue/category/books/fiction_10/index.html',\n",
       " 'https://books.toscrape.com/catalogue/category/books/childrens_11/index.html',\n",
       " 'https://books.toscrape.com/catalogue/category/books/religion_12/index.html',\n",
       " 'https://books.toscrape.com/catalogue/category/books/nonfiction_13/index.html',\n",
       " 'https://books.toscrape.com/catalogue/category/books/music_14/index.html',\n",
       " 'https://books.toscrape.com/catalogue/category/books/default_15/index.html',\n",
       " 'https://books.toscrape.com/catalogue/category/books/science-fiction_16/index.html',\n",
       " 'https://books.toscrape.com/catalogue/category/books/sports-and-games_17/index.html',\n",
       " 'https://books.toscrape.com/catalogue/category/books/add-a-comment_18/index.html',\n",
       " 'https://books.toscrape.com/catalogue/category/books/fantasy_19/index.html',\n",
       " 'https://books.toscrape.com/catalogue/category/books/new-adult_20/index.html',\n",
       " 'https://books.toscrape.com/catalogue/category/books/young-adult_21/index.html',\n",
       " 'https://books.toscrape.com/catalogue/category/books/science_22/index.html',\n",
       " 'https://books.toscrape.com/catalogue/category/books/poetry_23/index.html',\n",
       " 'https://books.toscrape.com/catalogue/category/books/paranormal_24/index.html',\n",
       " 'https://books.toscrape.com/catalogue/category/books/art_25/index.html',\n",
       " 'https://books.toscrape.com/catalogue/category/books/psychology_26/index.html',\n",
       " 'https://books.toscrape.com/catalogue/category/books/autobiography_27/index.html',\n",
       " 'https://books.toscrape.com/catalogue/category/books/parenting_28/index.html',\n",
       " 'https://books.toscrape.com/catalogue/category/books/adult-fiction_29/index.html',\n",
       " 'https://books.toscrape.com/catalogue/category/books/humor_30/index.html',\n",
       " 'https://books.toscrape.com/catalogue/category/books/horror_31/index.html',\n",
       " 'https://books.toscrape.com/catalogue/category/books/history_32/index.html',\n",
       " 'https://books.toscrape.com/catalogue/category/books/food-and-drink_33/index.html',\n",
       " 'https://books.toscrape.com/catalogue/category/books/christian-fiction_34/index.html',\n",
       " 'https://books.toscrape.com/catalogue/category/books/business_35/index.html',\n",
       " 'https://books.toscrape.com/catalogue/category/books/biography_36/index.html',\n",
       " 'https://books.toscrape.com/catalogue/category/books/thriller_37/index.html',\n",
       " 'https://books.toscrape.com/catalogue/category/books/contemporary_38/index.html',\n",
       " 'https://books.toscrape.com/catalogue/category/books/spirituality_39/index.html',\n",
       " 'https://books.toscrape.com/catalogue/category/books/academic_40/index.html',\n",
       " 'https://books.toscrape.com/catalogue/category/books/self-help_41/index.html',\n",
       " 'https://books.toscrape.com/catalogue/category/books/historical_42/index.html',\n",
       " 'https://books.toscrape.com/catalogue/category/books/christian_43/index.html',\n",
       " 'https://books.toscrape.com/catalogue/category/books/suspense_44/index.html',\n",
       " 'https://books.toscrape.com/catalogue/category/books/short-stories_45/index.html',\n",
       " 'https://books.toscrape.com/catalogue/category/books/novels_46/index.html',\n",
       " 'https://books.toscrape.com/catalogue/category/books/health_47/index.html',\n",
       " 'https://books.toscrape.com/catalogue/category/books/politics_48/index.html',\n",
       " 'https://books.toscrape.com/catalogue/category/books/cultural_49/index.html',\n",
       " 'https://books.toscrape.com/catalogue/category/books/erotica_50/index.html',\n",
       " 'https://books.toscrape.com/catalogue/category/books/crime_51/index.html']"
      ]
     },
     "execution_count": 22,
     "metadata": {},
     "output_type": "execute_result"
    }
   ],
   "source": [
    "links = []\n",
    "for n in range(len(lst)):\n",
    "    link = soup.find('ul', attrs = {'class':''}).find_all('li')[n].find('a').get('href')\n",
    "    domain = url\n",
    "    full_link = domain+link\n",
    "    links.append(full_link)\n",
    "links"
   ]
  },
  {
   "cell_type": "code",
   "execution_count": 24,
   "metadata": {},
   "outputs": [],
   "source": [
    "import csv\n",
    "headings = ['Book_name','Price','Rate','Category']\n",
    "with open('books_list.csv','w',encoding='utf-8',newline='') as file:\n",
    "    writer = csv.DictWriter(file, fieldnames=headings)\n",
    "    writer.writeheader()\n",
    "rate_dict = {'One':1, 'Two' : 2 , 'Three' : 3 , 'Four' : 4 , 'Five' : 5}\n",
    "for url in links:\n",
    "    response=requests.get(url)\n",
    "    soup=BeautifulSoup(response.text,'html.parser')\n",
    "    for book in soup.find_all('article',attrs={'class':'product_pod'}):\n",
    "        pricex=float(book.find('div',attrs={'class':'product_price'}).find('p').get_text()[2:])\n",
    "        titlex=book.find('h3').find('a').get('title').strip()\n",
    "        ratex=rate_dict[book.find('p').get('class')[1]]\n",
    "        categoryx=soup.find('div',attrs={'class':'page-header action'}).find('h1').get_text()\n",
    "        with open('books_list.csv', 'a', encoding='utf-8', newline='') as file:\n",
    "            writer = csv.DictWriter(file, fieldnames=headings)\n",
    "            writer.writerow({'Book_name':titlex,'Price':pricex,'Rate':ratex,'Category':categoryx})\n",
    "    while soup.find('li',attrs={'class':'next'}):\n",
    "        new_page_url=reduce(lambda a,b:a+'/'+b,url.split('/')[:-1])+'/'+soup.find('li',attrs={'class':'next'}).find('a').get('href')\n",
    "        soup=BeautifulSoup(requests.get(new_page_url).text,'html.parser')\n",
    "        for book in soup.find_all('article',attrs={'class':'product_pod'}):\n",
    "            pricex=float(book.find('div',attrs={'class':'product_price'}).find('p').get_text()[2:])\n",
    "            titlex=book.find('h3').find('a').get('title').strip()\n",
    "            ratex=rate_dict[book.find('p').get('class')[1]]\n",
    "            categoryx=soup.find('div',attrs={'class':'page-header action'}).find('h1').get_text()\n",
    "            with open('books_list.csv', 'a', encoding='utf-8', newline='') as file:\n",
    "                writer = csv.DictWriter(file, fieldnames=headings)\n",
    "                writer.writerow({'Book_name':titlex,'Price':pricex,'Rate':ratex,'Category':categoryx})"
   ]
  },
  {
   "cell_type": "code",
   "execution_count": 25,
   "metadata": {},
   "outputs": [
    {
     "data": {
      "text/html": [
       "<div>\n",
       "<style scoped>\n",
       "    .dataframe tbody tr th:only-of-type {\n",
       "        vertical-align: middle;\n",
       "    }\n",
       "\n",
       "    .dataframe tbody tr th {\n",
       "        vertical-align: top;\n",
       "    }\n",
       "\n",
       "    .dataframe thead th {\n",
       "        text-align: right;\n",
       "    }\n",
       "</style>\n",
       "<table border=\"1\" class=\"dataframe\">\n",
       "  <thead>\n",
       "    <tr style=\"text-align: right;\">\n",
       "      <th></th>\n",
       "      <th>Book_name</th>\n",
       "      <th>Price</th>\n",
       "      <th>Rate</th>\n",
       "      <th>Category</th>\n",
       "    </tr>\n",
       "  </thead>\n",
       "  <tbody>\n",
       "    <tr>\n",
       "      <th>0</th>\n",
       "      <td>It's Only the Himalayas</td>\n",
       "      <td>45.17</td>\n",
       "      <td>2</td>\n",
       "      <td>Travel</td>\n",
       "    </tr>\n",
       "    <tr>\n",
       "      <th>1</th>\n",
       "      <td>Full Moon over Noahâs Ark: An Odyssey to Mou...</td>\n",
       "      <td>49.43</td>\n",
       "      <td>4</td>\n",
       "      <td>Travel</td>\n",
       "    </tr>\n",
       "    <tr>\n",
       "      <th>2</th>\n",
       "      <td>See America: A Celebration of Our National Par...</td>\n",
       "      <td>48.87</td>\n",
       "      <td>3</td>\n",
       "      <td>Travel</td>\n",
       "    </tr>\n",
       "    <tr>\n",
       "      <th>3</th>\n",
       "      <td>Vagabonding: An Uncommon Guide to the Art of L...</td>\n",
       "      <td>36.94</td>\n",
       "      <td>2</td>\n",
       "      <td>Travel</td>\n",
       "    </tr>\n",
       "    <tr>\n",
       "      <th>4</th>\n",
       "      <td>Under the Tuscan Sun</td>\n",
       "      <td>37.33</td>\n",
       "      <td>3</td>\n",
       "      <td>Travel</td>\n",
       "    </tr>\n",
       "    <tr>\n",
       "      <th>...</th>\n",
       "      <td>...</td>\n",
       "      <td>...</td>\n",
       "      <td>...</td>\n",
       "      <td>...</td>\n",
       "    </tr>\n",
       "    <tr>\n",
       "      <th>995</th>\n",
       "      <td>Why the Right Went Wrong: Conservatism--From G...</td>\n",
       "      <td>52.65</td>\n",
       "      <td>4</td>\n",
       "      <td>Politics</td>\n",
       "    </tr>\n",
       "    <tr>\n",
       "      <th>996</th>\n",
       "      <td>Equal Is Unfair: America's Misguided Fight Aga...</td>\n",
       "      <td>56.86</td>\n",
       "      <td>1</td>\n",
       "      <td>Politics</td>\n",
       "    </tr>\n",
       "    <tr>\n",
       "      <th>997</th>\n",
       "      <td>Amid the Chaos</td>\n",
       "      <td>36.58</td>\n",
       "      <td>1</td>\n",
       "      <td>Cultural</td>\n",
       "    </tr>\n",
       "    <tr>\n",
       "      <th>998</th>\n",
       "      <td>Dark Notes</td>\n",
       "      <td>19.19</td>\n",
       "      <td>5</td>\n",
       "      <td>Erotica</td>\n",
       "    </tr>\n",
       "    <tr>\n",
       "      <th>999</th>\n",
       "      <td>The Long Shadow of Small Ghosts: Murder and Me...</td>\n",
       "      <td>10.97</td>\n",
       "      <td>1</td>\n",
       "      <td>Crime</td>\n",
       "    </tr>\n",
       "  </tbody>\n",
       "</table>\n",
       "<p>1000 rows × 4 columns</p>\n",
       "</div>"
      ],
      "text/plain": [
       "                                             Book_name  Price  Rate  Category\n",
       "0                              It's Only the Himalayas  45.17     2    Travel\n",
       "1    Full Moon over Noahâs Ark: An Odyssey to Mou...  49.43     4    Travel\n",
       "2    See America: A Celebration of Our National Par...  48.87     3    Travel\n",
       "3    Vagabonding: An Uncommon Guide to the Art of L...  36.94     2    Travel\n",
       "4                                 Under the Tuscan Sun  37.33     3    Travel\n",
       "..                                                 ...    ...   ...       ...\n",
       "995  Why the Right Went Wrong: Conservatism--From G...  52.65     4  Politics\n",
       "996  Equal Is Unfair: America's Misguided Fight Aga...  56.86     1  Politics\n",
       "997                                     Amid the Chaos  36.58     1  Cultural\n",
       "998                                         Dark Notes  19.19     5   Erotica\n",
       "999  The Long Shadow of Small Ghosts: Murder and Me...  10.97     1     Crime\n",
       "\n",
       "[1000 rows x 4 columns]"
      ]
     },
     "execution_count": 25,
     "metadata": {},
     "output_type": "execute_result"
    }
   ],
   "source": [
    "import pandas as pd\n",
    "df=pd.read_csv('books_list.csv')\n",
    "df"
   ]
  },
  {
   "cell_type": "code",
   "execution_count": 26,
   "metadata": {},
   "outputs": [
    {
     "data": {
      "text/plain": [
       "(1000, 4)"
      ]
     },
     "execution_count": 26,
     "metadata": {},
     "output_type": "execute_result"
    }
   ],
   "source": [
    "df.shape"
   ]
  },
  {
   "cell_type": "code",
   "execution_count": null,
   "metadata": {},
   "outputs": [],
   "source": []
  },
  {
   "cell_type": "code",
   "execution_count": null,
   "metadata": {},
   "outputs": [],
   "source": []
  }
 ],
 "metadata": {
  "kernelspec": {
   "display_name": "Python 3",
   "language": "python",
   "name": "python3"
  },
  "language_info": {
   "codemirror_mode": {
    "name": "ipython",
    "version": 3
   },
   "file_extension": ".py",
   "mimetype": "text/x-python",
   "name": "python",
   "nbconvert_exporter": "python",
   "pygments_lexer": "ipython3",
   "version": "3.8.8"
  }
 },
 "nbformat": 4,
 "nbformat_minor": 4
}
