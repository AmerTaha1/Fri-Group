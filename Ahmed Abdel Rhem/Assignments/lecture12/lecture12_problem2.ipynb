{
 "cells": [
  {
   "cell_type": "code",
   "execution_count": 6,
   "id": "71b47526",
   "metadata": {},
   "outputs": [],
   "source": [
    "def dollarexchange():\n",
    "    import requests\n",
    "    from bs4 import BeautifulSoup\n",
    "    url='https://www.exchangerates.org.uk/Dollars-to-Egyptian-Pounds-currency-conversion-page.html'\n",
    "    response=requests.get(url)\n",
    "    soup=BeautifulSoup(response.text,'html.parser')\n",
    "    Dollar = float(input('Please write the amount in dollars: '))\n",
    "    EGP=float(soup.find('span',attrs={'id':'shd2b;'}).get_text())*Dollar\n",
    "    print (f'{EGP} EGP')\n",
    "    "
   ]
  },
  {
   "cell_type": "code",
   "execution_count": 7,
   "id": "94e4105a",
   "metadata": {},
   "outputs": [
    {
     "name": "stdout",
     "output_type": "stream",
     "text": [
      "Please write the amount in dollars: 2\n",
      "31.4012 EGP\n"
     ]
    }
   ],
   "source": [
    "dollarexchange()"
   ]
  },
  {
   "cell_type": "code",
   "execution_count": null,
   "id": "b3b19e40",
   "metadata": {},
   "outputs": [],
   "source": []
  }
 ],
 "metadata": {
  "kernelspec": {
   "display_name": "Python 3",
   "language": "python",
   "name": "python3"
  },
  "language_info": {
   "codemirror_mode": {
    "name": "ipython",
    "version": 3
   },
   "file_extension": ".py",
   "mimetype": "text/x-python",
   "name": "python",
   "nbconvert_exporter": "python",
   "pygments_lexer": "ipython3",
   "version": "3.8.8"
  }
 },
 "nbformat": 4,
 "nbformat_minor": 5
}
