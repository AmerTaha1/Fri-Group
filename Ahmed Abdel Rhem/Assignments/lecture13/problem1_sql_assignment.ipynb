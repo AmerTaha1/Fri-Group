{
 "cells": [
  {
   "cell_type": "code",
   "execution_count": 1,
   "id": "e2af0cd1",
   "metadata": {},
   "outputs": [],
   "source": [
    "import requests\n",
    "import sqlite3\n",
    "import pandas as pd\n",
    "from bs4 import BeautifulSoup\n",
    "from functools import reduce\n",
    "url='https://books.toscrape.com/'\n",
    "response=requests.get(url)"
   ]
  },
  {
   "cell_type": "code",
   "execution_count": 2,
   "id": "047f9fbf",
   "metadata": {},
   "outputs": [],
   "source": [
    "response=requests.get(url)\n",
    "soup=BeautifulSoup(response.text,'html.parser')\n",
    "lst = (soup.find('ul', attrs = {'class':''}).find_all('li'))"
   ]
  },
  {
   "cell_type": "code",
   "execution_count": 3,
   "id": "8f3911c2",
   "metadata": {},
   "outputs": [],
   "source": [
    "links = []\n",
    "for n in range(len(lst)):\n",
    "    link = soup.find('ul', attrs = {'class':''}).find_all('li')[n].find('a').get('href')\n",
    "    domain = url\n",
    "    full_link = domain+link\n",
    "    links.append(full_link)\n"
   ]
  },
  {
   "cell_type": "code",
   "execution_count": 11,
   "id": "4d6fb2e0",
   "metadata": {},
   "outputs": [],
   "source": [
    "headings = ['Book_name','Price','Rate','Category']\n",
    "rate_dict = {'One':1, 'Two' : 2 , 'Three' : 3 , 'Four' : 4 , 'Five' : 5}\n",
    "for url in links:\n",
    "    response=requests.get(url)\n",
    "    soup=BeautifulSoup(response.text,'html.parser')\n",
    "    for book in soup.find_all('article',attrs={'class':'product_pod'}):\n",
    "        pricex=float(book.find('div',attrs={'class':'product_price'}).find('p').get_text()[2:])\n",
    "        titlex=book.find('h3').find('a').get('title').strip()\n",
    "        ratex=rate_dict[book.find('p').get('class')[1]]\n",
    "        categoryx=soup.find('div',attrs={'class':'page-header action'}).find('h1').get_text()\n",
    "        connection=sqlite3.connect('library_2.db')\n",
    "        Cursor=connection.cursor()\n",
    "        cursor=connection.execute('insert into books (name,price,category,rate) values(?,?,?,?)',[titlex,pricex,categoryx,ratex])\n",
    "        connection.commit()\n",
    "        connection.close()\n",
    "    while soup.find('li',attrs={'class':'next'}):\n",
    "        new_page_url=reduce(lambda a,b:a+'/'+b,url.split('/')[:-1])+'/'+soup.find('li',attrs={'class':'next'}).find('a').get('href')\n",
    "        soup=BeautifulSoup(requests.get(new_page_url).text,'html.parser')\n",
    "        for book in soup.find_all('article',attrs={'class':'product_pod'}):\n",
    "            pricex=float(book.find('div',attrs={'class':'product_price'}).find('p').get_text()[2:])\n",
    "            titlex=book.find('h3').find('a').get('title').strip()\n",
    "            ratex=rate_dict[book.find('p').get('class')[1]]\n",
    "            categoryx=soup.find('div',attrs={'class':'page-header action'}).find('h1').get_text()\n",
    "            connection=sqlite3.connect('library_2.db')\n",
    "            Cursor=connection.cursor()\n",
    "            cursor=connection.execute('insert into books(name,price,category,rate) values(?,?,?,?)',[titlex,pricex,categoryx,ratex])\n",
    "            connection.commit()\n",
    "            connection.close()"
   ]
  },
  {
   "cell_type": "code",
   "execution_count": null,
   "id": "cd30d1a3",
   "metadata": {},
   "outputs": [],
   "source": []
  }
 ],
 "metadata": {
  "kernelspec": {
   "display_name": "Python 3",
   "language": "python",
   "name": "python3"
  },
  "language_info": {
   "codemirror_mode": {
    "name": "ipython",
    "version": 3
   },
   "file_extension": ".py",
   "mimetype": "text/x-python",
   "name": "python",
   "nbconvert_exporter": "python",
   "pygments_lexer": "ipython3",
   "version": "3.8.8"
  }
 },
 "nbformat": 4,
 "nbformat_minor": 5
}
