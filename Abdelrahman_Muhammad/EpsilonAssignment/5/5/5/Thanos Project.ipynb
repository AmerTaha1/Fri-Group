{
 "cells": [
  {
   "cell_type": "markdown",
   "id": "ddea1032",
   "metadata": {},
   "source": [
    "# Thanos Project\n",
    "## Abdelrahman Muhmmad"
   ]
  },
  {
   "cell_type": "code",
   "execution_count": 2,
   "id": "c90814c2",
   "metadata": {},
   "outputs": [],
   "source": [
    "import random \n",
    "import os\n",
    "import glob"
   ]
  },
  {
   "cell_type": "markdown",
   "id": "7086a886",
   "metadata": {},
   "source": [
    "The glob module finds all the pathnames matching a specified pattern according to the rules used by the Unix shell, although results are returned in arbitrary order"
   ]
  },
  {
   "cell_type": "code",
   "execution_count": 3,
   "id": "c816dfaa",
   "metadata": {},
   "outputs": [],
   "source": [
    "# to collect all files in the path \n",
    "def getFiles():\n",
    "    files_rmv =[]\n",
    "    for f in glob.glob('**/*', recursive=True):\n",
    "        files_rmv.append(f)\n",
    "    return files_rmv\n"
   ]
  },
  {
   "cell_type": "code",
   "execution_count": 4,
   "id": "2640322c",
   "metadata": {},
   "outputs": [],
   "source": [
    "\n",
    "\n",
    "def getFilesToVanish():\n",
    "    files = getFiles()    # list with all files in th path \n",
    "    files.remove('Thanos.py')   # except the thanos file \n",
    "    print(files)\n",
    "    print(len(files))\n",
    "    population = len(getFiles())  # no.of all files \n",
    "    vanish = []\n",
    "    sample = random.sample(range(population), population)\n",
    "    print(sample)\n",
    "    for file in range(len(sample)//2):\n",
    "        vanish.append(files[file])\n",
    "    print('to Delete: ', len(vanish))\n",
    "    return vanish"
   ]
  },
  {
   "cell_type": "code",
   "execution_count": 5,
   "id": "0f8a160d",
   "metadata": {},
   "outputs": [],
   "source": [
    "def Snap():\n",
    "    for x in getFilesToVanish():\n",
    "        try:\n",
    "            os.remove(x)\n",
    "            print(x, 'was Vanished')\n",
    "        except IsADirectoryError:\n",
    "            pass\n",
    "        except OSError:\n",
    "            print('File ', x,' not found or cannot access')\n",
    "        except IndexError:\n",
    "            print('Index Error!, propably not enough files')\n",
    "    print('Perfectly balanced, as all things should be')\n",
    "    quit()"
   ]
  },
  {
   "cell_type": "code",
   "execution_count": null,
   "id": "da6ba6a1",
   "metadata": {},
   "outputs": [],
   "source": [
    "while True:\n",
    "    try:\n",
    "        print('THANOS.py')\n",
    "        print('WARNING!')\n",
    "        print('Thanos.py will delete half of your files in actual directory: ', os.getcwd())\n",
    "        will_you_snap = input()\n",
    "        if will_you_snap == 'y':\n",
    "            Snap()\n",
    "        elif will_you_snap == 'n':\n",
    "            quit()\n",
    "        else:\n",
    "            print(\"type 'y' or 'n'\")\n",
    "    except ValueError:\n",
    "        print('Please decide')\n",
    "    except KeyboardInterrupt:\n",
    "        quit()"
   ]
  },
  {
   "cell_type": "code",
   "execution_count": null,
   "id": "4835fd0f",
   "metadata": {},
   "outputs": [],
   "source": []
  }
 ],
 "metadata": {
  "kernelspec": {
   "display_name": "Python 3",
   "language": "python",
   "name": "python3"
  },
  "language_info": {
   "codemirror_mode": {
    "name": "ipython",
    "version": 3
   },
   "file_extension": ".py",
   "mimetype": "text/x-python",
   "name": "python",
   "nbconvert_exporter": "python",
   "pygments_lexer": "ipython3",
   "version": "3.8.8"
  }
 },
 "nbformat": 4,
 "nbformat_minor": 5
}
