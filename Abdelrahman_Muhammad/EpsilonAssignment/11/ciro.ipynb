{
 "cells": [
  {
   "cell_type": "code",
   "execution_count": 47,
   "id": "02f7364a",
   "metadata": {},
   "outputs": [
    {
     "data": {
      "text/plain": [
       "'{\"request\":{\"type\":\"City\",\"query\":\"Cairo, Egypt\",\"language\":\"en\",\"unit\":\"m\"},\"location\":{\"name\":\"Cairo\",\"country\":\"Egypt\",\"region\":\"Al Qahirah\",\"lat\":\"30.050\",\"lon\":\"31.250\",\"timezone_id\":\"Africa\\\\/Cairo\",\"localtime\":\"2021-09-30 21:09\",\"localtime_epoch\":1633036140,\"utc_offset\":\"2.0\"},\"current\":{\"observation_time\":\"07:09 PM\",\"temperature\":26,\"weather_code\":113,\"weather_icons\":[\"https:\\\\/\\\\/assets.weatherstack.com\\\\/images\\\\/wsymbols01_png_64\\\\/wsymbol_0008_clear_sky_night.png\"],\"weather_descriptions\":[\"Clear\"],\"wind_speed\":24,\"wind_degree\":350,\"wind_dir\":\"N\",\"pressure\":1013,\"precip\":0,\"humidity\":61,\"cloudcover\":0,\"feelslike\":26,\"uv_index\":1,\"visibility\":6,\"is_day\":\"no\"}}'"
      ]
     },
     "execution_count": 47,
     "metadata": {},
     "output_type": "execute_result"
    }
   ],
   "source": [
    "import requests\n",
    "import csv\n",
    "import json\n",
    "json_resp=requests.get('http://api.weatherstack.com/current?access_key=368637fb3de29a28f3d392cbddc832c6&query=Cairo')\n",
    "json_resp.text"
   ]
  },
  {
   "cell_type": "code",
   "execution_count": 48,
   "id": "a2108325",
   "metadata": {
    "scrolled": true
   },
   "outputs": [
    {
     "data": {
      "text/plain": [
       "{'request': {'type': 'City',\n",
       "  'query': 'Cairo, Egypt',\n",
       "  'language': 'en',\n",
       "  'unit': 'm'},\n",
       " 'location': {'name': 'Cairo',\n",
       "  'country': 'Egypt',\n",
       "  'region': 'Al Qahirah',\n",
       "  'lat': '30.050',\n",
       "  'lon': '31.250',\n",
       "  'timezone_id': 'Africa/Cairo',\n",
       "  'localtime': '2021-09-30 21:09',\n",
       "  'localtime_epoch': 1633036140,\n",
       "  'utc_offset': '2.0'},\n",
       " 'current': {'observation_time': '07:09 PM',\n",
       "  'temperature': 26,\n",
       "  'weather_code': 113,\n",
       "  'weather_icons': ['https://assets.weatherstack.com/images/wsymbols01_png_64/wsymbol_0008_clear_sky_night.png'],\n",
       "  'weather_descriptions': ['Clear'],\n",
       "  'wind_speed': 24,\n",
       "  'wind_degree': 350,\n",
       "  'wind_dir': 'N',\n",
       "  'pressure': 1013,\n",
       "  'precip': 0,\n",
       "  'humidity': 61,\n",
       "  'cloudcover': 0,\n",
       "  'feelslike': 26,\n",
       "  'uv_index': 1,\n",
       "  'visibility': 6,\n",
       "  'is_day': 'no'}}"
      ]
     },
     "execution_count": 48,
     "metadata": {},
     "output_type": "execute_result"
    }
   ],
   "source": [
    "data=json_resp.json()\n",
    "data\n"
   ]
  },
  {
   "cell_type": "code",
   "execution_count": 49,
   "id": "094bbac4",
   "metadata": {},
   "outputs": [],
   "source": [
    "with open('cairo.csv','a',newline=\"\") as file:\n",
    "    writer=csv.DictWriter(file,fieldnames=['humidity','visibility','pressure','wind_speed'])\n",
    "    writer.writeheader()\n",
    "    \n",
    "    humidity=data['current']['humidity']\n",
    "    visibility=data['current']['visibility']\n",
    "    pressure=data['current']['pressure']\n",
    "    wind_speed=data['current']['wind_speed']\n",
    "    writer.writerow({'humidity':humidity,'visibility':visibility,'pressure':pressure,'wind_speed':wind_speed})"
   ]
  },
  {
   "cell_type": "code",
   "execution_count": null,
   "id": "86aa520f",
   "metadata": {},
   "outputs": [],
   "source": []
  },
  {
   "cell_type": "code",
   "execution_count": null,
   "id": "4de0cb24",
   "metadata": {},
   "outputs": [],
   "source": []
  }
 ],
 "metadata": {
  "kernelspec": {
   "display_name": "Python 3",
   "language": "python",
   "name": "python3"
  },
  "language_info": {
   "codemirror_mode": {
    "name": "ipython",
    "version": 3
   },
   "file_extension": ".py",
   "mimetype": "text/x-python",
   "name": "python",
   "nbconvert_exporter": "python",
   "pygments_lexer": "ipython3",
   "version": "3.8.8"
  }
 },
 "nbformat": 4,
 "nbformat_minor": 5
}
