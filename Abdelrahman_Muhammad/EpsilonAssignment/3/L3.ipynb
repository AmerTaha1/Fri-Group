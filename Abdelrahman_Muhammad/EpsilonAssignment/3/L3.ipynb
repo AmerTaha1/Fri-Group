{
 "cells": [
  {
   "cell_type": "markdown",
   "id": "42185b67",
   "metadata": {},
   "source": [
    "# Abdelrahman muhammad "
   ]
  },
  {
   "cell_type": "markdown",
   "id": "7cd37ecc",
   "metadata": {},
   "source": [
    "# 1) Open a file, name it 'test.txt' and write 'hello world' for 5 times in it then close it."
   ]
  },
  {
   "cell_type": "code",
   "execution_count": 1,
   "id": "daae80af",
   "metadata": {},
   "outputs": [
    {
     "name": "stdout",
     "output_type": "stream",
     "text": [
      "['line\\n', 'line\\n', 'line\\n', 'line\\n', 'line\\n']\n",
      "line\n",
      "line\n",
      "line\n",
      "line\n",
      "line\n",
      "\n"
     ]
    }
   ],
   "source": [
    "i=1\n",
    "a=[]\n",
    "while i<=5 :\n",
    "    a.append(\"line\\n\")\n",
    "    i=i+1\n",
    "print (a)\n",
    "with open (\"test.txt\",\"w+\") as test_file:\n",
    "    test_file.writelines(a)\n",
    "    test_file.close()\n",
    "f=open (\"test.txt\",\"r+\")\n",
    "print(f.read())\n",
    "f.close()"
   ]
  },
  {
   "cell_type": "markdown",
   "id": "c953bdb8",
   "metadata": {},
   "source": [
    "# 2) Read the contents of the file, then make content in uppercase then write the result again to the file."
   ]
  },
  {
   "cell_type": "code",
   "execution_count": 2,
   "id": "f1d0147c",
   "metadata": {},
   "outputs": [],
   "source": [
    "f = open('test.txt', 'r')\n",
    "content = f.read()\n",
    "f.close()\n",
    "\n",
    "\n",
    "f = open('test.txt', 'w')\n",
    "f.write(content.upper())\n",
    "f.close()"
   ]
  },
  {
   "cell_type": "code",
   "execution_count": 3,
   "id": "697aea87",
   "metadata": {},
   "outputs": [
    {
     "name": "stdout",
     "output_type": "stream",
     "text": [
      "LINE\n",
      "LINE\n",
      "LINE\n",
      "LINE\n",
      "LINE\n",
      "\n"
     ]
    }
   ],
   "source": [
    "f=open (\"test.txt\",\"r+\")\n",
    "print(f.read())\n",
    "f.close()"
   ]
  },
  {
   "cell_type": "markdown",
   "id": "8cd7967c",
   "metadata": {},
   "source": [
    "# 3) Read the third line of the file then update it to its capital case using capitalize."
   ]
  },
  {
   "cell_type": "code",
   "execution_count": 4,
   "id": "1e1c5471",
   "metadata": {},
   "outputs": [
    {
     "name": "stdout",
     "output_type": "stream",
     "text": [
      "['LINE\\n', 'LINE\\n', 'LINE\\n', 'LINE\\n', 'LINE\\n']\n"
     ]
    }
   ],
   "source": [
    "test_file = open (\"test.txt\",\"r+\")\n",
    "line = test_file.readlines(2)\n",
    "test_file.seek(0)\n",
    "print (test_file.readlines())\n"
   ]
  },
  {
   "cell_type": "code",
   "execution_count": 5,
   "id": "74a1d49e",
   "metadata": {},
   "outputs": [
    {
     "name": "stdout",
     "output_type": "stream",
     "text": [
      "Line\n",
      "\n"
     ]
    }
   ],
   "source": [
    "A = line[0].lower().capitalize()\n",
    "print (A)"
   ]
  },
  {
   "cell_type": "code",
   "execution_count": 6,
   "id": "5b37f7b0",
   "metadata": {},
   "outputs": [
    {
     "name": "stdout",
     "output_type": "stream",
     "text": [
      "['LINE\\n', 'LINE\\n', 'Line\\n', 'LINE\\n', 'LINE\\n']\n"
     ]
    }
   ],
   "source": [
    "test_file.seek(0)\n",
    "lines = test_file.readlines()\n",
    "lines[2]=A\n",
    "print (lines)"
   ]
  },
  {
   "cell_type": "code",
   "execution_count": 7,
   "id": "d73d6d69",
   "metadata": {},
   "outputs": [],
   "source": [
    "with open (\"test.txt\",\"w+\") as test_file:\n",
    "    test_file.writelines(lines)\n",
    "    test_file.close()"
   ]
  },
  {
   "cell_type": "code",
   "execution_count": 8,
   "id": "c21438ee",
   "metadata": {},
   "outputs": [
    {
     "name": "stdout",
     "output_type": "stream",
     "text": [
      "['LINE\\n', 'LINE\\n', 'Line\\n', 'LINE\\n', 'LINE\\n']\n"
     ]
    }
   ],
   "source": [
    "test_file = open (\"test.txt\",\"r\")\n",
    "print (test_file.readlines())\n",
    "test_file.close()"
   ]
  },
  {
   "cell_type": "markdown",
   "id": "e9324c4c",
   "metadata": {},
   "source": [
    "# 4)  Using \" With Statement \" open this file and append 'I Love python' to it.\n"
   ]
  },
  {
   "cell_type": "code",
   "execution_count": 9,
   "id": "93deb0e9",
   "metadata": {},
   "outputs": [
    {
     "name": "stdout",
     "output_type": "stream",
     "text": [
      "['LINE\\n', 'LINE\\n', 'Line\\n', 'LINE\\n', 'LINE\\n', 'I Love python']\n"
     ]
    }
   ],
   "source": [
    "with open (\"test.txt\",\"a+\") as test_file:\n",
    "    test_file.writelines(\"I Love python\")\n",
    "    test_file.seek(0)\n",
    "    print (test_file.readlines())\n",
    "\n"
   ]
  }
 ],
 "metadata": {
  "kernelspec": {
   "display_name": "Python 3",
   "language": "python",
   "name": "python3"
  },
  "language_info": {
   "codemirror_mode": {
    "name": "ipython",
    "version": 3
   },
   "file_extension": ".py",
   "mimetype": "text/x-python",
   "name": "python",
   "nbconvert_exporter": "python",
   "pygments_lexer": "ipython3",
   "version": "3.8.8"
  }
 },
 "nbformat": 4,
 "nbformat_minor": 5
}
