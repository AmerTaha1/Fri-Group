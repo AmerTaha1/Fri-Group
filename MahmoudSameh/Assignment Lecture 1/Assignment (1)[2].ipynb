{
 "cells": [
  {
   "cell_type": "code",
   "execution_count": 2,
   "metadata": {},
   "outputs": [
    {
     "name": "stdout",
     "output_type": "stream",
     "text": [
      "please inter Lenght :10\n",
      "please inter Width :20\n",
      "200\n"
     ]
    }
   ],
   "source": [
    "L = Lenght= int(input('please inter Lenght :'))\n",
    "w = Width= int(input('please inter Width :'))\n",
    "R = the_circumference_of_a_rectangle = L*w\n",
    "print(R)"
   ]
  },
  {
   "cell_type": "code",
   "execution_count": null,
   "metadata": {},
   "outputs": [],
   "source": []
  }
 ],
 "metadata": {
  "kernelspec": {
   "display_name": "Python 3",
   "language": "python",
   "name": "python3"
  },
  "language_info": {
   "codemirror_mode": {
    "name": "ipython",
    "version": 3
   },
   "file_extension": ".py",
   "mimetype": "text/x-python",
   "name": "python",
   "nbconvert_exporter": "python",
   "pygments_lexer": "ipython3",
   "version": "3.9.6"
  }
 },
 "nbformat": 4,
 "nbformat_minor": 4
}
