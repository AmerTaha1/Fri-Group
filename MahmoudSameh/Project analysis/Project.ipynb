{
  "nbformat": 4,
  "nbformat_minor": 0,
  "metadata": {
    "colab": {
      "name": "Project.ipynb",
      "private_outputs": true,
      "provenance": [],
      "collapsed_sections": []
    },
    "kernelspec": {
      "name": "python3",
      "display_name": "Python 3"
    },
    "language_info": {
      "name": "python"
    },
    "accelerator": "GPU"
  },
  "cells": [
    {
      "cell_type": "code",
      "metadata": {
        "id": "ikWxDaiIupZO"
      },
      "source": [
        "#@title Default title text\n",
        "import pandas as pd\n",
        "df=pd.read_csv('fifa19.csv')\n",
        "df.head()\n"
      ],
      "execution_count": null,
      "outputs": []
    },
    {
      "cell_type": "code",
      "metadata": {
        "id": "mVCnstkHvqxm"
      },
      "source": [
        "df.info()"
      ],
      "execution_count": null,
      "outputs": []
    },
    {
      "cell_type": "markdown",
      "metadata": {
        "id": "jcd54WsTrrml"
      },
      "source": [
        "### **Search for column have unique values to distinguish every player**"
      ]
    },
    {
      "cell_type": "code",
      "metadata": {
        "id": "rjKhLtK3zuiV"
      },
      "source": [
        "df['ID'].value_counts()"
      ],
      "execution_count": null,
      "outputs": []
    },
    {
      "cell_type": "markdown",
      "metadata": {
        "id": "YX1si-KCuvjJ"
      },
      "source": [
        "###**Remove some useless columns**"
      ]
    },
    {
      "cell_type": "code",
      "metadata": {
        "id": "0uKd8wsjwN_V"
      },
      "source": [
        "df=df.drop(columns=['Unnamed: 0','Potential','Real Face','Name','Photo','Nationality','Flag','Club Logo','Special','Loaned From','Preferred Foot','Jersey Number','LS','ST','RS','LW','LF','CF','RF','RW','LAM','CAM','RAM','LM','LCM','CM','RCM','RM','LWB','LDM','CDM','RDM','RWB','LB','LCB','CB','RCB','RB'],axis=1)\n",
        "df"
      ],
      "execution_count": null,
      "outputs": []
    },
    {
      "cell_type": "markdown",
      "metadata": {
        "id": "kICRfzPaxKcU"
      },
      "source": [
        "# *Remove duplicated rows*"
      ]
    },
    {
      "cell_type": "code",
      "metadata": {
        "id": "3DGF0YxAFEhv"
      },
      "source": [
        "  df=df.drop_duplicates()"
      ],
      "execution_count": null,
      "outputs": []
    },
    {
      "cell_type": "code",
      "metadata": {
        "id": "fSPvMafU2ktn"
      },
      "source": [
        "df.isnull().sum()"
      ],
      "execution_count": null,
      "outputs": []
    },
    {
      "cell_type": "code",
      "metadata": {
        "id": "4opp-6QMPCVs"
      },
      "source": [
        "df[df['Body Type'].isna()]"
      ],
      "execution_count": null,
      "outputs": []
    },
    {
      "cell_type": "code",
      "metadata": {
        "id": "1cWuvigEON2r"
      },
      "source": [
        "df['Body Type'].isnull().sum()"
      ],
      "execution_count": null,
      "outputs": []
    },
    {
      "cell_type": "code",
      "metadata": {
        "id": "94w_XpYJOwzM"
      },
      "source": [
        "df.dropna(subset=['Body Type'],inplace=True)"
      ],
      "execution_count": null,
      "outputs": []
    },
    {
      "cell_type": "code",
      "metadata": {
        "id": "MM9Vr_7gptbB"
      },
      "source": [
        "df[['Value']].info()"
      ],
      "execution_count": null,
      "outputs": []
    },
    {
      "cell_type": "code",
      "metadata": {
        "id": "Y_-Qx1JYRsjZ"
      },
      "source": [
        "df['Value'][0]"
      ],
      "execution_count": null,
      "outputs": []
    },
    {
      "cell_type": "code",
      "metadata": {
        "id": "W8GpkUz-R5m4"
      },
      "source": [
        "df['Value'][0].split('€')[1][-1:]"
      ],
      "execution_count": null,
      "outputs": []
    },
    {
      "cell_type": "code",
      "metadata": {
        "id": "aW8eNAX2SDcj"
      },
      "source": [
        "df['Value'][0].split('€')[1][:-1]"
      ],
      "execution_count": null,
      "outputs": []
    },
    {
      "cell_type": "code",
      "metadata": {
        "id": "JhNDExi7xiKb"
      },
      "source": [
        "df['M_K']=df['Value'].apply(lambda x : x.split('€')[1][-1:])\n",
        "df[['M_K']].head()"
      ],
      "execution_count": null,
      "outputs": []
    },
    {
      "cell_type": "code",
      "metadata": {
        "id": "zkWUG0uhxvvx"
      },
      "source": [
        "df['Value']=df['Value'].apply(lambda x: x.split('€')[1][:-1])\n",
        "df[['Value']].head()"
      ],
      "execution_count": null,
      "outputs": []
    },
    {
      "cell_type": "code",
      "metadata": {
        "id": "8Sa-qyjHyPC6"
      },
      "source": [
        "\n",
        "df['Value']=pd.to_numeric(df['Value'],errors='coerce')\n"
      ],
      "execution_count": null,
      "outputs": []
    },
    {
      "cell_type": "code",
      "metadata": {
        "id": "WngSW4HqygVK"
      },
      "source": [
        "\n",
        "df.loc[df['M_K']== 'M','Value(K)'] = df['Value']*1000\n",
        "df.loc[df['M_K']!= 'M','Value(K)'] = df['Value']\n"
      ],
      "execution_count": null,
      "outputs": []
    },
    {
      "cell_type": "code",
      "metadata": {
        "id": "DumNE5FRyy82"
      },
      "source": [
        "df=df.drop(columns=['M_K','Value'],axis=1)\n",
        "df.head()"
      ],
      "execution_count": null,
      "outputs": []
    },
    {
      "cell_type": "code",
      "metadata": {
        "id": "gZ6-af1tpcPp"
      },
      "source": [
        "\n",
        "df[['Wage']].info()\n"
      ],
      "execution_count": null,
      "outputs": []
    },
    {
      "cell_type": "code",
      "metadata": {
        "id": "Xaczan4HS_Py"
      },
      "source": [
        "df['Wage'][0]"
      ],
      "execution_count": null,
      "outputs": []
    },
    {
      "cell_type": "code",
      "metadata": {
        "id": "Rjp6I-98SWXe"
      },
      "source": [
        "df['Wage'][0].split('€')[1][:-1]"
      ],
      "execution_count": null,
      "outputs": []
    },
    {
      "cell_type": "code",
      "metadata": {
        "id": "o9KfD99TYlly"
      },
      "source": [
        "df['Wage(K)']=df['Wage'].apply(lambda x: x.split('€')[1][:-1])\n",
        "df['Wage(K)']=pd.to_numeric(df['Wage(K)'],errors='coerce')\n",
        "df=df.drop(columns='Wage',axis=1)\n",
        "df[['Wage(K)']]"
      ],
      "execution_count": null,
      "outputs": []
    },
    {
      "cell_type": "code",
      "metadata": {
        "id": "EUa8yqP-4wAz"
      },
      "source": [
        "\n",
        "df[['Release Clause']].info()\n"
      ],
      "execution_count": null,
      "outputs": []
    },
    {
      "cell_type": "code",
      "metadata": {
        "id": "zWLhoUL7TIk6"
      },
      "source": [
        "df['Release Clause'][0]"
      ],
      "execution_count": null,
      "outputs": []
    },
    {
      "cell_type": "code",
      "metadata": {
        "id": "RIhQPWJBSnd7"
      },
      "source": [
        "df['Release Clause'][0].split('€')[1][:-1]"
      ],
      "execution_count": null,
      "outputs": []
    },
    {
      "cell_type": "code",
      "metadata": {
        "id": "GMHEF1hsSzeb"
      },
      "source": [
        "df['Release Clause'][0].split('€')[1][-1:]"
      ],
      "execution_count": null,
      "outputs": []
    },
    {
      "cell_type": "code",
      "metadata": {
        "id": "MEeAMq7j5GWG"
      },
      "source": [
        "df['Release Clause'].fillna(df['Release Clause'].mode()[0],inplace=True)"
      ],
      "execution_count": null,
      "outputs": []
    },
    {
      "cell_type": "code",
      "metadata": {
        "id": "RlhhCodo5GhR"
      },
      "source": [
        "\n",
        "df['M_K']=df['Release Clause'].apply(lambda x : x.split('€')[1][-1:])\n",
        "df['Release Clause']=df['Release Clause'].apply(lambda x : x.split('€')[1][:-1])\n",
        "df['Release Clause']=pd.to_numeric(df['Release Clause'],errors='coerce')\n",
        "df.loc[df['M_K']== 'M','Release Clause(K)'] = df['Release Clause']*1000\n",
        "df.loc[df['M_K']!= 'M','Release Clause(K)'] = df['Release Clause']\n",
        "df[['Release Clause(K)']]"
      ],
      "execution_count": null,
      "outputs": []
    },
    {
      "cell_type": "code",
      "metadata": {
        "id": "eOGPjPLl5GlX"
      },
      "source": [
        "df=df.drop(columns=['M_K','Release Clause'],axis=1)\n",
        "df.head()"
      ],
      "execution_count": null,
      "outputs": []
    },
    {
      "cell_type": "code",
      "metadata": {
        "id": "LB74eTzl5VW-"
      },
      "source": [
        "df[['Weight']].info()"
      ],
      "execution_count": null,
      "outputs": []
    },
    {
      "cell_type": "code",
      "metadata": {
        "id": "Y8KWW0Gq5gMA"
      },
      "source": [
        "df['Weight'].fillna(df['Weight'].mode()[0], inplace=True)"
      ],
      "execution_count": null,
      "outputs": []
    },
    {
      "cell_type": "code",
      "metadata": {
        "id": "gdJO0MNbNVKK"
      },
      "source": [
        "df['Weight'][0]"
      ],
      "execution_count": null,
      "outputs": []
    },
    {
      "cell_type": "code",
      "metadata": {
        "id": "Yhdq7G3jNB6K"
      },
      "source": [
        "df['Weight'][0].split('lbs')[0]"
      ],
      "execution_count": null,
      "outputs": []
    },
    {
      "cell_type": "code",
      "metadata": {
        "id": "wy6mSSEX0Rbc"
      },
      "source": [
        "df['Weight(kg)']=df['Weight'].apply(lambda x: x.split('lbs')[0])\n",
        "df['Weight(kg)']=pd.to_numeric(df['Weight(kg)'],errors='coerce')\n",
        "df['Weight(kg)']=df['Weight(kg)']*0.45359237\n",
        "df[['Weight(kg)']]"
      ],
      "execution_count": null,
      "outputs": []
    },
    {
      "cell_type": "code",
      "metadata": {
        "id": "g3qG3Y6aIn7f"
      },
      "source": [
        "df=df.drop(columns=['Weight'],axis=1)"
      ],
      "execution_count": null,
      "outputs": []
    },
    {
      "cell_type": "code",
      "metadata": {
        "id": "Nz8pUAcm4NP9"
      },
      "source": [
        "df[['Height']].info()"
      ],
      "execution_count": null,
      "outputs": []
    },
    {
      "cell_type": "code",
      "metadata": {
        "id": "WFgSCK7LECw5"
      },
      "source": [
        "df['Height'].fillna(df['Height'].mode()[0], inplace=True)"
      ],
      "execution_count": null,
      "outputs": []
    },
    {
      "cell_type": "code",
      "metadata": {
        "id": "uZUbuv5LNkXF"
      },
      "source": [
        "df['Height'][0]"
      ],
      "execution_count": null,
      "outputs": []
    },
    {
      "cell_type": "code",
      "metadata": {
        "id": "aUjpMlVuNbkr"
      },
      "source": [
        "df['Height'][0].split(\"'\")[0]"
      ],
      "execution_count": null,
      "outputs": []
    },
    {
      "cell_type": "code",
      "metadata": {
        "id": "_GDkSwZrNoic"
      },
      "source": [
        "df['Height'][0].split(\"'\")[1]"
      ],
      "execution_count": null,
      "outputs": []
    },
    {
      "cell_type": "code",
      "metadata": {
        "id": "2nKsGZXhEJQ1"
      },
      "source": [
        "df['inch']=df['Height'].apply(lambda x: x.split(\"'\")[1])\n",
        "df['inch']=pd.to_numeric(df['inch'],errors='coerce',downcast='float')\n",
        "df[['inch']]"
      ],
      "execution_count": null,
      "outputs": []
    },
    {
      "cell_type": "code",
      "metadata": {
        "id": "XGPVcaWQEuMk"
      },
      "source": [
        "df['feet']=df['Height'].apply(lambda x: x.split(\"'\")[0])\n",
        "df['feet']=pd.to_numeric(df['feet'],errors='coerce',downcast='float')\n",
        "df[['feet']]"
      ],
      "execution_count": null,
      "outputs": []
    },
    {
      "cell_type": "code",
      "metadata": {
        "id": "9cRWTA12Fa7_"
      },
      "source": [
        "df['Height(cm)']=(df['inch']*2.54)+(df['feet']*30.48)\n",
        "df[['Height(cm)']]"
      ],
      "execution_count": null,
      "outputs": []
    },
    {
      "cell_type": "code",
      "metadata": {
        "id": "Ueq_X3aEHHgg"
      },
      "source": [
        "df=df.drop(columns=['feet','inch','Height'],axis=1)\n",
        "\n"
      ],
      "execution_count": null,
      "outputs": []
    },
    {
      "cell_type": "code",
      "metadata": {
        "id": "wDBScVIWHpnk"
      },
      "source": [
        "df.head()"
      ],
      "execution_count": null,
      "outputs": []
    },
    {
      "cell_type": "code",
      "metadata": {
        "id": "z1jsTiwKqJmM"
      },
      "source": [
        "df[['Work Rate']].info()"
      ],
      "execution_count": null,
      "outputs": []
    },
    {
      "cell_type": "code",
      "metadata": {
        "id": "s3pzjO0EHicQ"
      },
      "source": [
        "df['Work Rate'].unique()"
      ],
      "execution_count": null,
      "outputs": []
    },
    {
      "cell_type": "code",
      "metadata": {
        "id": "f2y7h7xJIixf"
      },
      "source": [
        "df.dropna(subset=['Work Rate'],inplace=True)\n"
      ],
      "execution_count": null,
      "outputs": []
    },
    {
      "cell_type": "code",
      "metadata": {
        "id": "QhRtZp2__acA"
      },
      "source": [
        "df['Work Rate'][0].split('/ ')[0]"
      ],
      "execution_count": null,
      "outputs": []
    },
    {
      "cell_type": "code",
      "metadata": {
        "id": "J61C567F92Q_"
      },
      "source": [
        "df['Attack Work Rate']=df['Work Rate'].apply(lambda x: x.split('/ ')[0])\n",
        "df['Defence Work Rate']=df['Work Rate'].apply(lambda x: x.split('/ ')[1])\n",
        "df.head()"
      ],
      "execution_count": null,
      "outputs": []
    },
    {
      "cell_type": "code",
      "metadata": {
        "id": "JIz2OkKcAOdv"
      },
      "source": [
        "\n",
        "W_Dec={'High':3,'Medium':2,'Low':1}\n",
        "df['Attack Work Rate']=df['Attack Work Rate'].map(W_Dec)\n",
        "df['Defence Work Rate']=df['Defence Work Rate'].map(W_Dec)\n",
        "df.head()"
      ],
      "execution_count": null,
      "outputs": []
    },
    {
      "cell_type": "code",
      "metadata": {
        "id": "2ZooWYcxA-u_"
      },
      "source": [
        "df=df.drop('Work Rate',axis=1)\n",
        "df.head()"
      ],
      "execution_count": null,
      "outputs": []
    },
    {
      "cell_type": "code",
      "metadata": {
        "id": "C7kM6kThBN3n"
      },
      "source": [
        "df.info()"
      ],
      "execution_count": null,
      "outputs": []
    },
    {
      "cell_type": "code",
      "metadata": {
        "id": "qgzCktVaLWz_"
      },
      "source": [
        "df.isnull().sum()"
      ],
      "execution_count": null,
      "outputs": []
    },
    {
      "cell_type": "code",
      "metadata": {
        "id": "CzTz6V-0ELMw"
      },
      "source": [
        "from sklearn.impute import KNNImputer\n",
        "imputer=KNNImputer()\n",
        "cols=['Value(K)','Wage(K)']\n",
        "for col in cols:\n",
        "  df[col]=imputer.fit_transform(df[[col]])\n",
        "df.isnull().sum()"
      ],
      "execution_count": null,
      "outputs": []
    },
    {
      "cell_type": "code",
      "metadata": {
        "id": "LOuaiurqSfPg"
      },
      "source": [
        "df[['Joined']].info()"
      ],
      "execution_count": null,
      "outputs": []
    },
    {
      "cell_type": "code",
      "metadata": {
        "id": "-LLt33eUxOiq"
      },
      "source": [
        "from sklearn.impute import SimpleImputer\n",
        "imputer=SimpleImputer(strategy='most_frequent')\n",
        "df['Joined']=imputer.fit_transform(df[['Joined']])\n"
      ],
      "execution_count": null,
      "outputs": []
    },
    {
      "cell_type": "code",
      "metadata": {
        "id": "eE043SqE4oIY"
      },
      "source": [
        "from datetime import datetime\n",
        "df['Joined']=df['Joined'].apply(lambda x: datetime.strptime(x ,'%b %d, %Y') )\n",
        "df[['Joined']]"
      ],
      "execution_count": null,
      "outputs": []
    },
    {
      "cell_type": "code",
      "metadata": {
        "id": "vYulf5d-4jWa"
      },
      "source": [
        "df[['Contract Valid Until']].info()"
      ],
      "execution_count": null,
      "outputs": []
    },
    {
      "cell_type": "code",
      "metadata": {
        "id": "gGYyjLD83Z3v"
      },
      "source": [
        "df['Contract Valid Until']=pd.to_datetime(df['Contract Valid Until'],format='%Y',errors='coerce')\n",
        "df['Contract Valid Until'].fillna(df['Contract Valid Until'].mean(),inplace=True)"
      ],
      "execution_count": null,
      "outputs": []
    },
    {
      "cell_type": "code",
      "metadata": {
        "id": "xloolFLxr7Lr"
      },
      "source": [
        "import numpy as np\n",
        "df['Duration']=(df['Contract Valid Until']-df['Joined'])/np.timedelta64(1,'Y')\n",
        "df[['Duration']]"
      ],
      "execution_count": null,
      "outputs": []
    },
    {
      "cell_type": "code",
      "metadata": {
        "id": "OL7DPz_trN5v"
      },
      "source": [
        "df[['Position']].info()"
      ],
      "execution_count": null,
      "outputs": []
    },
    {
      "cell_type": "code",
      "metadata": {
        "id": "0_4eUgd82mcQ"
      },
      "source": [
        "df['Position'].isnull().sum()"
      ],
      "execution_count": null,
      "outputs": []
    },
    {
      "cell_type": "code",
      "metadata": {
        "id": "Bl6ly7YR_WMn"
      },
      "source": [
        "df['Position'].fillna(df['Position'].mode()[0],inplace=True)"
      ],
      "execution_count": null,
      "outputs": []
    },
    {
      "cell_type": "code",
      "metadata": {
        "id": "g6UAvYdarX6P"
      },
      "source": [
        "df[['Club']].info()"
      ],
      "execution_count": null,
      "outputs": []
    },
    {
      "cell_type": "code",
      "metadata": {
        "id": "fMSo-oCa7XAs"
      },
      "source": [
        "df['Club'].unique()"
      ],
      "execution_count": null,
      "outputs": []
    },
    {
      "cell_type": "code",
      "metadata": {
        "id": "xsOszbLmul2N"
      },
      "source": [
        "df.dropna(subset=['Club'], inplace=True)"
      ],
      "execution_count": null,
      "outputs": []
    },
    {
      "cell_type": "code",
      "metadata": {
        "id": "rkCtXzD3H1_f"
      },
      "source": [
        "df.isnull().sum()"
      ],
      "execution_count": null,
      "outputs": []
    },
    {
      "cell_type": "code",
      "metadata": {
        "id": "WaCNGCR4T3xw"
      },
      "source": [
        "df.info()"
      ],
      "execution_count": null,
      "outputs": []
    },
    {
      "cell_type": "code",
      "metadata": {
        "id": "-hHIc-P2R8hc"
      },
      "source": [
        "cols=['Attack Work Rate','Defence Work Rate','ID','Age','Overall']\n",
        "for col in cols:\n",
        "  df[col]=df[col].astype(float)"
      ],
      "execution_count": null,
      "outputs": []
    },
    {
      "cell_type": "code",
      "metadata": {
        "id": "RqhtaPmfSfno"
      },
      "source": [
        "df.describe()"
      ],
      "execution_count": null,
      "outputs": []
    },
    {
      "cell_type": "code",
      "metadata": {
        "id": "DXPUaZ0bS23s"
      },
      "source": [
        "df['Duration']=df['Duration'].apply(lambda x:abs(x))"
      ],
      "execution_count": null,
      "outputs": []
    },
    {
      "cell_type": "code",
      "metadata": {
        "id": "FFSRZSSdEHf7"
      },
      "source": [
        "cols=['Value(K)','Wage(K)','Duration','Release Clause(K)','Age']\n",
        "for Col in cols:\n",
        "  Q1= df[Col].quantile(0.25)\n",
        "  Q3= df[Col].quantile(0.75)\n",
        "  iqr=Q3-Q1\n",
        "  lower_limit = Q1 - (1.5 * iqr)\n",
        "  upper_limit = Q3 + (1.5 * iqr)\n",
        "  x=df.loc[df[Col]>upper_limit]\n",
        "  y=df.loc[df[Col]<lower_limit]\n",
        "  df.loc[x.index,Col]=df.loc[x.index,Col]-(1.5*iqr)\n",
        "  df.loc[y.index,Col]=df.loc[y.index,Col]+(1.5*iqr)"
      ],
      "execution_count": null,
      "outputs": []
    },
    {
      "cell_type": "code",
      "metadata": {
        "id": "cjdgNqHdYv1G"
      },
      "source": [
        "import seaborn as sns\n",
        "sns.set(rc={'figure.figsize':[10,10]},font_scale=1)"
      ],
      "execution_count": null,
      "outputs": []
    },
    {
      "cell_type": "code",
      "metadata": {
        "id": "pOUW0pdwYpua"
      },
      "source": [
        "sns.lmplot(x='Height(cm)',y='Weight(kg)',data=df)"
      ],
      "execution_count": null,
      "outputs": []
    },
    {
      "cell_type": "code",
      "metadata": {
        "id": "Qy6iQjEyq_lF"
      },
      "source": [
        "sns.lmplot(x='Wage(K)',y='Duration',data=df)"
      ],
      "execution_count": null,
      "outputs": []
    },
    {
      "cell_type": "code",
      "metadata": {
        "id": "OQYyzIzfpOQP"
      },
      "source": [
        "sns.lmplot(x='Wage(K)',y='Value(K)',data=df)"
      ],
      "execution_count": null,
      "outputs": []
    },
    {
      "cell_type": "code",
      "metadata": {
        "id": "mXkTNraXpZqc"
      },
      "source": [
        "sns.lmplot(x='Wage(K)',y='Release Clause(K)',data=df)"
      ],
      "execution_count": null,
      "outputs": []
    },
    {
      "cell_type": "code",
      "metadata": {
        "id": "tVNwAM1BpnAj"
      },
      "source": [
        "sns.lmplot(x='Wage(K)',y='Age',data=df)"
      ],
      "execution_count": null,
      "outputs": []
    },
    {
      "cell_type": "code",
      "metadata": {
        "id": "0cOKC5Ldp1Tw"
      },
      "source": [
        "sns.catplot(y='Club',x='Wage(K)',data=df,kind='bar')"
      ],
      "execution_count": null,
      "outputs": []
    },
    {
      "cell_type": "code",
      "metadata": {
        "id": "uXWplKsoXASN"
      },
      "source": [
        "sns.lmplot(x='Value(K)',y='Age',data=df)"
      ],
      "execution_count": null,
      "outputs": []
    },
    {
      "cell_type": "code",
      "metadata": {
        "id": "ezgMo52YrGDb"
      },
      "source": [
        "sns.lmplot(x='Value(K)',y='International Reputation',data=df)"
      ],
      "execution_count": null,
      "outputs": []
    },
    {
      "cell_type": "code",
      "metadata": {
        "id": "cBbzgNiSrox4"
      },
      "source": [
        "sns.lmplot(x='Value(K)',y='Weak Foot',data=df)"
      ],
      "execution_count": null,
      "outputs": []
    },
    {
      "cell_type": "code",
      "metadata": {
        "id": "T5LAhxV3r1MR"
      },
      "source": [
        "sns.lmplot(x='Value(K)',y='Skill Moves',data=df)"
      ],
      "execution_count": null,
      "outputs": []
    },
    {
      "cell_type": "code",
      "metadata": {
        "id": "SCWxJ8LNZrXo"
      },
      "source": [
        "sns.lmplot(x='Release Clause(K)', y='Duration', data=df)"
      ],
      "execution_count": null,
      "outputs": []
    },
    {
      "cell_type": "code",
      "metadata": {
        "id": "BmHIwBT6a05C"
      },
      "source": [
        "sns.lmplot(x='Release Clause(K)', y='Wage(K)', data=df)"
      ],
      "execution_count": null,
      "outputs": []
    },
    {
      "cell_type": "code",
      "metadata": {
        "id": "ay-4trYveOr1"
      },
      "source": [
        "sns.lmplot(x='Release Clause(K)', y='Value(K)', data=df)"
      ],
      "execution_count": null,
      "outputs": []
    },
    {
      "cell_type": "code",
      "metadata": {
        "id": "A8dlcWAdf_SU"
      },
      "source": [
        "sns.lmplot(x='Overall', y='International Reputation', data=df)"
      ],
      "execution_count": null,
      "outputs": []
    },
    {
      "cell_type": "code",
      "metadata": {
        "id": "AHyH-L_Feiro"
      },
      "source": [
        "sns.lmplot(x='Overall', y='Value(K)', data=df)"
      ],
      "execution_count": null,
      "outputs": []
    },
    {
      "cell_type": "code",
      "metadata": {
        "id": "N1PdBdcTWJY-"
      },
      "source": [
        "sns.lmplot(x='Overall', y='Age', data=df)"
      ],
      "execution_count": null,
      "outputs": []
    },
    {
      "cell_type": "code",
      "metadata": {
        "id": "etO8u01th2sh"
      },
      "source": [
        "sns.set(rc={'figure.figsize':[20,20]},font_scale=0.8)\n",
        "sns.catplot(x='Body Type',y='Overall',data=df,kind='strip',order=[\"Normal\", \"Lean\",\"Stocky\"])"
      ],
      "execution_count": null,
      "outputs": []
    },
    {
      "cell_type": "code",
      "metadata": {
        "id": "1FMx_S9nh-j8"
      },
      "source": [
        "sns.catplot(y='Position',x='Overall',data=df,kind='strip')"
      ],
      "execution_count": null,
      "outputs": []
    },
    {
      "cell_type": "code",
      "metadata": {
        "id": "Z5_XSO0c6Q7C"
      },
      "source": [
        "sns.catplot(y='Position',x='Value(K)',data=df,kind='strip')"
      ],
      "execution_count": null,
      "outputs": []
    },
    {
      "cell_type": "code",
      "metadata": {
        "id": "hdCZiNQ6u9CK"
      },
      "source": [
        "df.info()"
      ],
      "execution_count": null,
      "outputs": []
    },
    {
      "cell_type": "code",
      "metadata": {
        "id": "DOe2FUn9dBZT"
      },
      "source": [
        "x=df.drop(columns=['ID','Duration','Wage(K)','Value(K)','Release Clause(K)','Weight(kg)','Height(cm)','Body Type','Position','Joined','Contract Valid Until'],axis=1)\n",
        "x=pd.get_dummies(x,columns=['Club'])\n",
        "y=df['Value(K)']"
      ],
      "execution_count": null,
      "outputs": []
    },
    {
      "cell_type": "code",
      "metadata": {
        "id": "d5jRJwS8yTre"
      },
      "source": [
        "x.info()"
      ],
      "execution_count": null,
      "outputs": []
    },
    {
      "cell_type": "code",
      "metadata": {
        "id": "3vpi9Jl-AGk8"
      },
      "source": [
        "x=x.astype('float64')"
      ],
      "execution_count": null,
      "outputs": []
    },
    {
      "cell_type": "code",
      "metadata": {
        "id": "Yx5-AWXfBPFH"
      },
      "source": [
        "x.info()"
      ],
      "execution_count": null,
      "outputs": []
    },
    {
      "cell_type": "code",
      "metadata": {
        "id": "PwIp7pWmzNhF"
      },
      "source": [
        "from sklearn.model_selection import train_test_split\n",
        "x_train,x_test,y_train,y_test=train_test_split(x,y,test_size=0.2)\n",
        "y_train.value_counts()"
      ],
      "execution_count": null,
      "outputs": []
    },
    {
      "cell_type": "code",
      "metadata": {
        "id": "WmX4hO874Cn_"
      },
      "source": [
        "len(y_train)/len(y)"
      ],
      "execution_count": null,
      "outputs": []
    },
    {
      "cell_type": "code",
      "metadata": {
        "id": "Agb3JFxezp_2"
      },
      "source": [
        "len(y_test)/len(y)"
      ],
      "execution_count": null,
      "outputs": []
    },
    {
      "cell_type": "code",
      "metadata": {
        "id": "i2muNCzTwEZU"
      },
      "source": [
        "from sklearn.preprocessing import StandardScaler\n",
        "scaler=StandardScaler()\n",
        "x_train=scaler.fit_transform(x_train)\n",
        "x_test=scaler.transform(x_test)\n",
        "x_train"
      ],
      "execution_count": null,
      "outputs": []
    },
    {
      "cell_type": "code",
      "metadata": {
        "id": "X6o7_pW6Wxjf"
      },
      "source": [
        "x=df[['Club','Value(K)','Release Clause(K)','Age']]\n",
        "x=pd.get_dummies(x,columns=['Club'])\n",
        "y=df['Wage(K)']\n"
      ],
      "execution_count": null,
      "outputs": []
    },
    {
      "cell_type": "code",
      "metadata": {
        "id": "46hDZzwKhuKF"
      },
      "source": [
        "x_train,x_test,y_train,y_test=train_test_split(x,y,test_size=0.2)\n",
        "y_train.value_counts()"
      ],
      "execution_count": null,
      "outputs": []
    },
    {
      "cell_type": "code",
      "metadata": {
        "id": "MrX2NyJ4rIS-"
      },
      "source": [
        "from sklearn.preprocessing import MinMaxScaler\n",
        "scaler=MinMaxScaler()\n",
        "x_train=scaler.fit_transform(x_train)\n",
        "x_test=scaler.transform(x_test)\n",
        "x_train"
      ],
      "execution_count": null,
      "outputs": []
    },
    {
      "cell_type": "code",
      "metadata": {
        "id": "T9yJiKL_sSI8"
      },
      "source": [
        "x=df[['Club','Value(K)','Wage(K)']]\n",
        "x=pd.get_dummies(x,columns=['Club'])\n",
        "y=df['Release Clause(K)']\n"
      ],
      "execution_count": null,
      "outputs": []
    },
    {
      "cell_type": "code",
      "metadata": {
        "id": "vEnWeU1H0NIX"
      },
      "source": [
        "x_train,x_test,y_train,y_test=train_test_split(x,y,test_size=0.2)\n",
        "y_train.value_counts()"
      ],
      "execution_count": null,
      "outputs": []
    },
    {
      "cell_type": "code",
      "metadata": {
        "id": "bK9UfUTQQOSz"
      },
      "source": [
        "from sklearn.preprocessing import MinMaxScaler\n",
        "scaler=MinMaxScaler()\n",
        "x_train=scaler.fit_transform(x_train)\n",
        "x_test=scaler.transform(x_test)\n",
        "x_train"
      ],
      "execution_count": null,
      "outputs": []
    },
    {
      "cell_type": "code",
      "metadata": {
        "id": "TA6bjf4L0CIj"
      },
      "source": [
        "x=df.drop(columns=['ID','Overall','Duration','Wage(K)','Value(K)','Release Clause(K)','Weight(kg)','Height(cm)','Position','Joined','Contract Valid Until','Age','Body Type','International Reputation','Club'],axis=1)\n",
        "y=df['Position']"
      ],
      "execution_count": null,
      "outputs": []
    },
    {
      "cell_type": "code",
      "metadata": {
        "id": "ohFfEPEgozaT"
      },
      "source": [
        "x_train,x_test,y_train,y_test=train_test_split(x,y,test_size=0.2)\n",
        "y_train.value_counts()"
      ],
      "execution_count": null,
      "outputs": []
    },
    {
      "cell_type": "code",
      "metadata": {
        "id": "OjAk2Gt6r0-q"
      },
      "source": [
        "from sklearn.preprocessing import StandardScaler\n",
        "scaler=StandardScaler()\n",
        "x_train=scaler.fit_transform(x_train)\n",
        "x_test=scaler.transform(x_test)\n",
        "x_train"
      ],
      "execution_count": null,
      "outputs": []
    },
    {
      "cell_type": "code",
      "metadata": {
        "id": "l28pum5Fr_Rp"
      },
      "source": [
        "x=df[['Weight(kg)','Height(cm)']]\n",
        "y=df['Body Type']\n",
        "y.value_counts()"
      ],
      "execution_count": null,
      "outputs": []
    },
    {
      "cell_type": "code",
      "metadata": {
        "id": "T9RshDmwIE4W"
      },
      "source": [
        "lst=['Courtois','PLAYER_BODY_TYPE_25','Neymar','C. Ronaldo','Shaqiri','Messi','Akinfenwa']\n",
        "for item in lst:\n",
        "  df.loc[df['Body Type']== item,'Body Type'] = df['Body Type'].mode()"
      ],
      "execution_count": null,
      "outputs": []
    },
    {
      "cell_type": "code",
      "metadata": {
        "id": "WvbFErZysrEj"
      },
      "source": [
        "x_train,x_test,y_train,y_test=train_test_split(x,y,test_size=0.2)\n",
        "y_train.value_counts()"
      ],
      "execution_count": null,
      "outputs": []
    },
    {
      "cell_type": "code",
      "metadata": {
        "id": "t6hRM8KqFPsL"
      },
      "source": [
        "y_test.value_counts()"
      ],
      "execution_count": null,
      "outputs": []
    },
    {
      "cell_type": "code",
      "metadata": {
        "id": "xayLdEyKsu4f"
      },
      "source": [
        "from sklearn.preprocessing import MinMaxScaler\n",
        "scaler=MinMaxScaler()\n",
        "x_train=scaler.fit_transform(x_train)\n",
        "x_test=scaler.transform(x_test)\n",
        "x_train"
      ],
      "execution_count": null,
      "outputs": []
    },
    {
      "cell_type": "code",
      "metadata": {
        "id": "8TvfCRECCuy6"
      },
      "source": [
        "x=df.drop(columns=['ID','Joined','Position','Contract Valid Until','Duration','Overall','Release Clause(K)','Wage(K)','Body Type'])\n",
        "x=pd.get_dummies(x,columns=['Club'])\n",
        "y=df['Overall']"
      ],
      "execution_count": null,
      "outputs": []
    },
    {
      "cell_type": "code",
      "metadata": {
        "id": "UgtzOSzcFTkq"
      },
      "source": [
        "x_train,x_test,y_train,y_test=train_test_split(x,y,test_size=0.2)\n",
        "y_train.value_counts()"
      ],
      "execution_count": null,
      "outputs": []
    },
    {
      "cell_type": "code",
      "metadata": {
        "id": "R-qu0plzFWKc"
      },
      "source": [
        "from sklearn.preprocessing import StandardScaler\n",
        "scaler=StandardScaler()\n",
        "x_train=scaler.fit_transform(x_train)\n",
        "x_test=scaler.transform(x_test)\n",
        "x_train"
      ],
      "execution_count": null,
      "outputs": []
    },
    {
      "cell_type": "code",
      "metadata": {
        "id": "gVWngQYWGW6q"
      },
      "source": [
        ""
      ],
      "execution_count": null,
      "outputs": []
    }
  ]
}