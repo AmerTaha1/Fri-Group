{
 "cells": [
  {
   "cell_type": "markdown",
   "metadata": {},
   "source": [
    "# A/B Testing Assignment\n",
    "## 1. Course_page_actions dataset\n",
    "Testing that average duration for the group experiment is bigger than the average duration in group control. So, we compare the average duration of both by the meaning of their difference, which shall be positive value bigger than zero; this is the Alternative Hypothesis. On the other hand, average duration for both groups shall be equal or the difference to be inverted. That to be tested on samples of the data (central limit theorem)"
   ]
  },
  {
   "cell_type": "code",
   "execution_count": 18,
   "metadata": {},
   "outputs": [],
   "source": [
    "#imports\n",
    "\n",
    "import pandas as pd\n",
    "import matplotlib.pyplot as plt\n",
    "import numpy as np"
   ]
  },
  {
   "cell_type": "markdown",
   "metadata": {},
   "source": [
    "### Reading, exploring and cleaning the data"
   ]
  },
  {
   "cell_type": "code",
   "execution_count": 17,
   "metadata": {},
   "outputs": [
    {
     "data": {
      "text/html": [
       "<div>\n",
       "<style scoped>\n",
       "    .dataframe tbody tr th:only-of-type {\n",
       "        vertical-align: middle;\n",
       "    }\n",
       "\n",
       "    .dataframe tbody tr th {\n",
       "        vertical-align: top;\n",
       "    }\n",
       "\n",
       "    .dataframe thead th {\n",
       "        text-align: right;\n",
       "    }\n",
       "</style>\n",
       "<table border=\"1\" class=\"dataframe\">\n",
       "  <thead>\n",
       "    <tr style=\"text-align: right;\">\n",
       "      <th></th>\n",
       "      <th>timestamp</th>\n",
       "      <th>id</th>\n",
       "      <th>group</th>\n",
       "      <th>action</th>\n",
       "      <th>duration</th>\n",
       "    </tr>\n",
       "  </thead>\n",
       "  <tbody>\n",
       "    <tr>\n",
       "      <th>0</th>\n",
       "      <td>2016-09-24 17:14:52.012145</td>\n",
       "      <td>261869</td>\n",
       "      <td>experiment</td>\n",
       "      <td>view</td>\n",
       "      <td>130.545004</td>\n",
       "    </tr>\n",
       "    <tr>\n",
       "      <th>1</th>\n",
       "      <td>2016-09-24 18:45:09.645857</td>\n",
       "      <td>226546</td>\n",
       "      <td>experiment</td>\n",
       "      <td>view</td>\n",
       "      <td>159.862440</td>\n",
       "    </tr>\n",
       "    <tr>\n",
       "      <th>2</th>\n",
       "      <td>2016-09-24 19:16:21.002533</td>\n",
       "      <td>286353</td>\n",
       "      <td>experiment</td>\n",
       "      <td>view</td>\n",
       "      <td>79.349315</td>\n",
       "    </tr>\n",
       "    <tr>\n",
       "      <th>3</th>\n",
       "      <td>2016-09-24 19:43:06.927785</td>\n",
       "      <td>842279</td>\n",
       "      <td>experiment</td>\n",
       "      <td>view</td>\n",
       "      <td>55.536126</td>\n",
       "    </tr>\n",
       "    <tr>\n",
       "      <th>4</th>\n",
       "      <td>2016-09-24 21:08:22.790333</td>\n",
       "      <td>781883</td>\n",
       "      <td>experiment</td>\n",
       "      <td>view</td>\n",
       "      <td>204.322437</td>\n",
       "    </tr>\n",
       "    <tr>\n",
       "      <th>5</th>\n",
       "      <td>2016-09-24 22:18:15.857434</td>\n",
       "      <td>266695</td>\n",
       "      <td>experiment</td>\n",
       "      <td>view</td>\n",
       "      <td>151.235475</td>\n",
       "    </tr>\n",
       "    <tr>\n",
       "      <th>6</th>\n",
       "      <td>2016-09-24 22:42:41.218757</td>\n",
       "      <td>701620</td>\n",
       "      <td>control</td>\n",
       "      <td>view</td>\n",
       "      <td>302.951552</td>\n",
       "    </tr>\n",
       "    <tr>\n",
       "      <th>7</th>\n",
       "      <td>2016-09-24 22:43:35.119748</td>\n",
       "      <td>701620</td>\n",
       "      <td>control</td>\n",
       "      <td>enroll</td>\n",
       "      <td>NaN</td>\n",
       "    </tr>\n",
       "    <tr>\n",
       "      <th>8</th>\n",
       "      <td>2016-09-25 01:21:10.649300</td>\n",
       "      <td>321250</td>\n",
       "      <td>experiment</td>\n",
       "      <td>view</td>\n",
       "      <td>98.678583</td>\n",
       "    </tr>\n",
       "    <tr>\n",
       "      <th>9</th>\n",
       "      <td>2016-09-25 01:23:19.800167</td>\n",
       "      <td>439910</td>\n",
       "      <td>control</td>\n",
       "      <td>view</td>\n",
       "      <td>61.234458</td>\n",
       "    </tr>\n",
       "  </tbody>\n",
       "</table>\n",
       "</div>"
      ],
      "text/plain": [
       "                    timestamp      id       group  action    duration\n",
       "0  2016-09-24 17:14:52.012145  261869  experiment    view  130.545004\n",
       "1  2016-09-24 18:45:09.645857  226546  experiment    view  159.862440\n",
       "2  2016-09-24 19:16:21.002533  286353  experiment    view   79.349315\n",
       "3  2016-09-24 19:43:06.927785  842279  experiment    view   55.536126\n",
       "4  2016-09-24 21:08:22.790333  781883  experiment    view  204.322437\n",
       "5  2016-09-24 22:18:15.857434  266695  experiment    view  151.235475\n",
       "6  2016-09-24 22:42:41.218757  701620     control    view  302.951552\n",
       "7  2016-09-24 22:43:35.119748  701620     control  enroll         NaN\n",
       "8  2016-09-25 01:21:10.649300  321250  experiment    view   98.678583\n",
       "9  2016-09-25 01:23:19.800167  439910     control    view   61.234458"
      ]
     },
     "execution_count": 17,
     "metadata": {},
     "output_type": "execute_result"
    }
   ],
   "source": [
    "df = pd.read_csv('Datasets/course_page_actions.csv')  # uploading the dataset into a dataframe variable\n",
    "df.head(10)  #list the first ten rows of the created dataframe"
   ]
  },
  {
   "cell_type": "code",
   "execution_count": 7,
   "metadata": {},
   "outputs": [
    {
     "name": "stdout",
     "output_type": "stream",
     "text": [
      "<class 'pandas.core.frame.DataFrame'>\n",
      "RangeIndex: 4069 entries, 0 to 4068\n",
      "Data columns (total 5 columns):\n",
      " #   Column     Non-Null Count  Dtype  \n",
      "---  ------     --------------  -----  \n",
      " 0   timestamp  4069 non-null   object \n",
      " 1   id         4069 non-null   int64  \n",
      " 2   group      4069 non-null   object \n",
      " 3   action     4069 non-null   object \n",
      " 4   duration   4044 non-null   float64\n",
      "dtypes: float64(1), int64(1), object(3)\n",
      "memory usage: 159.1+ KB\n"
     ]
    }
   ],
   "source": [
    "df.info()"
   ]
  },
  {
   "cell_type": "markdown",
   "metadata": {},
   "source": [
    "From the data information, it seems that, there are Missing values in the `duration` property"
   ]
  },
  {
   "cell_type": "code",
   "execution_count": 47,
   "metadata": {},
   "outputs": [
    {
     "data": {
      "text/html": [
       "<div>\n",
       "<style scoped>\n",
       "    .dataframe tbody tr th:only-of-type {\n",
       "        vertical-align: middle;\n",
       "    }\n",
       "\n",
       "    .dataframe tbody tr th {\n",
       "        vertical-align: top;\n",
       "    }\n",
       "\n",
       "    .dataframe thead th {\n",
       "        text-align: right;\n",
       "    }\n",
       "</style>\n",
       "<table border=\"1\" class=\"dataframe\">\n",
       "  <thead>\n",
       "    <tr style=\"text-align: right;\">\n",
       "      <th></th>\n",
       "      <th>timestamp</th>\n",
       "      <th>id</th>\n",
       "      <th>group</th>\n",
       "      <th>action</th>\n",
       "      <th>duration</th>\n",
       "    </tr>\n",
       "  </thead>\n",
       "  <tbody>\n",
       "    <tr>\n",
       "      <th>0</th>\n",
       "      <td>2016-09-24 17:14:52.012145</td>\n",
       "      <td>261869</td>\n",
       "      <td>experiment</td>\n",
       "      <td>view</td>\n",
       "      <td>130.545004</td>\n",
       "    </tr>\n",
       "    <tr>\n",
       "      <th>1</th>\n",
       "      <td>2016-09-24 18:45:09.645857</td>\n",
       "      <td>226546</td>\n",
       "      <td>experiment</td>\n",
       "      <td>view</td>\n",
       "      <td>159.862440</td>\n",
       "    </tr>\n",
       "    <tr>\n",
       "      <th>2</th>\n",
       "      <td>2016-09-24 19:16:21.002533</td>\n",
       "      <td>286353</td>\n",
       "      <td>experiment</td>\n",
       "      <td>view</td>\n",
       "      <td>79.349315</td>\n",
       "    </tr>\n",
       "    <tr>\n",
       "      <th>3</th>\n",
       "      <td>2016-09-24 19:43:06.927785</td>\n",
       "      <td>842279</td>\n",
       "      <td>experiment</td>\n",
       "      <td>view</td>\n",
       "      <td>55.536126</td>\n",
       "    </tr>\n",
       "    <tr>\n",
       "      <th>4</th>\n",
       "      <td>2016-09-24 21:08:22.790333</td>\n",
       "      <td>781883</td>\n",
       "      <td>experiment</td>\n",
       "      <td>view</td>\n",
       "      <td>204.322437</td>\n",
       "    </tr>\n",
       "    <tr>\n",
       "      <th>...</th>\n",
       "      <td>...</td>\n",
       "      <td>...</td>\n",
       "      <td>...</td>\n",
       "      <td>...</td>\n",
       "      <td>...</td>\n",
       "    </tr>\n",
       "    <tr>\n",
       "      <th>4064</th>\n",
       "      <td>2017-01-18 09:39:08.046251</td>\n",
       "      <td>931490</td>\n",
       "      <td>control</td>\n",
       "      <td>view</td>\n",
       "      <td>58.846204</td>\n",
       "    </tr>\n",
       "    <tr>\n",
       "      <th>4065</th>\n",
       "      <td>2017-01-18 09:44:15.239671</td>\n",
       "      <td>410222</td>\n",
       "      <td>experiment</td>\n",
       "      <td>view</td>\n",
       "      <td>101.231821</td>\n",
       "    </tr>\n",
       "    <tr>\n",
       "      <th>4066</th>\n",
       "      <td>2017-01-18 09:56:26.948171</td>\n",
       "      <td>364458</td>\n",
       "      <td>control</td>\n",
       "      <td>view</td>\n",
       "      <td>293.490566</td>\n",
       "    </tr>\n",
       "    <tr>\n",
       "      <th>4067</th>\n",
       "      <td>2017-01-18 10:10:18.293253</td>\n",
       "      <td>443603</td>\n",
       "      <td>experiment</td>\n",
       "      <td>view</td>\n",
       "      <td>149.026959</td>\n",
       "    </tr>\n",
       "    <tr>\n",
       "      <th>4068</th>\n",
       "      <td>2017-01-18 10:38:20.939958</td>\n",
       "      <td>540111</td>\n",
       "      <td>experiment</td>\n",
       "      <td>view</td>\n",
       "      <td>62.039341</td>\n",
       "    </tr>\n",
       "  </tbody>\n",
       "</table>\n",
       "<p>4044 rows × 5 columns</p>\n",
       "</div>"
      ],
      "text/plain": [
       "                       timestamp      id       group action    duration\n",
       "0     2016-09-24 17:14:52.012145  261869  experiment   view  130.545004\n",
       "1     2016-09-24 18:45:09.645857  226546  experiment   view  159.862440\n",
       "2     2016-09-24 19:16:21.002533  286353  experiment   view   79.349315\n",
       "3     2016-09-24 19:43:06.927785  842279  experiment   view   55.536126\n",
       "4     2016-09-24 21:08:22.790333  781883  experiment   view  204.322437\n",
       "...                          ...     ...         ...    ...         ...\n",
       "4064  2017-01-18 09:39:08.046251  931490     control   view   58.846204\n",
       "4065  2017-01-18 09:44:15.239671  410222  experiment   view  101.231821\n",
       "4066  2017-01-18 09:56:26.948171  364458     control   view  293.490566\n",
       "4067  2017-01-18 10:10:18.293253  443603  experiment   view  149.026959\n",
       "4068  2017-01-18 10:38:20.939958  540111  experiment   view   62.039341\n",
       "\n",
       "[4044 rows x 5 columns]"
      ]
     },
     "execution_count": 47,
     "metadata": {},
     "output_type": "execute_result"
    }
   ],
   "source": [
    "df2=df.drop(df[np.isnan(df['duration'])].index)\n",
    "df2"
   ]
  },
  {
   "cell_type": "code",
   "execution_count": 48,
   "metadata": {},
   "outputs": [
    {
     "data": {
      "text/plain": [
       "timestamp    4044\n",
       "id           4028\n",
       "group           2\n",
       "action          2\n",
       "duration     4028\n",
       "dtype: int64"
      ]
     },
     "execution_count": 48,
     "metadata": {},
     "output_type": "execute_result"
    }
   ],
   "source": [
    "# Checking for any duplicate values\n",
    "df2.nunique()"
   ]
  },
  {
   "cell_type": "markdown",
   "metadata": {},
   "source": [
    "Above line shows _Duplication_ in the dataset id"
   ]
  },
  {
   "cell_type": "code",
   "execution_count": 61,
   "metadata": {},
   "outputs": [
    {
     "data": {
      "text/html": [
       "<div>\n",
       "<style scoped>\n",
       "    .dataframe tbody tr th:only-of-type {\n",
       "        vertical-align: middle;\n",
       "    }\n",
       "\n",
       "    .dataframe tbody tr th {\n",
       "        vertical-align: top;\n",
       "    }\n",
       "\n",
       "    .dataframe thead th {\n",
       "        text-align: right;\n",
       "    }\n",
       "</style>\n",
       "<table border=\"1\" class=\"dataframe\">\n",
       "  <thead>\n",
       "    <tr style=\"text-align: right;\">\n",
       "      <th></th>\n",
       "      <th>timestamp</th>\n",
       "      <th>id</th>\n",
       "      <th>group</th>\n",
       "      <th>action</th>\n",
       "      <th>duration</th>\n",
       "    </tr>\n",
       "  </thead>\n",
       "  <tbody>\n",
       "    <tr>\n",
       "      <th>0</th>\n",
       "      <td>2016-09-24 17:14:52.012145</td>\n",
       "      <td>261869</td>\n",
       "      <td>experiment</td>\n",
       "      <td>view</td>\n",
       "      <td>130.545004</td>\n",
       "    </tr>\n",
       "    <tr>\n",
       "      <th>1</th>\n",
       "      <td>2016-09-24 18:45:09.645857</td>\n",
       "      <td>226546</td>\n",
       "      <td>experiment</td>\n",
       "      <td>view</td>\n",
       "      <td>159.862440</td>\n",
       "    </tr>\n",
       "    <tr>\n",
       "      <th>2</th>\n",
       "      <td>2016-09-24 19:16:21.002533</td>\n",
       "      <td>286353</td>\n",
       "      <td>experiment</td>\n",
       "      <td>view</td>\n",
       "      <td>79.349315</td>\n",
       "    </tr>\n",
       "    <tr>\n",
       "      <th>3</th>\n",
       "      <td>2016-09-24 19:43:06.927785</td>\n",
       "      <td>842279</td>\n",
       "      <td>experiment</td>\n",
       "      <td>view</td>\n",
       "      <td>55.536126</td>\n",
       "    </tr>\n",
       "    <tr>\n",
       "      <th>4</th>\n",
       "      <td>2016-09-24 21:08:22.790333</td>\n",
       "      <td>781883</td>\n",
       "      <td>experiment</td>\n",
       "      <td>view</td>\n",
       "      <td>204.322437</td>\n",
       "    </tr>\n",
       "    <tr>\n",
       "      <th>...</th>\n",
       "      <td>...</td>\n",
       "      <td>...</td>\n",
       "      <td>...</td>\n",
       "      <td>...</td>\n",
       "      <td>...</td>\n",
       "    </tr>\n",
       "    <tr>\n",
       "      <th>4064</th>\n",
       "      <td>2017-01-18 09:39:08.046251</td>\n",
       "      <td>931490</td>\n",
       "      <td>control</td>\n",
       "      <td>view</td>\n",
       "      <td>58.846204</td>\n",
       "    </tr>\n",
       "    <tr>\n",
       "      <th>4065</th>\n",
       "      <td>2017-01-18 09:44:15.239671</td>\n",
       "      <td>410222</td>\n",
       "      <td>experiment</td>\n",
       "      <td>view</td>\n",
       "      <td>101.231821</td>\n",
       "    </tr>\n",
       "    <tr>\n",
       "      <th>4066</th>\n",
       "      <td>2017-01-18 09:56:26.948171</td>\n",
       "      <td>364458</td>\n",
       "      <td>control</td>\n",
       "      <td>view</td>\n",
       "      <td>293.490566</td>\n",
       "    </tr>\n",
       "    <tr>\n",
       "      <th>4067</th>\n",
       "      <td>2017-01-18 10:10:18.293253</td>\n",
       "      <td>443603</td>\n",
       "      <td>experiment</td>\n",
       "      <td>view</td>\n",
       "      <td>149.026959</td>\n",
       "    </tr>\n",
       "    <tr>\n",
       "      <th>4068</th>\n",
       "      <td>2017-01-18 10:38:20.939958</td>\n",
       "      <td>540111</td>\n",
       "      <td>experiment</td>\n",
       "      <td>view</td>\n",
       "      <td>62.039341</td>\n",
       "    </tr>\n",
       "  </tbody>\n",
       "</table>\n",
       "<p>4028 rows × 5 columns</p>\n",
       "</div>"
      ],
      "text/plain": [
       "                       timestamp      id       group action    duration\n",
       "0     2016-09-24 17:14:52.012145  261869  experiment   view  130.545004\n",
       "1     2016-09-24 18:45:09.645857  226546  experiment   view  159.862440\n",
       "2     2016-09-24 19:16:21.002533  286353  experiment   view   79.349315\n",
       "3     2016-09-24 19:43:06.927785  842279  experiment   view   55.536126\n",
       "4     2016-09-24 21:08:22.790333  781883  experiment   view  204.322437\n",
       "...                          ...     ...         ...    ...         ...\n",
       "4064  2017-01-18 09:39:08.046251  931490     control   view   58.846204\n",
       "4065  2017-01-18 09:44:15.239671  410222  experiment   view  101.231821\n",
       "4066  2017-01-18 09:56:26.948171  364458     control   view  293.490566\n",
       "4067  2017-01-18 10:10:18.293253  443603  experiment   view  149.026959\n",
       "4068  2017-01-18 10:38:20.939958  540111  experiment   view   62.039341\n",
       "\n",
       "[4028 rows x 5 columns]"
      ]
     },
     "execution_count": 61,
     "metadata": {},
     "output_type": "execute_result"
    }
   ],
   "source": [
    "df3=df2.drop(df2[df2.duplicated('id')].index)  # removing duplicates\n",
    "df3"
   ]
  },
  {
   "cell_type": "code",
   "execution_count": 63,
   "metadata": {},
   "outputs": [
    {
     "data": {
      "text/plain": [
       "(4028, 5)"
      ]
     },
     "execution_count": 63,
     "metadata": {},
     "output_type": "execute_result"
    }
   ],
   "source": [
    "df3.shape"
   ]
  },
  {
   "cell_type": "markdown",
   "metadata": {},
   "source": [
    "### Testing on the data"
   ]
  },
  {
   "cell_type": "code",
   "execution_count": 64,
   "metadata": {},
   "outputs": [
    {
     "data": {
      "text/plain": [
       "15.48997567909727"
      ]
     },
     "execution_count": 64,
     "metadata": {},
     "output_type": "execute_result"
    }
   ],
   "source": [
    "obs_diff = df3[df3.group=='experiment'].duration.mean()- df3[df3.group=='control'].duration.mean()\n",
    "obs_diff  #observed difference, this is denoting the alternative hypothesis in the provided sample of data"
   ]
  },
  {
   "cell_type": "markdown",
   "metadata": {},
   "source": [
    "Forming multiple means' samples of data representing the original data but normal distributed"
   ]
  },
  {
   "cell_type": "code",
   "execution_count": 65,
   "metadata": {},
   "outputs": [],
   "source": [
    "diff=[]\n",
    "for _ in range(10000):  #10000 samples, we do not need the counter '_'\n",
    "    sample=df3.sample(df.shape[0],replace=True)  #create a sample, with the same DataFrame size\n",
    "    #build a list of differences of means\n",
    "    diff.append(sample[sample.group=='experiment'].duration.mean()- sample[sample.group=='control'].duration.mean())\n",
    "    \n",
    "#these are two datasets of samples, which shall be normal distributed. Instead, we get the differences of their means-\n",
    "#so we have one dataset, which aslo shall be normal distributed. By this way we have created the means dataset-\n",
    "#representing the original dataset."
   ]
  },
  {
   "cell_type": "code",
   "execution_count": 66,
   "metadata": {},
   "outputs": [
    {
     "name": "stdout",
     "output_type": "stream",
     "text": [
      "diff mean is: 15.521903883655721\n"
     ]
    },
    {
     "data": {
      "text/plain": [
       "Text(0.5, 1.0, 'Original dataset as samples')"
      ]
     },
     "execution_count": 66,
     "metadata": {},
     "output_type": "execute_result"
    },
    {
     "data": {
      "image/png": "[encoded data removed]",
      "text/plain": [
       "<Figure size 432x288 with 1 Axes>"
      ]
     },
     "metadata": {
      "needs_background": "light"
     },
     "output_type": "display_data"
    }
   ],
   "source": [
    "diff=np.array(diff)\n",
    "print(f'diff mean is: {diff.mean()}')\n",
    "plt.hist(diff)\n",
    "plt.title('Original dataset as samples')"
   ]
  },
  {
   "cell_type": "markdown",
   "metadata": {},
   "source": [
    "**Let's shift the data to a *zero* mean**, as there is no difference in the duration in the _Null Hypothesis_"
   ]
  },
  {
   "cell_type": "code",
   "execution_count": 67,
   "metadata": {},
   "outputs": [
    {
     "data": {
      "text/plain": [
       "(array([  22.,  155.,  680., 1974., 2952., 2534., 1252.,  374.,   52.,\n",
       "           5.]),\n",
       " array([-8.20139214, -6.4745446 , -4.74769707, -3.02084954, -1.294002  ,\n",
       "         0.43284553,  2.15969307,  3.8865406 ,  5.61338814,  7.34023567,\n",
       "         9.0670832 ]),\n",
       " <BarContainer object of 10 artists>)"
      ]
     },
     "execution_count": 67,
     "metadata": {},
     "output_type": "execute_result"
    },
    {
     "data": {
      "image/png": "[encoded data removed]",
      "text/plain": [
       "<Figure size 432x288 with 1 Axes>"
      ]
     },
     "metadata": {
      "needs_background": "light"
     },
     "output_type": "display_data"
    }
   ],
   "source": [
    "null=np.random.normal(0,diff.std(),diff.size)\n",
    "plt.hist(null)"
   ]
  },
  {
   "cell_type": "code",
   "execution_count": 68,
   "metadata": {},
   "outputs": [
    {
     "data": {
      "text/plain": [
       "0.0"
      ]
     },
     "execution_count": 68,
     "metadata": {},
     "output_type": "execute_result"
    },
    {
     "data": {
      "image/png": "[encoded data removed]",
      "text/plain": [
       "<Figure size 432x288 with 1 Axes>"
      ]
     },
     "metadata": {
      "needs_background": "light"
     },
     "output_type": "display_data"
    }
   ],
   "source": [
    "plt.hist(null)\n",
    "plt.axvline(obs_diff,c='red')\n",
    "(null>obs_diff).mean()"
   ]
  },
  {
   "cell_type": "markdown",
   "metadata": {},
   "source": [
    "The _Probability_ is 0 i.e. less than 5% We **reject the Null hypothesis**, and approve the _Alternative Hypothesis_"
   ]
  },
  {
   "cell_type": "markdown",
   "metadata": {},
   "source": [
    "- The other way; but didn't work!\n",
    "<br>Because this method (proportions_ztest) apply on counter elements, and not using 'mean'"
   ]
  },
  {
   "cell_type": "code",
   "execution_count": 88,
   "metadata": {},
   "outputs": [
    {
     "data": {
      "text/plain": [
       "(0.4961414057163069, 0.30989732390375024)"
      ]
     },
     "execution_count": 88,
     "metadata": {},
     "output_type": "execute_result"
    }
   ],
   "source": [
    "import statsmodels.api as sm\n",
    "\n",
    "duration_exprt = df3[df3.group=='experiment'].duration.mean()\n",
    "duration_cntrl = df3[df3.group=='control'].duration.mean()\n",
    "n_exprt = df3.query('group==\"experiment\"').shape[0]\n",
    "n_cntrl = df3.query('group==\"control\"').shape[0]\n",
    "z_score, pval=sm.stats.proportions_ztest\\\n",
    "              (np.array([(duration_exprt),(duration_cntrl)]),np.array([n_exprt,n_cntrl]),alternative='larger')\n",
    "z_score, pval  #Ignore this solution"
   ]
  },
  {
   "cell_type": "markdown",
   "metadata": {},
   "source": [
    "## 2. classroom_actions dataset"
   ]
  },
  {
   "cell_type": "code",
   "execution_count": 71,
   "metadata": {},
   "outputs": [
    {
     "data": {
      "text/html": [
       "<div>\n",
       "<style scoped>\n",
       "    .dataframe tbody tr th:only-of-type {\n",
       "        vertical-align: middle;\n",
       "    }\n",
       "\n",
       "    .dataframe tbody tr th {\n",
       "        vertical-align: top;\n",
       "    }\n",
       "\n",
       "    .dataframe thead th {\n",
       "        text-align: right;\n",
       "    }\n",
       "</style>\n",
       "<table border=\"1\" class=\"dataframe\">\n",
       "  <thead>\n",
       "    <tr style=\"text-align: right;\">\n",
       "      <th></th>\n",
       "      <th>timestamp</th>\n",
       "      <th>id</th>\n",
       "      <th>group</th>\n",
       "      <th>total_days</th>\n",
       "      <th>completed</th>\n",
       "    </tr>\n",
       "  </thead>\n",
       "  <tbody>\n",
       "    <tr>\n",
       "      <th>0</th>\n",
       "      <td>2015-08-10 17:06:01.032740</td>\n",
       "      <td>610019</td>\n",
       "      <td>experiment</td>\n",
       "      <td>97</td>\n",
       "      <td>True</td>\n",
       "    </tr>\n",
       "    <tr>\n",
       "      <th>1</th>\n",
       "      <td>2015-08-10 17:15:28.950975</td>\n",
       "      <td>690224</td>\n",
       "      <td>control</td>\n",
       "      <td>75</td>\n",
       "      <td>False</td>\n",
       "    </tr>\n",
       "    <tr>\n",
       "      <th>2</th>\n",
       "      <td>2015-08-10 17:34:40.920384</td>\n",
       "      <td>564994</td>\n",
       "      <td>experiment</td>\n",
       "      <td>128</td>\n",
       "      <td>True</td>\n",
       "    </tr>\n",
       "    <tr>\n",
       "      <th>3</th>\n",
       "      <td>2015-08-10 17:50:39.847374</td>\n",
       "      <td>849588</td>\n",
       "      <td>experiment</td>\n",
       "      <td>66</td>\n",
       "      <td>False</td>\n",
       "    </tr>\n",
       "    <tr>\n",
       "      <th>4</th>\n",
       "      <td>2015-08-10 19:10:40.650599</td>\n",
       "      <td>849826</td>\n",
       "      <td>experiment</td>\n",
       "      <td>34</td>\n",
       "      <td>False</td>\n",
       "    </tr>\n",
       "    <tr>\n",
       "      <th>5</th>\n",
       "      <td>2015-08-10 19:58:07.004051</td>\n",
       "      <td>763661</td>\n",
       "      <td>control</td>\n",
       "      <td>55</td>\n",
       "      <td>False</td>\n",
       "    </tr>\n",
       "    <tr>\n",
       "      <th>6</th>\n",
       "      <td>2015-08-10 20:10:42.230941</td>\n",
       "      <td>634832</td>\n",
       "      <td>control</td>\n",
       "      <td>97</td>\n",
       "      <td>False</td>\n",
       "    </tr>\n",
       "    <tr>\n",
       "      <th>7</th>\n",
       "      <td>2015-08-10 20:29:33.099757</td>\n",
       "      <td>849686</td>\n",
       "      <td>control</td>\n",
       "      <td>97</td>\n",
       "      <td>False</td>\n",
       "    </tr>\n",
       "    <tr>\n",
       "      <th>8</th>\n",
       "      <td>2015-08-10 21:03:33.719529</td>\n",
       "      <td>929620</td>\n",
       "      <td>experiment</td>\n",
       "      <td>90</td>\n",
       "      <td>False</td>\n",
       "    </tr>\n",
       "    <tr>\n",
       "      <th>9</th>\n",
       "      <td>2015-08-10 22:47:00.254898</td>\n",
       "      <td>512761</td>\n",
       "      <td>experiment</td>\n",
       "      <td>59</td>\n",
       "      <td>False</td>\n",
       "    </tr>\n",
       "  </tbody>\n",
       "</table>\n",
       "</div>"
      ],
      "text/plain": [
       "                    timestamp      id       group  total_days  completed\n",
       "0  2015-08-10 17:06:01.032740  610019  experiment          97       True\n",
       "1  2015-08-10 17:15:28.950975  690224     control          75      False\n",
       "2  2015-08-10 17:34:40.920384  564994  experiment         128       True\n",
       "3  2015-08-10 17:50:39.847374  849588  experiment          66      False\n",
       "4  2015-08-10 19:10:40.650599  849826  experiment          34      False\n",
       "5  2015-08-10 19:58:07.004051  763661     control          55      False\n",
       "6  2015-08-10 20:10:42.230941  634832     control          97      False\n",
       "7  2015-08-10 20:29:33.099757  849686     control          97      False\n",
       "8  2015-08-10 21:03:33.719529  929620  experiment          90      False\n",
       "9  2015-08-10 22:47:00.254898  512761  experiment          59      False"
      ]
     },
     "execution_count": 71,
     "metadata": {},
     "output_type": "execute_result"
    }
   ],
   "source": [
    "df_clsrom = pd.read_csv('Datasets/classroom_actions.csv')  # uploading the dataset into a dataframe variable\n",
    "df_clsrom.head(10)  #list the first ten rows of the created dataframe"
   ]
  },
  {
   "cell_type": "code",
   "execution_count": 72,
   "metadata": {},
   "outputs": [
    {
     "name": "stdout",
     "output_type": "stream",
     "text": [
      "<class 'pandas.core.frame.DataFrame'>\n",
      "RangeIndex: 3829 entries, 0 to 3828\n",
      "Data columns (total 5 columns):\n",
      " #   Column      Non-Null Count  Dtype \n",
      "---  ------      --------------  ----- \n",
      " 0   timestamp   3829 non-null   object\n",
      " 1   id          3829 non-null   int64 \n",
      " 2   group       3829 non-null   object\n",
      " 3   total_days  3829 non-null   int64 \n",
      " 4   completed   3829 non-null   bool  \n",
      "dtypes: bool(1), int64(2), object(2)\n",
      "memory usage: 123.5+ KB\n"
     ]
    }
   ],
   "source": [
    "df_clsrom.info()"
   ]
  },
  {
   "cell_type": "markdown",
   "metadata": {},
   "source": [
    "No Null data"
   ]
  },
  {
   "cell_type": "code",
   "execution_count": 73,
   "metadata": {},
   "outputs": [
    {
     "data": {
      "text/plain": [
       "timestamp     3829\n",
       "id            3829\n",
       "group            2\n",
       "total_days     125\n",
       "completed        2\n",
       "dtype: int64"
      ]
     },
     "execution_count": 73,
     "metadata": {},
     "output_type": "execute_result"
    }
   ],
   "source": [
    "# Checking for any duplicate values\n",
    "df_clsrom.nunique()"
   ]
  },
  {
   "cell_type": "markdown",
   "metadata": {},
   "source": [
    "Values seems logic, with no duplication\n",
    "### Testing on the data"
   ]
  },
  {
   "cell_type": "code",
   "execution_count": 98,
   "metadata": {},
   "outputs": [
    {
     "data": {
      "text/plain": [
       "0.02153829499022919"
      ]
     },
     "execution_count": 98,
     "metadata": {},
     "output_type": "execute_result"
    }
   ],
   "source": [
    "obs_diff2 = df_clsrom[df_clsrom['group']=='experiment'].completed.mean() - \\\n",
    "           df_clsrom[df_clsrom['group']=='control'].completed.mean()\n",
    "obs_diff2  #observed difference, this is denoting the alternative hypothesis in the provided sample of data"
   ]
  },
  {
   "cell_type": "markdown",
   "metadata": {},
   "source": [
    "Forming multiple means' samples of data representing the original data but normal distributed"
   ]
  },
  {
   "cell_type": "code",
   "execution_count": 100,
   "metadata": {},
   "outputs": [],
   "source": [
    "diff2=[]\n",
    "for _ in range(10000):  #10000 samples, we do not need the counter '_'\n",
    "    sample=df_clsrom.sample(df_clsrom.shape[0],replace=True)  #create a sample, with the same DataFrame size\n",
    "    #build a list of differences of means\n",
    "    diff2.append(sample[sample.group=='experiment'].completed.mean() - sample[sample.group=='control'].completed.mean())\n",
    "    \n",
    "#these are two datasets of samples, which shall be normal distributed. Instead, we get the differences of their means-\n",
    "#so we have one dataset, which aslo shall be normal distributed. By this way we have created the means dataset-\n",
    "#representing the original dataset."
   ]
  },
  {
   "cell_type": "code",
   "execution_count": 101,
   "metadata": {},
   "outputs": [
    {
     "name": "stdout",
     "output_type": "stream",
     "text": [
      "diff mean is: 0.02128598913181753\n"
     ]
    },
    {
     "data": {
      "text/plain": [
       "Text(0.5, 1.0, 'Original dataset as samples')"
      ]
     },
     "execution_count": 101,
     "metadata": {},
     "output_type": "execute_result"
    },
    {
     "data": {
      "image/png": "[encoded data removed]",
      "text/plain": [
       "<Figure size 432x288 with 1 Axes>"
      ]
     },
     "metadata": {
      "needs_background": "light"
     },
     "output_type": "display_data"
    }
   ],
   "source": [
    "diff2=np.array(diff2)\n",
    "print(f'diff mean is: {diff2.mean()}')\n",
    "plt.hist(diff2)\n",
    "plt.title('Original dataset as samples')"
   ]
  },
  {
   "cell_type": "markdown",
   "metadata": {},
   "source": [
    "**Let's shift the data to a *zero* mean**, as there is no difference in the duration in the _Null Hypothesis_"
   ]
  },
  {
   "cell_type": "code",
   "execution_count": 102,
   "metadata": {},
   "outputs": [
    {
     "data": {
      "text/plain": [
       "(array([  15.,  100.,  592., 1661., 2907., 2726., 1504.,  428.,   59.,\n",
       "           8.]),\n",
       " array([-0.06137924, -0.04888318, -0.03638713, -0.02389107, -0.01139501,\n",
       "         0.00110104,  0.0135971 ,  0.02609316,  0.03858921,  0.05108527,\n",
       "         0.06358133]),\n",
       " <BarContainer object of 10 artists>)"
      ]
     },
     "execution_count": 102,
     "metadata": {},
     "output_type": "execute_result"
    },
    {
     "data": {
      "image/png": "[encoded data removed]",
      "text/plain": [
       "<Figure size 432x288 with 1 Axes>"
      ]
     },
     "metadata": {
      "needs_background": "light"
     },
     "output_type": "display_data"
    }
   ],
   "source": [
    "null2=np.random.normal(0,diff2.std(),diff2.size)\n",
    "plt.hist(null2)"
   ]
  },
  {
   "cell_type": "code",
   "execution_count": 103,
   "metadata": {},
   "outputs": [
    {
     "data": {
      "text/plain": [
       "0.0867"
      ]
     },
     "execution_count": 103,
     "metadata": {},
     "output_type": "execute_result"
    },
    {
     "data": {
      "image/png": "[encoded data removed]",
      "text/plain": [
       "<Figure size 432x288 with 1 Axes>"
      ]
     },
     "metadata": {
      "needs_background": "light"
     },
     "output_type": "display_data"
    }
   ],
   "source": [
    "plt.hist(null2)\n",
    "plt.axvline(obs_diff2, c='red')\n",
    "(null2>obs_diff2).mean()"
   ]
  },
  {
   "cell_type": "markdown",
   "metadata": {},
   "source": [
    "The _Probability_ is 8.7% i.e. bigger than 5% We **reject the Alternative hypothesis**, and the _Null Hypothesis_ is the winner"
   ]
  }
 ],
 "metadata": {
  "kernelspec": {
   "display_name": "Python 3",
   "language": "python",
   "name": "python3"
  },
  "language_info": {
   "codemirror_mode": {
    "name": "ipython",
    "version": 3
   },
   "file_extension": ".py",
   "mimetype": "text/x-python",
   "name": "python",
   "nbconvert_exporter": "python",
   "pygments_lexer": "ipython3",
   "version": "3.8.5"
  }
 },
 "nbformat": 4,
 "nbformat_minor": 4
}
