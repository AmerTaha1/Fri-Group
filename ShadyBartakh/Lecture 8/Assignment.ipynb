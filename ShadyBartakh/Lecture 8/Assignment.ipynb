{
 "cells": [
  {
   "cell_type": "markdown",
   "metadata": {},
   "source": [
    "# Assignment Descriptive Statistics"
   ]
  },
  {
   "cell_type": "code",
   "execution_count": 8,
   "metadata": {},
   "outputs": [],
   "source": [
    "import numpy as np\n",
    "from collections import Counter\n",
    "from statistics import mode\n",
    "\n",
    "lst = [1,3,55,66,3,66,3,9]"
   ]
  },
  {
   "cell_type": "markdown",
   "metadata": {},
   "source": [
    "## Mean"
   ]
  },
  {
   "cell_type": "code",
   "execution_count": 12,
   "metadata": {},
   "outputs": [
    {
     "name": "stdout",
     "output_type": "stream",
     "text": [
      "manual calc. of mean: 25.75\n",
      "Library mean: 25.75\n"
     ]
    }
   ],
   "source": [
    "# Without libraries\n",
    "mean=0\n",
    "for element in lst:\n",
    "    mean+=element\n",
    "    \n",
    "mean=mean/len(lst)\n",
    "print(f'manual calc. of mean: {mean}')\n",
    "\n",
    "# using library\n",
    "mean=np.mean(lst)\n",
    "print(f'Library mean: {mean}')"
   ]
  },
  {
   "cell_type": "markdown",
   "metadata": {},
   "source": [
    "## Median"
   ]
  },
  {
   "cell_type": "code",
   "execution_count": 11,
   "metadata": {},
   "outputs": [
    {
     "name": "stdout",
     "output_type": "stream",
     "text": [
      "manual calc. of median: 6.0\n",
      "Library median: 6.0\n"
     ]
    }
   ],
   "source": [
    "# Without libraries\n",
    "lst.sort()\n",
    "\n",
    "if len(lst)%2==0:  # even items\n",
    "    med1=lst[len(lst)//2 -1]\n",
    "    med2=lst[len(lst)//2]\n",
    "    median=(med1+med2)/2\n",
    "else:\n",
    "    median=lst[len(lst)//2]\n",
    "print(f'manual calc. of median: {median}')\n",
    "\n",
    "# using library\n",
    "median=np.median(lst)\n",
    "print(f'Library median: {median}')"
   ]
  },
  {
   "cell_type": "markdown",
   "metadata": {},
   "source": [
    "## Mode"
   ]
  },
  {
   "cell_type": "code",
   "execution_count": 9,
   "metadata": {},
   "outputs": [
    {
     "name": "stdout",
     "output_type": "stream",
     "text": [
      "manual calc. of mode: [3]\n",
      "Library mode: 3\n"
     ]
    }
   ],
   "source": [
    "# Without libraries\n",
    "mode1  = [k for k,v in Counter(lst).items() if v==max(Counter(lst).values())]\n",
    "print(f'manual calc. of mode: {mode1}')\n",
    "\n",
    "# using library\n",
    "mode2=mode(lst)\n",
    "print(f'Library mode: {mode2}')"
   ]
  },
  {
   "cell_type": "markdown",
   "metadata": {},
   "source": [
    "## Variance"
   ]
  },
  {
   "cell_type": "code",
   "execution_count": 14,
   "metadata": {},
   "outputs": [
    {
     "name": "stdout",
     "output_type": "stream",
     "text": [
      "manual calc. of variance: 817.6875\n",
      "Library variance: 817.6875\n"
     ]
    }
   ],
   "source": [
    "# Without libraries\n",
    "var_i = 0  # initial value for variance calculation\n",
    "for i in lst:\n",
    "    var_i += pow(i-mean,2)\n",
    "var = var_i/len(lst)\n",
    "print(f'manual calc. of variance: {var}')\n",
    "\n",
    "# using library\n",
    "var=np.var(lst)\n",
    "print(f'Library variance: {var}')"
   ]
  }
 ],
 "metadata": {
  "kernelspec": {
   "display_name": "Python 3",
   "language": "python",
   "name": "python3"
  },
  "language_info": {
   "codemirror_mode": {
    "name": "ipython",
    "version": 3
   },
   "file_extension": ".py",
   "mimetype": "text/x-python",
   "name": "python",
   "nbconvert_exporter": "python",
   "pygments_lexer": "ipython3",
   "version": "3.8.5"
  }
 },
 "nbformat": 4,
 "nbformat_minor": 2
}
