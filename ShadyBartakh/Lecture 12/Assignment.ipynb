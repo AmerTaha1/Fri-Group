{
 "cells": [
  {
   "cell_type": "markdown",
   "metadata": {},
   "source": [
    "# Assignment\n",
    "**1.**"
   ]
  },
  {
   "cell_type": "code",
   "execution_count": 1,
   "metadata": {},
   "outputs": [],
   "source": [
    "import requests\n",
    "from bs4 import BeautifulSoup\n",
    "import csv\n",
    "from functools import reduce\n",
    "import pandas as pd"
   ]
  },
  {
   "cell_type": "code",
   "execution_count": 2,
   "metadata": {},
   "outputs": [],
   "source": [
    "url='https://books.toscrape.com/index.html'\n",
    "response=requests.get(url)\n",
    "soup=BeautifulSoup(response.text,'html.parser')"
   ]
  },
  {
   "cell_type": "code",
   "execution_count": 3,
   "metadata": {},
   "outputs": [
    {
     "name": "stdout",
     "output_type": "stream",
     "text": [
      "['Travel', 'Mystery', 'Historical Fiction', 'Sequential Art', 'Classics', 'Philosophy', 'Romance', 'Womens Fiction', 'Fiction', 'Childrens', 'Religion', 'Nonfiction', 'Music', 'Default', 'Science Fiction', 'Sports and Games', 'Add a comment', 'Fantasy', 'New Adult', 'Young Adult', 'Science', 'Poetry', 'Paranormal', 'Art', 'Psychology', 'Autobiography', 'Parenting', 'Adult Fiction', 'Humor', 'Horror', 'History', 'Food and Drink', 'Christian Fiction', 'Business', 'Biography', 'Thriller', 'Contemporary', 'Spirituality', 'Academic', 'Self Help', 'Historical', 'Christian', 'Suspense', 'Short Stories', 'Novels', 'Health', 'Politics', 'Cultural', 'Erotica', 'Crime']\n"
     ]
    }
   ],
   "source": [
    "lis=soup.find('ul',class_='').find_all('li')\n",
    "categories=[li.find('a').get_text().strip() for li in lis]\n",
    "print(categories)"
   ]
  },
  {
   "cell_type": "code",
   "execution_count": 4,
   "metadata": {},
   "outputs": [
    {
     "data": {
      "text/plain": [
       "['https://books.toscrape.com/catalogue/category/books/travel_2/index.html',\n",
       " 'https://books.toscrape.com/catalogue/category/books/mystery_3/index.html',\n",
       " 'https://books.toscrape.com/catalogue/category/books/historical-fiction_4/index.html',\n",
       " 'https://books.toscrape.com/catalogue/category/books/sequential-art_5/index.html',\n",
       " 'https://books.toscrape.com/catalogue/category/books/classics_6/index.html',\n",
       " 'https://books.toscrape.com/catalogue/category/books/philosophy_7/index.html',\n",
       " 'https://books.toscrape.com/catalogue/category/books/romance_8/index.html',\n",
       " 'https://books.toscrape.com/catalogue/category/books/womens-fiction_9/index.html',\n",
       " 'https://books.toscrape.com/catalogue/category/books/fiction_10/index.html',\n",
       " 'https://books.toscrape.com/catalogue/category/books/childrens_11/index.html',\n",
       " 'https://books.toscrape.com/catalogue/category/books/religion_12/index.html',\n",
       " 'https://books.toscrape.com/catalogue/category/books/nonfiction_13/index.html',\n",
       " 'https://books.toscrape.com/catalogue/category/books/music_14/index.html',\n",
       " 'https://books.toscrape.com/catalogue/category/books/default_15/index.html',\n",
       " 'https://books.toscrape.com/catalogue/category/books/science-fiction_16/index.html',\n",
       " 'https://books.toscrape.com/catalogue/category/books/sports-and-games_17/index.html',\n",
       " 'https://books.toscrape.com/catalogue/category/books/add-a-comment_18/index.html',\n",
       " 'https://books.toscrape.com/catalogue/category/books/fantasy_19/index.html',\n",
       " 'https://books.toscrape.com/catalogue/category/books/new-adult_20/index.html',\n",
       " 'https://books.toscrape.com/catalogue/category/books/young-adult_21/index.html',\n",
       " 'https://books.toscrape.com/catalogue/category/books/science_22/index.html',\n",
       " 'https://books.toscrape.com/catalogue/category/books/poetry_23/index.html',\n",
       " 'https://books.toscrape.com/catalogue/category/books/paranormal_24/index.html',\n",
       " 'https://books.toscrape.com/catalogue/category/books/art_25/index.html',\n",
       " 'https://books.toscrape.com/catalogue/category/books/psychology_26/index.html',\n",
       " 'https://books.toscrape.com/catalogue/category/books/autobiography_27/index.html',\n",
       " 'https://books.toscrape.com/catalogue/category/books/parenting_28/index.html',\n",
       " 'https://books.toscrape.com/catalogue/category/books/adult-fiction_29/index.html',\n",
       " 'https://books.toscrape.com/catalogue/category/books/humor_30/index.html',\n",
       " 'https://books.toscrape.com/catalogue/category/books/horror_31/index.html',\n",
       " 'https://books.toscrape.com/catalogue/category/books/history_32/index.html',\n",
       " 'https://books.toscrape.com/catalogue/category/books/food-and-drink_33/index.html',\n",
       " 'https://books.toscrape.com/catalogue/category/books/christian-fiction_34/index.html',\n",
       " 'https://books.toscrape.com/catalogue/category/books/business_35/index.html',\n",
       " 'https://books.toscrape.com/catalogue/category/books/biography_36/index.html',\n",
       " 'https://books.toscrape.com/catalogue/category/books/thriller_37/index.html',\n",
       " 'https://books.toscrape.com/catalogue/category/books/contemporary_38/index.html',\n",
       " 'https://books.toscrape.com/catalogue/category/books/spirituality_39/index.html',\n",
       " 'https://books.toscrape.com/catalogue/category/books/academic_40/index.html',\n",
       " 'https://books.toscrape.com/catalogue/category/books/self-help_41/index.html',\n",
       " 'https://books.toscrape.com/catalogue/category/books/historical_42/index.html',\n",
       " 'https://books.toscrape.com/catalogue/category/books/christian_43/index.html',\n",
       " 'https://books.toscrape.com/catalogue/category/books/suspense_44/index.html',\n",
       " 'https://books.toscrape.com/catalogue/category/books/short-stories_45/index.html',\n",
       " 'https://books.toscrape.com/catalogue/category/books/novels_46/index.html',\n",
       " 'https://books.toscrape.com/catalogue/category/books/health_47/index.html',\n",
       " 'https://books.toscrape.com/catalogue/category/books/politics_48/index.html',\n",
       " 'https://books.toscrape.com/catalogue/category/books/cultural_49/index.html',\n",
       " 'https://books.toscrape.com/catalogue/category/books/erotica_50/index.html',\n",
       " 'https://books.toscrape.com/catalogue/category/books/crime_51/index.html']"
      ]
     },
     "execution_count": 4,
     "metadata": {},
     "output_type": "execute_result"
    }
   ],
   "source": [
    "domain='https://books.toscrape.com/'\n",
    "lis=soup.find('ul',class_='').find_all('li')\n",
    "urls=[domain+li.find('a').get('href') for li in lis]\n",
    "urls"
   ]
  },
  {
   "cell_type": "code",
   "execution_count": 5,
   "metadata": {},
   "outputs": [],
   "source": [
    "rates_dic={'Zero':0,'One':1,'Two':2,'Three':3,'Four':4,'Five':5}\n",
    "\n",
    "with open('books.csv','w',encoding='utf-8',newline='') as f:\n",
    "    writer=csv.writer(f)\n",
    "    writer.writerow(['Book Title','Price','Rate','Category'])\n",
    "    for url in urls:  #loop on categories\n",
    "        soup_cat=BeautifulSoup(requests.get(url).text,'html.parser')\n",
    "        category_name=soup_cat.find('title').get_text().strip().split('|')[0]\n",
    "        for article in soup_cat.find_all('article',attrs={'class':'product_pod'}):  #Loop on books\n",
    "            Rate=rates_dic[article.find('p').get('class')[1]]\n",
    "            Book_name=article.find('h3').find('a').get('title')\n",
    "            Price=float(article.find('div',attrs={'class':'product_price'}).find('p').get_text()[2:])\n",
    "            writer.writerow([Book_name,Price,Rate,category_name])\n",
    "        while soup_cat.find('li',attrs={'class':'next'}):  #loop on all pages\n",
    "            new_page_url=reduce(lambda a,b:a+'/'+b,url.split('/')[:-1])+'/'+soup_cat.find('li',attrs={'class':'next'}).find('a').get('href')\n",
    "            soup_page=BeautifulSoup(requests.get(new_page_url).text,'html.parser')\n",
    "            for article in soup_page.find_all('article',attrs={'class':'product_pod'}):  #loop on books\n",
    "                Rate=rates_dic[article.find('p').get('class')[1]]\n",
    "                Book_name=article.find('h3').find('a').get('title')\n",
    "                Price=float(article.find('div',attrs={'class':'product_price'}).find('p').get_text()[2:])\n",
    "                writer.writerow([Book_name,Price,Rate,category_name])\n",
    "                soup_cat=soup_page"
   ]
  },
  {
   "cell_type": "code",
   "execution_count": 6,
   "metadata": {},
   "outputs": [
    {
     "data": {
      "text/html": [
       "<div>\n",
       "<style scoped>\n",
       "    .dataframe tbody tr th:only-of-type {\n",
       "        vertical-align: middle;\n",
       "    }\n",
       "\n",
       "    .dataframe tbody tr th {\n",
       "        vertical-align: top;\n",
       "    }\n",
       "\n",
       "    .dataframe thead th {\n",
       "        text-align: right;\n",
       "    }\n",
       "</style>\n",
       "<table border=\"1\" class=\"dataframe\">\n",
       "  <thead>\n",
       "    <tr style=\"text-align: right;\">\n",
       "      <th></th>\n",
       "      <th>Book Title</th>\n",
       "      <th>Price</th>\n",
       "      <th>Rate</th>\n",
       "      <th>Category</th>\n",
       "    </tr>\n",
       "  </thead>\n",
       "  <tbody>\n",
       "    <tr>\n",
       "      <th>232</th>\n",
       "      <td>The Vacationers</td>\n",
       "      <td>42.15</td>\n",
       "      <td>4</td>\n",
       "      <td>Fiction</td>\n",
       "    </tr>\n",
       "    <tr>\n",
       "      <th>705</th>\n",
       "      <td>City of Glass (The Mortal Instruments #3)</td>\n",
       "      <td>56.02</td>\n",
       "      <td>4</td>\n",
       "      <td>Fantasy</td>\n",
       "    </tr>\n",
       "    <tr>\n",
       "      <th>912</th>\n",
       "      <td>The Help Yourself Cookbook for Kids: 60 Easy P...</td>\n",
       "      <td>28.77</td>\n",
       "      <td>3</td>\n",
       "      <td>Food and Drink</td>\n",
       "    </tr>\n",
       "    <tr>\n",
       "      <th>997</th>\n",
       "      <td>Amid the Chaos</td>\n",
       "      <td>36.58</td>\n",
       "      <td>1</td>\n",
       "      <td>Cultural</td>\n",
       "    </tr>\n",
       "    <tr>\n",
       "      <th>958</th>\n",
       "      <td>Behind Closed Doors</td>\n",
       "      <td>52.22</td>\n",
       "      <td>4</td>\n",
       "      <td>Thriller</td>\n",
       "    </tr>\n",
       "    <tr>\n",
       "      <th>941</th>\n",
       "      <td>The 10% Entrepreneur: Live Your Startup Dream ...</td>\n",
       "      <td>27.55</td>\n",
       "      <td>3</td>\n",
       "      <td>Business</td>\n",
       "    </tr>\n",
       "    <tr>\n",
       "      <th>725</th>\n",
       "      <td>Heir to the Sky</td>\n",
       "      <td>44.07</td>\n",
       "      <td>4</td>\n",
       "      <td>Fantasy</td>\n",
       "    </tr>\n",
       "    <tr>\n",
       "      <th>710</th>\n",
       "      <td>Every Heart a Doorway (Every Heart A Doorway #1)</td>\n",
       "      <td>12.16</td>\n",
       "      <td>5</td>\n",
       "      <td>Fantasy</td>\n",
       "    </tr>\n",
       "    <tr>\n",
       "      <th>795</th>\n",
       "      <td>Girl Online On Tour (Girl Online #2)</td>\n",
       "      <td>53.47</td>\n",
       "      <td>1</td>\n",
       "      <td>Young Adult</td>\n",
       "    </tr>\n",
       "    <tr>\n",
       "      <th>50</th>\n",
       "      <td>Love, Lies and Spies</td>\n",
       "      <td>20.55</td>\n",
       "      <td>2</td>\n",
       "      <td>Historical Fiction</td>\n",
       "    </tr>\n",
       "  </tbody>\n",
       "</table>\n",
       "</div>"
      ],
      "text/plain": [
       "                                            Book Title  Price  Rate  \\\n",
       "232                                    The Vacationers  42.15     4   \n",
       "705          City of Glass (The Mortal Instruments #3)  56.02     4   \n",
       "912  The Help Yourself Cookbook for Kids: 60 Easy P...  28.77     3   \n",
       "997                                     Amid the Chaos  36.58     1   \n",
       "958                                Behind Closed Doors  52.22     4   \n",
       "941  The 10% Entrepreneur: Live Your Startup Dream ...  27.55     3   \n",
       "725                                    Heir to the Sky  44.07     4   \n",
       "710   Every Heart a Doorway (Every Heart A Doorway #1)  12.16     5   \n",
       "795               Girl Online On Tour (Girl Online #2)  53.47     1   \n",
       "50                                Love, Lies and Spies  20.55     2   \n",
       "\n",
       "                Category  \n",
       "232             Fiction   \n",
       "705             Fantasy   \n",
       "912      Food and Drink   \n",
       "997            Cultural   \n",
       "958            Thriller   \n",
       "941            Business   \n",
       "725             Fantasy   \n",
       "710             Fantasy   \n",
       "795         Young Adult   \n",
       "50   Historical Fiction   "
      ]
     },
     "execution_count": 6,
     "metadata": {},
     "output_type": "execute_result"
    }
   ],
   "source": [
    "df=pd.read_csv('books.csv')\n",
    "df.sample(10)"
   ]
  },
  {
   "cell_type": "markdown",
   "metadata": {},
   "source": [
    "__2.__"
   ]
  },
  {
   "cell_type": "code",
   "execution_count": 7,
   "metadata": {},
   "outputs": [
    {
     "data": {
      "text/plain": [
       "15.699"
      ]
     },
     "execution_count": 7,
     "metadata": {},
     "output_type": "execute_result"
    }
   ],
   "source": [
    "url='https://www.exchangerates.org.uk/Dollars-to-Egyptian-Pounds-currency-conversion-page.html'\n",
    "response=requests.get(url)\n",
    "soup=BeautifulSoup(response.text,'html.parser')\n",
    "us_eg_val=float(soup.find('span',attrs={'id':'shd2b;'}).contents[0])\n",
    "us_eg_val"
   ]
  },
  {
   "cell_type": "code",
   "execution_count": 8,
   "metadata": {},
   "outputs": [
    {
     "name": "stdout",
     "output_type": "stream",
     "text": [
      "Enter amount in Dollars: 2\n",
      "31.398 EGP\n"
     ]
    }
   ],
   "source": [
    "try:\n",
    "    usd=float(input('Enter amount in Dollars: '))\n",
    "    print(f'{usd*us_eg_val} EGP')\n",
    "except ValueError:\n",
    "    print('Improper entry!')"
   ]
  }
 ],
 "metadata": {
  "kernelspec": {
   "display_name": "Python 3",
   "language": "python",
   "name": "python3"
  },
  "language_info": {
   "codemirror_mode": {
    "name": "ipython",
    "version": 3
   },
   "file_extension": ".py",
   "mimetype": "text/x-python",
   "name": "python",
   "nbconvert_exporter": "python",
   "pygments_lexer": "ipython3",
   "version": "3.8.5"
  }
 },
 "nbformat": 4,
 "nbformat_minor": 5
}
