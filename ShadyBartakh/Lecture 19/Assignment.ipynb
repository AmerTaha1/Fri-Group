{
 "cells": [
  {
   "cell_type": "markdown",
   "metadata": {},
   "source": [
    "# Assignment - Machine Learning - Supervised - Regression"
   ]
  },
  {
   "cell_type": "code",
   "execution_count": 2,
   "metadata": {},
   "outputs": [],
   "source": [
    "# Used libraries\n",
    "import pandas as pd\n",
    "from sklearn.model_selection import train_test_split\n",
    "from sklearn.preprocessing import StandardScaler\n",
    "from sklearn.linear_model import LinearRegression\n",
    "from sklearn.neighbors import KNeighborsRegressor\n",
    "from sklearn.tree import DecisionTreeRegressor\n",
    "from sklearn.ensemble import RandomForestRegressor\n",
    "from sklearn.svm import SVR\n",
    "from xgboost import XGBRFRegressor"
   ]
  },
  {
   "cell_type": "code",
   "execution_count": 42,
   "metadata": {},
   "outputs": [],
   "source": [
    "# models used to try their performances\n",
    "models={\n",
    "    'LR':LinearRegression(),\n",
    "    'KNN':KNeighborsRegressor(),\n",
    "    'DT':DecisionTreeRegressor(),\n",
    "    'RF':RandomForestRegressor(),\n",
    "    'SVR':SVR(),\n",
    "    'XGBR':XGBRFRegressor()\n",
    "}"
   ]
  },
  {
   "cell_type": "markdown",
   "metadata": {},
   "source": [
    "## 1) "
   ]
  },
  {
   "cell_type": "code",
   "execution_count": 8,
   "metadata": {},
   "outputs": [
    {
     "data": {
      "text/html": [
       "<div>\n",
       "<style scoped>\n",
       "    .dataframe tbody tr th:only-of-type {\n",
       "        vertical-align: middle;\n",
       "    }\n",
       "\n",
       "    .dataframe tbody tr th {\n",
       "        vertical-align: top;\n",
       "    }\n",
       "\n",
       "    .dataframe thead th {\n",
       "        text-align: right;\n",
       "    }\n",
       "</style>\n",
       "<table border=\"1\" class=\"dataframe\">\n",
       "  <thead>\n",
       "    <tr style=\"text-align: right;\">\n",
       "      <th></th>\n",
       "      <th>R&amp;D Spend</th>\n",
       "      <th>Administration</th>\n",
       "      <th>Marketing Spend</th>\n",
       "      <th>State</th>\n",
       "      <th>Profit</th>\n",
       "    </tr>\n",
       "  </thead>\n",
       "  <tbody>\n",
       "    <tr>\n",
       "      <th>7</th>\n",
       "      <td>130298.13</td>\n",
       "      <td>145530.06</td>\n",
       "      <td>323876.68</td>\n",
       "      <td>Florida</td>\n",
       "      <td>155752.60</td>\n",
       "    </tr>\n",
       "    <tr>\n",
       "      <th>12</th>\n",
       "      <td>93863.75</td>\n",
       "      <td>127320.38</td>\n",
       "      <td>249839.44</td>\n",
       "      <td>Florida</td>\n",
       "      <td>141585.52</td>\n",
       "    </tr>\n",
       "    <tr>\n",
       "      <th>22</th>\n",
       "      <td>73994.56</td>\n",
       "      <td>122782.75</td>\n",
       "      <td>303319.26</td>\n",
       "      <td>Florida</td>\n",
       "      <td>110352.25</td>\n",
       "    </tr>\n",
       "    <tr>\n",
       "      <th>35</th>\n",
       "      <td>46014.02</td>\n",
       "      <td>85047.44</td>\n",
       "      <td>205517.64</td>\n",
       "      <td>New York</td>\n",
       "      <td>96479.51</td>\n",
       "    </tr>\n",
       "    <tr>\n",
       "      <th>42</th>\n",
       "      <td>23640.93</td>\n",
       "      <td>96189.63</td>\n",
       "      <td>148001.11</td>\n",
       "      <td>California</td>\n",
       "      <td>71498.49</td>\n",
       "    </tr>\n",
       "  </tbody>\n",
       "</table>\n",
       "</div>"
      ],
      "text/plain": [
       "    R&D Spend  Administration  Marketing Spend       State     Profit\n",
       "7   130298.13       145530.06        323876.68     Florida  155752.60\n",
       "12   93863.75       127320.38        249839.44     Florida  141585.52\n",
       "22   73994.56       122782.75        303319.26     Florida  110352.25\n",
       "35   46014.02        85047.44        205517.64    New York   96479.51\n",
       "42   23640.93        96189.63        148001.11  California   71498.49"
      ]
     },
     "execution_count": 8,
     "metadata": {},
     "output_type": "execute_result"
    }
   ],
   "source": [
    "# Reading the DataFrame\n",
    "df_strp=pd.read_csv('Assignment Datasets/50_Startups.csv')\n",
    "df_strp.sample(5)"
   ]
  },
  {
   "cell_type": "code",
   "execution_count": 4,
   "metadata": {},
   "outputs": [
    {
     "name": "stdout",
     "output_type": "stream",
     "text": [
      "<class 'pandas.core.frame.DataFrame'>\n",
      "RangeIndex: 50 entries, 0 to 49\n",
      "Data columns (total 5 columns):\n",
      " #   Column           Non-Null Count  Dtype  \n",
      "---  ------           --------------  -----  \n",
      " 0   R&D Spend        50 non-null     float64\n",
      " 1   Administration   50 non-null     float64\n",
      " 2   Marketing Spend  50 non-null     float64\n",
      " 3   State            50 non-null     object \n",
      " 4   Profit           50 non-null     float64\n",
      "dtypes: float64(4), object(1)\n",
      "memory usage: 2.1+ KB\n"
     ]
    }
   ],
   "source": [
    "df_strp.info()"
   ]
  },
  {
   "cell_type": "code",
   "execution_count": 5,
   "metadata": {},
   "outputs": [
    {
     "data": {
      "text/plain": [
       "New York      17\n",
       "California    17\n",
       "Florida       16\n",
       "Name: State, dtype: int64"
      ]
     },
     "execution_count": 5,
     "metadata": {},
     "output_type": "execute_result"
    }
   ],
   "source": [
    "# Unique values in 'State' column\n",
    "df_strp.State.value_counts()"
   ]
  },
  {
   "cell_type": "code",
   "execution_count": 9,
   "metadata": {},
   "outputs": [
    {
     "data": {
      "text/html": [
       "<div>\n",
       "<style scoped>\n",
       "    .dataframe tbody tr th:only-of-type {\n",
       "        vertical-align: middle;\n",
       "    }\n",
       "\n",
       "    .dataframe tbody tr th {\n",
       "        vertical-align: top;\n",
       "    }\n",
       "\n",
       "    .dataframe thead th {\n",
       "        text-align: right;\n",
       "    }\n",
       "</style>\n",
       "<table border=\"1\" class=\"dataframe\">\n",
       "  <thead>\n",
       "    <tr style=\"text-align: right;\">\n",
       "      <th></th>\n",
       "      <th>R&amp;D Spend</th>\n",
       "      <th>Administration</th>\n",
       "      <th>Marketing Spend</th>\n",
       "      <th>Profit</th>\n",
       "      <th>State_Florida</th>\n",
       "      <th>State_New York</th>\n",
       "    </tr>\n",
       "  </thead>\n",
       "  <tbody>\n",
       "    <tr>\n",
       "      <th>12</th>\n",
       "      <td>93863.75</td>\n",
       "      <td>127320.38</td>\n",
       "      <td>249839.44</td>\n",
       "      <td>141585.52</td>\n",
       "      <td>1</td>\n",
       "      <td>0</td>\n",
       "    </tr>\n",
       "  </tbody>\n",
       "</table>\n",
       "</div>"
      ],
      "text/plain": [
       "    R&D Spend  Administration  Marketing Spend     Profit  State_Florida  \\\n",
       "12   93863.75       127320.38        249839.44  141585.52              1   \n",
       "\n",
       "    State_New York  \n",
       "12               0  "
      ]
     },
     "execution_count": 9,
     "metadata": {},
     "output_type": "execute_result"
    }
   ],
   "source": [
    "# Convert 'State' feature into dummy variables (numbers) for ML models\n",
    "df_strp=pd.get_dummies(df_strp, columns=['State'], drop_first=True)\n",
    "df_strp.sample()"
   ]
  },
  {
   "cell_type": "code",
   "execution_count": 10,
   "metadata": {},
   "outputs": [],
   "source": [
    "# Split independent data, and the dependent data to be predicted i.e. 'Profit'\n",
    "df_strp.Profit=df_strp.Profit.apply(lambda x: round(x))\n",
    "\n",
    "X=df_strp.drop(columns=['Profit'])\n",
    "y=df_strp.Profit\n",
    "X_train, X_test, y_train, y_test=train_test_split(X, y, test_size=0.2)"
   ]
  },
  {
   "cell_type": "code",
   "execution_count": 11,
   "metadata": {},
   "outputs": [],
   "source": [
    "# Scaling down data before entering the model\n",
    "scaler=StandardScaler()\n",
    "scaler.fit(X_train)\n",
    "X_train=scaler.transform(X_train)\n",
    "X_test=scaler.transform(X_test)"
   ]
  },
  {
   "cell_type": "code",
   "execution_count": 12,
   "metadata": {},
   "outputs": [
    {
     "name": "stdout",
     "output_type": "stream",
     "text": [
      "Using: LR\n",
      "Train Accuracy: 0.9437660117092603\n",
      "Test Accuracy: 0.9589696620285054\n",
      "------------------------------ \n",
      "\n",
      "Using: KNN\n",
      "Train Accuracy: 0.7237998350161442\n",
      "Test Accuracy: 0.613132378244589\n",
      "------------------------------ \n",
      "\n",
      "Using: DT\n",
      "Train Accuracy: 1.0\n",
      "Test Accuracy: 0.8829799895644633\n",
      "------------------------------ \n",
      "\n",
      "Using: RF\n",
      "Train Accuracy: 0.9892350642590136\n",
      "Test Accuracy: 0.922476716735192\n",
      "------------------------------ \n",
      "\n",
      "Using: SVR\n",
      "Train Accuracy: -0.003901199939421174\n",
      "Test Accuracy: -0.34343971425055275\n",
      "------------------------------ \n",
      "\n",
      "Using: XGBR\n",
      "Train Accuracy: 0.9963359312269129\n",
      "Test Accuracy: 0.9083137709398517\n",
      "------------------------------ \n",
      "\n"
     ]
    }
   ],
   "source": [
    "# Apply each model on our data, in addition, test each for accuracy on both train and test parts\n",
    "for name, model in models.items():\n",
    "    print(f'Using: {name}')\n",
    "    model.fit(X_train, y_train)\n",
    "    print(f'Train Accuracy: {model.score(X_train, y_train)}')\n",
    "    print(f'Test Accuracy: {model.score(X_test, y_test)}')\n",
    "    print('-'*30,'\\n')"
   ]
  },
  {
   "cell_type": "markdown",
   "metadata": {},
   "source": [
    "Based on above results, **Linear Regression** algorithm showed best testing accuracy, also being accurate in the train data without overfitting.\n",
    "<br /> <hr>\n",
    "## 2)"
   ]
  },
  {
   "cell_type": "code",
   "execution_count": 22,
   "metadata": {},
   "outputs": [
    {
     "data": {
      "text/html": [
       "<div>\n",
       "<style scoped>\n",
       "    .dataframe tbody tr th:only-of-type {\n",
       "        vertical-align: middle;\n",
       "    }\n",
       "\n",
       "    .dataframe tbody tr th {\n",
       "        vertical-align: top;\n",
       "    }\n",
       "\n",
       "    .dataframe thead th {\n",
       "        text-align: right;\n",
       "    }\n",
       "</style>\n",
       "<table border=\"1\" class=\"dataframe\">\n",
       "  <thead>\n",
       "    <tr style=\"text-align: right;\">\n",
       "      <th></th>\n",
       "      <th>date</th>\n",
       "      <th>price</th>\n",
       "      <th>bedrooms</th>\n",
       "      <th>bathrooms</th>\n",
       "      <th>sqft_living</th>\n",
       "      <th>sqft_lot</th>\n",
       "      <th>floors</th>\n",
       "      <th>waterfront</th>\n",
       "      <th>view</th>\n",
       "      <th>condition</th>\n",
       "      <th>sqft_above</th>\n",
       "      <th>sqft_basement</th>\n",
       "      <th>yr_built</th>\n",
       "      <th>yr_renovated</th>\n",
       "      <th>street</th>\n",
       "      <th>city</th>\n",
       "      <th>statezip</th>\n",
       "      <th>country</th>\n",
       "    </tr>\n",
       "  </thead>\n",
       "  <tbody>\n",
       "    <tr>\n",
       "      <th>2588</th>\n",
       "      <td>2014-06-16 00:00:00</td>\n",
       "      <td>565000.0</td>\n",
       "      <td>4.0</td>\n",
       "      <td>2.75</td>\n",
       "      <td>3130</td>\n",
       "      <td>139392</td>\n",
       "      <td>2.0</td>\n",
       "      <td>0</td>\n",
       "      <td>0</td>\n",
       "      <td>4</td>\n",
       "      <td>3130</td>\n",
       "      <td>0</td>\n",
       "      <td>1981</td>\n",
       "      <td>0</td>\n",
       "      <td>27705 114th Ave SE</td>\n",
       "      <td>Kent</td>\n",
       "      <td>WA 98030</td>\n",
       "      <td>USA</td>\n",
       "    </tr>\n",
       "    <tr>\n",
       "      <th>242</th>\n",
       "      <td>2014-05-07 00:00:00</td>\n",
       "      <td>758000.0</td>\n",
       "      <td>4.0</td>\n",
       "      <td>2.75</td>\n",
       "      <td>2410</td>\n",
       "      <td>9549</td>\n",
       "      <td>1.0</td>\n",
       "      <td>0</td>\n",
       "      <td>0</td>\n",
       "      <td>4</td>\n",
       "      <td>1780</td>\n",
       "      <td>630</td>\n",
       "      <td>1956</td>\n",
       "      <td>0</td>\n",
       "      <td>10627 NE 45th St</td>\n",
       "      <td>Kirkland</td>\n",
       "      <td>WA 98033</td>\n",
       "      <td>USA</td>\n",
       "    </tr>\n",
       "    <tr>\n",
       "      <th>171</th>\n",
       "      <td>2014-05-06 00:00:00</td>\n",
       "      <td>736000.0</td>\n",
       "      <td>4.0</td>\n",
       "      <td>2.50</td>\n",
       "      <td>2290</td>\n",
       "      <td>12047</td>\n",
       "      <td>2.0</td>\n",
       "      <td>0</td>\n",
       "      <td>0</td>\n",
       "      <td>4</td>\n",
       "      <td>2290</td>\n",
       "      <td>0</td>\n",
       "      <td>1988</td>\n",
       "      <td>0</td>\n",
       "      <td>17435 SE 47th St</td>\n",
       "      <td>Bellevue</td>\n",
       "      <td>WA 98006</td>\n",
       "      <td>USA</td>\n",
       "    </tr>\n",
       "    <tr>\n",
       "      <th>3469</th>\n",
       "      <td>2014-06-26 00:00:00</td>\n",
       "      <td>1340000.0</td>\n",
       "      <td>4.0</td>\n",
       "      <td>3.50</td>\n",
       "      <td>3190</td>\n",
       "      <td>5040</td>\n",
       "      <td>2.0</td>\n",
       "      <td>0</td>\n",
       "      <td>3</td>\n",
       "      <td>3</td>\n",
       "      <td>2160</td>\n",
       "      <td>1030</td>\n",
       "      <td>2003</td>\n",
       "      <td>0</td>\n",
       "      <td>1120 33rd Ave S</td>\n",
       "      <td>Seattle</td>\n",
       "      <td>WA 98144</td>\n",
       "      <td>USA</td>\n",
       "    </tr>\n",
       "    <tr>\n",
       "      <th>577</th>\n",
       "      <td>2014-05-13 00:00:00</td>\n",
       "      <td>464000.0</td>\n",
       "      <td>5.0</td>\n",
       "      <td>2.50</td>\n",
       "      <td>3400</td>\n",
       "      <td>8970</td>\n",
       "      <td>1.0</td>\n",
       "      <td>0</td>\n",
       "      <td>0</td>\n",
       "      <td>4</td>\n",
       "      <td>1700</td>\n",
       "      <td>1700</td>\n",
       "      <td>1959</td>\n",
       "      <td>0</td>\n",
       "      <td>14700 Burke Ave N</td>\n",
       "      <td>Shoreline</td>\n",
       "      <td>WA 98133</td>\n",
       "      <td>USA</td>\n",
       "    </tr>\n",
       "  </tbody>\n",
       "</table>\n",
       "</div>"
      ],
      "text/plain": [
       "                     date      price  bedrooms  bathrooms  sqft_living  \\\n",
       "2588  2014-06-16 00:00:00   565000.0       4.0       2.75         3130   \n",
       "242   2014-05-07 00:00:00   758000.0       4.0       2.75         2410   \n",
       "171   2014-05-06 00:00:00   736000.0       4.0       2.50         2290   \n",
       "3469  2014-06-26 00:00:00  1340000.0       4.0       3.50         3190   \n",
       "577   2014-05-13 00:00:00   464000.0       5.0       2.50         3400   \n",
       "\n",
       "      sqft_lot  floors  waterfront  view  condition  sqft_above  \\\n",
       "2588    139392     2.0           0     0          4        3130   \n",
       "242       9549     1.0           0     0          4        1780   \n",
       "171      12047     2.0           0     0          4        2290   \n",
       "3469      5040     2.0           0     3          3        2160   \n",
       "577       8970     1.0           0     0          4        1700   \n",
       "\n",
       "      sqft_basement  yr_built  yr_renovated              street       city  \\\n",
       "2588              0      1981             0  27705 114th Ave SE       Kent   \n",
       "242             630      1956             0    10627 NE 45th St   Kirkland   \n",
       "171               0      1988             0    17435 SE 47th St   Bellevue   \n",
       "3469           1030      2003             0     1120 33rd Ave S    Seattle   \n",
       "577            1700      1959             0   14700 Burke Ave N  Shoreline   \n",
       "\n",
       "      statezip country  \n",
       "2588  WA 98030     USA  \n",
       "242   WA 98033     USA  \n",
       "171   WA 98006     USA  \n",
       "3469  WA 98144     USA  \n",
       "577   WA 98133     USA  "
      ]
     },
     "execution_count": 22,
     "metadata": {},
     "output_type": "execute_result"
    }
   ],
   "source": [
    "# Reading the DataFrame\n",
    "df_hs=pd.read_csv('Assignment Datasets/House prices.csv')\n",
    "df_hs.sample(5)"
   ]
  },
  {
   "cell_type": "code",
   "execution_count": 14,
   "metadata": {},
   "outputs": [
    {
     "name": "stdout",
     "output_type": "stream",
     "text": [
      "<class 'pandas.core.frame.DataFrame'>\n",
      "RangeIndex: 4600 entries, 0 to 4599\n",
      "Data columns (total 18 columns):\n",
      " #   Column         Non-Null Count  Dtype  \n",
      "---  ------         --------------  -----  \n",
      " 0   date           4600 non-null   object \n",
      " 1   price          4600 non-null   float64\n",
      " 2   bedrooms       4600 non-null   float64\n",
      " 3   bathrooms      4600 non-null   float64\n",
      " 4   sqft_living    4600 non-null   int64  \n",
      " 5   sqft_lot       4600 non-null   int64  \n",
      " 6   floors         4600 non-null   float64\n",
      " 7   waterfront     4600 non-null   int64  \n",
      " 8   view           4600 non-null   int64  \n",
      " 9   condition      4600 non-null   int64  \n",
      " 10  sqft_above     4600 non-null   int64  \n",
      " 11  sqft_basement  4600 non-null   int64  \n",
      " 12  yr_built       4600 non-null   int64  \n",
      " 13  yr_renovated   4600 non-null   int64  \n",
      " 14  street         4600 non-null   object \n",
      " 15  city           4600 non-null   object \n",
      " 16  statezip       4600 non-null   object \n",
      " 17  country        4600 non-null   object \n",
      "dtypes: float64(4), int64(9), object(5)\n",
      "memory usage: 647.0+ KB\n"
     ]
    }
   ],
   "source": [
    "df_hs.info()"
   ]
  },
  {
   "cell_type": "code",
   "execution_count": 24,
   "metadata": {},
   "outputs": [
    {
     "data": {
      "text/html": [
       "<div>\n",
       "<style scoped>\n",
       "    .dataframe tbody tr th:only-of-type {\n",
       "        vertical-align: middle;\n",
       "    }\n",
       "\n",
       "    .dataframe tbody tr th {\n",
       "        vertical-align: top;\n",
       "    }\n",
       "\n",
       "    .dataframe thead th {\n",
       "        text-align: right;\n",
       "    }\n",
       "</style>\n",
       "<table border=\"1\" class=\"dataframe\">\n",
       "  <thead>\n",
       "    <tr style=\"text-align: right;\">\n",
       "      <th></th>\n",
       "      <th>price</th>\n",
       "      <th>bedrooms</th>\n",
       "      <th>bathrooms</th>\n",
       "      <th>sqft_living</th>\n",
       "      <th>sqft_lot</th>\n",
       "      <th>floors</th>\n",
       "      <th>waterfront</th>\n",
       "      <th>view</th>\n",
       "      <th>condition</th>\n",
       "      <th>sqft_above</th>\n",
       "      <th>sqft_basement</th>\n",
       "      <th>yr_built</th>\n",
       "      <th>yr_renovated</th>\n",
       "      <th>street</th>\n",
       "      <th>city</th>\n",
       "      <th>statezip</th>\n",
       "      <th>country</th>\n",
       "      <th>month</th>\n",
       "    </tr>\n",
       "  </thead>\n",
       "  <tbody>\n",
       "    <tr>\n",
       "      <th>267</th>\n",
       "      <td>420000.0</td>\n",
       "      <td>3.0</td>\n",
       "      <td>2.25</td>\n",
       "      <td>1770</td>\n",
       "      <td>8165</td>\n",
       "      <td>2.0</td>\n",
       "      <td>0</td>\n",
       "      <td>0</td>\n",
       "      <td>3</td>\n",
       "      <td>1770</td>\n",
       "      <td>0</td>\n",
       "      <td>1977</td>\n",
       "      <td>2004</td>\n",
       "      <td>12921 79th Pl NE</td>\n",
       "      <td>Kirkland</td>\n",
       "      <td>WA 98034</td>\n",
       "      <td>USA</td>\n",
       "      <td>5</td>\n",
       "    </tr>\n",
       "  </tbody>\n",
       "</table>\n",
       "</div>"
      ],
      "text/plain": [
       "        price  bedrooms  bathrooms  sqft_living  sqft_lot  floors  waterfront  \\\n",
       "267  420000.0       3.0       2.25         1770      8165     2.0           0   \n",
       "\n",
       "     view  condition  sqft_above  sqft_basement  yr_built  yr_renovated  \\\n",
       "267     0          3        1770              0      1977          2004   \n",
       "\n",
       "               street      city  statezip country  month  \n",
       "267  12921 79th Pl NE  Kirkland  WA 98034     USA      5  "
      ]
     },
     "execution_count": 24,
     "metadata": {},
     "output_type": "execute_result"
    }
   ],
   "source": [
    "# Extract months from the 'date' feature after converting its data type to datetime\n",
    "df_hs.date=pd.to_datetime(df_hs.date, format='%Y-%m-%d %H:%M:%S')\n",
    "df_hs['month']=df_hs.date.dt.month\n",
    "df_hs.drop('date', 1, inplace=True)\n",
    "df_hs.sample()"
   ]
  },
  {
   "cell_type": "code",
   "execution_count": 27,
   "metadata": {},
   "outputs": [
    {
     "data": {
      "text/html": [
       "<div>\n",
       "<style scoped>\n",
       "    .dataframe tbody tr th:only-of-type {\n",
       "        vertical-align: middle;\n",
       "    }\n",
       "\n",
       "    .dataframe tbody tr th {\n",
       "        vertical-align: top;\n",
       "    }\n",
       "\n",
       "    .dataframe thead th {\n",
       "        text-align: right;\n",
       "    }\n",
       "</style>\n",
       "<table border=\"1\" class=\"dataframe\">\n",
       "  <thead>\n",
       "    <tr style=\"text-align: right;\">\n",
       "      <th></th>\n",
       "      <th>price</th>\n",
       "      <th>bedrooms</th>\n",
       "      <th>bathrooms</th>\n",
       "      <th>sqft_living</th>\n",
       "      <th>sqft_lot</th>\n",
       "      <th>floors</th>\n",
       "      <th>waterfront</th>\n",
       "      <th>view</th>\n",
       "      <th>condition</th>\n",
       "      <th>sqft_above</th>\n",
       "      <th>...</th>\n",
       "      <th>city_SeaTac</th>\n",
       "      <th>city_Seattle</th>\n",
       "      <th>city_Shoreline</th>\n",
       "      <th>city_Skykomish</th>\n",
       "      <th>city_Snoqualmie</th>\n",
       "      <th>city_Snoqualmie Pass</th>\n",
       "      <th>city_Tukwila</th>\n",
       "      <th>city_Vashon</th>\n",
       "      <th>city_Woodinville</th>\n",
       "      <th>city_Yarrow Point</th>\n",
       "    </tr>\n",
       "  </thead>\n",
       "  <tbody>\n",
       "    <tr>\n",
       "      <th>2783</th>\n",
       "      <td>240000.0</td>\n",
       "      <td>2.0</td>\n",
       "      <td>1.0</td>\n",
       "      <td>670</td>\n",
       "      <td>10920</td>\n",
       "      <td>1.0</td>\n",
       "      <td>0</td>\n",
       "      <td>0</td>\n",
       "      <td>3</td>\n",
       "      <td>670</td>\n",
       "      <td>...</td>\n",
       "      <td>0</td>\n",
       "      <td>1</td>\n",
       "      <td>0</td>\n",
       "      <td>0</td>\n",
       "      <td>0</td>\n",
       "      <td>0</td>\n",
       "      <td>0</td>\n",
       "      <td>0</td>\n",
       "      <td>0</td>\n",
       "      <td>0</td>\n",
       "    </tr>\n",
       "  </tbody>\n",
       "</table>\n",
       "<p>1 rows × 60 columns</p>\n",
       "</div>"
      ],
      "text/plain": [
       "         price  bedrooms  bathrooms  sqft_living  sqft_lot  floors  \\\n",
       "2783  240000.0       2.0        1.0          670     10920     1.0   \n",
       "\n",
       "      waterfront  view  condition  sqft_above  ...  city_SeaTac  city_Seattle  \\\n",
       "2783           0     0          3         670  ...            0             1   \n",
       "\n",
       "      city_Shoreline city_Skykomish city_Snoqualmie city_Snoqualmie Pass  \\\n",
       "2783               0              0               0                    0   \n",
       "\n",
       "      city_Tukwila  city_Vashon  city_Woodinville  city_Yarrow Point  \n",
       "2783             0            0                 0                  0  \n",
       "\n",
       "[1 rows x 60 columns]"
      ]
     },
     "execution_count": 27,
     "metadata": {},
     "output_type": "execute_result"
    }
   ],
   "source": [
    "# Convert 'city' feature into dummy variables (numbers) for ML models\n",
    "df_hs=pd.get_dummies(df_hs, columns=['city'], drop_first=True)\n",
    "df_hs.sample()"
   ]
  },
  {
   "cell_type": "code",
   "execution_count": 28,
   "metadata": {},
   "outputs": [],
   "source": [
    "# Split independent data, and the dependent data to be predicted i.e. 'price'\n",
    "df_hs.price=df_hs.price.apply(lambda x: round(x))\n",
    "\n",
    "# columns to be ignored in our training set. All countries are USA, so feature shall be ignored\n",
    "X=df_hs.drop(columns=['price', 'street', 'statezip', 'country'])\n",
    "y=df_hs.price\n",
    "X_train, X_test, y_train, y_test=train_test_split(X, y, test_size=0.2)"
   ]
  },
  {
   "cell_type": "code",
   "execution_count": 29,
   "metadata": {},
   "outputs": [],
   "source": [
    "# Scaling down data before entering the model\n",
    "scaler=StandardScaler()\n",
    "scaler.fit(X_train)\n",
    "X_train=scaler.transform(X_train)\n",
    "X_test=scaler.transform(X_test)"
   ]
  },
  {
   "cell_type": "code",
   "execution_count": 30,
   "metadata": {},
   "outputs": [
    {
     "name": "stdout",
     "output_type": "stream",
     "text": [
      "Using: LR\n",
      "Train Accuracy: 0.23238842346114597\n",
      "Test Accuracy: 0.6595482380842255\n",
      "------------------------------ \n",
      "\n",
      "Using: KNN\n",
      "Train Accuracy: 0.3867869078834223\n",
      "Test Accuracy: 0.5255254658677782\n",
      "------------------------------ \n",
      "\n",
      "Using: DT\n",
      "Train Accuracy: 0.999998835228012\n",
      "Test Accuracy: -5.721019081399469\n",
      "------------------------------ \n",
      "\n",
      "Using: RF\n",
      "Train Accuracy: 0.8801404337126194\n",
      "Test Accuracy: 0.060589602390690445\n",
      "------------------------------ \n",
      "\n",
      "Using: SVR\n",
      "Train Accuracy: -0.02328941965769271\n",
      "Test Accuracy: -0.057451042543622544\n",
      "------------------------------ \n",
      "\n",
      "Using: XGBR\n",
      "Train Accuracy: 0.8489726230095569\n",
      "Test Accuracy: -0.7563987324891364\n",
      "------------------------------ \n",
      "\n"
     ]
    }
   ],
   "source": [
    "# Apply each model on our data, in addition, test each for accuracy on both train and test parts\n",
    "for name, model in models.items():\n",
    "    print(f'Using: {name}')\n",
    "    model.fit(X_train, y_train)\n",
    "    print(f'Train Accuracy: {model.score(X_train, y_train)}')\n",
    "    print(f'Test Accuracy: {model.score(X_test, y_test)}')\n",
    "    print('-'*30,'\\n')"
   ]
  },
  {
   "cell_type": "markdown",
   "metadata": {},
   "source": [
    "Based on above results, **Linear Regression** algorithm showed best testing accuracy.\n",
    "<br /> <hr>\n",
    "## 3)"
   ]
  },
  {
   "cell_type": "code",
   "execution_count": 31,
   "metadata": {},
   "outputs": [
    {
     "data": {
      "text/html": [
       "<div>\n",
       "<style scoped>\n",
       "    .dataframe tbody tr th:only-of-type {\n",
       "        vertical-align: middle;\n",
       "    }\n",
       "\n",
       "    .dataframe tbody tr th {\n",
       "        vertical-align: top;\n",
       "    }\n",
       "\n",
       "    .dataframe thead th {\n",
       "        text-align: right;\n",
       "    }\n",
       "</style>\n",
       "<table border=\"1\" class=\"dataframe\">\n",
       "  <thead>\n",
       "    <tr style=\"text-align: right;\">\n",
       "      <th></th>\n",
       "      <th>User_ID</th>\n",
       "      <th>Product_ID</th>\n",
       "      <th>Gender</th>\n",
       "      <th>Age</th>\n",
       "      <th>Occupation</th>\n",
       "      <th>City_Category</th>\n",
       "      <th>Stay_In_Current_City_Years</th>\n",
       "      <th>Marital_Status</th>\n",
       "      <th>Product_Category_1</th>\n",
       "      <th>Product_Category_2</th>\n",
       "      <th>Product_Category_3</th>\n",
       "      <th>Purchase</th>\n",
       "    </tr>\n",
       "  </thead>\n",
       "  <tbody>\n",
       "    <tr>\n",
       "      <th>387</th>\n",
       "      <td>1000770</td>\n",
       "      <td>P00139942</td>\n",
       "      <td>M</td>\n",
       "      <td>18-25</td>\n",
       "      <td>4</td>\n",
       "      <td>B</td>\n",
       "      <td>2</td>\n",
       "      <td>1</td>\n",
       "      <td>5</td>\n",
       "      <td>NaN</td>\n",
       "      <td>NaN</td>\n",
       "      <td>8653</td>\n",
       "    </tr>\n",
       "    <tr>\n",
       "      <th>10876</th>\n",
       "      <td>1002271</td>\n",
       "      <td>P00226242</td>\n",
       "      <td>M</td>\n",
       "      <td>51-55</td>\n",
       "      <td>14</td>\n",
       "      <td>A</td>\n",
       "      <td>1</td>\n",
       "      <td>0</td>\n",
       "      <td>11</td>\n",
       "      <td>15.0</td>\n",
       "      <td>NaN</td>\n",
       "      <td>4451</td>\n",
       "    </tr>\n",
       "    <tr>\n",
       "      <th>13068</th>\n",
       "      <td>1002743</td>\n",
       "      <td>P00123142</td>\n",
       "      <td>M</td>\n",
       "      <td>26-35</td>\n",
       "      <td>14</td>\n",
       "      <td>B</td>\n",
       "      <td>2</td>\n",
       "      <td>0</td>\n",
       "      <td>11</td>\n",
       "      <td>NaN</td>\n",
       "      <td>NaN</td>\n",
       "      <td>4487</td>\n",
       "    </tr>\n",
       "    <tr>\n",
       "      <th>4912</th>\n",
       "      <td>1001422</td>\n",
       "      <td>P00185342</td>\n",
       "      <td>M</td>\n",
       "      <td>36-45</td>\n",
       "      <td>17</td>\n",
       "      <td>B</td>\n",
       "      <td>3</td>\n",
       "      <td>0</td>\n",
       "      <td>3</td>\n",
       "      <td>4.0</td>\n",
       "      <td>NaN</td>\n",
       "      <td>8065</td>\n",
       "    </tr>\n",
       "    <tr>\n",
       "      <th>10143</th>\n",
       "      <td>1002161</td>\n",
       "      <td>P00117542</td>\n",
       "      <td>F</td>\n",
       "      <td>36-45</td>\n",
       "      <td>2</td>\n",
       "      <td>C</td>\n",
       "      <td>2</td>\n",
       "      <td>1</td>\n",
       "      <td>18</td>\n",
       "      <td>NaN</td>\n",
       "      <td>NaN</td>\n",
       "      <td>3137</td>\n",
       "    </tr>\n",
       "  </tbody>\n",
       "</table>\n",
       "</div>"
      ],
      "text/plain": [
       "       User_ID Product_ID Gender    Age  Occupation City_Category  \\\n",
       "387    1000770  P00139942      M  18-25           4             B   \n",
       "10876  1002271  P00226242      M  51-55          14             A   \n",
       "13068  1002743  P00123142      M  26-35          14             B   \n",
       "4912   1001422  P00185342      M  36-45          17             B   \n",
       "10143  1002161  P00117542      F  36-45           2             C   \n",
       "\n",
       "      Stay_In_Current_City_Years  Marital_Status  Product_Category_1  \\\n",
       "387                            2               1                   5   \n",
       "10876                          1               0                  11   \n",
       "13068                          2               0                  11   \n",
       "4912                           3               0                   3   \n",
       "10143                          2               1                  18   \n",
       "\n",
       "       Product_Category_2  Product_Category_3  Purchase  \n",
       "387                   NaN                 NaN      8653  \n",
       "10876                15.0                 NaN      4451  \n",
       "13068                 NaN                 NaN      4487  \n",
       "4912                  4.0                 NaN      8065  \n",
       "10143                 NaN                 NaN      3137  "
      ]
     },
     "execution_count": 31,
     "metadata": {},
     "output_type": "execute_result"
    }
   ],
   "source": [
    "df_dt=pd.read_csv('Assignment Datasets/data.csv')\n",
    "df_dt.sample(5)"
   ]
  },
  {
   "cell_type": "code",
   "execution_count": 32,
   "metadata": {},
   "outputs": [
    {
     "name": "stdout",
     "output_type": "stream",
     "text": [
      "<class 'pandas.core.frame.DataFrame'>\n",
      "RangeIndex: 22894 entries, 0 to 22893\n",
      "Data columns (total 12 columns):\n",
      " #   Column                      Non-Null Count  Dtype  \n",
      "---  ------                      --------------  -----  \n",
      " 0   User_ID                     22894 non-null  int64  \n",
      " 1   Product_ID                  22894 non-null  object \n",
      " 2   Gender                      22894 non-null  object \n",
      " 3   Age                         22894 non-null  object \n",
      " 4   Occupation                  22894 non-null  int64  \n",
      " 5   City_Category               22894 non-null  object \n",
      " 6   Stay_In_Current_City_Years  22894 non-null  object \n",
      " 7   Marital_Status              22894 non-null  int64  \n",
      " 8   Product_Category_1          22894 non-null  int64  \n",
      " 9   Product_Category_2          12804 non-null  float64\n",
      " 10  Product_Category_3          5576 non-null   float64\n",
      " 11  Purchase                    22894 non-null  int64  \n",
      "dtypes: float64(2), int64(5), object(5)\n",
      "memory usage: 2.1+ MB\n"
     ]
    }
   ],
   "source": [
    "df_dt.info()"
   ]
  },
  {
   "cell_type": "code",
   "execution_count": 34,
   "metadata": {},
   "outputs": [
    {
     "data": {
      "text/plain": [
       "array(['0-17', '55+', '26-35', '46-50', '51-55', '36-45', '18-25'],\n",
       "      dtype=object)"
      ]
     },
     "execution_count": 34,
     "metadata": {},
     "output_type": "execute_result"
    }
   ],
   "source": [
    "# Show values present in the object 'Age'\n",
    "df_dt.Age.unique()"
   ]
  },
  {
   "cell_type": "code",
   "execution_count": 36,
   "metadata": {},
   "outputs": [
    {
     "data": {
      "text/plain": [
       "array(['2', '4+', '3', '1', '0'], dtype=object)"
      ]
     },
     "execution_count": 36,
     "metadata": {},
     "output_type": "execute_result"
    }
   ],
   "source": [
    "# Show values present in the object 'Stay_In_Current_City_Years'\n",
    "df_dt.Stay_In_Current_City_Years.unique()"
   ]
  },
  {
   "cell_type": "markdown",
   "metadata": {},
   "source": [
    "Cleaning data and Transforming features"
   ]
  },
  {
   "cell_type": "code",
   "execution_count": 38,
   "metadata": {},
   "outputs": [
    {
     "data": {
      "text/html": [
       "<div>\n",
       "<style scoped>\n",
       "    .dataframe tbody tr th:only-of-type {\n",
       "        vertical-align: middle;\n",
       "    }\n",
       "\n",
       "    .dataframe tbody tr th {\n",
       "        vertical-align: top;\n",
       "    }\n",
       "\n",
       "    .dataframe thead th {\n",
       "        text-align: right;\n",
       "    }\n",
       "</style>\n",
       "<table border=\"1\" class=\"dataframe\">\n",
       "  <thead>\n",
       "    <tr style=\"text-align: right;\">\n",
       "      <th></th>\n",
       "      <th>User_ID</th>\n",
       "      <th>Product_ID</th>\n",
       "      <th>Age</th>\n",
       "      <th>Occupation</th>\n",
       "      <th>Stay_In_Current_City_Years</th>\n",
       "      <th>Marital_Status</th>\n",
       "      <th>Product_Category_1</th>\n",
       "      <th>Purchase</th>\n",
       "      <th>Gender_M</th>\n",
       "      <th>City_Category_B</th>\n",
       "      <th>City_Category_C</th>\n",
       "    </tr>\n",
       "  </thead>\n",
       "  <tbody>\n",
       "    <tr>\n",
       "      <th>10726</th>\n",
       "      <td>1002239</td>\n",
       "      <td>P00174242</td>\n",
       "      <td>1</td>\n",
       "      <td>10</td>\n",
       "      <td>0</td>\n",
       "      <td>0</td>\n",
       "      <td>15</td>\n",
       "      <td>21034</td>\n",
       "      <td>1</td>\n",
       "      <td>0</td>\n",
       "      <td>0</td>\n",
       "    </tr>\n",
       "  </tbody>\n",
       "</table>\n",
       "</div>"
      ],
      "text/plain": [
       "       User_ID Product_ID  Age  Occupation  Stay_In_Current_City_Years  \\\n",
       "10726  1002239  P00174242    1          10                           0   \n",
       "\n",
       "       Marital_Status  Product_Category_1  Purchase  Gender_M  \\\n",
       "10726               0                  15     21034         1   \n",
       "\n",
       "       City_Category_B  City_Category_C  \n",
       "10726                0                0  "
      ]
     },
     "execution_count": 38,
     "metadata": {},
     "output_type": "execute_result"
    }
   ],
   "source": [
    "# Convert 'Age' into numerical categorical ordinal data\n",
    "df_dt.Age=df_dt.Age.map({'0-17':0, '18-25':1, '26-35':2, '36-45':3, '46-50':4, '51-55':5, '55+':6})\n",
    "\n",
    "# Convert 'Stay_In_Current_City_Years' into numerical categorical ordinal data\n",
    "df_dt.Stay_In_Current_City_Years.replace('4+', 4, True)\n",
    "df_dt.Stay_In_Current_City_Years=pd.to_numeric(df_dt.Stay_In_Current_City_Years)\n",
    "\n",
    "# It seems that products categories' columns represnt predictions of them, so we consider the first one only\n",
    "df_dt.drop(columns=['Product_Category_2', 'Product_Category_3'], inplace=True)\n",
    "\n",
    "# Convert categorical features into dummy variables (numbers) for ML models\n",
    "df_dt=pd.get_dummies(df_dt, columns=['Gender', 'City_Category'], drop_first=True)\n",
    "df_dt.sample()"
   ]
  },
  {
   "cell_type": "code",
   "execution_count": 39,
   "metadata": {},
   "outputs": [
    {
     "name": "stdout",
     "output_type": "stream",
     "text": [
      "<class 'pandas.core.frame.DataFrame'>\n",
      "RangeIndex: 22894 entries, 0 to 22893\n",
      "Data columns (total 11 columns):\n",
      " #   Column                      Non-Null Count  Dtype \n",
      "---  ------                      --------------  ----- \n",
      " 0   User_ID                     22894 non-null  int64 \n",
      " 1   Product_ID                  22894 non-null  object\n",
      " 2   Age                         22894 non-null  int64 \n",
      " 3   Occupation                  22894 non-null  int64 \n",
      " 4   Stay_In_Current_City_Years  22894 non-null  int64 \n",
      " 5   Marital_Status              22894 non-null  int64 \n",
      " 6   Product_Category_1          22894 non-null  int64 \n",
      " 7   Purchase                    22894 non-null  int64 \n",
      " 8   Gender_M                    22894 non-null  uint8 \n",
      " 9   City_Category_B             22894 non-null  uint8 \n",
      " 10  City_Category_C             22894 non-null  uint8 \n",
      "dtypes: int64(7), object(1), uint8(3)\n",
      "memory usage: 1.5+ MB\n"
     ]
    }
   ],
   "source": [
    "df_dt.info()"
   ]
  },
  {
   "cell_type": "code",
   "execution_count": 40,
   "metadata": {},
   "outputs": [],
   "source": [
    "# Split independent data, and the dependent data to be predicted i.e. 'price'\n",
    "# columns to be ignored in our training set.\n",
    "X=df_dt.drop(columns=['User_ID', 'Product_ID'])\n",
    "y=df_dt.Purchase\n",
    "X_train, X_test, y_train, y_test=train_test_split(X, y, test_size=0.2)"
   ]
  },
  {
   "cell_type": "code",
   "execution_count": 41,
   "metadata": {},
   "outputs": [],
   "source": [
    "# Scaling down data before entering the model\n",
    "scaler=StandardScaler()\n",
    "scaler.fit(X_train)\n",
    "X_train=scaler.transform(X_train)\n",
    "X_test=scaler.transform(X_test)"
   ]
  },
  {
   "cell_type": "code",
   "execution_count": 43,
   "metadata": {},
   "outputs": [
    {
     "name": "stdout",
     "output_type": "stream",
     "text": [
      "Using: LR\n",
      "Train Accuracy: 1.0\n",
      "Test Accuracy: 1.0\n",
      "------------------------------ \n",
      "\n",
      "Using: KNN\n",
      "Train Accuracy: 0.981204208117068\n",
      "Test Accuracy: 0.9709175544666057\n",
      "------------------------------ \n",
      "\n",
      "Using: DT\n",
      "Train Accuracy: 1.0\n",
      "Test Accuracy: 0.9999991826571308\n",
      "------------------------------ \n",
      "\n",
      "Using: RF\n",
      "Train Accuracy: 0.9999999080195007\n",
      "Test Accuracy: 0.9999997137144145\n",
      "------------------------------ \n",
      "\n",
      "Using: SVR\n",
      "Train Accuracy: 0.19010894776419163\n",
      "Test Accuracy: 0.18483291692839854\n",
      "------------------------------ \n",
      "\n",
      "Using: XGBR\n",
      "Train Accuracy: 0.9996988397964821\n",
      "Test Accuracy: 0.9996918054205792\n",
      "------------------------------ \n",
      "\n"
     ]
    }
   ],
   "source": [
    "# Apply each model on our data, in addition, test each for accuracy on both train and test parts\n",
    "for name, model in models.items():\n",
    "    print(f'Using: {name}')\n",
    "    model.fit(X_train, y_train)\n",
    "    print(f'Train Accuracy: {model.score(X_train, y_train)}')\n",
    "    print(f'Test Accuracy: {model.score(X_test, y_test)}')\n",
    "    print('-'*30,'\\n')"
   ]
  },
  {
   "cell_type": "markdown",
   "metadata": {},
   "source": [
    "From above findings, we can conclude that **Random Forest Regressor** is the best testing accuracy"
   ]
  }
 ],
 "metadata": {
  "kernelspec": {
   "display_name": "Python 3",
   "language": "python",
   "name": "python3"
  },
  "language_info": {
   "codemirror_mode": {
    "name": "ipython",
    "version": 3
   },
   "file_extension": ".py",
   "mimetype": "text/x-python",
   "name": "python",
   "nbconvert_exporter": "python",
   "pygments_lexer": "ipython3",
   "version": "3.8.5"
  }
 },
 "nbformat": 4,
 "nbformat_minor": 4
}
