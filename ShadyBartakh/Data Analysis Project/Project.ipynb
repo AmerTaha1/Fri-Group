{
 "cells": [
  {
   "cell_type": "markdown",
   "metadata": {
    "slideshow": {
     "slide_type": "slide"
    }
   },
   "source": [
    "# Data Analysis Final Project\n",
    "## Mobile Application Stores Analysis"
   ]
  },
  {
   "cell_type": "markdown",
   "metadata": {
    "slideshow": {
     "slide_type": "slide"
    }
   },
   "source": [
    "<img src=\"Media\\Kaggle-site-logo.png\" style=\"float: left;\" width=\"70\"/> <!-- Kaggle -->\n",
    "Kaggle is used to get two datasets; One for Google Play Store applications data, and the second for Apple Store applications data."
   ]
  },
  {
   "cell_type": "code",
   "execution_count": 597,
   "metadata": {
    "slideshow": {
     "slide_type": "-"
    }
   },
   "outputs": [],
   "source": [
    "# By: Shady Bartakh, On: 12/2021\n",
    "# Libraries used are as follows\n",
    "\n",
    "import numpy as np\n",
    "import pandas as pd\n",
    "from collections import Counter\n",
    "import matplotlib.pyplot as plt\n",
    "import seaborn as sns\n",
    "from sklearn.impute import SimpleImputer\n",
    "from sklearn.model_selection import train_test_split\n",
    "from sklearn.preprocessing import LabelEncoder\n",
    "from datasist.structdata import detect_outliers\n",
    "from imblearn.under_sampling import RandomUnderSampler\n",
    "from imblearn.over_sampling import SMOTE\n",
    "from sklearn.preprocessing import StandardScaler"
   ]
  },
  {
   "cell_type": "code",
   "execution_count": 2,
   "metadata": {
    "slideshow": {
     "slide_type": "skip"
    }
   },
   "outputs": [
    {
     "data": {
      "text/html": [
       "<div>\n",
       "<style scoped>\n",
       "    .dataframe tbody tr th:only-of-type {\n",
       "        vertical-align: middle;\n",
       "    }\n",
       "\n",
       "    .dataframe tbody tr th {\n",
       "        vertical-align: top;\n",
       "    }\n",
       "\n",
       "    .dataframe thead th {\n",
       "        text-align: right;\n",
       "    }\n",
       "</style>\n",
       "<table border=\"1\" class=\"dataframe\">\n",
       "  <thead>\n",
       "    <tr style=\"text-align: right;\">\n",
       "      <th></th>\n",
       "      <th>App</th>\n",
       "      <th>Category</th>\n",
       "      <th>Rating</th>\n",
       "      <th>Reviews</th>\n",
       "      <th>Size</th>\n",
       "      <th>Installs</th>\n",
       "      <th>Type</th>\n",
       "      <th>Price</th>\n",
       "      <th>Content Rating</th>\n",
       "      <th>Genres</th>\n",
       "      <th>Last Updated</th>\n",
       "      <th>Current Ver</th>\n",
       "      <th>Android Ver</th>\n",
       "    </tr>\n",
       "  </thead>\n",
       "  <tbody>\n",
       "    <tr>\n",
       "      <th>0</th>\n",
       "      <td>Photo Editor &amp; Candy Camera &amp; Grid &amp; ScrapBook</td>\n",
       "      <td>ART_AND_DESIGN</td>\n",
       "      <td>4.1</td>\n",
       "      <td>159</td>\n",
       "      <td>19M</td>\n",
       "      <td>10,000+</td>\n",
       "      <td>Free</td>\n",
       "      <td>0</td>\n",
       "      <td>Everyone</td>\n",
       "      <td>Art &amp; Design</td>\n",
       "      <td>January 7, 2018</td>\n",
       "      <td>1.0.0</td>\n",
       "      <td>4.0.3 and up</td>\n",
       "    </tr>\n",
       "    <tr>\n",
       "      <th>1</th>\n",
       "      <td>Coloring book moana</td>\n",
       "      <td>ART_AND_DESIGN</td>\n",
       "      <td>3.9</td>\n",
       "      <td>967</td>\n",
       "      <td>14M</td>\n",
       "      <td>500,000+</td>\n",
       "      <td>Free</td>\n",
       "      <td>0</td>\n",
       "      <td>Everyone</td>\n",
       "      <td>Art &amp; Design;Pretend Play</td>\n",
       "      <td>January 15, 2018</td>\n",
       "      <td>2.0.0</td>\n",
       "      <td>4.0.3 and up</td>\n",
       "    </tr>\n",
       "    <tr>\n",
       "      <th>2</th>\n",
       "      <td>U Launcher Lite – FREE Live Cool Themes, Hide ...</td>\n",
       "      <td>ART_AND_DESIGN</td>\n",
       "      <td>4.7</td>\n",
       "      <td>87510</td>\n",
       "      <td>8.7M</td>\n",
       "      <td>5,000,000+</td>\n",
       "      <td>Free</td>\n",
       "      <td>0</td>\n",
       "      <td>Everyone</td>\n",
       "      <td>Art &amp; Design</td>\n",
       "      <td>August 1, 2018</td>\n",
       "      <td>1.2.4</td>\n",
       "      <td>4.0.3 and up</td>\n",
       "    </tr>\n",
       "    <tr>\n",
       "      <th>3</th>\n",
       "      <td>Sketch - Draw &amp; Paint</td>\n",
       "      <td>ART_AND_DESIGN</td>\n",
       "      <td>4.5</td>\n",
       "      <td>215644</td>\n",
       "      <td>25M</td>\n",
       "      <td>50,000,000+</td>\n",
       "      <td>Free</td>\n",
       "      <td>0</td>\n",
       "      <td>Teen</td>\n",
       "      <td>Art &amp; Design</td>\n",
       "      <td>June 8, 2018</td>\n",
       "      <td>Varies with device</td>\n",
       "      <td>4.2 and up</td>\n",
       "    </tr>\n",
       "    <tr>\n",
       "      <th>4</th>\n",
       "      <td>Pixel Draw - Number Art Coloring Book</td>\n",
       "      <td>ART_AND_DESIGN</td>\n",
       "      <td>4.3</td>\n",
       "      <td>967</td>\n",
       "      <td>2.8M</td>\n",
       "      <td>100,000+</td>\n",
       "      <td>Free</td>\n",
       "      <td>0</td>\n",
       "      <td>Everyone</td>\n",
       "      <td>Art &amp; Design;Creativity</td>\n",
       "      <td>June 20, 2018</td>\n",
       "      <td>1.1</td>\n",
       "      <td>4.4 and up</td>\n",
       "    </tr>\n",
       "  </tbody>\n",
       "</table>\n",
       "</div>"
      ],
      "text/plain": [
       "                                                 App        Category  Rating  \\\n",
       "0     Photo Editor & Candy Camera & Grid & ScrapBook  ART_AND_DESIGN     4.1   \n",
       "1                                Coloring book moana  ART_AND_DESIGN     3.9   \n",
       "2  U Launcher Lite – FREE Live Cool Themes, Hide ...  ART_AND_DESIGN     4.7   \n",
       "3                              Sketch - Draw & Paint  ART_AND_DESIGN     4.5   \n",
       "4              Pixel Draw - Number Art Coloring Book  ART_AND_DESIGN     4.3   \n",
       "\n",
       "  Reviews  Size     Installs  Type Price Content Rating  \\\n",
       "0     159   19M      10,000+  Free     0       Everyone   \n",
       "1     967   14M     500,000+  Free     0       Everyone   \n",
       "2   87510  8.7M   5,000,000+  Free     0       Everyone   \n",
       "3  215644   25M  50,000,000+  Free     0           Teen   \n",
       "4     967  2.8M     100,000+  Free     0       Everyone   \n",
       "\n",
       "                      Genres      Last Updated         Current Ver  \\\n",
       "0               Art & Design   January 7, 2018               1.0.0   \n",
       "1  Art & Design;Pretend Play  January 15, 2018               2.0.0   \n",
       "2               Art & Design    August 1, 2018               1.2.4   \n",
       "3               Art & Design      June 8, 2018  Varies with device   \n",
       "4    Art & Design;Creativity     June 20, 2018                 1.1   \n",
       "\n",
       "    Android Ver  \n",
       "0  4.0.3 and up  \n",
       "1  4.0.3 and up  \n",
       "2  4.0.3 and up  \n",
       "3    4.2 and up  \n",
       "4    4.4 and up  "
      ]
     },
     "execution_count": 2,
     "metadata": {},
     "output_type": "execute_result"
    }
   ],
   "source": [
    "##Googleplay data\n",
    "df=pd.read_csv(\"Google Play Store Apps\\googleplaystore.csv\")\n",
    "df.head()"
   ]
  },
  {
   "cell_type": "code",
   "execution_count": 3,
   "metadata": {
    "slideshow": {
     "slide_type": "skip"
    }
   },
   "outputs": [
    {
     "name": "stdout",
     "output_type": "stream",
     "text": [
      "<class 'pandas.core.frame.DataFrame'>\n",
      "RangeIndex: 10841 entries, 0 to 10840\n",
      "Data columns (total 13 columns):\n",
      " #   Column          Non-Null Count  Dtype  \n",
      "---  ------          --------------  -----  \n",
      " 0   App             10841 non-null  object \n",
      " 1   Category        10841 non-null  object \n",
      " 2   Rating          9367 non-null   float64\n",
      " 3   Reviews         10841 non-null  object \n",
      " 4   Size            10841 non-null  object \n",
      " 5   Installs        10841 non-null  object \n",
      " 6   Type            10840 non-null  object \n",
      " 7   Price           10841 non-null  object \n",
      " 8   Content Rating  10840 non-null  object \n",
      " 9   Genres          10841 non-null  object \n",
      " 10  Last Updated    10841 non-null  object \n",
      " 11  Current Ver     10833 non-null  object \n",
      " 12  Android Ver     10838 non-null  object \n",
      "dtypes: float64(1), object(12)\n",
      "memory usage: 1.1+ MB\n"
     ]
    }
   ],
   "source": [
    "df.info()"
   ]
  },
  {
   "cell_type": "code",
   "execution_count": 4,
   "metadata": {
    "slideshow": {
     "slide_type": "skip"
    }
   },
   "outputs": [
    {
     "data": {
      "text/html": [
       "<div>\n",
       "<style scoped>\n",
       "    .dataframe tbody tr th:only-of-type {\n",
       "        vertical-align: middle;\n",
       "    }\n",
       "\n",
       "    .dataframe tbody tr th {\n",
       "        vertical-align: top;\n",
       "    }\n",
       "\n",
       "    .dataframe thead th {\n",
       "        text-align: right;\n",
       "    }\n",
       "</style>\n",
       "<table border=\"1\" class=\"dataframe\">\n",
       "  <thead>\n",
       "    <tr style=\"text-align: right;\">\n",
       "      <th></th>\n",
       "      <th>App</th>\n",
       "      <th>Translated_Review</th>\n",
       "      <th>Sentiment</th>\n",
       "      <th>Sentiment_Polarity</th>\n",
       "      <th>Sentiment_Subjectivity</th>\n",
       "    </tr>\n",
       "  </thead>\n",
       "  <tbody>\n",
       "    <tr>\n",
       "      <th>27246</th>\n",
       "      <td>ClassDojo</td>\n",
       "      <td>NaN</td>\n",
       "      <td>NaN</td>\n",
       "      <td>NaN</td>\n",
       "      <td>NaN</td>\n",
       "    </tr>\n",
       "    <tr>\n",
       "      <th>11113</th>\n",
       "      <td>Babbel – Learn Languages</td>\n",
       "      <td>NaN</td>\n",
       "      <td>NaN</td>\n",
       "      <td>NaN</td>\n",
       "      <td>NaN</td>\n",
       "    </tr>\n",
       "    <tr>\n",
       "      <th>4548</th>\n",
       "      <td>Agar.io</td>\n",
       "      <td>It's hard control. It lags lot. Can't even mov...</td>\n",
       "      <td>Negative</td>\n",
       "      <td>-0.518333</td>\n",
       "      <td>0.548333</td>\n",
       "    </tr>\n",
       "    <tr>\n",
       "      <th>32058</th>\n",
       "      <td>DEER HUNTER 2018</td>\n",
       "      <td>NaN</td>\n",
       "      <td>NaN</td>\n",
       "      <td>NaN</td>\n",
       "      <td>NaN</td>\n",
       "    </tr>\n",
       "    <tr>\n",
       "      <th>17311</th>\n",
       "      <td>Box</td>\n",
       "      <td>The best</td>\n",
       "      <td>Positive</td>\n",
       "      <td>1.000000</td>\n",
       "      <td>0.300000</td>\n",
       "    </tr>\n",
       "  </tbody>\n",
       "</table>\n",
       "</div>"
      ],
      "text/plain": [
       "                            App  \\\n",
       "27246                 ClassDojo   \n",
       "11113  Babbel – Learn Languages   \n",
       "4548                    Agar.io   \n",
       "32058          DEER HUNTER 2018   \n",
       "17311                       Box   \n",
       "\n",
       "                                       Translated_Review Sentiment  \\\n",
       "27246                                                NaN       NaN   \n",
       "11113                                                NaN       NaN   \n",
       "4548   It's hard control. It lags lot. Can't even mov...  Negative   \n",
       "32058                                                NaN       NaN   \n",
       "17311                                           The best  Positive   \n",
       "\n",
       "       Sentiment_Polarity  Sentiment_Subjectivity  \n",
       "27246                 NaN                     NaN  \n",
       "11113                 NaN                     NaN  \n",
       "4548            -0.518333                0.548333  \n",
       "32058                 NaN                     NaN  \n",
       "17311            1.000000                0.300000  "
      ]
     },
     "execution_count": 4,
     "metadata": {},
     "output_type": "execute_result"
    }
   ],
   "source": [
    "# Second dataset\n",
    "df2=pd.read_csv(\"Google Play Store Apps\\googleplaystore_user_reviews.csv\")\n",
    "df2.sample(5)"
   ]
  },
  {
   "cell_type": "code",
   "execution_count": 5,
   "metadata": {
    "slideshow": {
     "slide_type": "skip"
    }
   },
   "outputs": [
    {
     "name": "stdout",
     "output_type": "stream",
     "text": [
      "<class 'pandas.core.frame.DataFrame'>\n",
      "RangeIndex: 64295 entries, 0 to 64294\n",
      "Data columns (total 5 columns):\n",
      " #   Column                  Non-Null Count  Dtype  \n",
      "---  ------                  --------------  -----  \n",
      " 0   App                     64295 non-null  object \n",
      " 1   Translated_Review       37427 non-null  object \n",
      " 2   Sentiment               37432 non-null  object \n",
      " 3   Sentiment_Polarity      37432 non-null  float64\n",
      " 4   Sentiment_Subjectivity  37432 non-null  float64\n",
      "dtypes: float64(2), object(3)\n",
      "memory usage: 2.5+ MB\n"
     ]
    }
   ],
   "source": [
    "df2.info()"
   ]
  },
  {
   "cell_type": "code",
   "execution_count": 6,
   "metadata": {
    "slideshow": {
     "slide_type": "skip"
    }
   },
   "outputs": [
    {
     "data": {
      "text/plain": [
       "array(['Positive', nan, 'Neutral', 'Negative'], dtype=object)"
      ]
     },
     "execution_count": 6,
     "metadata": {},
     "output_type": "execute_result"
    }
   ],
   "source": [
    "df2['Sentiment'].unique()"
   ]
  },
  {
   "cell_type": "markdown",
   "metadata": {
    "slideshow": {
     "slide_type": "notes"
    }
   },
   "source": [
    "**_Sentiment_Polarity:_** The sentimental aspect of an opinion can be classified as Positive, Negative and Neutral.\n",
    "<br>\n",
    "**_Sentiment_Subjectivity:_** Classifying a sentence or a clause of the sentence as subjective or objective i.e. by determining whether a sentence expresses an opinion or not."
   ]
  },
  {
   "cell_type": "code",
   "execution_count": 7,
   "metadata": {
    "slideshow": {
     "slide_type": "skip"
    }
   },
   "outputs": [
    {
     "data": {
      "text/html": [
       "<div>\n",
       "<style scoped>\n",
       "    .dataframe tbody tr th:only-of-type {\n",
       "        vertical-align: middle;\n",
       "    }\n",
       "\n",
       "    .dataframe tbody tr th {\n",
       "        vertical-align: top;\n",
       "    }\n",
       "\n",
       "    .dataframe thead th {\n",
       "        text-align: right;\n",
       "    }\n",
       "</style>\n",
       "<table border=\"1\" class=\"dataframe\">\n",
       "  <thead>\n",
       "    <tr style=\"text-align: right;\">\n",
       "      <th></th>\n",
       "      <th>App</th>\n",
       "      <th>Category</th>\n",
       "      <th>Rating</th>\n",
       "      <th>Reviews</th>\n",
       "      <th>Size</th>\n",
       "      <th>Installs</th>\n",
       "      <th>Type</th>\n",
       "      <th>Price</th>\n",
       "      <th>Content Rating</th>\n",
       "      <th>Genres</th>\n",
       "      <th>Last Updated</th>\n",
       "      <th>Current Ver</th>\n",
       "      <th>Android Ver</th>\n",
       "    </tr>\n",
       "  </thead>\n",
       "  <tbody>\n",
       "    <tr>\n",
       "      <th>204</th>\n",
       "      <td>Box</td>\n",
       "      <td>BUSINESS</td>\n",
       "      <td>4.2</td>\n",
       "      <td>159872</td>\n",
       "      <td>Varies with device</td>\n",
       "      <td>10,000,000+</td>\n",
       "      <td>Free</td>\n",
       "      <td>0</td>\n",
       "      <td>Everyone</td>\n",
       "      <td>Business</td>\n",
       "      <td>July 31, 2018</td>\n",
       "      <td>Varies with device</td>\n",
       "      <td>Varies with device</td>\n",
       "    </tr>\n",
       "    <tr>\n",
       "      <th>236</th>\n",
       "      <td>Box</td>\n",
       "      <td>BUSINESS</td>\n",
       "      <td>4.2</td>\n",
       "      <td>159872</td>\n",
       "      <td>Varies with device</td>\n",
       "      <td>10,000,000+</td>\n",
       "      <td>Free</td>\n",
       "      <td>0</td>\n",
       "      <td>Everyone</td>\n",
       "      <td>Business</td>\n",
       "      <td>July 31, 2018</td>\n",
       "      <td>Varies with device</td>\n",
       "      <td>Varies with device</td>\n",
       "    </tr>\n",
       "    <tr>\n",
       "      <th>265</th>\n",
       "      <td>Box</td>\n",
       "      <td>BUSINESS</td>\n",
       "      <td>4.2</td>\n",
       "      <td>159872</td>\n",
       "      <td>Varies with device</td>\n",
       "      <td>10,000,000+</td>\n",
       "      <td>Free</td>\n",
       "      <td>0</td>\n",
       "      <td>Everyone</td>\n",
       "      <td>Business</td>\n",
       "      <td>July 31, 2018</td>\n",
       "      <td>Varies with device</td>\n",
       "      <td>Varies with device</td>\n",
       "    </tr>\n",
       "  </tbody>\n",
       "</table>\n",
       "</div>"
      ],
      "text/plain": [
       "     App  Category  Rating Reviews                Size     Installs  Type  \\\n",
       "204  Box  BUSINESS     4.2  159872  Varies with device  10,000,000+  Free   \n",
       "236  Box  BUSINESS     4.2  159872  Varies with device  10,000,000+  Free   \n",
       "265  Box  BUSINESS     4.2  159872  Varies with device  10,000,000+  Free   \n",
       "\n",
       "    Price Content Rating    Genres   Last Updated         Current Ver  \\\n",
       "204     0       Everyone  Business  July 31, 2018  Varies with device   \n",
       "236     0       Everyone  Business  July 31, 2018  Varies with device   \n",
       "265     0       Everyone  Business  July 31, 2018  Varies with device   \n",
       "\n",
       "            Android Ver  \n",
       "204  Varies with device  \n",
       "236  Varies with device  \n",
       "265  Varies with device  "
      ]
     },
     "execution_count": 7,
     "metadata": {},
     "output_type": "execute_result"
    }
   ],
   "source": [
    "df[df['App']=='Box']"
   ]
  },
  {
   "cell_type": "markdown",
   "metadata": {
    "slideshow": {
     "slide_type": "skip"
    }
   },
   "source": [
    "There are duplicate records!"
   ]
  },
  {
   "cell_type": "code",
   "execution_count": 8,
   "metadata": {
    "slideshow": {
     "slide_type": "skip"
    }
   },
   "outputs": [
    {
     "data": {
      "text/html": [
       "<div>\n",
       "<style scoped>\n",
       "    .dataframe tbody tr th:only-of-type {\n",
       "        vertical-align: middle;\n",
       "    }\n",
       "\n",
       "    .dataframe tbody tr th {\n",
       "        vertical-align: top;\n",
       "    }\n",
       "\n",
       "    .dataframe thead th {\n",
       "        text-align: right;\n",
       "    }\n",
       "</style>\n",
       "<table border=\"1\" class=\"dataframe\">\n",
       "  <thead>\n",
       "    <tr style=\"text-align: right;\">\n",
       "      <th></th>\n",
       "      <th>App</th>\n",
       "      <th>Translated_Review</th>\n",
       "      <th>Sentiment</th>\n",
       "      <th>Sentiment_Polarity</th>\n",
       "      <th>Sentiment_Subjectivity</th>\n",
       "    </tr>\n",
       "  </thead>\n",
       "  <tbody>\n",
       "    <tr>\n",
       "      <th>17207</th>\n",
       "      <td>Box</td>\n",
       "      <td>Please bring back properly labeled buttons mus...</td>\n",
       "      <td>Neutral</td>\n",
       "      <td>0.000000</td>\n",
       "      <td>0.116667</td>\n",
       "    </tr>\n",
       "    <tr>\n",
       "      <th>17208</th>\n",
       "      <td>Box</td>\n",
       "      <td>I absolutely love app! It provides fast access...</td>\n",
       "      <td>Positive</td>\n",
       "      <td>0.544940</td>\n",
       "      <td>0.758333</td>\n",
       "    </tr>\n",
       "    <tr>\n",
       "      <th>17209</th>\n",
       "      <td>Box</td>\n",
       "      <td>Quite simply best does. It's bloat Ware, aroun...</td>\n",
       "      <td>Positive</td>\n",
       "      <td>0.550000</td>\n",
       "      <td>0.487500</td>\n",
       "    </tr>\n",
       "    <tr>\n",
       "      <th>17210</th>\n",
       "      <td>Box</td>\n",
       "      <td>My organic chemistry course used class learn. ...</td>\n",
       "      <td>Positive</td>\n",
       "      <td>0.200000</td>\n",
       "      <td>0.200000</td>\n",
       "    </tr>\n",
       "    <tr>\n",
       "      <th>17211</th>\n",
       "      <td>Box</td>\n",
       "      <td>A impressive replacement Sharepoint useful peo...</td>\n",
       "      <td>Positive</td>\n",
       "      <td>0.577778</td>\n",
       "      <td>0.611111</td>\n",
       "    </tr>\n",
       "    <tr>\n",
       "      <th>...</th>\n",
       "      <td>...</td>\n",
       "      <td>...</td>\n",
       "      <td>...</td>\n",
       "      <td>...</td>\n",
       "      <td>...</td>\n",
       "    </tr>\n",
       "    <tr>\n",
       "      <th>17322</th>\n",
       "      <td>Box</td>\n",
       "      <td>How log box. I love using 10yr.</td>\n",
       "      <td>Positive</td>\n",
       "      <td>0.500000</td>\n",
       "      <td>0.600000</td>\n",
       "    </tr>\n",
       "    <tr>\n",
       "      <th>17323</th>\n",
       "      <td>Box</td>\n",
       "      <td>NaN</td>\n",
       "      <td>NaN</td>\n",
       "      <td>NaN</td>\n",
       "      <td>NaN</td>\n",
       "    </tr>\n",
       "    <tr>\n",
       "      <th>17324</th>\n",
       "      <td>Box</td>\n",
       "      <td>best cloud storage PC</td>\n",
       "      <td>Positive</td>\n",
       "      <td>1.000000</td>\n",
       "      <td>0.300000</td>\n",
       "    </tr>\n",
       "    <tr>\n",
       "      <th>17325</th>\n",
       "      <td>Box</td>\n",
       "      <td>Very help thxxxx</td>\n",
       "      <td>Positive</td>\n",
       "      <td>0.200000</td>\n",
       "      <td>0.300000</td>\n",
       "    </tr>\n",
       "    <tr>\n",
       "      <th>17326</th>\n",
       "      <td>Box</td>\n",
       "      <td>I love Box. I've using 5 years.</td>\n",
       "      <td>Positive</td>\n",
       "      <td>0.500000</td>\n",
       "      <td>0.600000</td>\n",
       "    </tr>\n",
       "  </tbody>\n",
       "</table>\n",
       "<p>120 rows × 5 columns</p>\n",
       "</div>"
      ],
      "text/plain": [
       "       App                                  Translated_Review Sentiment  \\\n",
       "17207  Box  Please bring back properly labeled buttons mus...   Neutral   \n",
       "17208  Box  I absolutely love app! It provides fast access...  Positive   \n",
       "17209  Box  Quite simply best does. It's bloat Ware, aroun...  Positive   \n",
       "17210  Box  My organic chemistry course used class learn. ...  Positive   \n",
       "17211  Box  A impressive replacement Sharepoint useful peo...  Positive   \n",
       "...    ...                                                ...       ...   \n",
       "17322  Box                    How log box. I love using 10yr.  Positive   \n",
       "17323  Box                                                NaN       NaN   \n",
       "17324  Box                              best cloud storage PC  Positive   \n",
       "17325  Box                                   Very help thxxxx  Positive   \n",
       "17326  Box                    I love Box. I've using 5 years.  Positive   \n",
       "\n",
       "       Sentiment_Polarity  Sentiment_Subjectivity  \n",
       "17207            0.000000                0.116667  \n",
       "17208            0.544940                0.758333  \n",
       "17209            0.550000                0.487500  \n",
       "17210            0.200000                0.200000  \n",
       "17211            0.577778                0.611111  \n",
       "...                   ...                     ...  \n",
       "17322            0.500000                0.600000  \n",
       "17323                 NaN                     NaN  \n",
       "17324            1.000000                0.300000  \n",
       "17325            0.200000                0.300000  \n",
       "17326            0.500000                0.600000  \n",
       "\n",
       "[120 rows x 5 columns]"
      ]
     },
     "execution_count": 8,
     "metadata": {},
     "output_type": "execute_result"
    }
   ],
   "source": [
    "df2[df2['App']=='Box']"
   ]
  },
  {
   "cell_type": "markdown",
   "metadata": {
    "slideshow": {
     "slide_type": "skip"
    }
   },
   "source": [
    "Each Android application (mostly) in the 1<sup>st</sup> dataset has multiple entries in the 2<sup>nd</sup> dataset representing different related reviews, but as we have a rating value for each application in the first dataset, we can ignore the second one. <br>\n",
    "But let's remove the duplicates."
   ]
  },
  {
   "cell_type": "code",
   "execution_count": 11,
   "metadata": {
    "slideshow": {
     "slide_type": "skip"
    }
   },
   "outputs": [],
   "source": [
    "df.drop_duplicates(inplace=True, ignore_index=True)"
   ]
  },
  {
   "cell_type": "markdown",
   "metadata": {
    "slideshow": {
     "slide_type": "skip"
    }
   },
   "source": [
    "***\n",
    "- Filling NA"
   ]
  },
  {
   "cell_type": "code",
   "execution_count": 15,
   "metadata": {
    "slideshow": {
     "slide_type": "skip"
    }
   },
   "outputs": [
    {
     "data": {
      "text/plain": [
       "(1465, 1074)"
      ]
     },
     "execution_count": 15,
     "metadata": {},
     "output_type": "execute_result"
    }
   ],
   "source": [
    "df.Rating.isnull().sum(), df2.App.value_counts().count() # Unique applications in the 2nd df"
   ]
  },
  {
   "cell_type": "code",
   "execution_count": 14,
   "metadata": {
    "slideshow": {
     "slide_type": "skip"
    }
   },
   "outputs": [
    {
     "data": {
      "text/plain": [
       "0"
      ]
     },
     "execution_count": 14,
     "metadata": {},
     "output_type": "execute_result"
    }
   ],
   "source": [
    "df2['App'].apply(lambda x: x in df[df.Rating.isnull()]['App']).sum()"
   ]
  },
  {
   "cell_type": "markdown",
   "metadata": {
    "slideshow": {
     "slide_type": "skip"
    }
   },
   "source": [
    "df2 - for applications reviews - does not have any useful data regarding ratings of applications in the 1<sup>st</sup> dataset with missing ratings, so these application records in the 1<sup>st</sup>  dataframe to get 0 ratings."
   ]
  },
  {
   "cell_type": "code",
   "execution_count": 16,
   "metadata": {
    "slideshow": {
     "slide_type": "skip"
    }
   },
   "outputs": [],
   "source": [
    "df['Rating'].fillna(0, inplace=True)"
   ]
  },
  {
   "cell_type": "markdown",
   "metadata": {
    "slideshow": {
     "slide_type": "skip"
    }
   },
   "source": [
    "Create a new dataframe with needed features only representing Android data"
   ]
  },
  {
   "cell_type": "code",
   "execution_count": 106,
   "metadata": {
    "slideshow": {
     "slide_type": "skip"
    }
   },
   "outputs": [],
   "source": [
    "# 'Installs' are categorical and not accurate numbers e.g. 10,000,000+\n",
    "# 'Type' is an added value for meaningful values in the already available 'Price' feature\n",
    "# 'Genres' is a repeated feature for the already available 'Category' feature\n",
    "# 'Last Updated' & 'Android Ver' not in need currently\n",
    "df_Andrd=df.drop(columns=['Installs', 'Type', 'Genres', 'Last Updated', 'Android Ver'])"
   ]
  },
  {
   "cell_type": "code",
   "execution_count": 22,
   "metadata": {
    "slideshow": {
     "slide_type": "skip"
    }
   },
   "outputs": [
    {
     "data": {
      "text/html": [
       "<div>\n",
       "<style scoped>\n",
       "    .dataframe tbody tr th:only-of-type {\n",
       "        vertical-align: middle;\n",
       "    }\n",
       "\n",
       "    .dataframe tbody tr th {\n",
       "        vertical-align: top;\n",
       "    }\n",
       "\n",
       "    .dataframe thead th {\n",
       "        text-align: right;\n",
       "    }\n",
       "</style>\n",
       "<table border=\"1\" class=\"dataframe\">\n",
       "  <thead>\n",
       "    <tr style=\"text-align: right;\">\n",
       "      <th></th>\n",
       "      <th>App</th>\n",
       "      <th>Category</th>\n",
       "      <th>Rating</th>\n",
       "      <th>Reviews</th>\n",
       "      <th>Size</th>\n",
       "      <th>Price</th>\n",
       "      <th>Content Rating</th>\n",
       "      <th>Current Ver</th>\n",
       "    </tr>\n",
       "  </thead>\n",
       "  <tbody>\n",
       "    <tr>\n",
       "      <th>9990</th>\n",
       "      <td>Life Made WI-Fi Touchscreen Photo Frame</td>\n",
       "      <td>1.9</td>\n",
       "      <td>19.0</td>\n",
       "      <td>3.0M</td>\n",
       "      <td>1,000+</td>\n",
       "      <td>Everyone</td>\n",
       "      <td>NaN</td>\n",
       "      <td>4.0 and up</td>\n",
       "    </tr>\n",
       "  </tbody>\n",
       "</table>\n",
       "</div>"
      ],
      "text/plain": [
       "                                          App Category  Rating Reviews  \\\n",
       "9990  Life Made WI-Fi Touchscreen Photo Frame      1.9    19.0    3.0M   \n",
       "\n",
       "        Size     Price Content Rating Current Ver  \n",
       "9990  1,000+  Everyone            NaN  4.0 and up  "
      ]
     },
     "execution_count": 22,
     "metadata": {},
     "output_type": "execute_result"
    }
   ],
   "source": [
    "df_Andrd[df_Andrd['Content Rating'].isnull()]"
   ]
  },
  {
   "cell_type": "code",
   "execution_count": 23,
   "metadata": {
    "slideshow": {
     "slide_type": "skip"
    }
   },
   "outputs": [
    {
     "data": {
      "text/plain": [
       "App               Life Made WI-Fi Touchscreen Photo Frame\n",
       "Category                                              1.9\n",
       "Rating                                                 19\n",
       "Reviews                                              3.0M\n",
       "Size                                               1,000+\n",
       "Installs                                             Free\n",
       "Type                                                    0\n",
       "Price                                            Everyone\n",
       "Content Rating                                        NaN\n",
       "Genres                                  February 11, 2018\n",
       "Last Updated                                       1.0.19\n",
       "Current Ver                                    4.0 and up\n",
       "Android Ver                                           NaN\n",
       "Name: 9990, dtype: object"
      ]
     },
     "execution_count": 23,
     "metadata": {},
     "output_type": "execute_result"
    }
   ],
   "source": [
    "df.iloc[9990] # values here are shifted left"
   ]
  },
  {
   "cell_type": "code",
   "execution_count": 107,
   "metadata": {
    "slideshow": {
     "slide_type": "skip"
    }
   },
   "outputs": [],
   "source": [
    "# Resolving the above issue, by setting the values again with shifting right.\n",
    "# and filling the missing 'Category' by searching for this app on the store manually\n",
    "df_Andrd.drop(index=9990, inplace=True)\n",
    "new_vals=pd.DataFrame(np.array(['Life Made WI-Fi Touchscreen Photo Frame', 'LIFESTYLE', 1.9, 19, '3.0M', 0, 'Everyone',\n",
    "                       '1.0.19']).reshape((1,8)), columns=df_Andrd.columns)\n",
    "df_Andrd=df_Andrd.append(new_vals, ignore_index=True)"
   ]
  },
  {
   "cell_type": "code",
   "execution_count": 108,
   "metadata": {
    "slideshow": {
     "slide_type": "skip"
    }
   },
   "outputs": [],
   "source": [
    "imp_const=SimpleImputer(strategy='most_frequent')\n",
    "df_Andrd['Current Ver']=imp_const.fit_transform(df_Andrd[['Current Ver']])"
   ]
  },
  {
   "cell_type": "code",
   "execution_count": 109,
   "metadata": {
    "slideshow": {
     "slide_type": "skip"
    }
   },
   "outputs": [
    {
     "data": {
      "text/plain": [
       "App               0\n",
       "Category          0\n",
       "Rating            0\n",
       "Reviews           0\n",
       "Size              0\n",
       "Price             0\n",
       "Content Rating    0\n",
       "Current Ver       0\n",
       "dtype: int64"
      ]
     },
     "execution_count": 109,
     "metadata": {},
     "output_type": "execute_result"
    }
   ],
   "source": [
    "df_Andrd.isnull().sum()\n",
    "# No more missing values in this df"
   ]
  },
  {
   "cell_type": "code",
   "execution_count": 33,
   "metadata": {
    "slideshow": {
     "slide_type": "skip"
    }
   },
   "outputs": [
    {
     "data": {
      "text/html": [
       "<div>\n",
       "<style scoped>\n",
       "    .dataframe tbody tr th:only-of-type {\n",
       "        vertical-align: middle;\n",
       "    }\n",
       "\n",
       "    .dataframe tbody tr th {\n",
       "        vertical-align: top;\n",
       "    }\n",
       "\n",
       "    .dataframe thead th {\n",
       "        text-align: right;\n",
       "    }\n",
       "</style>\n",
       "<table border=\"1\" class=\"dataframe\">\n",
       "  <thead>\n",
       "    <tr style=\"text-align: right;\">\n",
       "      <th></th>\n",
       "      <th>App</th>\n",
       "      <th>Category</th>\n",
       "      <th>Rating</th>\n",
       "      <th>Reviews</th>\n",
       "      <th>Size</th>\n",
       "      <th>Price</th>\n",
       "      <th>Content Rating</th>\n",
       "      <th>Current Ver</th>\n",
       "    </tr>\n",
       "  </thead>\n",
       "  <tbody>\n",
       "    <tr>\n",
       "      <th>count</th>\n",
       "      <td>10358</td>\n",
       "      <td>10358</td>\n",
       "      <td>10358.0</td>\n",
       "      <td>10358</td>\n",
       "      <td>10358</td>\n",
       "      <td>10358</td>\n",
       "      <td>10358</td>\n",
       "      <td>10358</td>\n",
       "    </tr>\n",
       "    <tr>\n",
       "      <th>unique</th>\n",
       "      <td>9660</td>\n",
       "      <td>33</td>\n",
       "      <td>41.0</td>\n",
       "      <td>6001</td>\n",
       "      <td>461</td>\n",
       "      <td>92</td>\n",
       "      <td>6</td>\n",
       "      <td>2831</td>\n",
       "    </tr>\n",
       "    <tr>\n",
       "      <th>top</th>\n",
       "      <td>ROBLOX</td>\n",
       "      <td>FAMILY</td>\n",
       "      <td>0.0</td>\n",
       "      <td>0</td>\n",
       "      <td>Varies with device</td>\n",
       "      <td>0</td>\n",
       "      <td>Everyone</td>\n",
       "      <td>Varies with device</td>\n",
       "    </tr>\n",
       "    <tr>\n",
       "      <th>freq</th>\n",
       "      <td>9</td>\n",
       "      <td>1943</td>\n",
       "      <td>1465.0</td>\n",
       "      <td>593</td>\n",
       "      <td>1526</td>\n",
       "      <td>9593</td>\n",
       "      <td>8383</td>\n",
       "      <td>1310</td>\n",
       "    </tr>\n",
       "  </tbody>\n",
       "</table>\n",
       "</div>"
      ],
      "text/plain": [
       "           App Category   Rating Reviews                Size  Price  \\\n",
       "count    10358    10358  10358.0   10358               10358  10358   \n",
       "unique    9660       33     41.0    6001                 461     92   \n",
       "top     ROBLOX   FAMILY      0.0       0  Varies with device      0   \n",
       "freq         9     1943   1465.0     593                1526   9593   \n",
       "\n",
       "       Content Rating         Current Ver  \n",
       "count           10358               10358  \n",
       "unique              6                2831  \n",
       "top          Everyone  Varies with device  \n",
       "freq             8383                1310  "
      ]
     },
     "execution_count": 33,
     "metadata": {},
     "output_type": "execute_result"
    }
   ],
   "source": [
    "df_Andrd.describe()"
   ]
  },
  {
   "cell_type": "code",
   "execution_count": 34,
   "metadata": {
    "slideshow": {
     "slide_type": "skip"
    }
   },
   "outputs": [
    {
     "data": {
      "text/plain": [
       "array(['M', 'e', 'k'], dtype=object)"
      ]
     },
     "execution_count": 34,
     "metadata": {},
     "output_type": "execute_result"
    }
   ],
   "source": [
    "df_Andrd.Size.apply(lambda x: x[-1]).unique()"
   ]
  },
  {
   "cell_type": "code",
   "execution_count": 36,
   "metadata": {
    "slideshow": {
     "slide_type": "skip"
    }
   },
   "outputs": [
    {
     "data": {
      "text/html": [
       "<div>\n",
       "<style scoped>\n",
       "    .dataframe tbody tr th:only-of-type {\n",
       "        vertical-align: middle;\n",
       "    }\n",
       "\n",
       "    .dataframe tbody tr th {\n",
       "        vertical-align: top;\n",
       "    }\n",
       "\n",
       "    .dataframe thead th {\n",
       "        text-align: right;\n",
       "    }\n",
       "</style>\n",
       "<table border=\"1\" class=\"dataframe\">\n",
       "  <thead>\n",
       "    <tr style=\"text-align: right;\">\n",
       "      <th></th>\n",
       "      <th>App</th>\n",
       "      <th>Category</th>\n",
       "      <th>Rating</th>\n",
       "      <th>Reviews</th>\n",
       "      <th>Size</th>\n",
       "      <th>Price</th>\n",
       "      <th>Content Rating</th>\n",
       "      <th>Current Ver</th>\n",
       "    </tr>\n",
       "  </thead>\n",
       "  <tbody>\n",
       "    <tr>\n",
       "      <th>2946</th>\n",
       "      <td>OnePlus Launcher</td>\n",
       "      <td>PERSONALIZATION</td>\n",
       "      <td>4</td>\n",
       "      <td>24215</td>\n",
       "      <td>Varies with device</td>\n",
       "      <td>0</td>\n",
       "      <td>Everyone</td>\n",
       "      <td>Varies with device</td>\n",
       "    </tr>\n",
       "    <tr>\n",
       "      <th>5506</th>\n",
       "      <td>Transit: Real-Time Transit App</td>\n",
       "      <td>MAPS_AND_NAVIGATION</td>\n",
       "      <td>4.2</td>\n",
       "      <td>43252</td>\n",
       "      <td>Varies with device</td>\n",
       "      <td>0</td>\n",
       "      <td>Everyone</td>\n",
       "      <td>4.4.7</td>\n",
       "    </tr>\n",
       "    <tr>\n",
       "      <th>2552</th>\n",
       "      <td>VSCO</td>\n",
       "      <td>PHOTOGRAPHY</td>\n",
       "      <td>4.4</td>\n",
       "      <td>753115</td>\n",
       "      <td>Varies with device</td>\n",
       "      <td>0</td>\n",
       "      <td>Everyone</td>\n",
       "      <td>71</td>\n",
       "    </tr>\n",
       "  </tbody>\n",
       "</table>\n",
       "</div>"
      ],
      "text/plain": [
       "                                 App             Category Rating Reviews  \\\n",
       "2946                OnePlus Launcher      PERSONALIZATION      4   24215   \n",
       "5506  Transit: Real-Time Transit App  MAPS_AND_NAVIGATION    4.2   43252   \n",
       "2552                            VSCO          PHOTOGRAPHY    4.4  753115   \n",
       "\n",
       "                    Size Price Content Rating         Current Ver  \n",
       "2946  Varies with device     0       Everyone  Varies with device  \n",
       "5506  Varies with device     0       Everyone               4.4.7  \n",
       "2552  Varies with device     0       Everyone                  71  "
      ]
     },
     "execution_count": 36,
     "metadata": {},
     "output_type": "execute_result"
    }
   ],
   "source": [
    "df_Andrd[df_Andrd.Size.apply(lambda x: x[-1])=='e'].sample(3)"
   ]
  },
  {
   "cell_type": "code",
   "execution_count": 54,
   "metadata": {
    "slideshow": {
     "slide_type": "skip"
    }
   },
   "outputs": [
    {
     "data": {
      "text/plain": [
       "Varies with device    1526\n",
       "11M                    188\n",
       "12M                    186\n",
       "13M                    186\n",
       "14M                    182\n",
       "                      ... \n",
       "306k                     1\n",
       "170k                     1\n",
       "951k                     1\n",
       "749k                     1\n",
       "376k                     1\n",
       "Name: Size, Length: 461, dtype: int64"
      ]
     },
     "execution_count": 54,
     "metadata": {},
     "output_type": "execute_result"
    }
   ],
   "source": [
    "df_Andrd.Size.value_counts()"
   ]
  },
  {
   "cell_type": "code",
   "execution_count": 110,
   "metadata": {
    "slideshow": {
     "slide_type": "skip"
    }
   },
   "outputs": [],
   "source": [
    "# Assigning 'varies with device' sizes with the most common correct value\n",
    "df_Andrd.loc[df_Andrd['Size']=='Varies with device',['Size']] = '11M'"
   ]
  },
  {
   "cell_type": "code",
   "execution_count": 56,
   "metadata": {
    "slideshow": {
     "slide_type": "skip"
    }
   },
   "outputs": [
    {
     "data": {
      "text/plain": [
       "array(['M', 'k'], dtype=object)"
      ]
     },
     "execution_count": 56,
     "metadata": {},
     "output_type": "execute_result"
    }
   ],
   "source": [
    "# To confirm\n",
    "df_Andrd.Size.apply(lambda x: x[-1]).unique()"
   ]
  },
  {
   "cell_type": "code",
   "execution_count": 111,
   "metadata": {
    "slideshow": {
     "slide_type": "skip"
    }
   },
   "outputs": [],
   "source": [
    "# Convert size values to bytes scale instead of 'M' and 'k'\n",
    "multi=df_Andrd.Size.apply(lambda x: x[-1]).map({'M': 10**6, 'k': 10**3})\n",
    "df_Andrd.Size=pd.to_numeric(df_Andrd.Size.apply(lambda x: x[:-1]))*multi"
   ]
  },
  {
   "cell_type": "code",
   "execution_count": 112,
   "metadata": {
    "slideshow": {
     "slide_type": "skip"
    }
   },
   "outputs": [],
   "source": [
    "# Convert prices to numerics, but first remove the dollar sign\n",
    "df_Andrd.Price=pd.to_numeric(df_Andrd.Price.apply(lambda x: x.strip('$')))"
   ]
  },
  {
   "cell_type": "code",
   "execution_count": 113,
   "metadata": {
    "slideshow": {
     "slide_type": "skip"
    }
   },
   "outputs": [],
   "source": [
    "# Convert other columns to numbers\n",
    "numerics = ['Rating', 'Reviews']\n",
    "for numeric in numerics:\n",
    "    df_Andrd[numeric]=pd.to_numeric(df_Andrd[numeric])"
   ]
  },
  {
   "cell_type": "markdown",
   "metadata": {
    "slideshow": {
     "slide_type": "skip"
    }
   },
   "source": [
    "Check on the categories present in the data"
   ]
  },
  {
   "cell_type": "markdown",
   "metadata": {
    "slideshow": {
     "slide_type": "slide"
    }
   },
   "source": [
    "*The Android Play Store data after cleaning*"
   ]
  },
  {
   "cell_type": "code",
   "execution_count": 60,
   "metadata": {
    "slideshow": {
     "slide_type": "-"
    }
   },
   "outputs": [
    {
     "data": {
      "text/html": [
       "<div>\n",
       "<style scoped>\n",
       "    .dataframe tbody tr th:only-of-type {\n",
       "        vertical-align: middle;\n",
       "    }\n",
       "\n",
       "    .dataframe tbody tr th {\n",
       "        vertical-align: top;\n",
       "    }\n",
       "\n",
       "    .dataframe thead th {\n",
       "        text-align: right;\n",
       "    }\n",
       "</style>\n",
       "<table border=\"1\" class=\"dataframe\">\n",
       "  <thead>\n",
       "    <tr style=\"text-align: right;\">\n",
       "      <th></th>\n",
       "      <th>App</th>\n",
       "      <th>Category</th>\n",
       "      <th>Rating</th>\n",
       "      <th>Reviews</th>\n",
       "      <th>Size</th>\n",
       "      <th>Price</th>\n",
       "      <th>Content Rating</th>\n",
       "      <th>Current Ver</th>\n",
       "    </tr>\n",
       "  </thead>\n",
       "  <tbody>\n",
       "    <tr>\n",
       "      <th>2218</th>\n",
       "      <td>High Blood Pressure Symptoms</td>\n",
       "      <td>MEDICAL</td>\n",
       "      <td>4.0</td>\n",
       "      <td>531</td>\n",
       "      <td>2300000.0</td>\n",
       "      <td>0.0</td>\n",
       "      <td>Everyone</td>\n",
       "      <td>1.0</td>\n",
       "    </tr>\n",
       "    <tr>\n",
       "      <th>9641</th>\n",
       "      <td>EZ Video Download for Facebook</td>\n",
       "      <td>SOCIAL</td>\n",
       "      <td>4.1</td>\n",
       "      <td>34079</td>\n",
       "      <td>1300000.0</td>\n",
       "      <td>0.0</td>\n",
       "      <td>Teen</td>\n",
       "      <td>2.001</td>\n",
       "    </tr>\n",
       "    <tr>\n",
       "      <th>2955</th>\n",
       "      <td>Backgrounds (HD Wallpapers)</td>\n",
       "      <td>PERSONALIZATION</td>\n",
       "      <td>4.7</td>\n",
       "      <td>202474</td>\n",
       "      <td>3000000.0</td>\n",
       "      <td>0.0</td>\n",
       "      <td>Teen</td>\n",
       "      <td>2.6.0</td>\n",
       "    </tr>\n",
       "    <tr>\n",
       "      <th>3254</th>\n",
       "      <td>Music - Mp3 Player</td>\n",
       "      <td>VIDEO_PLAYERS</td>\n",
       "      <td>4.4</td>\n",
       "      <td>259605</td>\n",
       "      <td>3100000.0</td>\n",
       "      <td>0.0</td>\n",
       "      <td>Everyone</td>\n",
       "      <td>1.6.1</td>\n",
       "    </tr>\n",
       "    <tr>\n",
       "      <th>6909</th>\n",
       "      <td>CI Crew</td>\n",
       "      <td>FAMILY</td>\n",
       "      <td>0.0</td>\n",
       "      <td>1</td>\n",
       "      <td>30000000.0</td>\n",
       "      <td>0.0</td>\n",
       "      <td>Everyone</td>\n",
       "      <td>0.7</td>\n",
       "    </tr>\n",
       "    <tr>\n",
       "      <th>6278</th>\n",
       "      <td>BS MAPS</td>\n",
       "      <td>MAPS_AND_NAVIGATION</td>\n",
       "      <td>4.5</td>\n",
       "      <td>6</td>\n",
       "      <td>2500000.0</td>\n",
       "      <td>0.0</td>\n",
       "      <td>Everyone</td>\n",
       "      <td>2.1</td>\n",
       "    </tr>\n",
       "    <tr>\n",
       "      <th>929</th>\n",
       "      <td>Capital One® Mobile</td>\n",
       "      <td>FINANCE</td>\n",
       "      <td>4.6</td>\n",
       "      <td>510392</td>\n",
       "      <td>79000000.0</td>\n",
       "      <td>0.0</td>\n",
       "      <td>Everyone</td>\n",
       "      <td>5.38.1</td>\n",
       "    </tr>\n",
       "  </tbody>\n",
       "</table>\n",
       "</div>"
      ],
      "text/plain": [
       "                                 App             Category  Rating  Reviews  \\\n",
       "2218    High Blood Pressure Symptoms              MEDICAL     4.0      531   \n",
       "9641  EZ Video Download for Facebook               SOCIAL     4.1    34079   \n",
       "2955     Backgrounds (HD Wallpapers)      PERSONALIZATION     4.7   202474   \n",
       "3254              Music - Mp3 Player        VIDEO_PLAYERS     4.4   259605   \n",
       "6909                         CI Crew               FAMILY     0.0        1   \n",
       "6278                         BS MAPS  MAPS_AND_NAVIGATION     4.5        6   \n",
       "929              Capital One® Mobile              FINANCE     4.6   510392   \n",
       "\n",
       "            Size  Price Content Rating Current Ver  \n",
       "2218   2300000.0    0.0       Everyone         1.0  \n",
       "9641   1300000.0    0.0           Teen       2.001  \n",
       "2955   3000000.0    0.0           Teen       2.6.0  \n",
       "3254   3100000.0    0.0       Everyone       1.6.1  \n",
       "6909  30000000.0    0.0       Everyone         0.7  \n",
       "6278   2500000.0    0.0       Everyone         2.1  \n",
       "929   79000000.0    0.0       Everyone      5.38.1  "
      ]
     },
     "execution_count": 60,
     "metadata": {},
     "output_type": "execute_result"
    }
   ],
   "source": [
    "df_Andrd.sample(7)"
   ]
  },
  {
   "cell_type": "code",
   "execution_count": 61,
   "metadata": {
    "slideshow": {
     "slide_type": "-"
    }
   },
   "outputs": [
    {
     "name": "stdout",
     "output_type": "stream",
     "text": [
      "<class 'pandas.core.frame.DataFrame'>\n",
      "RangeIndex: 10358 entries, 0 to 10357\n",
      "Data columns (total 8 columns):\n",
      " #   Column          Non-Null Count  Dtype  \n",
      "---  ------          --------------  -----  \n",
      " 0   App             10358 non-null  object \n",
      " 1   Category        10358 non-null  object \n",
      " 2   Rating          10358 non-null  float64\n",
      " 3   Reviews         10358 non-null  int64  \n",
      " 4   Size            10358 non-null  float64\n",
      " 5   Price           10358 non-null  float64\n",
      " 6   Content Rating  10358 non-null  object \n",
      " 7   Current Ver     10358 non-null  object \n",
      "dtypes: float64(3), int64(1), object(4)\n",
      "memory usage: 647.5+ KB\n"
     ]
    }
   ],
   "source": [
    "df_Andrd.info()"
   ]
  },
  {
   "cell_type": "markdown",
   "metadata": {
    "slideshow": {
     "slide_type": "skip"
    }
   },
   "source": [
    "<hr />\n",
    "- Now let's explore the Apple Store datasets"
   ]
  },
  {
   "cell_type": "code",
   "execution_count": 64,
   "metadata": {
    "slideshow": {
     "slide_type": "skip"
    }
   },
   "outputs": [
    {
     "data": {
      "text/html": [
       "<div>\n",
       "<style scoped>\n",
       "    .dataframe tbody tr th:only-of-type {\n",
       "        vertical-align: middle;\n",
       "    }\n",
       "\n",
       "    .dataframe tbody tr th {\n",
       "        vertical-align: top;\n",
       "    }\n",
       "\n",
       "    .dataframe thead th {\n",
       "        text-align: right;\n",
       "    }\n",
       "</style>\n",
       "<table border=\"1\" class=\"dataframe\">\n",
       "  <thead>\n",
       "    <tr style=\"text-align: right;\">\n",
       "      <th></th>\n",
       "      <th>Unnamed: 0</th>\n",
       "      <th>id</th>\n",
       "      <th>track_name</th>\n",
       "      <th>size_bytes</th>\n",
       "      <th>currency</th>\n",
       "      <th>price</th>\n",
       "      <th>rating_count_tot</th>\n",
       "      <th>rating_count_ver</th>\n",
       "      <th>user_rating</th>\n",
       "      <th>user_rating_ver</th>\n",
       "      <th>ver</th>\n",
       "      <th>cont_rating</th>\n",
       "      <th>prime_genre</th>\n",
       "      <th>sup_devices.num</th>\n",
       "      <th>ipadSc_urls.num</th>\n",
       "      <th>lang.num</th>\n",
       "      <th>vpp_lic</th>\n",
       "    </tr>\n",
       "  </thead>\n",
       "  <tbody>\n",
       "    <tr>\n",
       "      <th>0</th>\n",
       "      <td>1</td>\n",
       "      <td>281656475</td>\n",
       "      <td>PAC-MAN Premium</td>\n",
       "      <td>100788224</td>\n",
       "      <td>USD</td>\n",
       "      <td>3.99</td>\n",
       "      <td>21292</td>\n",
       "      <td>26</td>\n",
       "      <td>4.0</td>\n",
       "      <td>4.5</td>\n",
       "      <td>6.3.5</td>\n",
       "      <td>4+</td>\n",
       "      <td>Games</td>\n",
       "      <td>38</td>\n",
       "      <td>5</td>\n",
       "      <td>10</td>\n",
       "      <td>1</td>\n",
       "    </tr>\n",
       "    <tr>\n",
       "      <th>1</th>\n",
       "      <td>2</td>\n",
       "      <td>281796108</td>\n",
       "      <td>Evernote - stay organized</td>\n",
       "      <td>158578688</td>\n",
       "      <td>USD</td>\n",
       "      <td>0.00</td>\n",
       "      <td>161065</td>\n",
       "      <td>26</td>\n",
       "      <td>4.0</td>\n",
       "      <td>3.5</td>\n",
       "      <td>8.2.2</td>\n",
       "      <td>4+</td>\n",
       "      <td>Productivity</td>\n",
       "      <td>37</td>\n",
       "      <td>5</td>\n",
       "      <td>23</td>\n",
       "      <td>1</td>\n",
       "    </tr>\n",
       "    <tr>\n",
       "      <th>2</th>\n",
       "      <td>3</td>\n",
       "      <td>281940292</td>\n",
       "      <td>WeatherBug - Local Weather, Radar, Maps, Alerts</td>\n",
       "      <td>100524032</td>\n",
       "      <td>USD</td>\n",
       "      <td>0.00</td>\n",
       "      <td>188583</td>\n",
       "      <td>2822</td>\n",
       "      <td>3.5</td>\n",
       "      <td>4.5</td>\n",
       "      <td>5.0.0</td>\n",
       "      <td>4+</td>\n",
       "      <td>Weather</td>\n",
       "      <td>37</td>\n",
       "      <td>5</td>\n",
       "      <td>3</td>\n",
       "      <td>1</td>\n",
       "    </tr>\n",
       "    <tr>\n",
       "      <th>3</th>\n",
       "      <td>4</td>\n",
       "      <td>282614216</td>\n",
       "      <td>eBay: Best App to Buy, Sell, Save! Online Shop...</td>\n",
       "      <td>128512000</td>\n",
       "      <td>USD</td>\n",
       "      <td>0.00</td>\n",
       "      <td>262241</td>\n",
       "      <td>649</td>\n",
       "      <td>4.0</td>\n",
       "      <td>4.5</td>\n",
       "      <td>5.10.0</td>\n",
       "      <td>12+</td>\n",
       "      <td>Shopping</td>\n",
       "      <td>37</td>\n",
       "      <td>5</td>\n",
       "      <td>9</td>\n",
       "      <td>1</td>\n",
       "    </tr>\n",
       "    <tr>\n",
       "      <th>4</th>\n",
       "      <td>5</td>\n",
       "      <td>282935706</td>\n",
       "      <td>Bible</td>\n",
       "      <td>92774400</td>\n",
       "      <td>USD</td>\n",
       "      <td>0.00</td>\n",
       "      <td>985920</td>\n",
       "      <td>5320</td>\n",
       "      <td>4.5</td>\n",
       "      <td>5.0</td>\n",
       "      <td>7.5.1</td>\n",
       "      <td>4+</td>\n",
       "      <td>Reference</td>\n",
       "      <td>37</td>\n",
       "      <td>5</td>\n",
       "      <td>45</td>\n",
       "      <td>1</td>\n",
       "    </tr>\n",
       "  </tbody>\n",
       "</table>\n",
       "</div>"
      ],
      "text/plain": [
       "   Unnamed: 0         id                                         track_name  \\\n",
       "0           1  281656475                                    PAC-MAN Premium   \n",
       "1           2  281796108                          Evernote - stay organized   \n",
       "2           3  281940292    WeatherBug - Local Weather, Radar, Maps, Alerts   \n",
       "3           4  282614216  eBay: Best App to Buy, Sell, Save! Online Shop...   \n",
       "4           5  282935706                                              Bible   \n",
       "\n",
       "   size_bytes currency  price  rating_count_tot  rating_count_ver  \\\n",
       "0   100788224      USD   3.99             21292                26   \n",
       "1   158578688      USD   0.00            161065                26   \n",
       "2   100524032      USD   0.00            188583              2822   \n",
       "3   128512000      USD   0.00            262241               649   \n",
       "4    92774400      USD   0.00            985920              5320   \n",
       "\n",
       "   user_rating  user_rating_ver     ver cont_rating   prime_genre  \\\n",
       "0          4.0              4.5   6.3.5          4+         Games   \n",
       "1          4.0              3.5   8.2.2          4+  Productivity   \n",
       "2          3.5              4.5   5.0.0          4+       Weather   \n",
       "3          4.0              4.5  5.10.0         12+      Shopping   \n",
       "4          4.5              5.0   7.5.1          4+     Reference   \n",
       "\n",
       "   sup_devices.num  ipadSc_urls.num  lang.num  vpp_lic  \n",
       "0               38                5        10        1  \n",
       "1               37                5        23        1  \n",
       "2               37                5         3        1  \n",
       "3               37                5         9        1  \n",
       "4               37                5        45        1  "
      ]
     },
     "execution_count": 64,
     "metadata": {},
     "output_type": "execute_result"
    }
   ],
   "source": [
    "##Appstore data\n",
    "df3=pd.read_csv(\"Mobile App Store\\AppleStore.csv\")\n",
    "df3.head()"
   ]
  },
  {
   "cell_type": "code",
   "execution_count": 65,
   "metadata": {
    "slideshow": {
     "slide_type": "skip"
    }
   },
   "outputs": [
    {
     "name": "stdout",
     "output_type": "stream",
     "text": [
      "<class 'pandas.core.frame.DataFrame'>\n",
      "RangeIndex: 7197 entries, 0 to 7196\n",
      "Data columns (total 17 columns):\n",
      " #   Column            Non-Null Count  Dtype  \n",
      "---  ------            --------------  -----  \n",
      " 0   Unnamed: 0        7197 non-null   int64  \n",
      " 1   id                7197 non-null   int64  \n",
      " 2   track_name        7197 non-null   object \n",
      " 3   size_bytes        7197 non-null   int64  \n",
      " 4   currency          7197 non-null   object \n",
      " 5   price             7197 non-null   float64\n",
      " 6   rating_count_tot  7197 non-null   int64  \n",
      " 7   rating_count_ver  7197 non-null   int64  \n",
      " 8   user_rating       7197 non-null   float64\n",
      " 9   user_rating_ver   7197 non-null   float64\n",
      " 10  ver               7197 non-null   object \n",
      " 11  cont_rating       7197 non-null   object \n",
      " 12  prime_genre       7197 non-null   object \n",
      " 13  sup_devices.num   7197 non-null   int64  \n",
      " 14  ipadSc_urls.num   7197 non-null   int64  \n",
      " 15  lang.num          7197 non-null   int64  \n",
      " 16  vpp_lic           7197 non-null   int64  \n",
      "dtypes: float64(3), int64(9), object(5)\n",
      "memory usage: 956.0+ KB\n"
     ]
    }
   ],
   "source": [
    "df3.info()"
   ]
  },
  {
   "cell_type": "code",
   "execution_count": 66,
   "metadata": {
    "slideshow": {
     "slide_type": "skip"
    }
   },
   "outputs": [
    {
     "data": {
      "text/html": [
       "<div>\n",
       "<style scoped>\n",
       "    .dataframe tbody tr th:only-of-type {\n",
       "        vertical-align: middle;\n",
       "    }\n",
       "\n",
       "    .dataframe tbody tr th {\n",
       "        vertical-align: top;\n",
       "    }\n",
       "\n",
       "    .dataframe thead th {\n",
       "        text-align: right;\n",
       "    }\n",
       "</style>\n",
       "<table border=\"1\" class=\"dataframe\">\n",
       "  <thead>\n",
       "    <tr style=\"text-align: right;\">\n",
       "      <th></th>\n",
       "      <th>id</th>\n",
       "      <th>track_name</th>\n",
       "      <th>size_bytes</th>\n",
       "      <th>app_desc</th>\n",
       "    </tr>\n",
       "  </thead>\n",
       "  <tbody>\n",
       "    <tr>\n",
       "      <th>0</th>\n",
       "      <td>281656475</td>\n",
       "      <td>PAC-MAN Premium</td>\n",
       "      <td>100788224</td>\n",
       "      <td>SAVE 20%, now only $3.99 for a limited time!\\n...</td>\n",
       "    </tr>\n",
       "    <tr>\n",
       "      <th>1</th>\n",
       "      <td>281796108</td>\n",
       "      <td>Evernote - stay organized</td>\n",
       "      <td>158578688</td>\n",
       "      <td>Let Evernote change the way you organize your ...</td>\n",
       "    </tr>\n",
       "    <tr>\n",
       "      <th>2</th>\n",
       "      <td>281940292</td>\n",
       "      <td>WeatherBug - Local Weather, Radar, Maps, Alerts</td>\n",
       "      <td>100524032</td>\n",
       "      <td>Download the most popular free weather app pow...</td>\n",
       "    </tr>\n",
       "    <tr>\n",
       "      <th>3</th>\n",
       "      <td>282614216</td>\n",
       "      <td>eBay: Best App to Buy, Sell, Save! Online Shop...</td>\n",
       "      <td>128512000</td>\n",
       "      <td>The eBay app is the best way to find anything ...</td>\n",
       "    </tr>\n",
       "  </tbody>\n",
       "</table>\n",
       "</div>"
      ],
      "text/plain": [
       "          id                                         track_name  size_bytes  \\\n",
       "0  281656475                                    PAC-MAN Premium   100788224   \n",
       "1  281796108                          Evernote - stay organized   158578688   \n",
       "2  281940292    WeatherBug - Local Weather, Radar, Maps, Alerts   100524032   \n",
       "3  282614216  eBay: Best App to Buy, Sell, Save! Online Shop...   128512000   \n",
       "\n",
       "                                            app_desc  \n",
       "0  SAVE 20%, now only $3.99 for a limited time!\\n...  \n",
       "1  Let Evernote change the way you organize your ...  \n",
       "2  Download the most popular free weather app pow...  \n",
       "3  The eBay app is the best way to find anything ...  "
      ]
     },
     "execution_count": 66,
     "metadata": {},
     "output_type": "execute_result"
    }
   ],
   "source": [
    "df4=pd.read_csv(\"Mobile App Store/appleStore_description.csv\")\n",
    "df4.head(4)"
   ]
  },
  {
   "cell_type": "code",
   "execution_count": 67,
   "metadata": {
    "slideshow": {
     "slide_type": "skip"
    }
   },
   "outputs": [
    {
     "name": "stdout",
     "output_type": "stream",
     "text": [
      "<class 'pandas.core.frame.DataFrame'>\n",
      "RangeIndex: 7197 entries, 0 to 7196\n",
      "Data columns (total 4 columns):\n",
      " #   Column      Non-Null Count  Dtype \n",
      "---  ------      --------------  ----- \n",
      " 0   id          7197 non-null   int64 \n",
      " 1   track_name  7197 non-null   object\n",
      " 2   size_bytes  7197 non-null   int64 \n",
      " 3   app_desc    7197 non-null   object\n",
      "dtypes: int64(2), object(2)\n",
      "memory usage: 225.0+ KB\n"
     ]
    }
   ],
   "source": [
    "df4.info()"
   ]
  },
  {
   "cell_type": "code",
   "execution_count": 133,
   "metadata": {
    "slideshow": {
     "slide_type": "skip"
    }
   },
   "outputs": [
    {
     "data": {
      "text/html": [
       "<div>\n",
       "<style scoped>\n",
       "    .dataframe tbody tr th:only-of-type {\n",
       "        vertical-align: middle;\n",
       "    }\n",
       "\n",
       "    .dataframe tbody tr th {\n",
       "        vertical-align: top;\n",
       "    }\n",
       "\n",
       "    .dataframe thead th {\n",
       "        text-align: right;\n",
       "    }\n",
       "</style>\n",
       "<table border=\"1\" class=\"dataframe\">\n",
       "  <thead>\n",
       "    <tr style=\"text-align: right;\">\n",
       "      <th></th>\n",
       "      <th>Unnamed: 0</th>\n",
       "      <th>id</th>\n",
       "      <th>track_name</th>\n",
       "      <th>size_bytes</th>\n",
       "      <th>currency</th>\n",
       "      <th>price</th>\n",
       "      <th>rating_count_tot</th>\n",
       "      <th>rating_count_ver</th>\n",
       "      <th>user_rating</th>\n",
       "      <th>user_rating_ver</th>\n",
       "      <th>ver</th>\n",
       "      <th>cont_rating</th>\n",
       "      <th>prime_genre</th>\n",
       "      <th>sup_devices.num</th>\n",
       "      <th>ipadSc_urls.num</th>\n",
       "      <th>lang.num</th>\n",
       "      <th>vpp_lic</th>\n",
       "      <th>app_desc</th>\n",
       "    </tr>\n",
       "  </thead>\n",
       "  <tbody>\n",
       "    <tr>\n",
       "      <th>2713</th>\n",
       "      <td>3230</td>\n",
       "      <td>885271158</td>\n",
       "      <td>Adobe Photoshop Mix - Cut out, combine, create</td>\n",
       "      <td>202334208</td>\n",
       "      <td>USD</td>\n",
       "      <td>0.0</td>\n",
       "      <td>5253</td>\n",
       "      <td>87</td>\n",
       "      <td>4.5</td>\n",
       "      <td>4.5</td>\n",
       "      <td>2.7.1</td>\n",
       "      <td>4+</td>\n",
       "      <td>Photo &amp; Video</td>\n",
       "      <td>37</td>\n",
       "      <td>5</td>\n",
       "      <td>19</td>\n",
       "      <td>1</td>\n",
       "      <td>Adobe Photoshop Mix makes it quick and easy to...</td>\n",
       "    </tr>\n",
       "  </tbody>\n",
       "</table>\n",
       "</div>"
      ],
      "text/plain": [
       "      Unnamed: 0         id                                      track_name  \\\n",
       "2713        3230  885271158  Adobe Photoshop Mix - Cut out, combine, create   \n",
       "\n",
       "      size_bytes currency  price  rating_count_tot  rating_count_ver  \\\n",
       "2713   202334208      USD    0.0              5253                87   \n",
       "\n",
       "      user_rating  user_rating_ver    ver cont_rating    prime_genre  \\\n",
       "2713          4.5              4.5  2.7.1          4+  Photo & Video   \n",
       "\n",
       "      sup_devices.num  ipadSc_urls.num  lang.num  vpp_lic  \\\n",
       "2713               37                5        19        1   \n",
       "\n",
       "                                               app_desc  \n",
       "2713  Adobe Photoshop Mix makes it quick and easy to...  "
      ]
     },
     "execution_count": 133,
     "metadata": {},
     "output_type": "execute_result"
    }
   ],
   "source": [
    "# Merging the 2 related Apple applications' dataframes\n",
    "df_iOS=pd.merge(df3, df4)\n",
    "df_iOS.sample()"
   ]
  },
  {
   "cell_type": "code",
   "execution_count": 134,
   "metadata": {
    "slideshow": {
     "slide_type": "skip"
    }
   },
   "outputs": [],
   "source": [
    "# 'Unnamed: 0' duplicated index column\n",
    "# 'id' not needed\n",
    "# 'Currency' all is dollars\n",
    "# 'rating_count_ver' version specific rating counter is not the most important\n",
    "# 'user_rating_ver' version specific rating is not the most important\n",
    "# 'sup_devices.num', 'ipadSc_urls.num', 'lang.num', 'vpp_lic' & 'app_desc' are not in need\n",
    "df_iOS.drop(columns=['Unnamed: 0', 'id', 'currency', 'rating_count_ver', 'user_rating_ver', 'sup_devices.num',\n",
    "                    'ipadSc_urls.num', 'lang.num', 'vpp_lic', 'app_desc'], inplace=True)"
   ]
  },
  {
   "cell_type": "code",
   "execution_count": 87,
   "metadata": {
    "slideshow": {
     "slide_type": "skip"
    }
   },
   "outputs": [
    {
     "name": "stdout",
     "output_type": "stream",
     "text": [
      "<class 'pandas.core.frame.DataFrame'>\n",
      "Int64Index: 7197 entries, 0 to 7196\n",
      "Data columns (total 8 columns):\n",
      " #   Column            Non-Null Count  Dtype  \n",
      "---  ------            --------------  -----  \n",
      " 0   track_name        7197 non-null   object \n",
      " 1   size_bytes        7197 non-null   int64  \n",
      " 2   price             7197 non-null   float64\n",
      " 3   rating_count_tot  7197 non-null   int64  \n",
      " 4   user_rating       7197 non-null   float64\n",
      " 5   ver               7197 non-null   object \n",
      " 6   cont_rating       7197 non-null   object \n",
      " 7   prime_genre       7197 non-null   object \n",
      "dtypes: float64(2), int64(2), object(4)\n",
      "memory usage: 506.0+ KB\n"
     ]
    }
   ],
   "source": [
    "df_iOS.info()"
   ]
  },
  {
   "cell_type": "markdown",
   "metadata": {
    "slideshow": {
     "slide_type": "skip"
    }
   },
   "source": [
    "Unifying the categories data present in both 'Category' and 'Content_rating' in both dataframes"
   ]
  },
  {
   "cell_type": "code",
   "execution_count": 76,
   "metadata": {
    "slideshow": {
     "slide_type": "skip"
    }
   },
   "outputs": [
    {
     "data": {
      "text/plain": [
       "(array(['ART_AND_DESIGN', 'AUTO_AND_VEHICLES', 'BEAUTY',\n",
       "        'BOOKS_AND_REFERENCE', 'BUSINESS', 'COMICS', 'COMMUNICATION',\n",
       "        'DATING', 'EDUCATION', 'ENTERTAINMENT', 'EVENTS', 'FINANCE',\n",
       "        'FOOD_AND_DRINK', 'HEALTH_AND_FITNESS', 'HOUSE_AND_HOME',\n",
       "        'LIBRARIES_AND_DEMO', 'LIFESTYLE', 'GAME', 'FAMILY', 'MEDICAL',\n",
       "        'SOCIAL', 'SHOPPING', 'PHOTOGRAPHY', 'SPORTS', 'TRAVEL_AND_LOCAL',\n",
       "        'TOOLS', 'PERSONALIZATION', 'PRODUCTIVITY', 'PARENTING', 'WEATHER',\n",
       "        'VIDEO_PLAYERS', 'NEWS_AND_MAGAZINES', 'MAPS_AND_NAVIGATION'],\n",
       "       dtype=object),\n",
       " 33)"
      ]
     },
     "execution_count": 76,
     "metadata": {},
     "output_type": "execute_result"
    }
   ],
   "source": [
    "df_Andrd.Category.unique(), np.count_nonzero(df_Andrd.Category.unique())"
   ]
  },
  {
   "cell_type": "code",
   "execution_count": 77,
   "metadata": {
    "slideshow": {
     "slide_type": "skip"
    }
   },
   "outputs": [
    {
     "data": {
      "text/plain": [
       "(array(['Games', 'Productivity', 'Weather', 'Shopping', 'Reference',\n",
       "        'Finance', 'Music', 'Utilities', 'Travel', 'Social Networking',\n",
       "        'Sports', 'Business', 'Health & Fitness', 'Entertainment',\n",
       "        'Photo & Video', 'Navigation', 'Education', 'Lifestyle',\n",
       "        'Food & Drink', 'News', 'Book', 'Medical', 'Catalogs'],\n",
       "       dtype=object),\n",
       " 23)"
      ]
     },
     "execution_count": 77,
     "metadata": {},
     "output_type": "execute_result"
    }
   ],
   "source": [
    "df_iOS.prime_genre.unique(), np.count_nonzero(df_iOS.prime_genre.unique())"
   ]
  },
  {
   "cell_type": "code",
   "execution_count": 136,
   "metadata": {
    "slideshow": {
     "slide_type": "skip"
    }
   },
   "outputs": [
    {
     "data": {
      "text/plain": [
       "3930                  GAME\n",
       "1555                  GAME\n",
       "3975    HEALTH_AND_FITNESS\n",
       "3761                  GAME\n",
       "5207                  GAME\n",
       "6092                  GAME\n",
       "663                 SPORTS\n",
       "3486                  GAME\n",
       "3866        FOOD_AND_DRINK\n",
       "5096                  GAME\n",
       "Name: prime_genre, dtype: object"
      ]
     },
     "execution_count": 136,
     "metadata": {},
     "output_type": "execute_result"
    }
   ],
   "source": [
    "# Map App store categories with their analogues in the Google Store\n",
    "cat_dict={'Games':'GAME', 'Productivity':'PRODUCTIVITY', 'Weather':'WEATHER', 'Shopping':'SHOPPING',\n",
    "          'Reference':'BOOKS_AND_REFERENCE', 'Finance':'FINANCE', 'Music':'Music', 'Utilities':'TOOLS',\n",
    "          'Travel':'TRAVEL_AND_LOCAL', 'Social Networking':'SOCIAL', 'Sports':'SPORTS', 'Business':'BUSINESS',\n",
    "          'Health & Fitness':'HEALTH_AND_FITNESS', 'Entertainment':'ENTERTAINMENT', 'Photo & Video':'PHOTOGRAPHY',\n",
    "          'Navigation':'MAPS_AND_NAVIGATION', 'Education':'Education', 'Lifestyle':'LIFESTYLE',\n",
    "          'Food & Drink':'FOOD_AND_DRINK', 'News':'NEWS_AND_MAGAZINES', 'Book':'BOOKS_AND_REFERENCE',\n",
    "          'Medical': 'MEDICAL', 'Catalogs':'LIBRARIES_AND_DEMO'}\n",
    "df_iOS.prime_genre=df_iOS.prime_genre.map(cat_dict)\n",
    "df_iOS.prime_genre.sample(10)"
   ]
  },
  {
   "cell_type": "code",
   "execution_count": 138,
   "metadata": {
    "slideshow": {
     "slide_type": "skip"
    }
   },
   "outputs": [
    {
     "data": {
      "text/plain": [
       "5307           GAME\n",
       "1627           GAME\n",
       "2989           GAME\n",
       "1598    PHOTOGRAPHY\n",
       "646            GAME\n",
       "2699           GAME\n",
       "4689        WEATHER\n",
       "6906        FINANCE\n",
       "3836       SHOPPING\n",
       "2780           GAME\n",
       "Name: prime_genre, dtype: object"
      ]
     },
     "execution_count": 138,
     "metadata": {},
     "output_type": "execute_result"
    }
   ],
   "source": [
    "# To confirm the mapping\n",
    "df_iOS.prime_genre.sample(10)"
   ]
  },
  {
   "cell_type": "code",
   "execution_count": 94,
   "metadata": {
    "slideshow": {
     "slide_type": "skip"
    }
   },
   "outputs": [
    {
     "data": {
      "text/plain": [
       "(array(['Everyone', 'Teen', 'Everyone 10+', 'Mature 17+',\n",
       "        'Adults only 18+', 'Unrated'], dtype=object),\n",
       " 6)"
      ]
     },
     "execution_count": 94,
     "metadata": {},
     "output_type": "execute_result"
    }
   ],
   "source": [
    "df_Andrd['Content Rating'].unique(), np.count_nonzero(df_Andrd['Content Rating'].unique())"
   ]
  },
  {
   "cell_type": "code",
   "execution_count": 114,
   "metadata": {
    "slideshow": {
     "slide_type": "skip"
    }
   },
   "outputs": [
    {
     "data": {
      "text/plain": [
       "Everyone           8383\n",
       "Teen               1146\n",
       "Mature 17+          447\n",
       "Everyone 10+        377\n",
       "Adults only 18+       3\n",
       "Unrated               2\n",
       "Name: Content Rating, dtype: int64"
      ]
     },
     "execution_count": 114,
     "metadata": {},
     "output_type": "execute_result"
    }
   ],
   "source": [
    "df_Andrd['Content Rating'].value_counts()"
   ]
  },
  {
   "cell_type": "code",
   "execution_count": 115,
   "metadata": {
    "slideshow": {
     "slide_type": "skip"
    }
   },
   "outputs": [],
   "source": [
    "# Set the 2 Unrated values with the most common rating\n",
    "df_Andrd.loc[df_Andrd['Content Rating']=='Unrated']=df_Andrd['Content Rating'].value_counts().index[0]"
   ]
  },
  {
   "cell_type": "code",
   "execution_count": 116,
   "metadata": {
    "slideshow": {
     "slide_type": "skip"
    }
   },
   "outputs": [],
   "source": [
    "# Set the 3 Adults only 18+ values with the Mature 17+ rating\n",
    "df_Andrd.loc[df_Andrd['Content Rating']=='Adults only 18+']='Mature 17+'"
   ]
  },
  {
   "cell_type": "code",
   "execution_count": 117,
   "metadata": {
    "slideshow": {
     "slide_type": "skip"
    }
   },
   "outputs": [
    {
     "data": {
      "text/plain": [
       "Everyone        8385\n",
       "Teen            1146\n",
       "Mature 17+       450\n",
       "Everyone 10+     377\n",
       "Name: Content Rating, dtype: int64"
      ]
     },
     "execution_count": 117,
     "metadata": {},
     "output_type": "execute_result"
    }
   ],
   "source": [
    "df_Andrd['Content Rating'].value_counts()"
   ]
  },
  {
   "cell_type": "code",
   "execution_count": 93,
   "metadata": {
    "slideshow": {
     "slide_type": "skip"
    }
   },
   "outputs": [
    {
     "data": {
      "text/plain": [
       "(array(['4+', '12+', '17+', '9+'], dtype=object), 4)"
      ]
     },
     "execution_count": 93,
     "metadata": {},
     "output_type": "execute_result"
    }
   ],
   "source": [
    "df_iOS.cont_rating.unique(), np.count_nonzero(df_iOS.cont_rating.unique())"
   ]
  },
  {
   "cell_type": "code",
   "execution_count": 126,
   "metadata": {
    "slideshow": {
     "slide_type": "skip"
    }
   },
   "outputs": [
    {
     "data": {
      "text/plain": [
       "(2818    Everyone\n",
       " 9402    Everyone\n",
       " 211     Everyone\n",
       " 8643    Everyone\n",
       " 5420    Everyone\n",
       " 3176    Everyone\n",
       " 5752    Everyone\n",
       " Name: Content Rating, dtype: object,\n",
       " 5228    Everyone\n",
       " 616     Everyone\n",
       " 1550     Teen 9+\n",
       " 558      Teen 9+\n",
       " 6600     Teen 9+\n",
       " 2793     Teen 9+\n",
       " 5004    Everyone\n",
       " Name: cont_rating, dtype: object)"
      ]
     },
     "execution_count": 126,
     "metadata": {},
     "output_type": "execute_result"
    }
   ],
   "source": [
    "# Map App store content ratings with their analogues in the Google Store and vice versa\n",
    "df_Andrd['Content Rating']=df_Andrd['Content Rating'].map({'Everyone':'Everyone', 'Teen':'Teen 9+',\n",
    "                                                           'Mature 17+':'Mature 17+', 'Everyone 10+':'Teen 9+'})\n",
    "\n",
    "df_iOS.cont_rating=df_iOS.cont_rating.map({'4+':'Everyone', '12+':'Teen 9+', '17+':'Mature 17+', '9+':'Teen 9+'})\n",
    "df_Andrd['Content Rating'].sample(7), df_iOS.cont_rating.sample(7)"
   ]
  },
  {
   "cell_type": "markdown",
   "metadata": {
    "slideshow": {
     "slide_type": "subslide"
    }
   },
   "source": [
    "The Apple Store data after cleaning"
   ]
  },
  {
   "cell_type": "code",
   "execution_count": 127,
   "metadata": {
    "slideshow": {
     "slide_type": "-"
    }
   },
   "outputs": [
    {
     "data": {
      "text/html": [
       "<div>\n",
       "<style scoped>\n",
       "    .dataframe tbody tr th:only-of-type {\n",
       "        vertical-align: middle;\n",
       "    }\n",
       "\n",
       "    .dataframe tbody tr th {\n",
       "        vertical-align: top;\n",
       "    }\n",
       "\n",
       "    .dataframe thead th {\n",
       "        text-align: right;\n",
       "    }\n",
       "</style>\n",
       "<table border=\"1\" class=\"dataframe\">\n",
       "  <thead>\n",
       "    <tr style=\"text-align: right;\">\n",
       "      <th></th>\n",
       "      <th>track_name</th>\n",
       "      <th>size_bytes</th>\n",
       "      <th>price</th>\n",
       "      <th>rating_count_tot</th>\n",
       "      <th>user_rating</th>\n",
       "      <th>ver</th>\n",
       "      <th>cont_rating</th>\n",
       "      <th>prime_genre</th>\n",
       "    </tr>\n",
       "  </thead>\n",
       "  <tbody>\n",
       "    <tr>\n",
       "      <th>3819</th>\n",
       "      <td>Matchsticks ~ Free Puzzle Game with Matches</td>\n",
       "      <td>32492544</td>\n",
       "      <td>0.00</td>\n",
       "      <td>212</td>\n",
       "      <td>4.5</td>\n",
       "      <td>1.9</td>\n",
       "      <td>Everyone</td>\n",
       "      <td>GAME</td>\n",
       "    </tr>\n",
       "    <tr>\n",
       "      <th>3709</th>\n",
       "      <td>Polarr Photo Editor - Photo Editing Tools for All</td>\n",
       "      <td>57919488</td>\n",
       "      <td>0.00</td>\n",
       "      <td>2246</td>\n",
       "      <td>4.5</td>\n",
       "      <td>3.7.1</td>\n",
       "      <td>Everyone</td>\n",
       "      <td>PHOTOGRAPHY</td>\n",
       "    </tr>\n",
       "    <tr>\n",
       "      <th>3642</th>\n",
       "      <td>Worms™ 4</td>\n",
       "      <td>268636160</td>\n",
       "      <td>4.99</td>\n",
       "      <td>380</td>\n",
       "      <td>3.5</td>\n",
       "      <td>1.07</td>\n",
       "      <td>Teen 9+</td>\n",
       "      <td>GAME</td>\n",
       "    </tr>\n",
       "    <tr>\n",
       "      <th>2876</th>\n",
       "      <td>小猿搜题-中小学拍照搜题作业帮手</td>\n",
       "      <td>77407232</td>\n",
       "      <td>0.00</td>\n",
       "      <td>31</td>\n",
       "      <td>4.5</td>\n",
       "      <td>5.4.0</td>\n",
       "      <td>Everyone</td>\n",
       "      <td>Education</td>\n",
       "    </tr>\n",
       "    <tr>\n",
       "      <th>3338</th>\n",
       "      <td>Musical Video Creator Music+Videos illuminati Pro</td>\n",
       "      <td>17254400</td>\n",
       "      <td>0.00</td>\n",
       "      <td>1588</td>\n",
       "      <td>3.5</td>\n",
       "      <td>3.0</td>\n",
       "      <td>Mature 17+</td>\n",
       "      <td>ENTERTAINMENT</td>\n",
       "    </tr>\n",
       "    <tr>\n",
       "      <th>6886</th>\n",
       "      <td>Hexy!</td>\n",
       "      <td>146126848</td>\n",
       "      <td>0.00</td>\n",
       "      <td>51</td>\n",
       "      <td>2.5</td>\n",
       "      <td>1.2.4</td>\n",
       "      <td>Everyone</td>\n",
       "      <td>GAME</td>\n",
       "    </tr>\n",
       "    <tr>\n",
       "      <th>3245</th>\n",
       "      <td>Amazon Prime Now</td>\n",
       "      <td>48007168</td>\n",
       "      <td>0.00</td>\n",
       "      <td>895</td>\n",
       "      <td>3.0</td>\n",
       "      <td>4.0</td>\n",
       "      <td>Everyone</td>\n",
       "      <td>SHOPPING</td>\n",
       "    </tr>\n",
       "  </tbody>\n",
       "</table>\n",
       "</div>"
      ],
      "text/plain": [
       "                                             track_name  size_bytes  price  \\\n",
       "3819        Matchsticks ~ Free Puzzle Game with Matches    32492544   0.00   \n",
       "3709  Polarr Photo Editor - Photo Editing Tools for All    57919488   0.00   \n",
       "3642                                           Worms™ 4   268636160   4.99   \n",
       "2876                                   小猿搜题-中小学拍照搜题作业帮手    77407232   0.00   \n",
       "3338  Musical Video Creator Music+Videos illuminati Pro    17254400   0.00   \n",
       "6886                                              Hexy!   146126848   0.00   \n",
       "3245                                   Amazon Prime Now    48007168   0.00   \n",
       "\n",
       "      rating_count_tot  user_rating    ver cont_rating    prime_genre  \n",
       "3819               212          4.5    1.9    Everyone           GAME  \n",
       "3709              2246          4.5  3.7.1    Everyone    PHOTOGRAPHY  \n",
       "3642               380          3.5   1.07     Teen 9+           GAME  \n",
       "2876                31          4.5  5.4.0    Everyone      Education  \n",
       "3338              1588          3.5    3.0  Mature 17+  ENTERTAINMENT  \n",
       "6886                51          2.5  1.2.4    Everyone           GAME  \n",
       "3245               895          3.0    4.0    Everyone       SHOPPING  "
      ]
     },
     "execution_count": 127,
     "metadata": {},
     "output_type": "execute_result"
    }
   ],
   "source": [
    "df_iOS.sample(7)"
   ]
  },
  {
   "cell_type": "markdown",
   "metadata": {
    "slideshow": {
     "slide_type": "skip"
    }
   },
   "source": [
    "Now categorical data are unified through the 2 dataframes. <br>\n",
    "Comes next, concatenating them into one DataFrame for the analysis"
   ]
  },
  {
   "cell_type": "code",
   "execution_count": 128,
   "metadata": {
    "slideshow": {
     "slide_type": "skip"
    }
   },
   "outputs": [],
   "source": [
    "# Matching Apple dataset column names with its analogues names in the Android dataset, and vice versa\n",
    "df_iOS.rename(columns={'track_name': 'App', 'prime_genre': 'Category', 'user_rating': 'Rating',\n",
    "                    'rating_count_tot': 'Reviews', 'price': 'price_USD'}, inplace=True)\n",
    "df_Andrd.rename(columns={'Size': 'size_bytes', 'Price': 'price_USD', 'Content Rating': 'cont_rating',\n",
    "                         'Current Ver': 'ver'}, inplace=True)"
   ]
  },
  {
   "cell_type": "markdown",
   "metadata": {
    "slideshow": {
     "slide_type": "slide"
    }
   },
   "source": [
    "- Final DataFrame to work on & analyze"
   ]
  },
  {
   "cell_type": "code",
   "execution_count": 266,
   "metadata": {
    "slideshow": {
     "slide_type": "-"
    }
   },
   "outputs": [
    {
     "data": {
      "text/html": [
       "<div>\n",
       "<style scoped>\n",
       "    .dataframe tbody tr th:only-of-type {\n",
       "        vertical-align: middle;\n",
       "    }\n",
       "\n",
       "    .dataframe tbody tr th {\n",
       "        vertical-align: top;\n",
       "    }\n",
       "\n",
       "    .dataframe thead th {\n",
       "        text-align: right;\n",
       "    }\n",
       "</style>\n",
       "<table border=\"1\" class=\"dataframe\">\n",
       "  <thead>\n",
       "    <tr style=\"text-align: right;\">\n",
       "      <th></th>\n",
       "      <th>Store</th>\n",
       "      <th>App</th>\n",
       "      <th>Category</th>\n",
       "      <th>Rating</th>\n",
       "      <th>Reviews</th>\n",
       "      <th>size_bytes</th>\n",
       "      <th>price_USD</th>\n",
       "      <th>cont_rating</th>\n",
       "      <th>ver</th>\n",
       "    </tr>\n",
       "  </thead>\n",
       "  <tbody>\n",
       "    <tr>\n",
       "      <th>1311</th>\n",
       "      <td>Apple Store</td>\n",
       "      <td>The Amazing Spider-Man</td>\n",
       "      <td>GAME</td>\n",
       "      <td>4.5</td>\n",
       "      <td>17895</td>\n",
       "      <td>829148559</td>\n",
       "      <td>6.99</td>\n",
       "      <td>Teen 9+</td>\n",
       "      <td>1.0.3</td>\n",
       "    </tr>\n",
       "    <tr>\n",
       "      <th>6</th>\n",
       "      <td>Google Play Store</td>\n",
       "      <td>Smoke Effect Photo Maker - Smoke Editor</td>\n",
       "      <td>ART_AND_DESIGN</td>\n",
       "      <td>3.8</td>\n",
       "      <td>178</td>\n",
       "      <td>1.9e+07</td>\n",
       "      <td>0</td>\n",
       "      <td>Everyone</td>\n",
       "      <td>1.1</td>\n",
       "    </tr>\n",
       "    <tr>\n",
       "      <th>8508</th>\n",
       "      <td>Google Play Store</td>\n",
       "      <td>Learn German: Die Bienenretter</td>\n",
       "      <td>FAMILY</td>\n",
       "      <td>4</td>\n",
       "      <td>25</td>\n",
       "      <td>7.9e+07</td>\n",
       "      <td>0</td>\n",
       "      <td>Everyone</td>\n",
       "      <td>1.0.5</td>\n",
       "    </tr>\n",
       "    <tr>\n",
       "      <th>959</th>\n",
       "      <td>Apple Store</td>\n",
       "      <td>Railway Route Search</td>\n",
       "      <td>MAPS_AND_NAVIGATION</td>\n",
       "      <td>3</td>\n",
       "      <td>5</td>\n",
       "      <td>46950400</td>\n",
       "      <td>0</td>\n",
       "      <td>Everyone</td>\n",
       "      <td>3.17.1</td>\n",
       "    </tr>\n",
       "    <tr>\n",
       "      <th>536</th>\n",
       "      <td>Google Play Store</td>\n",
       "      <td>Transenger – Ts Dating and Chat for Free</td>\n",
       "      <td>DATING</td>\n",
       "      <td>3.6</td>\n",
       "      <td>8</td>\n",
       "      <td>1.4e+07</td>\n",
       "      <td>0</td>\n",
       "      <td>Mature 17+</td>\n",
       "      <td>1.4.0</td>\n",
       "    </tr>\n",
       "    <tr>\n",
       "      <th>1865</th>\n",
       "      <td>Apple Store</td>\n",
       "      <td>Prime Photos from Amazon</td>\n",
       "      <td>PHOTOGRAPHY</td>\n",
       "      <td>4</td>\n",
       "      <td>10511</td>\n",
       "      <td>76257280</td>\n",
       "      <td>0</td>\n",
       "      <td>Everyone</td>\n",
       "      <td>4.5.1</td>\n",
       "    </tr>\n",
       "    <tr>\n",
       "      <th>9449</th>\n",
       "      <td>Google Play Store</td>\n",
       "      <td>EU-Schwerbehinderung</td>\n",
       "      <td>NEWS_AND_MAGAZINES</td>\n",
       "      <td>0</td>\n",
       "      <td>3</td>\n",
       "      <td>3.2e+07</td>\n",
       "      <td>0</td>\n",
       "      <td>Teen 9+</td>\n",
       "      <td>2.0.3.53</td>\n",
       "    </tr>\n",
       "    <tr>\n",
       "      <th>1350</th>\n",
       "      <td>Apple Store</td>\n",
       "      <td>Disney Channel – Watch Full Episodes, Movies &amp; TV</td>\n",
       "      <td>ENTERTAINMENT</td>\n",
       "      <td>3.5</td>\n",
       "      <td>21082</td>\n",
       "      <td>132038656</td>\n",
       "      <td>0</td>\n",
       "      <td>Everyone</td>\n",
       "      <td>5.7.0</td>\n",
       "    </tr>\n",
       "    <tr>\n",
       "      <th>4327</th>\n",
       "      <td>Google Play Store</td>\n",
       "      <td>Flight Simulator X 2016 Free</td>\n",
       "      <td>FAMILY</td>\n",
       "      <td>3.8</td>\n",
       "      <td>44636</td>\n",
       "      <td>1.1e+07</td>\n",
       "      <td>0</td>\n",
       "      <td>Everyone</td>\n",
       "      <td>Varies with device</td>\n",
       "    </tr>\n",
       "  </tbody>\n",
       "</table>\n",
       "</div>"
      ],
      "text/plain": [
       "                  Store                                                App  \\\n",
       "1311        Apple Store                             The Amazing Spider-Man   \n",
       "6     Google Play Store            Smoke Effect Photo Maker - Smoke Editor   \n",
       "8508  Google Play Store                     Learn German: Die Bienenretter   \n",
       "959         Apple Store                               Railway Route Search   \n",
       "536   Google Play Store           Transenger – Ts Dating and Chat for Free   \n",
       "1865        Apple Store                           Prime Photos from Amazon   \n",
       "9449  Google Play Store                               EU-Schwerbehinderung   \n",
       "1350        Apple Store  Disney Channel – Watch Full Episodes, Movies & TV   \n",
       "4327  Google Play Store                       Flight Simulator X 2016 Free   \n",
       "\n",
       "                 Category Rating Reviews size_bytes price_USD cont_rating  \\\n",
       "1311                 GAME    4.5   17895  829148559      6.99     Teen 9+   \n",
       "6          ART_AND_DESIGN    3.8     178    1.9e+07         0    Everyone   \n",
       "8508               FAMILY      4      25    7.9e+07         0    Everyone   \n",
       "959   MAPS_AND_NAVIGATION      3       5   46950400         0    Everyone   \n",
       "536                DATING    3.6       8    1.4e+07         0  Mature 17+   \n",
       "1865          PHOTOGRAPHY      4   10511   76257280         0    Everyone   \n",
       "9449   NEWS_AND_MAGAZINES      0       3    3.2e+07         0     Teen 9+   \n",
       "1350        ENTERTAINMENT    3.5   21082  132038656         0    Everyone   \n",
       "4327               FAMILY    3.8   44636    1.1e+07         0    Everyone   \n",
       "\n",
       "                     ver  \n",
       "1311               1.0.3  \n",
       "6                    1.1  \n",
       "8508               1.0.5  \n",
       "959               3.17.1  \n",
       "536                1.4.0  \n",
       "1865               4.5.1  \n",
       "9449            2.0.3.53  \n",
       "1350               5.7.0  \n",
       "4327  Varies with device  "
      ]
     },
     "execution_count": 266,
     "metadata": {},
     "output_type": "execute_result"
    }
   ],
   "source": [
    "# df_app=pd.concat([df_Andrd, df_iOS], ignore_index=True, keys=[\"Google Play Store\",\"Apple Store\"])\n",
    "df_app=pd.concat({\"Google Play Store\": df_Andrd,\"Apple Store\": df_iOS})\n",
    "df_app=df_app.reset_index(0).rename(columns={'level_0':'Store'})\n",
    "df_app.sample(9)"
   ]
  },
  {
   "cell_type": "code",
   "execution_count": 142,
   "metadata": {
    "slideshow": {
     "slide_type": "-"
    }
   },
   "outputs": [
    {
     "name": "stdout",
     "output_type": "stream",
     "text": [
      "<class 'pandas.core.frame.DataFrame'>\n",
      "Int64Index: 17555 entries, 0 to 7196\n",
      "Data columns (total 9 columns):\n",
      " #   Column       Non-Null Count  Dtype \n",
      "---  ------       --------------  ----- \n",
      " 0   Store        17555 non-null  object\n",
      " 1   App          17555 non-null  object\n",
      " 2   Category     17555 non-null  object\n",
      " 3   Rating       17555 non-null  object\n",
      " 4   Reviews      17555 non-null  object\n",
      " 5   size_bytes   17555 non-null  object\n",
      " 6   price_USD    17555 non-null  object\n",
      " 7   cont_rating  17555 non-null  object\n",
      " 8   ver          17555 non-null  object\n",
      "dtypes: object(9)\n",
      "memory usage: 1.3+ MB\n"
     ]
    }
   ],
   "source": [
    "df_app.info()"
   ]
  },
  {
   "cell_type": "code",
   "execution_count": 272,
   "metadata": {
    "slideshow": {
     "slide_type": "skip"
    }
   },
   "outputs": [],
   "source": [
    "# Removing some issues encountered\n",
    "df_app.drop(index=df_app.loc[df_app.App=='Mature 17+'].index, inplace=True)\n",
    "df_app.drop(index=df_app.loc[df_app.App=='Everyone'].index, inplace=True)\n",
    "df_app.drop_duplicates(['Store','App'], inplace=True, ignore_index=True)"
   ]
  },
  {
   "cell_type": "code",
   "execution_count": 273,
   "metadata": {
    "slideshow": {
     "slide_type": "skip"
    }
   },
   "outputs": [],
   "source": [
    "# Convert numeric values columns to numbers\n",
    "numerics = ['Rating', 'Reviews', 'size_bytes', 'price_USD']\n",
    "for numeric in numerics:\n",
    "    df_app[numeric]=pd.to_numeric(df_app[numeric])"
   ]
  },
  {
   "cell_type": "markdown",
   "metadata": {
    "slideshow": {
     "slide_type": "slide"
    }
   },
   "source": [
    "### <span style=\"color:green\">Visulizations</span>\n",
    "- **What is the most familiar application Category on stores?**"
   ]
  },
  {
   "cell_type": "code",
   "execution_count": 170,
   "metadata": {
    "slideshow": {
     "slide_type": "-"
    }
   },
   "outputs": [
    {
     "data": {
      "text/plain": [
       "<AxesSubplot:xlabel='Category', ylabel='Count'>"
      ]
     },
     "execution_count": 170,
     "metadata": {},
     "output_type": "execute_result"
    },
    {
     "data": {
      "image/png": "[encoded data removed]",
      "text/plain": [
       "<Figure size 1080x360 with 1 Axes>"
      ]
     },
     "metadata": {},
     "output_type": "display_data"
    }
   ],
   "source": [
    "sns.set(rc={'figure.figsize': [15,5]}, font_scale=1)\n",
    "plt.xticks(rotation=90)\n",
    "sns.histplot(data=df_app, x='Category')"
   ]
  },
  {
   "cell_type": "markdown",
   "metadata": {
    "slideshow": {
     "slide_type": "subslide"
    }
   },
   "source": [
    "**What are the ratings of the most expensive applications (above 100$)?**"
   ]
  },
  {
   "cell_type": "code",
   "execution_count": 180,
   "metadata": {
    "slideshow": {
     "slide_type": "-"
    }
   },
   "outputs": [
    {
     "data": {
      "text/plain": [
       "<AxesSubplot:xlabel='App', ylabel='Rating'>"
      ]
     },
     "execution_count": 180,
     "metadata": {},
     "output_type": "execute_result"
    },
    {
     "name": "stderr",
     "output_type": "stream",
     "text": [
      "C:\\Users\\Shady\\anaconda3\\lib\\site-packages\\matplotlib\\backends\\backend_agg.py:238: RuntimeWarning: Glyph 128142 missing from current font.\n",
      "  font.set_text(s, 0.0, flags=flags)\n",
      "C:\\Users\\Shady\\anaconda3\\lib\\site-packages\\matplotlib\\backends\\backend_agg.py:238: RuntimeWarning: Glyph 25105 missing from current font.\n",
      "  font.set_text(s, 0.0, flags=flags)\n",
      "C:\\Users\\Shady\\anaconda3\\lib\\site-packages\\matplotlib\\backends\\backend_agg.py:238: RuntimeWarning: Glyph 24456 missing from current font.\n",
      "  font.set_text(s, 0.0, flags=flags)\n",
      "C:\\Users\\Shady\\anaconda3\\lib\\site-packages\\matplotlib\\backends\\backend_agg.py:238: RuntimeWarning: Glyph 26377 missing from current font.\n",
      "  font.set_text(s, 0.0, flags=flags)\n",
      "C:\\Users\\Shady\\anaconda3\\lib\\site-packages\\matplotlib\\backends\\backend_agg.py:238: RuntimeWarning: Glyph 37666 missing from current font.\n",
      "  font.set_text(s, 0.0, flags=flags)\n",
      "C:\\Users\\Shady\\anaconda3\\lib\\site-packages\\matplotlib\\backends\\backend_agg.py:201: RuntimeWarning: Glyph 128142 missing from current font.\n",
      "  font.set_text(s, 0, flags=flags)\n",
      "C:\\Users\\Shady\\anaconda3\\lib\\site-packages\\matplotlib\\backends\\backend_agg.py:201: RuntimeWarning: Glyph 25105 missing from current font.\n",
      "  font.set_text(s, 0, flags=flags)\n",
      "C:\\Users\\Shady\\anaconda3\\lib\\site-packages\\matplotlib\\backends\\backend_agg.py:201: RuntimeWarning: Glyph 24456 missing from current font.\n",
      "  font.set_text(s, 0, flags=flags)\n",
      "C:\\Users\\Shady\\anaconda3\\lib\\site-packages\\matplotlib\\backends\\backend_agg.py:201: RuntimeWarning: Glyph 26377 missing from current font.\n",
      "  font.set_text(s, 0, flags=flags)\n",
      "C:\\Users\\Shady\\anaconda3\\lib\\site-packages\\matplotlib\\backends\\backend_agg.py:201: RuntimeWarning: Glyph 37666 missing from current font.\n",
      "  font.set_text(s, 0, flags=flags)\n"
     ]
    },
    {
     "data": {
      "image/png": "[encoded data removed]",
      "text/plain": [
       "<Figure size 1152x432 with 1 Axes>"
      ]
     },
     "metadata": {},
     "output_type": "display_data"
    }
   ],
   "source": [
    "sns.set(rc={'figure.figsize': [16,6]}, font_scale=1.2)\n",
    "plt.xticks(rotation=90)\n",
    "sns.barplot(x='App', y='Rating', data=df_app[df_app.price_USD>100])"
   ]
  },
  {
   "cell_type": "code",
   "execution_count": 298,
   "metadata": {
    "slideshow": {
     "slide_type": "skip"
    }
   },
   "outputs": [
    {
     "data": {
      "text/html": [
       "<div>\n",
       "<style scoped>\n",
       "    .dataframe tbody tr th:only-of-type {\n",
       "        vertical-align: middle;\n",
       "    }\n",
       "\n",
       "    .dataframe tbody tr th {\n",
       "        vertical-align: top;\n",
       "    }\n",
       "\n",
       "    .dataframe thead th {\n",
       "        text-align: right;\n",
       "    }\n",
       "</style>\n",
       "<table border=\"1\" class=\"dataframe\">\n",
       "  <thead>\n",
       "    <tr style=\"text-align: right;\">\n",
       "      <th>Store</th>\n",
       "      <th>Apple Store</th>\n",
       "      <th>Google Play Store</th>\n",
       "      <th>All</th>\n",
       "    </tr>\n",
       "    <tr>\n",
       "      <th>Category</th>\n",
       "      <th></th>\n",
       "      <th></th>\n",
       "      <th></th>\n",
       "    </tr>\n",
       "  </thead>\n",
       "  <tbody>\n",
       "    <tr>\n",
       "      <th>ART_AND_DESIGN</th>\n",
       "      <td>NaN</td>\n",
       "      <td>4.153125</td>\n",
       "      <td>4.153125</td>\n",
       "    </tr>\n",
       "    <tr>\n",
       "      <th>AUTO_AND_VEHICLES</th>\n",
       "      <td>NaN</td>\n",
       "      <td>3.598824</td>\n",
       "      <td>3.598824</td>\n",
       "    </tr>\n",
       "    <tr>\n",
       "      <th>BEAUTY</th>\n",
       "      <td>NaN</td>\n",
       "      <td>3.390566</td>\n",
       "      <td>3.390566</td>\n",
       "    </tr>\n",
       "    <tr>\n",
       "      <th>BOOKS_AND_REFERENCE</th>\n",
       "      <td>2.848571</td>\n",
       "      <td>3.307658</td>\n",
       "      <td>3.105290</td>\n",
       "    </tr>\n",
       "    <tr>\n",
       "      <th>BUSINESS</th>\n",
       "      <td>3.745614</td>\n",
       "      <td>2.566429</td>\n",
       "      <td>2.707338</td>\n",
       "    </tr>\n",
       "    <tr>\n",
       "      <th>COMICS</th>\n",
       "      <td>NaN</td>\n",
       "      <td>4.025926</td>\n",
       "      <td>4.025926</td>\n",
       "    </tr>\n",
       "    <tr>\n",
       "      <th>COMMUNICATION</th>\n",
       "      <td>NaN</td>\n",
       "      <td>3.349524</td>\n",
       "      <td>3.349524</td>\n",
       "    </tr>\n",
       "    <tr>\n",
       "      <th>DATING</th>\n",
       "      <td>NaN</td>\n",
       "      <td>3.111111</td>\n",
       "      <td>3.111111</td>\n",
       "    </tr>\n",
       "    <tr>\n",
       "      <th>EDUCATION</th>\n",
       "      <td>NaN</td>\n",
       "      <td>4.327731</td>\n",
       "      <td>4.327731</td>\n",
       "    </tr>\n",
       "    <tr>\n",
       "      <th>ENTERTAINMENT</th>\n",
       "      <td>3.246729</td>\n",
       "      <td>4.135294</td>\n",
       "      <td>3.389011</td>\n",
       "    </tr>\n",
       "    <tr>\n",
       "      <th>EVENTS</th>\n",
       "      <td>NaN</td>\n",
       "      <td>3.118750</td>\n",
       "      <td>3.118750</td>\n",
       "    </tr>\n",
       "    <tr>\n",
       "      <th>Education</th>\n",
       "      <td>3.376380</td>\n",
       "      <td>NaN</td>\n",
       "      <td>3.376380</td>\n",
       "    </tr>\n",
       "    <tr>\n",
       "      <th>FAMILY</th>\n",
       "      <td>NaN</td>\n",
       "      <td>3.670617</td>\n",
       "      <td>3.670617</td>\n",
       "    </tr>\n",
       "    <tr>\n",
       "      <th>FINANCE</th>\n",
       "      <td>2.432692</td>\n",
       "      <td>3.602609</td>\n",
       "      <td>3.331626</td>\n",
       "    </tr>\n",
       "    <tr>\n",
       "      <th>FOOD_AND_DRINK</th>\n",
       "      <td>3.182540</td>\n",
       "      <td>3.501786</td>\n",
       "      <td>3.386857</td>\n",
       "    </tr>\n",
       "    <tr>\n",
       "      <th>GAME</th>\n",
       "      <td>3.684552</td>\n",
       "      <td>4.039208</td>\n",
       "      <td>3.755159</td>\n",
       "    </tr>\n",
       "    <tr>\n",
       "      <th>HEALTH_AND_FITNESS</th>\n",
       "      <td>3.695531</td>\n",
       "      <td>3.594792</td>\n",
       "      <td>3.633405</td>\n",
       "    </tr>\n",
       "    <tr>\n",
       "      <th>HOUSE_AND_HOME</th>\n",
       "      <td>NaN</td>\n",
       "      <td>3.477027</td>\n",
       "      <td>3.477027</td>\n",
       "    </tr>\n",
       "    <tr>\n",
       "      <th>LIBRARIES_AND_DEMO</th>\n",
       "      <td>2.100000</td>\n",
       "      <td>3.183333</td>\n",
       "      <td>3.068085</td>\n",
       "    </tr>\n",
       "    <tr>\n",
       "      <th>LIFESTYLE</th>\n",
       "      <td>2.805556</td>\n",
       "      <td>3.335135</td>\n",
       "      <td>3.186770</td>\n",
       "    </tr>\n",
       "    <tr>\n",
       "      <th>MAPS_AND_NAVIGATION</th>\n",
       "      <td>2.684783</td>\n",
       "      <td>3.635878</td>\n",
       "      <td>3.388701</td>\n",
       "    </tr>\n",
       "    <tr>\n",
       "      <th>MEDICAL</th>\n",
       "      <td>3.369565</td>\n",
       "      <td>3.058987</td>\n",
       "      <td>3.076077</td>\n",
       "    </tr>\n",
       "    <tr>\n",
       "      <th>Music</th>\n",
       "      <td>3.978261</td>\n",
       "      <td>NaN</td>\n",
       "      <td>3.978261</td>\n",
       "    </tr>\n",
       "    <tr>\n",
       "      <th>NEWS_AND_MAGAZINES</th>\n",
       "      <td>2.980000</td>\n",
       "      <td>3.310236</td>\n",
       "      <td>3.234954</td>\n",
       "    </tr>\n",
       "    <tr>\n",
       "      <th>PARENTING</th>\n",
       "      <td>NaN</td>\n",
       "      <td>3.583333</td>\n",
       "      <td>3.583333</td>\n",
       "    </tr>\n",
       "    <tr>\n",
       "      <th>PERSONALIZATION</th>\n",
       "      <td>NaN</td>\n",
       "      <td>3.433511</td>\n",
       "      <td>3.433511</td>\n",
       "    </tr>\n",
       "    <tr>\n",
       "      <th>PHOTOGRAPHY</th>\n",
       "      <td>3.800860</td>\n",
       "      <td>3.891103</td>\n",
       "      <td>3.841111</td>\n",
       "    </tr>\n",
       "    <tr>\n",
       "      <th>PRODUCTIVITY</th>\n",
       "      <td>4.005618</td>\n",
       "      <td>3.366845</td>\n",
       "      <td>3.572826</td>\n",
       "    </tr>\n",
       "    <tr>\n",
       "      <th>SHOPPING</th>\n",
       "      <td>3.540984</td>\n",
       "      <td>3.769307</td>\n",
       "      <td>3.683333</td>\n",
       "    </tr>\n",
       "    <tr>\n",
       "      <th>SOCIAL</th>\n",
       "      <td>2.985030</td>\n",
       "      <td>3.607531</td>\n",
       "      <td>3.351478</td>\n",
       "    </tr>\n",
       "    <tr>\n",
       "      <th>SPORTS</th>\n",
       "      <td>2.982456</td>\n",
       "      <td>3.369444</td>\n",
       "      <td>3.268721</td>\n",
       "    </tr>\n",
       "    <tr>\n",
       "      <th>TOOLS</th>\n",
       "      <td>3.278226</td>\n",
       "      <td>3.506416</td>\n",
       "      <td>3.453724</td>\n",
       "    </tr>\n",
       "    <tr>\n",
       "      <th>TRAVEL_AND_LOCAL</th>\n",
       "      <td>3.376543</td>\n",
       "      <td>3.474886</td>\n",
       "      <td>3.448333</td>\n",
       "    </tr>\n",
       "    <tr>\n",
       "      <th>VIDEO_PLAYERS</th>\n",
       "      <td>NaN</td>\n",
       "      <td>3.672393</td>\n",
       "      <td>3.672393</td>\n",
       "    </tr>\n",
       "    <tr>\n",
       "      <th>WEATHER</th>\n",
       "      <td>3.597222</td>\n",
       "      <td>3.867089</td>\n",
       "      <td>3.738411</td>\n",
       "    </tr>\n",
       "    <tr>\n",
       "      <th>All</th>\n",
       "      <td>3.526978</td>\n",
       "      <td>3.541046</td>\n",
       "      <td>3.535041</td>\n",
       "    </tr>\n",
       "  </tbody>\n",
       "</table>\n",
       "</div>"
      ],
      "text/plain": [
       "Store                Apple Store  Google Play Store       All\n",
       "Category                                                     \n",
       "ART_AND_DESIGN               NaN           4.153125  4.153125\n",
       "AUTO_AND_VEHICLES            NaN           3.598824  3.598824\n",
       "BEAUTY                       NaN           3.390566  3.390566\n",
       "BOOKS_AND_REFERENCE     2.848571           3.307658  3.105290\n",
       "BUSINESS                3.745614           2.566429  2.707338\n",
       "COMICS                       NaN           4.025926  4.025926\n",
       "COMMUNICATION                NaN           3.349524  3.349524\n",
       "DATING                       NaN           3.111111  3.111111\n",
       "EDUCATION                    NaN           4.327731  4.327731\n",
       "ENTERTAINMENT           3.246729           4.135294  3.389011\n",
       "EVENTS                       NaN           3.118750  3.118750\n",
       "Education               3.376380                NaN  3.376380\n",
       "FAMILY                       NaN           3.670617  3.670617\n",
       "FINANCE                 2.432692           3.602609  3.331626\n",
       "FOOD_AND_DRINK          3.182540           3.501786  3.386857\n",
       "GAME                    3.684552           4.039208  3.755159\n",
       "HEALTH_AND_FITNESS      3.695531           3.594792  3.633405\n",
       "HOUSE_AND_HOME               NaN           3.477027  3.477027\n",
       "LIBRARIES_AND_DEMO      2.100000           3.183333  3.068085\n",
       "LIFESTYLE               2.805556           3.335135  3.186770\n",
       "MAPS_AND_NAVIGATION     2.684783           3.635878  3.388701\n",
       "MEDICAL                 3.369565           3.058987  3.076077\n",
       "Music                   3.978261                NaN  3.978261\n",
       "NEWS_AND_MAGAZINES      2.980000           3.310236  3.234954\n",
       "PARENTING                    NaN           3.583333  3.583333\n",
       "PERSONALIZATION              NaN           3.433511  3.433511\n",
       "PHOTOGRAPHY             3.800860           3.891103  3.841111\n",
       "PRODUCTIVITY            4.005618           3.366845  3.572826\n",
       "SHOPPING                3.540984           3.769307  3.683333\n",
       "SOCIAL                  2.985030           3.607531  3.351478\n",
       "SPORTS                  2.982456           3.369444  3.268721\n",
       "TOOLS                   3.278226           3.506416  3.453724\n",
       "TRAVEL_AND_LOCAL        3.376543           3.474886  3.448333\n",
       "VIDEO_PLAYERS                NaN           3.672393  3.672393\n",
       "WEATHER                 3.597222           3.867089  3.738411\n",
       "All                     3.526978           3.541046  3.535041"
      ]
     },
     "execution_count": 298,
     "metadata": {},
     "output_type": "execute_result"
    }
   ],
   "source": [
    "# Calssifying categories rating per store\n",
    "pd.pivot_table(df_app, 'Rating', 'Category', 'Store', margins=True)"
   ]
  },
  {
   "cell_type": "markdown",
   "metadata": {
    "slideshow": {
     "slide_type": "subslide"
    }
   },
   "source": [
    "**Difference of ratings of categories per store.**"
   ]
  },
  {
   "cell_type": "code",
   "execution_count": 258,
   "metadata": {
    "slideshow": {
     "slide_type": "-"
    }
   },
   "outputs": [
    {
     "data": {
      "text/plain": [
       "<AxesSubplot:xlabel='Category', ylabel='Rating'>"
      ]
     },
     "execution_count": 258,
     "metadata": {},
     "output_type": "execute_result"
    },
    {
     "data": {
      "image/png": "[encoded data removed]",
      "text/plain": [
       "<Figure size 1224x360 with 1 Axes>"
      ]
     },
     "metadata": {},
     "output_type": "display_data"
    }
   ],
   "source": [
    "# Visualising above finding\n",
    "sns.set(rc={'figure.figsize': [17,5]}, font_scale=1.1)\n",
    "plt.xticks(rotation=90)\n",
    "sns.barplot(data=df_app, x='Category', y='Rating', hue='Store', errcolor='aliceblue', palette='Blues_d')"
   ]
  },
  {
   "cell_type": "code",
   "execution_count": 374,
   "metadata": {
    "slideshow": {
     "slide_type": "skip"
    }
   },
   "outputs": [],
   "source": [
    "# Grouping application prices for applications available within the 2 stores\n",
    "# app_srs is a pd.Series for duplicate applications in both stores\n",
    "app_srs=df_app.groupby(['App']).count()[df_app.groupby(['App']).count()['Category']==2].reset_index('App').App\n",
    "\n",
    "# Create a DataFrame holding Applications available in both stores\n",
    "df_apps=df_app[df_app.App.isin(app_srs)]\n",
    "tmp=pd.pivot_table(df_apps, 'price_USD', 'App', 'Store')"
   ]
  },
  {
   "cell_type": "code",
   "execution_count": 377,
   "metadata": {
    "slideshow": {
     "slide_type": "subslide"
    }
   },
   "outputs": [
    {
     "name": "stderr",
     "output_type": "stream",
     "text": [
      "C:\\Users\\Shady\\anaconda3\\lib\\site-packages\\seaborn\\categorical.py:1296: UserWarning: 92.0% of the points cannot be placed; you may want to decrease the size of the markers or use stripplot.\n",
      "  warnings.warn(msg, UserWarning)\n",
      "C:\\Users\\Shady\\anaconda3\\lib\\site-packages\\seaborn\\categorical.py:1296: UserWarning: 38.9% of the points cannot be placed; you may want to decrease the size of the markers or use stripplot.\n",
      "  warnings.warn(msg, UserWarning)\n",
      "C:\\Users\\Shady\\anaconda3\\lib\\site-packages\\seaborn\\categorical.py:1296: UserWarning: 27.3% of the points cannot be placed; you may want to decrease the size of the markers or use stripplot.\n",
      "  warnings.warn(msg, UserWarning)\n"
     ]
    },
    {
     "data": {
      "text/plain": [
       "<AxesSubplot:title={'center':'Prices variation in stores for same applications ($)'}, xlabel='Google Play Store', ylabel='Apple Store'>"
      ]
     },
     "execution_count": 377,
     "metadata": {},
     "output_type": "execute_result"
    },
    {
     "data": {
      "image/png": "[encoded data removed]",
      "text/plain": [
       "<Figure size 720x720 with 1 Axes>"
      ]
     },
     "metadata": {},
     "output_type": "display_data"
    }
   ],
   "source": [
    "sns.set(rc={'figure.figsize': [10,10]}, font_scale=1.2)\n",
    "plt.title('Prices variation in stores for same applications ($)', fontdict={'fontsize':17})\n",
    "sns.swarmplot(data=tmp, x='Google Play Store', y='Apple Store')\n",
    "sns.lineplot(data=tmp, x='Google Play Store', y='Apple Store')"
   ]
  },
  {
   "cell_type": "markdown",
   "metadata": {
    "slideshow": {
     "slide_type": "-"
    }
   },
   "source": [
    "Although applications' prices tend to be close in both stores, however, some may encounter a difference."
   ]
  },
  {
   "cell_type": "markdown",
   "metadata": {
    "slideshow": {
     "slide_type": "subslide"
    }
   },
   "source": [
    "Prices variation per content type"
   ]
  },
  {
   "cell_type": "code",
   "execution_count": 402,
   "metadata": {
    "slideshow": {
     "slide_type": "-"
    }
   },
   "outputs": [
    {
     "data": {
      "text/plain": [
       "<AxesSubplot:xlabel='cont_rating', ylabel='price_USD'>"
      ]
     },
     "execution_count": 402,
     "metadata": {},
     "output_type": "execute_result"
    },
    {
     "data": {
      "image/png": "[encoded data removed]",
      "text/plain": [
       "<Figure size 576x576 with 1 Axes>"
      ]
     },
     "metadata": {},
     "output_type": "display_data"
    }
   ],
   "source": [
    "# Prices variance per application age-rating\n",
    "sns.set(rc={'figure.figsize': [8,8]}, font_scale=1.2)\n",
    "sns.violinplot(x='cont_rating', y='price_USD', data=df_app[df_app.price_USD<20], palette='Set3', hue='Store',\n",
    "              split=True)"
   ]
  },
  {
   "cell_type": "markdown",
   "metadata": {
    "slideshow": {
     "slide_type": "slide"
    }
   },
   "source": [
    "___\n",
    "### Arranging the dataset for learning"
   ]
  },
  {
   "cell_type": "code",
   "execution_count": 573,
   "metadata": {
    "slideshow": {
     "slide_type": "skip"
    }
   },
   "outputs": [],
   "source": [
    "cont_dict={'Everyone': 0, 'Teen 9+': 1, 'Mature 17+': 2}\n",
    "\n",
    "df_app_lrn=pd.get_dummies(df_app, columns=['Store', 'Category'], drop_first=True)\n",
    "df_app_lrn.cont_rating=df_app_lrn.cont_rating.map(cont_dict)"
   ]
  },
  {
   "cell_type": "code",
   "execution_count": 574,
   "metadata": {
    "slideshow": {
     "slide_type": "skip"
    }
   },
   "outputs": [],
   "source": [
    "outliers_indices=detect_outliers(df_app_lrn, 1, df_app_lrn[['price_USD']])\n",
    "df_app_lrn.drop(outliers_indices, inplace=True)"
   ]
  },
  {
   "cell_type": "code",
   "execution_count": 599,
   "metadata": {
    "slideshow": {
     "slide_type": "-"
    }
   },
   "outputs": [
    {
     "data": {
      "text/plain": [
       "Text(0.5, 1.0, 'Examining outliers')"
      ]
     },
     "execution_count": 599,
     "metadata": {},
     "output_type": "execute_result"
    },
    {
     "data": {
      "image/png": "[encoded data removed]",
      "text/plain": [
       "<Figure size 576x576 with 1 Axes>"
      ]
     },
     "metadata": {},
     "output_type": "display_data"
    }
   ],
   "source": [
    "# Detecting outliers\n",
    "sns.boxenplot(x='price_USD', data=df_app_lrn)\n",
    "sns.stripplot(x='price_USD', data=df_app_lrn)\n",
    "plt.title('Examining outliers', fontdict={'fontsize':15})"
   ]
  },
  {
   "cell_type": "markdown",
   "metadata": {
    "slideshow": {
     "slide_type": "-"
    }
   },
   "source": [
    "Most of applications are Free, however some are with values far greater than zero, so we will not delete all outliers. This shall be handeled as an imbalanced data."
   ]
  },
  {
   "cell_type": "code",
   "execution_count": 275,
   "metadata": {
    "slideshow": {
     "slide_type": "skip"
    }
   },
   "outputs": [
    {
     "data": {
      "text/html": [
       "<div>\n",
       "<style scoped>\n",
       "    .dataframe tbody tr th:only-of-type {\n",
       "        vertical-align: middle;\n",
       "    }\n",
       "\n",
       "    .dataframe tbody tr th {\n",
       "        vertical-align: top;\n",
       "    }\n",
       "\n",
       "    .dataframe thead th {\n",
       "        text-align: right;\n",
       "    }\n",
       "</style>\n",
       "<table border=\"1\" class=\"dataframe\">\n",
       "  <thead>\n",
       "    <tr style=\"text-align: right;\">\n",
       "      <th></th>\n",
       "      <th>Store</th>\n",
       "      <th>App</th>\n",
       "      <th>Category</th>\n",
       "      <th>Rating</th>\n",
       "      <th>Reviews</th>\n",
       "      <th>size_bytes</th>\n",
       "      <th>price_USD</th>\n",
       "      <th>cont_rating</th>\n",
       "      <th>ver</th>\n",
       "    </tr>\n",
       "  </thead>\n",
       "  <tbody>\n",
       "    <tr>\n",
       "      <th>1534</th>\n",
       "      <td>Google Play Store</td>\n",
       "      <td>Major Mayhem</td>\n",
       "      <td>GAME</td>\n",
       "      <td>4.6</td>\n",
       "      <td>520962</td>\n",
       "      <td>39000000.0</td>\n",
       "      <td>0.0</td>\n",
       "      <td>Teen 9+</td>\n",
       "      <td>108</td>\n",
       "    </tr>\n",
       "    <tr>\n",
       "      <th>2140</th>\n",
       "      <td>Google Play Store</td>\n",
       "      <td>RetailMeNot - Coupons, Deals &amp; Discount Shopping</td>\n",
       "      <td>SHOPPING</td>\n",
       "      <td>4.4</td>\n",
       "      <td>210208</td>\n",
       "      <td>11000000.0</td>\n",
       "      <td>0.0</td>\n",
       "      <td>Everyone</td>\n",
       "      <td>Varies with device</td>\n",
       "    </tr>\n",
       "  </tbody>\n",
       "</table>\n",
       "</div>"
      ],
      "text/plain": [
       "                  Store                                               App  \\\n",
       "1534  Google Play Store                                      Major Mayhem   \n",
       "2140  Google Play Store  RetailMeNot - Coupons, Deals & Discount Shopping   \n",
       "\n",
       "      Category  Rating  Reviews  size_bytes  price_USD cont_rating  \\\n",
       "1534      GAME     4.6   520962  39000000.0        0.0     Teen 9+   \n",
       "2140  SHOPPING     4.4   210208  11000000.0        0.0    Everyone   \n",
       "\n",
       "                     ver  \n",
       "1534                 108  \n",
       "2140  Varies with device  "
      ]
     },
     "execution_count": 275,
     "metadata": {},
     "output_type": "execute_result"
    }
   ],
   "source": [
    "df_app.sample(2)"
   ]
  },
  {
   "cell_type": "code",
   "execution_count": 575,
   "metadata": {
    "slideshow": {
     "slide_type": "skip"
    }
   },
   "outputs": [],
   "source": [
    "# Splitting data to Train and Test splits\n",
    "X=df_app_lrn.drop(['Rating','App','ver'], axis=1)\n",
    "y=df_app_lrn['Rating']\n",
    "X_train, X_test, y_train, y_test=train_test_split(X,y)"
   ]
  },
  {
   "cell_type": "code",
   "execution_count": 576,
   "metadata": {
    "slideshow": {
     "slide_type": "skip"
    }
   },
   "outputs": [
    {
     "data": {
      "text/plain": [
       "[(0.0, 1791),\n",
       " (1.0, 46),\n",
       " (1.4, 3),\n",
       " (1.5, 52),\n",
       " (1.6, 4),\n",
       " (1.7, 8),\n",
       " (1.8, 6),\n",
       " (1.9, 8),\n",
       " (2.0, 78),\n",
       " (2.1, 6),\n",
       " (2.2, 9),\n",
       " (2.3, 15),\n",
       " (2.4, 18),\n",
       " (2.5, 161),\n",
       " (2.6, 20),\n",
       " (2.7, 19),\n",
       " (2.8, 29),\n",
       " (2.9, 34),\n",
       " (3.0, 360),\n",
       " (3.1, 54),\n",
       " (3.2, 44),\n",
       " (3.3, 74),\n",
       " (3.4, 96),\n",
       " (3.5, 644),\n",
       " (3.6, 120),\n",
       " (3.7, 167),\n",
       " (3.8, 210),\n",
       " (3.9, 271),\n",
       " (4.0, 1573),\n",
       " (4.1, 460),\n",
       " (4.2, 601),\n",
       " (4.3, 683),\n",
       " (4.4, 686),\n",
       " (4.5, 2611),\n",
       " (4.6, 535),\n",
       " (4.7, 331),\n",
       " (4.8, 178),\n",
       " (4.9, 66),\n",
       " (5.0, 563)]"
      ]
     },
     "execution_count": 576,
     "metadata": {},
     "output_type": "execute_result"
    }
   ],
   "source": [
    "sorted(Counter(y_train).items())"
   ]
  },
  {
   "cell_type": "code",
   "execution_count": 578,
   "metadata": {
    "slideshow": {
     "slide_type": "skip"
    }
   },
   "outputs": [],
   "source": [
    "# Avoiding continuous data represented in the float Ratings\n",
    "le = LabelEncoder()\n",
    "y_train=le.fit_transform(y_train)\n",
    "y_test=le.fit_transform(y_test)\n",
    "\n",
    "# To transform labels back to original encoding\n",
    "# le.inverse_transform(y_train)\n",
    "# le.inverse_transform(y_test)"
   ]
  },
  {
   "cell_type": "code",
   "execution_count": 580,
   "metadata": {
    "slideshow": {
     "slide_type": "skip"
    }
   },
   "outputs": [
    {
     "data": {
      "text/plain": [
       "[(0, 1791),\n",
       " (1, 46),\n",
       " (2, 3),\n",
       " (3, 52),\n",
       " (4, 4),\n",
       " (5, 8),\n",
       " (6, 6),\n",
       " (7, 8),\n",
       " (8, 78),\n",
       " (9, 6),\n",
       " (10, 9),\n",
       " (11, 15),\n",
       " (12, 18),\n",
       " (13, 161),\n",
       " (14, 20),\n",
       " (15, 19),\n",
       " (16, 29),\n",
       " (17, 34),\n",
       " (18, 360),\n",
       " (19, 54),\n",
       " (20, 44),\n",
       " (21, 74),\n",
       " (22, 96),\n",
       " (23, 644),\n",
       " (24, 120),\n",
       " (25, 167),\n",
       " (26, 210),\n",
       " (27, 271),\n",
       " (28, 1573),\n",
       " (29, 460),\n",
       " (30, 601),\n",
       " (31, 683),\n",
       " (32, 686),\n",
       " (33, 2611),\n",
       " (34, 535),\n",
       " (35, 331),\n",
       " (36, 178),\n",
       " (37, 66),\n",
       " (38, 563)]"
      ]
     },
     "execution_count": 580,
     "metadata": {},
     "output_type": "execute_result"
    }
   ],
   "source": [
    "sorted(Counter(y_train).items())"
   ]
  },
  {
   "cell_type": "code",
   "execution_count": 582,
   "metadata": {
    "slideshow": {
     "slide_type": "skip"
    }
   },
   "outputs": [
    {
     "data": {
      "text/plain": [
       "[(0, 2611),\n",
       " (1, 2611),\n",
       " (2, 2611),\n",
       " (3, 2611),\n",
       " (4, 2611),\n",
       " (5, 2611),\n",
       " (6, 2611),\n",
       " (7, 2611),\n",
       " (8, 2611),\n",
       " (9, 2611),\n",
       " (10, 2611),\n",
       " (11, 2611),\n",
       " (12, 2611),\n",
       " (13, 2611),\n",
       " (14, 2611),\n",
       " (15, 2611),\n",
       " (16, 2611),\n",
       " (17, 2611),\n",
       " (18, 2611),\n",
       " (19, 2611),\n",
       " (20, 2611),\n",
       " (21, 2611),\n",
       " (22, 2611),\n",
       " (23, 2611),\n",
       " (24, 2611),\n",
       " (25, 2611),\n",
       " (26, 2611),\n",
       " (27, 2611),\n",
       " (28, 2611),\n",
       " (29, 2611),\n",
       " (30, 2611),\n",
       " (31, 2611),\n",
       " (32, 2611),\n",
       " (33, 2611),\n",
       " (34, 2611),\n",
       " (35, 2611),\n",
       " (36, 2611),\n",
       " (37, 2611),\n",
       " (38, 2611)]"
      ]
     },
     "execution_count": 582,
     "metadata": {},
     "output_type": "execute_result"
    }
   ],
   "source": [
    "# n_neighbors parameter of SMOTE class to be less than minimum n_samples\n",
    "X_resampled, y_resampled = SMOTE(k_neighbors=2).fit_resample(X_train, y_train)\n",
    "sorted(Counter(y_resampled).items())"
   ]
  },
  {
   "cell_type": "code",
   "execution_count": 598,
   "metadata": {
    "slideshow": {
     "slide_type": "skip"
    }
   },
   "outputs": [],
   "source": [
    "# Scaling features\n",
    "scaler = StandardScaler().fit(X_resampled)\n",
    "X_scaled_train = scaler.transform(X_resampled)\n",
    "X_scaled_test = scaler.transform(X_test)"
   ]
  },
  {
   "cell_type": "markdown",
   "metadata": {
    "slideshow": {
     "slide_type": "slide"
    }
   },
   "source": [
    "After that, data is ready for Machine Learning models to predict for ratings\n",
    "#### Recommendations\n",
    "It's better to increase the data used in the analysis, whether searching for additional datasets, scraping different stores data, or getting an API for the Android/Apple/Huawei/… stores.\n"
   ]
  }
 ],
 "metadata": {
  "celltoolbar": "Slideshow",
  "kernelspec": {
   "display_name": "Python 3",
   "language": "python",
   "name": "python3"
  },
  "language_info": {
   "codemirror_mode": {
    "name": "ipython",
    "version": 3
   },
   "file_extension": ".py",
   "mimetype": "text/x-python",
   "name": "python",
   "nbconvert_exporter": "python",
   "pygments_lexer": "ipython3",
   "version": "3.8.5"
  }
 },
 "nbformat": 4,
 "nbformat_minor": 4
}
