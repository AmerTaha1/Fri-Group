{
 "cells": [
  {
   "cell_type": "markdown",
   "metadata": {},
   "source": [
    "# Assignment\n",
    "## **1.**"
   ]
  },
  {
   "cell_type": "code",
   "execution_count": 14,
   "metadata": {},
   "outputs": [],
   "source": [
    "import sqlite3\n",
    "import requests\n",
    "from bs4 import BeautifulSoup\n",
    "from functools import reduce\n",
    "import pandas as pd\n",
    "import csv"
   ]
  },
  {
   "cell_type": "code",
   "execution_count": 24,
   "metadata": {},
   "outputs": [
    {
     "data": {
      "text/plain": [
       "<sqlite3.Cursor at 0x1601efc7dc0>"
      ]
     },
     "execution_count": 24,
     "metadata": {},
     "output_type": "execute_result"
    }
   ],
   "source": [
    "con=sqlite3.connect('books.db')  # Create a new 'books' database\n",
    "cur=con.cursor()  \n",
    "cur.execute('CREATE TABLE books (Book_name TEXT, Price INT, Rate BIT(3), category_name TEXT)')"
   ]
  },
  {
   "cell_type": "code",
   "execution_count": 19,
   "metadata": {},
   "outputs": [],
   "source": [
    "# Use to DELETE all database conetent\n",
    "con=sqlite3.connect('books.db')\n",
    "cur=con.cursor()\n",
    "cur.execute('DELETE FROM books')\n",
    "con.commit()\n",
    "con.close()"
   ]
  },
  {
   "cell_type": "markdown",
   "metadata": {},
   "source": [
    "## **2.**"
   ]
  },
  {
   "cell_type": "code",
   "execution_count": 2,
   "metadata": {},
   "outputs": [],
   "source": [
    "url='https://books.toscrape.com/index.html'\n",
    "response=requests.get(url)\n",
    "soup=BeautifulSoup(response.text,'html.parser')"
   ]
  },
  {
   "cell_type": "code",
   "execution_count": 21,
   "metadata": {},
   "outputs": [
    {
     "name": "stdout",
     "output_type": "stream",
     "text": [
      "['Travel', 'Mystery', 'Historical Fiction', 'Sequential Art', 'Classics', 'Philosophy', 'Romance', 'Womens Fiction', 'Fiction', 'Childrens', 'Religion', 'Nonfiction', 'Music', 'Default', 'Science Fiction', 'Sports and Games', 'Add a comment', 'Fantasy', 'New Adult', 'Young Adult', 'Science', 'Poetry', 'Paranormal', 'Art', 'Psychology', 'Autobiography', 'Parenting', 'Adult Fiction', 'Humor', 'Horror', 'History', 'Food and Drink', 'Christian Fiction', 'Business', 'Biography', 'Thriller', 'Contemporary', 'Spirituality', 'Academic', 'Self Help', 'Historical', 'Christian', 'Suspense', 'Short Stories', 'Novels', 'Health', 'Politics', 'Cultural', 'Erotica', 'Crime']\n"
     ]
    }
   ],
   "source": [
    "lis=soup.find('ul',class_='').find_all('li')\n",
    "categories=[li.find('a').get_text().strip() for li in lis]\n",
    "print(categories)"
   ]
  },
  {
   "cell_type": "code",
   "execution_count": 22,
   "metadata": {},
   "outputs": [],
   "source": [
    "domain='https://books.toscrape.com/'\n",
    "lis=soup.find('ul',class_='').find_all('li')\n",
    "urls=[domain+li.find('a').get('href') for li in lis]"
   ]
  },
  {
   "cell_type": "code",
   "execution_count": 25,
   "metadata": {},
   "outputs": [],
   "source": [
    "rates_dic={'Zero':0,'One':1,'Two':2,'Three':3,'Four':4,'Five':5}\n",
    "\n",
    "con=sqlite3.connect('books.db')\n",
    "cur=con.cursor()\n",
    "\n",
    "for url in urls:  #loop on categories\n",
    "    soup_cat=BeautifulSoup(requests.get(url).text,'html.parser')\n",
    "    category_name=soup_cat.find('title').get_text().strip().split('|')[0][:-1]\n",
    "    for article in soup_cat.find_all('article',attrs={'class':'product_pod'}):  #Loop on books\n",
    "        Rate=rates_dic[article.find('p').get('class')[1]]\n",
    "        Book_name=article.find('h3').find('a').get('title')\n",
    "        Price=float(article.find('div',attrs={'class':'product_price'}).find('p').get_text()[2:])\n",
    "        cur.execute('INSERT INTO books VALUES (?,?,?,?)',[Book_name,Price,Rate,category_name])\n",
    "        \n",
    "    while soup_cat.find('li',attrs={'class':'next'}):  #loop on all pages\n",
    "        new_page_url=reduce(lambda a,b:a+'/'+b,url.split('/')[:-1])+'/'+soup_cat.find('li',attrs={'class':'next'}).find('a').get('href')\n",
    "        soup_page=BeautifulSoup(requests.get(new_page_url).text,'html.parser')\n",
    "        for article in soup_page.find_all('article',attrs={'class':'product_pod'}):  #loop on books\n",
    "            Rate=rates_dic[article.find('p').get('class')[1]]\n",
    "            Book_name=article.find('h3').find('a').get('title')\n",
    "            Price=float(article.find('div',attrs={'class':'product_price'}).find('p').get_text()[2:])\n",
    "            cur.execute('INSERT INTO books VALUES (?,?,?,?)',[Book_name,Price,Rate,category_name])\n",
    "            soup_cat=soup_page    # HTML soup for the working category, to equal, HTML soup for its Next page\n",
    "            \n",
    "con.commit()  # Save changes to the database\n",
    "con.close()"
   ]
  },
  {
   "cell_type": "code",
   "execution_count": 31,
   "metadata": {},
   "outputs": [
    {
     "name": "stdout",
     "output_type": "stream",
     "text": [
      "(\"It's Only the Himalayas\", 45.17, 2, 'Travel ')\n",
      "('Full Moon over Noahâ\\x80\\x99s Ark: An Odyssey to Mount Ararat and Beyond', 49.43, 4, 'Travel ')\n"
     ]
    }
   ],
   "source": [
    "con=sqlite3.connect('books.db')\n",
    "cur=con.cursor()\n",
    "cur.execute('SELECT * FROM books')\n",
    "print(cur.fetchone())\n",
    "print(cur.fetchone())\n",
    "con.close()"
   ]
  },
  {
   "cell_type": "code",
   "execution_count": 38,
   "metadata": {},
   "outputs": [
    {
     "data": {
      "text/plain": [
       "'Full Moon over Noahâ Ark: An Odyssey to Mount Ararat and Beyond'"
      ]
     },
     "execution_count": 38,
     "metadata": {},
     "output_type": "execute_result"
    }
   ],
   "source": [
    "# draft\n",
    "data=\"Full Moon over Noahâ\\x80\\x99s Ark: An Odyssey to Mount Ararat and Beyond\"\n",
    "udata = data.replace(u'\\x80\\x99s',u'')\n",
    "udata"
   ]
  },
  {
   "cell_type": "markdown",
   "metadata": {},
   "source": [
    "## **4.**"
   ]
  },
  {
   "cell_type": "code",
   "execution_count": 17,
   "metadata": {},
   "outputs": [],
   "source": [
    "con=sqlite3.connect('books.db')\n",
    "cur=con.cursor()\n",
    "headings=[x[1] for x in cur.execute('PRAGMA table_info(books);').fetchall()]\n",
    "\n",
    "with open('books.csv','w',encoding='utf-8',newline='') as f:\n",
    "    writer=csv.DictWriter(f,fieldnames=headings)\n",
    "    writer.writeheader()\n",
    "    writer=csv.writer(f)\n",
    "    writer.writerows(cur.execute('SELECT * FROM books WHERE Rate >= 3 OR Price > 20').fetchall())\n",
    "    \n",
    "con.close()"
   ]
  },
  {
   "cell_type": "code",
   "execution_count": 18,
   "metadata": {},
   "outputs": [
    {
     "data": {
      "text/html": [
       "<div>\n",
       "<style scoped>\n",
       "    .dataframe tbody tr th:only-of-type {\n",
       "        vertical-align: middle;\n",
       "    }\n",
       "\n",
       "    .dataframe tbody tr th {\n",
       "        vertical-align: top;\n",
       "    }\n",
       "\n",
       "    .dataframe thead th {\n",
       "        text-align: right;\n",
       "    }\n",
       "</style>\n",
       "<table border=\"1\" class=\"dataframe\">\n",
       "  <thead>\n",
       "    <tr style=\"text-align: right;\">\n",
       "      <th></th>\n",
       "      <th>Book_name</th>\n",
       "      <th>Price</th>\n",
       "      <th>Rate</th>\n",
       "      <th>category_name</th>\n",
       "    </tr>\n",
       "  </thead>\n",
       "  <tbody>\n",
       "    <tr>\n",
       "      <th>0</th>\n",
       "      <td>It's Only the Himalayas</td>\n",
       "      <td>45.17</td>\n",
       "      <td>2</td>\n",
       "      <td>Travel</td>\n",
       "    </tr>\n",
       "    <tr>\n",
       "      <th>1</th>\n",
       "      <td>Full Moon over Noahâs Ark: An Odyssey to Mou...</td>\n",
       "      <td>49.43</td>\n",
       "      <td>4</td>\n",
       "      <td>Travel</td>\n",
       "    </tr>\n",
       "    <tr>\n",
       "      <th>2</th>\n",
       "      <td>See America: A Celebration of Our National Par...</td>\n",
       "      <td>48.87</td>\n",
       "      <td>3</td>\n",
       "      <td>Travel</td>\n",
       "    </tr>\n",
       "    <tr>\n",
       "      <th>3</th>\n",
       "      <td>Vagabonding: An Uncommon Guide to the Art of L...</td>\n",
       "      <td>36.94</td>\n",
       "      <td>2</td>\n",
       "      <td>Travel</td>\n",
       "    </tr>\n",
       "    <tr>\n",
       "      <th>4</th>\n",
       "      <td>Under the Tuscan Sun</td>\n",
       "      <td>37.33</td>\n",
       "      <td>3</td>\n",
       "      <td>Travel</td>\n",
       "    </tr>\n",
       "    <tr>\n",
       "      <th>...</th>\n",
       "      <td>...</td>\n",
       "      <td>...</td>\n",
       "      <td>...</td>\n",
       "      <td>...</td>\n",
       "    </tr>\n",
       "    <tr>\n",
       "      <th>926</th>\n",
       "      <td>new book 1</td>\n",
       "      <td>10.00</td>\n",
       "      <td>3</td>\n",
       "      <td>new cat</td>\n",
       "    </tr>\n",
       "    <tr>\n",
       "      <th>927</th>\n",
       "      <td>new book 2</td>\n",
       "      <td>11.00</td>\n",
       "      <td>3</td>\n",
       "      <td>new cat</td>\n",
       "    </tr>\n",
       "    <tr>\n",
       "      <th>928</th>\n",
       "      <td>new book 3</td>\n",
       "      <td>12.00</td>\n",
       "      <td>3</td>\n",
       "      <td>new cat</td>\n",
       "    </tr>\n",
       "    <tr>\n",
       "      <th>929</th>\n",
       "      <td>new book 4</td>\n",
       "      <td>13.00</td>\n",
       "      <td>3</td>\n",
       "      <td>new cat</td>\n",
       "    </tr>\n",
       "    <tr>\n",
       "      <th>930</th>\n",
       "      <td>new book 5</td>\n",
       "      <td>14.00</td>\n",
       "      <td>3</td>\n",
       "      <td>new cat</td>\n",
       "    </tr>\n",
       "  </tbody>\n",
       "</table>\n",
       "<p>931 rows × 4 columns</p>\n",
       "</div>"
      ],
      "text/plain": [
       "                                             Book_name  Price  Rate  \\\n",
       "0                              It's Only the Himalayas  45.17     2   \n",
       "1    Full Moon over Noahâs Ark: An Odyssey to Mou...  49.43     4   \n",
       "2    See America: A Celebration of Our National Par...  48.87     3   \n",
       "3    Vagabonding: An Uncommon Guide to the Art of L...  36.94     2   \n",
       "4                                 Under the Tuscan Sun  37.33     3   \n",
       "..                                                 ...    ...   ...   \n",
       "926                                         new book 1  10.00     3   \n",
       "927                                         new book 2  11.00     3   \n",
       "928                                         new book 3  12.00     3   \n",
       "929                                         new book 4  13.00     3   \n",
       "930                                         new book 5  14.00     3   \n",
       "\n",
       "    category_name  \n",
       "0         Travel   \n",
       "1         Travel   \n",
       "2         Travel   \n",
       "3         Travel   \n",
       "4         Travel   \n",
       "..            ...  \n",
       "926       new cat  \n",
       "927       new cat  \n",
       "928       new cat  \n",
       "929       new cat  \n",
       "930       new cat  \n",
       "\n",
       "[931 rows x 4 columns]"
      ]
     },
     "execution_count": 18,
     "metadata": {},
     "output_type": "execute_result"
    }
   ],
   "source": [
    "df=pd.read_csv('books.csv')\n",
    "df"
   ]
  },
  {
   "cell_type": "code",
   "execution_count": 19,
   "metadata": {},
   "outputs": [
    {
     "data": {
      "text/html": [
       "<div>\n",
       "<style scoped>\n",
       "    .dataframe tbody tr th:only-of-type {\n",
       "        vertical-align: middle;\n",
       "    }\n",
       "\n",
       "    .dataframe tbody tr th {\n",
       "        vertical-align: top;\n",
       "    }\n",
       "\n",
       "    .dataframe thead th {\n",
       "        text-align: right;\n",
       "    }\n",
       "</style>\n",
       "<table border=\"1\" class=\"dataframe\">\n",
       "  <thead>\n",
       "    <tr style=\"text-align: right;\">\n",
       "      <th></th>\n",
       "      <th>Book_name</th>\n",
       "      <th>Price</th>\n",
       "      <th>Rate</th>\n",
       "      <th>category_name</th>\n",
       "    </tr>\n",
       "  </thead>\n",
       "  <tbody>\n",
       "    <tr>\n",
       "      <th>6</th>\n",
       "      <td>The Great Railway Bazaar</td>\n",
       "      <td>30.54</td>\n",
       "      <td>1</td>\n",
       "      <td>Travel</td>\n",
       "    </tr>\n",
       "    <tr>\n",
       "      <th>644</th>\n",
       "      <td>Unicorn Tracks</td>\n",
       "      <td>18.78</td>\n",
       "      <td>3</td>\n",
       "      <td>Fantasy</td>\n",
       "    </tr>\n",
       "    <tr>\n",
       "      <th>691</th>\n",
       "      <td>The Natural History of Us (The Fine Art of Pre...</td>\n",
       "      <td>45.22</td>\n",
       "      <td>3</td>\n",
       "      <td>Young Adult</td>\n",
       "    </tr>\n",
       "    <tr>\n",
       "      <th>754</th>\n",
       "      <td>Olio</td>\n",
       "      <td>23.88</td>\n",
       "      <td>1</td>\n",
       "      <td>Poetry</td>\n",
       "    </tr>\n",
       "    <tr>\n",
       "      <th>57</th>\n",
       "      <td>The Guernsey Literary and Potato Peel Pie Society</td>\n",
       "      <td>49.53</td>\n",
       "      <td>1</td>\n",
       "      <td>Historical Fiction</td>\n",
       "    </tr>\n",
       "    <tr>\n",
       "      <th>578</th>\n",
       "      <td>Having the Barbarian's Baby (Ice Planet Barbar...</td>\n",
       "      <td>34.96</td>\n",
       "      <td>4</td>\n",
       "      <td>Science Fiction</td>\n",
       "    </tr>\n",
       "    <tr>\n",
       "      <th>372</th>\n",
       "      <td>Why Save the Bankers?: And Other Essays on Our...</td>\n",
       "      <td>48.67</td>\n",
       "      <td>2</td>\n",
       "      <td>Nonfiction</td>\n",
       "    </tr>\n",
       "    <tr>\n",
       "      <th>760</th>\n",
       "      <td>salt.</td>\n",
       "      <td>46.78</td>\n",
       "      <td>4</td>\n",
       "      <td>Poetry</td>\n",
       "    </tr>\n",
       "    <tr>\n",
       "      <th>74</th>\n",
       "      <td>orange: The Complete Collection 1 (orange: The...</td>\n",
       "      <td>48.41</td>\n",
       "      <td>1</td>\n",
       "      <td>Sequential Art</td>\n",
       "    </tr>\n",
       "    <tr>\n",
       "      <th>76</th>\n",
       "      <td>Lumberjanes, Vol. 1: Beware the Kitten Holy (L...</td>\n",
       "      <td>45.61</td>\n",
       "      <td>3</td>\n",
       "      <td>Sequential Art</td>\n",
       "    </tr>\n",
       "  </tbody>\n",
       "</table>\n",
       "</div>"
      ],
      "text/plain": [
       "                                             Book_name  Price  Rate  \\\n",
       "6                             The Great Railway Bazaar  30.54     1   \n",
       "644                                     Unicorn Tracks  18.78     3   \n",
       "691  The Natural History of Us (The Fine Art of Pre...  45.22     3   \n",
       "754                                               Olio  23.88     1   \n",
       "57   The Guernsey Literary and Potato Peel Pie Society  49.53     1   \n",
       "578  Having the Barbarian's Baby (Ice Planet Barbar...  34.96     4   \n",
       "372  Why Save the Bankers?: And Other Essays on Our...  48.67     2   \n",
       "760                                              salt.  46.78     4   \n",
       "74   orange: The Complete Collection 1 (orange: The...  48.41     1   \n",
       "76   Lumberjanes, Vol. 1: Beware the Kitten Holy (L...  45.61     3   \n",
       "\n",
       "           category_name  \n",
       "6                Travel   \n",
       "644             Fantasy   \n",
       "691         Young Adult   \n",
       "754              Poetry   \n",
       "57   Historical Fiction   \n",
       "578     Science Fiction   \n",
       "372          Nonfiction   \n",
       "760              Poetry   \n",
       "74       Sequential Art   \n",
       "76       Sequential Art   "
      ]
     },
     "execution_count": 19,
     "metadata": {},
     "output_type": "execute_result"
    }
   ],
   "source": [
    "df.sample(10)"
   ]
  }
 ],
 "metadata": {
  "kernelspec": {
   "display_name": "Python 3",
   "language": "python",
   "name": "python3"
  },
  "language_info": {
   "codemirror_mode": {
    "name": "ipython",
    "version": 3
   },
   "file_extension": ".py",
   "mimetype": "text/x-python",
   "name": "python",
   "nbconvert_exporter": "python",
   "pygments_lexer": "ipython3",
   "version": "3.8.5"
  }
 },
 "nbformat": 4,
 "nbformat_minor": 5
}
