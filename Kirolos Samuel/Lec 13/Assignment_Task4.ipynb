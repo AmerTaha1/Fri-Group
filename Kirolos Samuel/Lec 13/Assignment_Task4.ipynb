{
 "cells": [
  {
   "cell_type": "markdown",
   "id": "coupled-adaptation",
   "metadata": {},
   "source": [
    "## Export Database to CSV File and use pandas to read this CSV"
   ]
  },
  {
   "cell_type": "markdown",
   "id": "parallel-representation",
   "metadata": {},
   "source": [
    "### Importing important libraries"
   ]
  },
  {
   "cell_type": "code",
   "execution_count": 2,
   "id": "otherwise-sleeping",
   "metadata": {},
   "outputs": [],
   "source": [
    "import pandas as pd\n",
    "import sqlite3"
   ]
  },
  {
   "cell_type": "markdown",
   "id": "balanced-webcam",
   "metadata": {},
   "source": [
    "### Set connection to the database"
   ]
  },
  {
   "cell_type": "code",
   "execution_count": 7,
   "id": "measured-biology",
   "metadata": {},
   "outputs": [],
   "source": [
    "connection=sqlite3.connect('Online_Library.db')"
   ]
  },
  {
   "cell_type": "markdown",
   "id": "coastal-compensation",
   "metadata": {},
   "source": [
    "### Make a new CSV File and start exporting the data from database into it."
   ]
  },
  {
   "cell_type": "markdown",
   "id": "periodic-liabilities",
   "metadata": {},
   "source": [
    "#### First read the Books Table and export the data into Books.CSV"
   ]
  },
  {
   "cell_type": "code",
   "execution_count": 10,
   "id": "endless-failure",
   "metadata": {},
   "outputs": [],
   "source": [
    "books_df=pd.read_sql(\"SELECT * FROM Books\",connection)"
   ]
  },
  {
   "cell_type": "code",
   "execution_count": 11,
   "id": "incident-contact",
   "metadata": {},
   "outputs": [],
   "source": [
    "# write DataFrame to CSV file\n",
    "books_df.to_csv('Books.csv', index = False)"
   ]
  },
  {
   "cell_type": "markdown",
   "id": "molecular-ceiling",
   "metadata": {},
   "source": [
    "#### Second read the Category Table and export the data into Category.CSV"
   ]
  },
  {
   "cell_type": "code",
   "execution_count": 12,
   "id": "coordinate-imperial",
   "metadata": {},
   "outputs": [],
   "source": [
    "Category_df=pd.read_sql(\"SELECT * FROM Category\",connection)"
   ]
  },
  {
   "cell_type": "code",
   "execution_count": 13,
   "id": "pleased-methodology",
   "metadata": {},
   "outputs": [],
   "source": [
    "# write DataFrame to CSV file\n",
    "Category_df.to_csv('Category.csv', index = False)"
   ]
  },
  {
   "cell_type": "code",
   "execution_count": null,
   "id": "australian-facing",
   "metadata": {},
   "outputs": [],
   "source": []
  },
  {
   "cell_type": "markdown",
   "id": "going-jefferson",
   "metadata": {},
   "source": [
    "## Read the CSV Files"
   ]
  },
  {
   "cell_type": "code",
   "execution_count": 32,
   "id": "stuck-change",
   "metadata": {},
   "outputs": [],
   "source": [
    "books_df=pd.read_csv('Books.csv')"
   ]
  },
  {
   "cell_type": "code",
   "execution_count": 33,
   "id": "insured-water",
   "metadata": {},
   "outputs": [
    {
     "data": {
      "text/html": [
       "<div>\n",
       "<style scoped>\n",
       "    .dataframe tbody tr th:only-of-type {\n",
       "        vertical-align: middle;\n",
       "    }\n",
       "\n",
       "    .dataframe tbody tr th {\n",
       "        vertical-align: top;\n",
       "    }\n",
       "\n",
       "    .dataframe thead th {\n",
       "        text-align: right;\n",
       "    }\n",
       "</style>\n",
       "<table border=\"1\" class=\"dataframe\">\n",
       "  <thead>\n",
       "    <tr style=\"text-align: right;\">\n",
       "      <th></th>\n",
       "      <th>Book_Name</th>\n",
       "      <th>Book_Price</th>\n",
       "      <th>Book_Rate</th>\n",
       "      <th>Category_ID</th>\n",
       "    </tr>\n",
       "    <tr>\n",
       "      <th>Book_ID</th>\n",
       "      <th></th>\n",
       "      <th></th>\n",
       "      <th></th>\n",
       "      <th></th>\n",
       "    </tr>\n",
       "  </thead>\n",
       "  <tbody>\n",
       "    <tr>\n",
       "      <th>1</th>\n",
       "      <td>It's Only the Himalayas</td>\n",
       "      <td>45.17</td>\n",
       "      <td>2</td>\n",
       "      <td>0</td>\n",
       "    </tr>\n",
       "    <tr>\n",
       "      <th>2</th>\n",
       "      <td>Full Moon over Noahâs ...</td>\n",
       "      <td>49.43</td>\n",
       "      <td>4</td>\n",
       "      <td>0</td>\n",
       "    </tr>\n",
       "    <tr>\n",
       "      <th>3</th>\n",
       "      <td>See America: A Celebration ...</td>\n",
       "      <td>48.87</td>\n",
       "      <td>3</td>\n",
       "      <td>0</td>\n",
       "    </tr>\n",
       "    <tr>\n",
       "      <th>4</th>\n",
       "      <td>Vagabonding: An Uncommon Guide ...</td>\n",
       "      <td>36.94</td>\n",
       "      <td>2</td>\n",
       "      <td>0</td>\n",
       "    </tr>\n",
       "    <tr>\n",
       "      <th>5</th>\n",
       "      <td>Under the Tuscan Sun</td>\n",
       "      <td>37.33</td>\n",
       "      <td>3</td>\n",
       "      <td>0</td>\n",
       "    </tr>\n",
       "  </tbody>\n",
       "</table>\n",
       "</div>"
      ],
      "text/plain": [
       "                                  Book_Name  Book_Price  Book_Rate  \\\n",
       "Book_ID                                                              \n",
       "1                   It's Only the Himalayas       45.17          2   \n",
       "2               Full Moon over Noahâs ...       49.43          4   \n",
       "3            See America: A Celebration ...       48.87          3   \n",
       "4        Vagabonding: An Uncommon Guide ...       36.94          2   \n",
       "5                      Under the Tuscan Sun       37.33          3   \n",
       "\n",
       "         Category_ID  \n",
       "Book_ID               \n",
       "1                  0  \n",
       "2                  0  \n",
       "3                  0  \n",
       "4                  0  \n",
       "5                  0  "
      ]
     },
     "execution_count": 33,
     "metadata": {},
     "output_type": "execute_result"
    }
   ],
   "source": [
    "books_df.set_index('Book_ID',inplace=True)\n",
    "books_df.head(5)"
   ]
  },
  {
   "cell_type": "code",
   "execution_count": 34,
   "id": "instant-hours",
   "metadata": {},
   "outputs": [
    {
     "name": "stdout",
     "output_type": "stream",
     "text": [
      "<class 'pandas.core.frame.DataFrame'>\n",
      "Int64Index: 891 entries, 1 to 957\n",
      "Data columns (total 4 columns):\n",
      " #   Column       Non-Null Count  Dtype  \n",
      "---  ------       --------------  -----  \n",
      " 0   Book_Name    891 non-null    object \n",
      " 1   Book_Price   891 non-null    float64\n",
      " 2   Book_Rate    891 non-null    int64  \n",
      " 3   Category_ID  891 non-null    int64  \n",
      "dtypes: float64(1), int64(2), object(1)\n",
      "memory usage: 34.8+ KB\n"
     ]
    }
   ],
   "source": [
    "books_df.info()"
   ]
  },
  {
   "cell_type": "code",
   "execution_count": null,
   "id": "entire-equation",
   "metadata": {},
   "outputs": [],
   "source": []
  },
  {
   "cell_type": "code",
   "execution_count": null,
   "id": "dutch-center",
   "metadata": {},
   "outputs": [],
   "source": []
  },
  {
   "cell_type": "code",
   "execution_count": 19,
   "id": "hydraulic-norman",
   "metadata": {},
   "outputs": [
    {
     "name": "stdout",
     "output_type": "stream",
     "text": [
      "<class 'pandas.core.frame.DataFrame'>\n",
      "RangeIndex: 50 entries, 0 to 49\n",
      "Data columns (total 2 columns):\n",
      " #   Column         Non-Null Count  Dtype \n",
      "---  ------         --------------  ----- \n",
      " 0   Category_id    50 non-null     int64 \n",
      " 1   Category_name  50 non-null     object\n",
      "dtypes: int64(1), object(1)\n",
      "memory usage: 928.0+ bytes\n"
     ]
    }
   ],
   "source": [
    "Category_df=pd.read_csv('Category.csv')\n"
   ]
  },
  {
   "cell_type": "code",
   "execution_count": 35,
   "id": "crazy-spice",
   "metadata": {},
   "outputs": [
    {
     "name": "stdout",
     "output_type": "stream",
     "text": [
      "<class 'pandas.core.frame.DataFrame'>\n",
      "Int64Index: 50 entries, 0 to 49\n",
      "Data columns (total 1 columns):\n",
      " #   Column         Non-Null Count  Dtype \n",
      "---  ------         --------------  ----- \n",
      " 0   Category_name  50 non-null     object\n",
      "dtypes: object(1)\n",
      "memory usage: 800.0+ bytes\n"
     ]
    }
   ],
   "source": [
    "Category_df.set_index('Category_id',inplace=True)\n",
    "Category_df.info()"
   ]
  },
  {
   "cell_type": "code",
   "execution_count": 36,
   "id": "convertible-massachusetts",
   "metadata": {},
   "outputs": [
    {
     "data": {
      "text/html": [
       "<div>\n",
       "<style scoped>\n",
       "    .dataframe tbody tr th:only-of-type {\n",
       "        vertical-align: middle;\n",
       "    }\n",
       "\n",
       "    .dataframe tbody tr th {\n",
       "        vertical-align: top;\n",
       "    }\n",
       "\n",
       "    .dataframe thead th {\n",
       "        text-align: right;\n",
       "    }\n",
       "</style>\n",
       "<table border=\"1\" class=\"dataframe\">\n",
       "  <thead>\n",
       "    <tr style=\"text-align: right;\">\n",
       "      <th></th>\n",
       "      <th>Category_name</th>\n",
       "    </tr>\n",
       "    <tr>\n",
       "      <th>Category_id</th>\n",
       "      <th></th>\n",
       "    </tr>\n",
       "  </thead>\n",
       "  <tbody>\n",
       "    <tr>\n",
       "      <th>0</th>\n",
       "      <td>Travel</td>\n",
       "    </tr>\n",
       "    <tr>\n",
       "      <th>1</th>\n",
       "      <td>Mystery</td>\n",
       "    </tr>\n",
       "    <tr>\n",
       "      <th>2</th>\n",
       "      <td>Historical Fiction</td>\n",
       "    </tr>\n",
       "    <tr>\n",
       "      <th>3</th>\n",
       "      <td>Sequential Art</td>\n",
       "    </tr>\n",
       "    <tr>\n",
       "      <th>4</th>\n",
       "      <td>Classics</td>\n",
       "    </tr>\n",
       "  </tbody>\n",
       "</table>\n",
       "</div>"
      ],
      "text/plain": [
       "                  Category_name\n",
       "Category_id                    \n",
       "0                        Travel\n",
       "1                       Mystery\n",
       "2            Historical Fiction\n",
       "3                Sequential Art\n",
       "4                      Classics"
      ]
     },
     "execution_count": 36,
     "metadata": {},
     "output_type": "execute_result"
    }
   ],
   "source": [
    "Category_df.head(5)"
   ]
  },
  {
   "cell_type": "code",
   "execution_count": null,
   "id": "comic-truck",
   "metadata": {},
   "outputs": [],
   "source": []
  }
 ],
 "metadata": {
  "kernelspec": {
   "display_name": "Python 3",
   "language": "python",
   "name": "python3"
  },
  "language_info": {
   "codemirror_mode": {
    "name": "ipython",
    "version": 3
   },
   "file_extension": ".py",
   "mimetype": "text/x-python",
   "name": "python",
   "nbconvert_exporter": "python",
   "pygments_lexer": "ipython3",
   "version": "3.7.4"
  }
 },
 "nbformat": 4,
 "nbformat_minor": 5
}
