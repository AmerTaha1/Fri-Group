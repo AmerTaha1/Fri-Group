{
 "cells": [
  {
   "cell_type": "code",
   "execution_count": 1,
   "id": "piano-rescue",
   "metadata": {},
   "outputs": [],
   "source": [
    "%config Completer.use_jedi = False "
   ]
  },
  {
   "cell_type": "code",
   "execution_count": 2,
   "id": "tropical-fields",
   "metadata": {},
   "outputs": [],
   "source": [
    "# Importing libraries\n",
    "import numpy as np\n",
    "import pandas as pd\n",
    "import matplotlib.pyplot as plt"
   ]
  },
  {
   "cell_type": "code",
   "execution_count": 3,
   "id": "welcome-penetration",
   "metadata": {},
   "outputs": [
    {
     "name": "stdout",
     "output_type": "stream",
     "text": [
      "<class 'pandas.core.frame.DataFrame'>\n",
      "RangeIndex: 3829 entries, 0 to 3828\n",
      "Data columns (total 5 columns):\n",
      " #   Column      Non-Null Count  Dtype \n",
      "---  ------      --------------  ----- \n",
      " 0   timestamp   3829 non-null   object\n",
      " 1   id          3829 non-null   int64 \n",
      " 2   group       3829 non-null   object\n",
      " 3   total_days  3829 non-null   int64 \n",
      " 4   completed   3829 non-null   bool  \n",
      "dtypes: bool(1), int64(2), object(2)\n",
      "memory usage: 123.5+ KB\n"
     ]
    }
   ],
   "source": [
    "# Reading the dataset\n",
    "df=pd.read_csv('classroom_actions.csv')\n",
    "df.info()"
   ]
  },
  {
   "cell_type": "code",
   "execution_count": 4,
   "id": "promotional-headset",
   "metadata": {},
   "outputs": [
    {
     "data": {
      "text/html": [
       "<div>\n",
       "<style scoped>\n",
       "    .dataframe tbody tr th:only-of-type {\n",
       "        vertical-align: middle;\n",
       "    }\n",
       "\n",
       "    .dataframe tbody tr th {\n",
       "        vertical-align: top;\n",
       "    }\n",
       "\n",
       "    .dataframe thead th {\n",
       "        text-align: right;\n",
       "    }\n",
       "</style>\n",
       "<table border=\"1\" class=\"dataframe\">\n",
       "  <thead>\n",
       "    <tr style=\"text-align: right;\">\n",
       "      <th></th>\n",
       "      <th>timestamp</th>\n",
       "      <th>id</th>\n",
       "      <th>group</th>\n",
       "      <th>total_days</th>\n",
       "      <th>completed</th>\n",
       "    </tr>\n",
       "  </thead>\n",
       "  <tbody>\n",
       "    <tr>\n",
       "      <th>0</th>\n",
       "      <td>2015-08-10 17:06:01.032740</td>\n",
       "      <td>610019</td>\n",
       "      <td>experiment</td>\n",
       "      <td>97</td>\n",
       "      <td>True</td>\n",
       "    </tr>\n",
       "    <tr>\n",
       "      <th>1</th>\n",
       "      <td>2015-08-10 17:15:28.950975</td>\n",
       "      <td>690224</td>\n",
       "      <td>control</td>\n",
       "      <td>75</td>\n",
       "      <td>False</td>\n",
       "    </tr>\n",
       "    <tr>\n",
       "      <th>2</th>\n",
       "      <td>2015-08-10 17:34:40.920384</td>\n",
       "      <td>564994</td>\n",
       "      <td>experiment</td>\n",
       "      <td>128</td>\n",
       "      <td>True</td>\n",
       "    </tr>\n",
       "    <tr>\n",
       "      <th>3</th>\n",
       "      <td>2015-08-10 17:50:39.847374</td>\n",
       "      <td>849588</td>\n",
       "      <td>experiment</td>\n",
       "      <td>66</td>\n",
       "      <td>False</td>\n",
       "    </tr>\n",
       "    <tr>\n",
       "      <th>4</th>\n",
       "      <td>2015-08-10 19:10:40.650599</td>\n",
       "      <td>849826</td>\n",
       "      <td>experiment</td>\n",
       "      <td>34</td>\n",
       "      <td>False</td>\n",
       "    </tr>\n",
       "  </tbody>\n",
       "</table>\n",
       "</div>"
      ],
      "text/plain": [
       "                    timestamp      id       group  total_days  completed\n",
       "0  2015-08-10 17:06:01.032740  610019  experiment          97       True\n",
       "1  2015-08-10 17:15:28.950975  690224     control          75      False\n",
       "2  2015-08-10 17:34:40.920384  564994  experiment         128       True\n",
       "3  2015-08-10 17:50:39.847374  849588  experiment          66      False\n",
       "4  2015-08-10 19:10:40.650599  849826  experiment          34      False"
      ]
     },
     "execution_count": 4,
     "metadata": {},
     "output_type": "execute_result"
    }
   ],
   "source": [
    "df.head()"
   ]
  },
  {
   "cell_type": "code",
   "execution_count": null,
   "id": "progressive-allah",
   "metadata": {},
   "outputs": [],
   "source": []
  },
  {
   "cell_type": "markdown",
   "id": "focal-mount",
   "metadata": {},
   "source": [
    "### Alternative hypothesis\n",
    "#### Alternative:\n",
    "#### Avg (Experiment. Completed==1)-Avg (control. Completed==1)>0\n"
   ]
  },
  {
   "cell_type": "code",
   "execution_count": 5,
   "id": "cosmetic-pleasure",
   "metadata": {},
   "outputs": [
    {
     "data": {
      "text/plain": [
       "0.3935334872979215"
      ]
     },
     "execution_count": 5,
     "metadata": {},
     "output_type": "execute_result"
    }
   ],
   "source": [
    "avg_exp_completed=df.query('group==\"experiment\"').completed.mean()\n",
    "avg_exp_completed"
   ]
  },
  {
   "cell_type": "code",
   "execution_count": 6,
   "id": "developed-bankruptcy",
   "metadata": {},
   "outputs": [
    {
     "data": {
      "text/plain": [
       "0.3719951923076923"
      ]
     },
     "execution_count": 6,
     "metadata": {},
     "output_type": "execute_result"
    }
   ],
   "source": [
    "avg_ctrl_completed=df.query('group==\"control\"').completed.mean()\n",
    "avg_ctrl_completed"
   ]
  },
  {
   "cell_type": "code",
   "execution_count": 7,
   "id": "automatic-tulsa",
   "metadata": {},
   "outputs": [
    {
     "data": {
      "text/plain": [
       "0.02153829499022919"
      ]
     },
     "execution_count": 7,
     "metadata": {},
     "output_type": "execute_result"
    }
   ],
   "source": [
    "altenative_diff=avg_exp_completed-avg_ctrl_completed\n",
    "altenative_diff"
   ]
  },
  {
   "cell_type": "code",
   "execution_count": null,
   "id": "hundred-heather",
   "metadata": {},
   "outputs": [],
   "source": []
  },
  {
   "cell_type": "code",
   "execution_count": null,
   "id": "spatial-dover",
   "metadata": {},
   "outputs": [],
   "source": []
  },
  {
   "cell_type": "markdown",
   "id": "recreational-bridal",
   "metadata": {},
   "source": [
    "### Null\n",
    "#### Null:\n",
    "#### Avg (Experiment. Completed==1)-Avg (control. Completed==1) <=0\n"
   ]
  },
  {
   "cell_type": "code",
   "execution_count": 8,
   "id": "retired-colombia",
   "metadata": {},
   "outputs": [],
   "source": [
    "null_diff=[]\n",
    "for _ in range(10000):\n",
    "    sample=df.sample(df.shape[0],replace=True)\n",
    "    avg_exp_completed_sample=sample.query('group==\"experiment\"').completed.mean()\n",
    "    avg_ctrl_completed_sample=sample.query('group==\"control\"').completed.mean()\n",
    "    null_sample_diff=avg_exp_completed_sample-avg_ctrl_completed_sample\n",
    "    null_diff.append(null_sample_diff)"
   ]
  },
  {
   "cell_type": "code",
   "execution_count": 9,
   "id": "graphic-syndication",
   "metadata": {},
   "outputs": [
    {
     "data": {
      "text/plain": [
       "(array([3.000e+00, 3.000e+01, 2.810e+02, 1.121e+03, 2.604e+03, 3.176e+03,\n",
       "        1.994e+03, 6.720e+02, 1.020e+02, 1.700e+01]),\n",
       " array([-0.04782437, -0.03475679, -0.02168922, -0.00862165,  0.00444593,\n",
       "         0.0175135 ,  0.03058108,  0.04364865,  0.05671623,  0.0697838 ,\n",
       "         0.08285138]),\n",
       " <BarContainer object of 10 artists>)"
      ]
     },
     "execution_count": 9,
     "metadata": {},
     "output_type": "execute_result"
    },
    {
     "data": {
      "image/png": "[encoded data removed]",
      "text/plain": [
       "<Figure size 432x288 with 1 Axes>"
      ]
     },
     "metadata": {
      "needs_background": "light"
     },
     "output_type": "display_data"
    }
   ],
   "source": [
    "plt.hist(null_diff)"
   ]
  },
  {
   "cell_type": "code",
   "execution_count": 10,
   "id": "cognitive-armor",
   "metadata": {},
   "outputs": [],
   "source": [
    "# Making the mean=0\n",
    "null_diff=np.array(null_diff)\n",
    "null_diff=np.random.normal(loc=0,scale=np.std(null_diff),size=null_diff.size)"
   ]
  },
  {
   "cell_type": "code",
   "execution_count": null,
   "id": "brown-party",
   "metadata": {},
   "outputs": [],
   "source": []
  },
  {
   "cell_type": "markdown",
   "id": "burning-honduras",
   "metadata": {},
   "source": [
    "### Plotting the Alternative vs Null "
   ]
  },
  {
   "cell_type": "code",
   "execution_count": 11,
   "id": "fiscal-father",
   "metadata": {},
   "outputs": [
    {
     "data": {
      "text/plain": [
       "<matplotlib.lines.Line2D at 0x1ab39ecf948>"
      ]
     },
     "execution_count": 11,
     "metadata": {},
     "output_type": "execute_result"
    },
    {
     "data": {
      "image/png": "[encoded data removed]",
      "text/plain": [
       "<Figure size 432x288 with 1 Axes>"
      ]
     },
     "metadata": {
      "needs_background": "light"
     },
     "output_type": "display_data"
    }
   ],
   "source": [
    "plt.hist(null_diff)\n",
    "plt.axvline(x=altenative_diff,c='red')"
   ]
  },
  {
   "cell_type": "markdown",
   "id": "intermediate-platinum",
   "metadata": {},
   "source": [
    "### Calculating P_value"
   ]
  },
  {
   "cell_type": "code",
   "execution_count": 12,
   "id": "nasty-element",
   "metadata": {},
   "outputs": [
    {
     "data": {
      "text/plain": [
       "8.62"
      ]
     },
     "execution_count": 12,
     "metadata": {},
     "output_type": "execute_result"
    }
   ],
   "source": [
    "p_value=(null_diff>altenative_diff).mean()*100\n",
    "p_value"
   ]
  },
  {
   "cell_type": "code",
   "execution_count": null,
   "id": "authentic-iceland",
   "metadata": {},
   "outputs": [],
   "source": []
  }
 ],
 "metadata": {
  "kernelspec": {
   "display_name": "Python 3",
   "language": "python",
   "name": "python3"
  },
  "language_info": {
   "codemirror_mode": {
    "name": "ipython",
    "version": 3
   },
   "file_extension": ".py",
   "mimetype": "text/x-python",
   "name": "python",
   "nbconvert_exporter": "python",
   "pygments_lexer": "ipython3",
   "version": "3.7.4"
  }
 },
 "nbformat": 4,
 "nbformat_minor": 5
}
