{
 "cells": [
  {
   "cell_type": "code",
   "execution_count": 1,
   "id": "distinguished-campaign",
   "metadata": {},
   "outputs": [],
   "source": [
    "%config Completer.use_jedi = False "
   ]
  },
  {
   "cell_type": "code",
   "execution_count": 2,
   "id": "irish-anniversary",
   "metadata": {},
   "outputs": [],
   "source": [
    "# Importing libraries\n",
    "import numpy as np\n",
    "import pandas as pd\n",
    "import matplotlib.pyplot as plt"
   ]
  },
  {
   "cell_type": "code",
   "execution_count": 4,
   "id": "pursuant-buying",
   "metadata": {},
   "outputs": [
    {
     "name": "stdout",
     "output_type": "stream",
     "text": [
      "<class 'pandas.core.frame.DataFrame'>\n",
      "RangeIndex: 4069 entries, 0 to 4068\n",
      "Data columns (total 5 columns):\n",
      " #   Column     Non-Null Count  Dtype  \n",
      "---  ------     --------------  -----  \n",
      " 0   timestamp  4069 non-null   object \n",
      " 1   id         4069 non-null   int64  \n",
      " 2   group      4069 non-null   object \n",
      " 3   action     4069 non-null   object \n",
      " 4   duration   4044 non-null   float64\n",
      "dtypes: float64(1), int64(1), object(3)\n",
      "memory usage: 159.1+ KB\n"
     ]
    }
   ],
   "source": [
    "# Reading the dataset\n",
    "df=pd.read_csv('Course_page_actions.csv')\n",
    "df.info()"
   ]
  },
  {
   "cell_type": "code",
   "execution_count": 6,
   "id": "crude-commerce",
   "metadata": {},
   "outputs": [
    {
     "data": {
      "text/html": [
       "<div>\n",
       "<style scoped>\n",
       "    .dataframe tbody tr th:only-of-type {\n",
       "        vertical-align: middle;\n",
       "    }\n",
       "\n",
       "    .dataframe tbody tr th {\n",
       "        vertical-align: top;\n",
       "    }\n",
       "\n",
       "    .dataframe thead th {\n",
       "        text-align: right;\n",
       "    }\n",
       "</style>\n",
       "<table border=\"1\" class=\"dataframe\">\n",
       "  <thead>\n",
       "    <tr style=\"text-align: right;\">\n",
       "      <th></th>\n",
       "      <th>timestamp</th>\n",
       "      <th>id</th>\n",
       "      <th>group</th>\n",
       "      <th>action</th>\n",
       "      <th>duration</th>\n",
       "    </tr>\n",
       "  </thead>\n",
       "  <tbody>\n",
       "    <tr>\n",
       "      <th>0</th>\n",
       "      <td>2016-09-24 17:14:52.012145</td>\n",
       "      <td>261869</td>\n",
       "      <td>experiment</td>\n",
       "      <td>view</td>\n",
       "      <td>130.545004</td>\n",
       "    </tr>\n",
       "    <tr>\n",
       "      <th>1</th>\n",
       "      <td>2016-09-24 18:45:09.645857</td>\n",
       "      <td>226546</td>\n",
       "      <td>experiment</td>\n",
       "      <td>view</td>\n",
       "      <td>159.862440</td>\n",
       "    </tr>\n",
       "    <tr>\n",
       "      <th>2</th>\n",
       "      <td>2016-09-24 19:16:21.002533</td>\n",
       "      <td>286353</td>\n",
       "      <td>experiment</td>\n",
       "      <td>view</td>\n",
       "      <td>79.349315</td>\n",
       "    </tr>\n",
       "    <tr>\n",
       "      <th>3</th>\n",
       "      <td>2016-09-24 19:43:06.927785</td>\n",
       "      <td>842279</td>\n",
       "      <td>experiment</td>\n",
       "      <td>view</td>\n",
       "      <td>55.536126</td>\n",
       "    </tr>\n",
       "    <tr>\n",
       "      <th>4</th>\n",
       "      <td>2016-09-24 21:08:22.790333</td>\n",
       "      <td>781883</td>\n",
       "      <td>experiment</td>\n",
       "      <td>view</td>\n",
       "      <td>204.322437</td>\n",
       "    </tr>\n",
       "  </tbody>\n",
       "</table>\n",
       "</div>"
      ],
      "text/plain": [
       "                    timestamp      id       group action    duration\n",
       "0  2016-09-24 17:14:52.012145  261869  experiment   view  130.545004\n",
       "1  2016-09-24 18:45:09.645857  226546  experiment   view  159.862440\n",
       "2  2016-09-24 19:16:21.002533  286353  experiment   view   79.349315\n",
       "3  2016-09-24 19:43:06.927785  842279  experiment   view   55.536126\n",
       "4  2016-09-24 21:08:22.790333  781883  experiment   view  204.322437"
      ]
     },
     "execution_count": 6,
     "metadata": {},
     "output_type": "execute_result"
    }
   ],
   "source": [
    "df.head()"
   ]
  },
  {
   "cell_type": "code",
   "execution_count": null,
   "id": "governmental-wales",
   "metadata": {},
   "outputs": [],
   "source": []
  },
  {
   "cell_type": "markdown",
   "id": "mature-respondent",
   "metadata": {},
   "source": [
    "### Alternative hypothesis\n",
    "#### Avg (Experiment. Duration)-Avg (control. Duration)>0"
   ]
  },
  {
   "cell_type": "code",
   "execution_count": 18,
   "id": "prospective-variance",
   "metadata": {},
   "outputs": [
    {
     "data": {
      "text/plain": [
       "130.94416011544428"
      ]
     },
     "execution_count": 18,
     "metadata": {},
     "output_type": "execute_result"
    }
   ],
   "source": [
    "avg_exp_duration=df.query('group==\"experiment\"').duration.mean()\n",
    "avg_exp_duration\n"
   ]
  },
  {
   "cell_type": "code",
   "execution_count": 19,
   "id": "higher-commodity",
   "metadata": {},
   "outputs": [
    {
     "data": {
      "text/plain": [
       "115.40710650582048"
      ]
     },
     "execution_count": 19,
     "metadata": {},
     "output_type": "execute_result"
    }
   ],
   "source": [
    "avg_ctrl_duration=df.query('group==\"control\"').duration.mean()\n",
    "avg_ctrl_duration"
   ]
  },
  {
   "cell_type": "code",
   "execution_count": 21,
   "id": "cardiovascular-equivalent",
   "metadata": {},
   "outputs": [
    {
     "data": {
      "text/plain": [
       "15.537053609623797"
      ]
     },
     "execution_count": 21,
     "metadata": {},
     "output_type": "execute_result"
    }
   ],
   "source": [
    "altenative_diff=avg_exp_duration-avg_ctrl_duration\n",
    "altenative_diff"
   ]
  },
  {
   "cell_type": "code",
   "execution_count": null,
   "id": "mineral-elite",
   "metadata": {},
   "outputs": [],
   "source": []
  },
  {
   "cell_type": "code",
   "execution_count": null,
   "id": "floral-channel",
   "metadata": {},
   "outputs": [],
   "source": []
  },
  {
   "cell_type": "markdown",
   "id": "veterinary-costs",
   "metadata": {},
   "source": [
    "### Null hypothesis\n",
    "#### Avg (Experiment. Duration)-Avg (control. Duration) <=0"
   ]
  },
  {
   "cell_type": "code",
   "execution_count": 25,
   "id": "sustained-oklahoma",
   "metadata": {},
   "outputs": [],
   "source": [
    "null_diff=[]\n",
    "for _ in range(10000):\n",
    "    sample=df.sample(df.shape[0],replace=True)\n",
    "    avg_exp_duration_sample=sample.query('group==\"experiment\"').duration.mean()\n",
    "    avg_ctrl_duration_sample=sample.query('group==\"control\"').duration.mean()\n",
    "    null_sample_diff=avg_exp_duration_sample-avg_ctrl_duration_sample\n",
    "    null_diff.append(null_sample_diff)\n",
    "\n"
   ]
  },
  {
   "cell_type": "code",
   "execution_count": 26,
   "id": "laden-bibliography",
   "metadata": {},
   "outputs": [
    {
     "data": {
      "text/plain": [
       "(array([   6.,   47.,  289., 1244., 2607., 2953., 1976.,  722.,  140.,\n",
       "          16.]),\n",
       " array([ 6.18420615,  7.95821379,  9.73222143, 11.50622906, 13.2802367 ,\n",
       "        15.05424434, 16.82825197, 18.60225961, 20.37626725, 22.15027489,\n",
       "        23.92428252]),\n",
       " <BarContainer object of 10 artists>)"
      ]
     },
     "execution_count": 26,
     "metadata": {},
     "output_type": "execute_result"
    },
    {
     "data": {
      "image/png": "[encoded data removed]",
      "text/plain": [
       "<Figure size 432x288 with 1 Axes>"
      ]
     },
     "metadata": {
      "needs_background": "light"
     },
     "output_type": "display_data"
    }
   ],
   "source": [
    "plt.hist(null_diff)"
   ]
  },
  {
   "cell_type": "code",
   "execution_count": 27,
   "id": "solar-sharp",
   "metadata": {},
   "outputs": [],
   "source": [
    "# Making the mean=0\n",
    "null_diff=np.array(null_diff)\n",
    "null_diff=np.random.normal(loc=0,scale=np.std(null_diff),size=null_diff.size)"
   ]
  },
  {
   "cell_type": "code",
   "execution_count": 28,
   "id": "amateur-gibraltar",
   "metadata": {},
   "outputs": [
    {
     "data": {
      "text/plain": [
       "(array([  11.,  135.,  631., 1850., 2991., 2674., 1333.,  325.,   43.,\n",
       "           7.]),\n",
       " array([-8.6842793 , -6.87388623, -5.06349316, -3.25310009, -1.44270702,\n",
       "         0.36768605,  2.17807912,  3.9884722 ,  5.79886527,  7.60925834,\n",
       "         9.41965141]),\n",
       " <BarContainer object of 10 artists>)"
      ]
     },
     "execution_count": 28,
     "metadata": {},
     "output_type": "execute_result"
    },
    {
     "data": {
      "image/png": "[encoded data removed]",
      "text/plain": [
       "<Figure size 432x288 with 1 Axes>"
      ]
     },
     "metadata": {
      "needs_background": "light"
     },
     "output_type": "display_data"
    }
   ],
   "source": [
    "plt.hist(null_diff)"
   ]
  },
  {
   "cell_type": "code",
   "execution_count": null,
   "id": "lonely-definition",
   "metadata": {},
   "outputs": [],
   "source": []
  },
  {
   "cell_type": "markdown",
   "id": "reasonable-certificate",
   "metadata": {},
   "source": [
    "### Plotting the Alternative vs Null "
   ]
  },
  {
   "cell_type": "code",
   "execution_count": 29,
   "id": "exterior-confidentiality",
   "metadata": {},
   "outputs": [
    {
     "data": {
      "text/plain": [
       "<matplotlib.lines.Line2D at 0x23af5384cc8>"
      ]
     },
     "execution_count": 29,
     "metadata": {},
     "output_type": "execute_result"
    },
    {
     "data": {
      "image/png": "[encoded data removed]",
      "text/plain": [
       "<Figure size 432x288 with 1 Axes>"
      ]
     },
     "metadata": {
      "needs_background": "light"
     },
     "output_type": "display_data"
    }
   ],
   "source": [
    "plt.hist(null_diff)\n",
    "plt.axvline(x=altenative_diff,c='red')"
   ]
  },
  {
   "cell_type": "markdown",
   "id": "broad-morning",
   "metadata": {},
   "source": [
    "### Calculating P_value"
   ]
  },
  {
   "cell_type": "code",
   "execution_count": 30,
   "id": "cleared-match",
   "metadata": {},
   "outputs": [
    {
     "data": {
      "text/plain": [
       "0.0"
      ]
     },
     "execution_count": 30,
     "metadata": {},
     "output_type": "execute_result"
    }
   ],
   "source": [
    "p_value=(null_diff>altenative_diff).mean()*100\n",
    "p_value"
   ]
  },
  {
   "cell_type": "code",
   "execution_count": null,
   "id": "light-baseline",
   "metadata": {},
   "outputs": [],
   "source": []
  }
 ],
 "metadata": {
  "kernelspec": {
   "display_name": "Python 3",
   "language": "python",
   "name": "python3"
  },
  "language_info": {
   "codemirror_mode": {
    "name": "ipython",
    "version": 3
   },
   "file_extension": ".py",
   "mimetype": "text/x-python",
   "name": "python",
   "nbconvert_exporter": "python",
   "pygments_lexer": "ipython3",
   "version": "3.7.4"
  }
 },
 "nbformat": 4,
 "nbformat_minor": 5
}
