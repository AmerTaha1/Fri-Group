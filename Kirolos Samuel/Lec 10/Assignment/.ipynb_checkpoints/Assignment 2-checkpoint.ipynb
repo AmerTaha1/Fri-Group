{
 "cells": [
  {
   "cell_type": "code",
   "execution_count": 8,
   "id": "characteristic-barrel",
   "metadata": {},
   "outputs": [],
   "source": [
    "%config Completer.use_jedi = False "
   ]
  },
  {
   "cell_type": "code",
   "execution_count": 9,
   "id": "heated-desktop",
   "metadata": {},
   "outputs": [],
   "source": [
    "# Importing libraries\n",
    "from requests import request\n",
    "import json \n",
    "import csv\n",
    "import pandas as pd"
   ]
  },
  {
   "cell_type": "markdown",
   "id": "subtle-consideration",
   "metadata": {},
   "source": [
    "## Web Scrapping"
   ]
  },
  {
   "cell_type": "code",
   "execution_count": 10,
   "id": "injured-clause",
   "metadata": {},
   "outputs": [],
   "source": [
    "json_resp=request('GET','http://api.weatherstack.com/current?access_key=cce43aa3a3de500cc32c5df0e67c9408&query=Cairo')"
   ]
  },
  {
   "cell_type": "code",
   "execution_count": 11,
   "id": "little-bristol",
   "metadata": {},
   "outputs": [
    {
     "data": {
      "text/plain": [
       "{'request': {'type': 'City',\n",
       "  'query': 'Cairo, Egypt',\n",
       "  'language': 'en',\n",
       "  'unit': 'm'},\n",
       " 'location': {'name': 'Cairo',\n",
       "  'country': 'Egypt',\n",
       "  'region': 'Al Qahirah',\n",
       "  'lat': '30.050',\n",
       "  'lon': '31.250',\n",
       "  'timezone_id': 'Africa/Cairo',\n",
       "  'localtime': '2021-09-28 15:14',\n",
       "  'localtime_epoch': 1632842040,\n",
       "  'utc_offset': '2.0'},\n",
       " 'current': {'observation_time': '01:14 PM',\n",
       "  'temperature': 30,\n",
       "  'weather_code': 113,\n",
       "  'weather_icons': ['https://assets.weatherstack.com/images/wsymbols01_png_64/wsymbol_0001_sunny.png'],\n",
       "  'weather_descriptions': ['Sunny'],\n",
       "  'wind_speed': 15,\n",
       "  'wind_degree': 320,\n",
       "  'wind_dir': 'NW',\n",
       "  'pressure': 1012,\n",
       "  'precip': 0,\n",
       "  'humidity': 43,\n",
       "  'cloudcover': 0,\n",
       "  'feelslike': 29,\n",
       "  'uv_index': 8,\n",
       "  'visibility': 10,\n",
       "  'is_day': 'yes'}}"
      ]
     },
     "execution_count": 11,
     "metadata": {},
     "output_type": "execute_result"
    }
   ],
   "source": [
    "material=json_resp.json()\n",
    "material"
   ]
  },
  {
   "cell_type": "code",
   "execution_count": 12,
   "id": "responsible-formula",
   "metadata": {},
   "outputs": [],
   "source": [
    "count=0"
   ]
  },
  {
   "cell_type": "code",
   "execution_count": 13,
   "id": "local-thomson",
   "metadata": {},
   "outputs": [],
   "source": [
    "#writing the column names\n",
    "#run only once\n",
    "if count==0:\n",
    "    with open('temp_monitor.csv','w',newline='') as f:\n",
    "        writer=csv.DictWriter(f,fieldnames=['run_number','City_name','temperature','humidity','visibility','pressure','wind_speed'])\n",
    "        writer.writeheader()"
   ]
  },
  {
   "cell_type": "code",
   "execution_count": 14,
   "id": "straight-railway",
   "metadata": {},
   "outputs": [],
   "source": [
    "with open('temp_monitor.csv','a',newline='') as f:\n",
    "    count+=1\n",
    "    city_name=material['location']['name']\n",
    "    temp=material['current']['temperature']\n",
    "    humid=material['current']['humidity']\n",
    "    visib=material['current']['visibility']\n",
    "    pressure=material['current']['pressure']\n",
    "    wind_speed=material['current']['wind_speed']\n",
    "    List=[count,city_name,temp,humid,visib,pressure,wind_speed]\n",
    "    writer_object = csv.writer(f)\n",
    "    writer_object.writerow(List)"
   ]
  },
  {
   "cell_type": "code",
   "execution_count": null,
   "id": "recorded-wedding",
   "metadata": {},
   "outputs": [],
   "source": []
  },
  {
   "cell_type": "code",
   "execution_count": null,
   "id": "grateful-administration",
   "metadata": {},
   "outputs": [],
   "source": []
  }
 ],
 "metadata": {
  "kernelspec": {
   "display_name": "Python 3",
   "language": "python",
   "name": "python3"
  },
  "language_info": {
   "codemirror_mode": {
    "name": "ipython",
    "version": 3
   },
   "file_extension": ".py",
   "mimetype": "text/x-python",
   "name": "python",
   "nbconvert_exporter": "python",
   "pygments_lexer": "ipython3",
   "version": "3.7.4"
  }
 },
 "nbformat": 4,
 "nbformat_minor": 5
}
