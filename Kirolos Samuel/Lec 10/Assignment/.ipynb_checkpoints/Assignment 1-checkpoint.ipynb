{
 "cells": [
  {
   "cell_type": "markdown",
   "id": "saved-aruba",
   "metadata": {},
   "source": [
    "## Part A"
   ]
  },
  {
   "cell_type": "code",
   "execution_count": 1,
   "id": "balanced-mexican",
   "metadata": {},
   "outputs": [],
   "source": [
    "%config Completer.use_jedi = False "
   ]
  },
  {
   "cell_type": "code",
   "execution_count": 2,
   "id": "wrapped-seventh",
   "metadata": {},
   "outputs": [],
   "source": [
    "#importing Libraries\n",
    "import requests\n",
    "import json"
   ]
  },
  {
   "cell_type": "code",
   "execution_count": 3,
   "id": "comparative-samoa",
   "metadata": {},
   "outputs": [
    {
     "data": {
      "text/plain": [
       "<Response [200]>"
      ]
     },
     "execution_count": 3,
     "metadata": {},
     "output_type": "execute_result"
    }
   ],
   "source": [
    "json_resp=requests.request('GET','https://api.exchangerate.host/latest')\n",
    "json_resp\n",
    "# response=200 means : OK. The request has succeeded"
   ]
  },
  {
   "cell_type": "code",
   "execution_count": 4,
   "id": "representative-classics",
   "metadata": {},
   "outputs": [
    {
     "data": {
      "text/plain": [
       "'{\"motd\":{\"msg\":\"If you or your company use this project or like what we doing, please consider backing us so we can continue maintaining and evolving this project.\",\"url\":\"https://exchangerate.host/#/donate\"},\"success\":true,\"base\":\"EUR\",\"date\":\"2021-10-07\",\"rates\":{\"AED\":4.243693,\"AFN\":103.966395,\"ALL\":121.234215,\"AMD\":563.591813,\"ANG\":2.070699,\"AOA\":691.651936,\"ARS\":114.258884,\"AUD\":1.586902,\"AWG\":2.080852,\"AZN\":1.965337,\"BAM\":1.955745,\"BBD\":2.310355,\"BDT\":99.016199,\"BGN\":1.955274,\"BHD\":0.436017,\"BIF\":2292.076621,\"BMD\":1.156006,\"BND\":1.570576,\"BOB\":7.961943,\"BRL\":6.345815,\"BSD\":1.156329,\"BTC\":0.000021,\"BTN\":86.509824,\"BWP\":13.09565,\"BYN\":2.879347,\"BZD\":2.324791,\"CAD\":1.45382,\"CDF\":2289.321401,\"CHF\":1.071727,\"CLF\":0.034645,\"CLP\":939.290432,\"CNH\":7.457486,\"CNY\":7.446832,\"COP\":4362.693059,\"CRC\":721.744872,\"CUC\":1.15566,\"CUP\":29.744559,\"CVE\":110.313808,\"CZK\":25.383253,\"DJF\":205.262209,\"DKK\":7.436935,\"DOP\":64.856928,\"DZD\":158.773737,\"EGP\":18.136317,\"ERN\":17.330058,\"ETB\":53.403708,\"EUR\":1,\"FJD\":2.423531,\"FKP\":0.850908,\"GBP\":0.851146,\"GEL\":3.63415,\"GGP\":0.851048,\"GHS\":6.987464,\"GIP\":0.851573,\"GMD\":59.575097,\"GNF\":11249.823575,\"GTQ\":8.925502,\"GYD\":241.256041,\"HKD\":8.99412,\"HNL\":27.779421,\"HRK\":7.504914,\"HTG\":113.57166,\"HUF\":358.632348,\"IDR\":16452.534784,\"ILS\":3.737039,\"IMP\":0.851378,\"INR\":86.500608,\"IQD\":1683.405951,\"IRR\":48739.906821,\"ISK\":148.537005,\"JEP\":0.851345,\"JMD\":170.647319,\"JOD\":0.819327,\"JPY\":128.698651,\"KES\":127.640634,\"KGS\":97.955523,\"KHR\":4704.290224,\"KMF\":490.056547,\"KPW\":1039.600266,\"KRW\":1374.603717,\"KWD\":0.349253,\"KYD\":0.960889,\"KZT\":490.317544,\"LAK\":11585.340257,\"LBP\":1764.826183,\"LKR\":230.331211,\"LRD\":197.236022,\"LSL\":17.462329,\"LYD\":5.249126,\"MAD\":10.473784,\"MDL\":20.202067,\"MGA\":4557.920583,\"MKD\":61.577861,\"MMK\":2264.512184,\"MNT\":3288.63478,\"MOP\":9.248472,\"MRO\":412.375096,\"MRU\":41.751785,\"MUR\":49.092095,\"MVR\":17.847527,\"MWK\":940.294682,\"MXN\":23.7562,\"MYR\":4.83112,\"MZN\":73.69662,\"NAD\":17.419556,\"NGN\":473.884387,\"NIO\":40.581595,\"NOK\":9.906136,\"NPR\":138.414949,\"NZD\":1.669986,\"OMR\":0.445382,\"PAB\":1.156096,\"PEN\":4.780645,\"PGK\":4.068847,\"PHP\":58.643639,\"PKR\":197.351189,\"PLN\":4.550165,\"PYG\":7976.709258,\"QAR\":4.206601,\"RON\":4.943819,\"RSD\":117.533338,\"RUB\":83.688121,\"RWF\":1172.368434,\"SAR\":4.33247,\"SBD\":9.305406,\"SCR\":14.969124,\"SDG\":509.405033,\"SEK\":10.164814,\"SGD\":1.569564,\"SHP\":0.850763,\"SLL\":12215.703074,\"SOS\":666.98766,\"SRD\":24.724237,\"SSP\":150.465674,\"STD\":24193.788368,\"STN\":24.878798,\"SVC\":10.090447,\"SYP\":1452.501535,\"SZL\":17.453543,\"THB\":39.078426,\"TJS\":13.052485,\"TMT\":4.04323,\"TND\":3.277072,\"TOP\":2.621131,\"TRY\":10.24596,\"TTD\":7.825838,\"TWD\":32.308234,\"TZS\":2658.317181,\"UAH\":30.353661,\"UGX\":4110.431627,\"USD\":1.156055,\"UYU\":49.731918,\"UZS\":12323.388317,\"VES\":4.8062,\"VND\":26246.673933,\"VUV\":129.459607,\"WST\":2.971419,\"XAF\":655.648838,\"XAG\":0.051435,\"XAU\":0.001547,\"XCD\":3.122159,\"XDR\":0.818881,\"XOF\":655.648476,\"XPD\":0.001124,\"XPF\":119.276401,\"XPT\":0.001318,\"YER\":289.182691,\"ZAR\":17.328062,\"ZMW\":19.642523,\"ZWL\":371.946576}}'"
      ]
     },
     "execution_count": 4,
     "metadata": {},
     "output_type": "execute_result"
    }
   ],
   "source": [
    "json_resp.text"
   ]
  },
  {
   "cell_type": "code",
   "execution_count": 5,
   "id": "remarkable-comparison",
   "metadata": {},
   "outputs": [
    {
     "data": {
      "text/plain": [
       "{'motd': {'msg': 'If you or your company use this project or like what we doing, please consider backing us so we can continue maintaining and evolving this project.',\n",
       "  'url': 'https://exchangerate.host/#/donate'},\n",
       " 'success': True,\n",
       " 'base': 'EUR',\n",
       " 'date': '2021-10-07',\n",
       " 'rates': {'AED': 4.243693,\n",
       "  'AFN': 103.966395,\n",
       "  'ALL': 121.234215,\n",
       "  'AMD': 563.591813,\n",
       "  'ANG': 2.070699,\n",
       "  'AOA': 691.651936,\n",
       "  'ARS': 114.258884,\n",
       "  'AUD': 1.586902,\n",
       "  'AWG': 2.080852,\n",
       "  'AZN': 1.965337,\n",
       "  'BAM': 1.955745,\n",
       "  'BBD': 2.310355,\n",
       "  'BDT': 99.016199,\n",
       "  'BGN': 1.955274,\n",
       "  'BHD': 0.436017,\n",
       "  'BIF': 2292.076621,\n",
       "  'BMD': 1.156006,\n",
       "  'BND': 1.570576,\n",
       "  'BOB': 7.961943,\n",
       "  'BRL': 6.345815,\n",
       "  'BSD': 1.156329,\n",
       "  'BTC': 2.1e-05,\n",
       "  'BTN': 86.509824,\n",
       "  'BWP': 13.09565,\n",
       "  'BYN': 2.879347,\n",
       "  'BZD': 2.324791,\n",
       "  'CAD': 1.45382,\n",
       "  'CDF': 2289.321401,\n",
       "  'CHF': 1.071727,\n",
       "  'CLF': 0.034645,\n",
       "  'CLP': 939.290432,\n",
       "  'CNH': 7.457486,\n",
       "  'CNY': 7.446832,\n",
       "  'COP': 4362.693059,\n",
       "  'CRC': 721.744872,\n",
       "  'CUC': 1.15566,\n",
       "  'CUP': 29.744559,\n",
       "  'CVE': 110.313808,\n",
       "  'CZK': 25.383253,\n",
       "  'DJF': 205.262209,\n",
       "  'DKK': 7.436935,\n",
       "  'DOP': 64.856928,\n",
       "  'DZD': 158.773737,\n",
       "  'EGP': 18.136317,\n",
       "  'ERN': 17.330058,\n",
       "  'ETB': 53.403708,\n",
       "  'EUR': 1,\n",
       "  'FJD': 2.423531,\n",
       "  'FKP': 0.850908,\n",
       "  'GBP': 0.851146,\n",
       "  'GEL': 3.63415,\n",
       "  'GGP': 0.851048,\n",
       "  'GHS': 6.987464,\n",
       "  'GIP': 0.851573,\n",
       "  'GMD': 59.575097,\n",
       "  'GNF': 11249.823575,\n",
       "  'GTQ': 8.925502,\n",
       "  'GYD': 241.256041,\n",
       "  'HKD': 8.99412,\n",
       "  'HNL': 27.779421,\n",
       "  'HRK': 7.504914,\n",
       "  'HTG': 113.57166,\n",
       "  'HUF': 358.632348,\n",
       "  'IDR': 16452.534784,\n",
       "  'ILS': 3.737039,\n",
       "  'IMP': 0.851378,\n",
       "  'INR': 86.500608,\n",
       "  'IQD': 1683.405951,\n",
       "  'IRR': 48739.906821,\n",
       "  'ISK': 148.537005,\n",
       "  'JEP': 0.851345,\n",
       "  'JMD': 170.647319,\n",
       "  'JOD': 0.819327,\n",
       "  'JPY': 128.698651,\n",
       "  'KES': 127.640634,\n",
       "  'KGS': 97.955523,\n",
       "  'KHR': 4704.290224,\n",
       "  'KMF': 490.056547,\n",
       "  'KPW': 1039.600266,\n",
       "  'KRW': 1374.603717,\n",
       "  'KWD': 0.349253,\n",
       "  'KYD': 0.960889,\n",
       "  'KZT': 490.317544,\n",
       "  'LAK': 11585.340257,\n",
       "  'LBP': 1764.826183,\n",
       "  'LKR': 230.331211,\n",
       "  'LRD': 197.236022,\n",
       "  'LSL': 17.462329,\n",
       "  'LYD': 5.249126,\n",
       "  'MAD': 10.473784,\n",
       "  'MDL': 20.202067,\n",
       "  'MGA': 4557.920583,\n",
       "  'MKD': 61.577861,\n",
       "  'MMK': 2264.512184,\n",
       "  'MNT': 3288.63478,\n",
       "  'MOP': 9.248472,\n",
       "  'MRO': 412.375096,\n",
       "  'MRU': 41.751785,\n",
       "  'MUR': 49.092095,\n",
       "  'MVR': 17.847527,\n",
       "  'MWK': 940.294682,\n",
       "  'MXN': 23.7562,\n",
       "  'MYR': 4.83112,\n",
       "  'MZN': 73.69662,\n",
       "  'NAD': 17.419556,\n",
       "  'NGN': 473.884387,\n",
       "  'NIO': 40.581595,\n",
       "  'NOK': 9.906136,\n",
       "  'NPR': 138.414949,\n",
       "  'NZD': 1.669986,\n",
       "  'OMR': 0.445382,\n",
       "  'PAB': 1.156096,\n",
       "  'PEN': 4.780645,\n",
       "  'PGK': 4.068847,\n",
       "  'PHP': 58.643639,\n",
       "  'PKR': 197.351189,\n",
       "  'PLN': 4.550165,\n",
       "  'PYG': 7976.709258,\n",
       "  'QAR': 4.206601,\n",
       "  'RON': 4.943819,\n",
       "  'RSD': 117.533338,\n",
       "  'RUB': 83.688121,\n",
       "  'RWF': 1172.368434,\n",
       "  'SAR': 4.33247,\n",
       "  'SBD': 9.305406,\n",
       "  'SCR': 14.969124,\n",
       "  'SDG': 509.405033,\n",
       "  'SEK': 10.164814,\n",
       "  'SGD': 1.569564,\n",
       "  'SHP': 0.850763,\n",
       "  'SLL': 12215.703074,\n",
       "  'SOS': 666.98766,\n",
       "  'SRD': 24.724237,\n",
       "  'SSP': 150.465674,\n",
       "  'STD': 24193.788368,\n",
       "  'STN': 24.878798,\n",
       "  'SVC': 10.090447,\n",
       "  'SYP': 1452.501535,\n",
       "  'SZL': 17.453543,\n",
       "  'THB': 39.078426,\n",
       "  'TJS': 13.052485,\n",
       "  'TMT': 4.04323,\n",
       "  'TND': 3.277072,\n",
       "  'TOP': 2.621131,\n",
       "  'TRY': 10.24596,\n",
       "  'TTD': 7.825838,\n",
       "  'TWD': 32.308234,\n",
       "  'TZS': 2658.317181,\n",
       "  'UAH': 30.353661,\n",
       "  'UGX': 4110.431627,\n",
       "  'USD': 1.156055,\n",
       "  'UYU': 49.731918,\n",
       "  'UZS': 12323.388317,\n",
       "  'VES': 4.8062,\n",
       "  'VND': 26246.673933,\n",
       "  'VUV': 129.459607,\n",
       "  'WST': 2.971419,\n",
       "  'XAF': 655.648838,\n",
       "  'XAG': 0.051435,\n",
       "  'XAU': 0.001547,\n",
       "  'XCD': 3.122159,\n",
       "  'XDR': 0.818881,\n",
       "  'XOF': 655.648476,\n",
       "  'XPD': 0.001124,\n",
       "  'XPF': 119.276401,\n",
       "  'XPT': 0.001318,\n",
       "  'YER': 289.182691,\n",
       "  'ZAR': 17.328062,\n",
       "  'ZMW': 19.642523,\n",
       "  'ZWL': 371.946576}}"
      ]
     },
     "execution_count": 5,
     "metadata": {},
     "output_type": "execute_result"
    }
   ],
   "source": [
    "material=json_resp.json()\n",
    "material"
   ]
  },
  {
   "cell_type": "code",
   "execution_count": 7,
   "id": "persistent-logistics",
   "metadata": {},
   "outputs": [
    {
     "data": {
      "text/plain": [
       "1.156055"
      ]
     },
     "execution_count": 7,
     "metadata": {},
     "output_type": "execute_result"
    }
   ],
   "source": [
    "material['rates']['USD']"
   ]
  },
  {
   "cell_type": "code",
   "execution_count": 8,
   "id": "blank-hamilton",
   "metadata": {},
   "outputs": [
    {
     "name": "stdout",
     "output_type": "stream",
     "text": [
      "The exchange rate from usd to euro is 0.8650107477585408 Euro\n"
     ]
    }
   ],
   "source": [
    "print(\"The exchange rate from usd to euro is {} Euro\".format(1/material['rates']['USD']))"
   ]
  },
  {
   "cell_type": "markdown",
   "id": "posted-school",
   "metadata": {},
   "source": [
    "### The Answer from Google"
   ]
  },
  {
   "cell_type": "code",
   "execution_count": 9,
   "id": "sustained-condition",
   "metadata": {},
   "outputs": [
    {
     "data": {
      "text/plain": [
       "<matplotlib.image.AxesImage at 0x1667a5e96c8>"
      ]
     },
     "execution_count": 9,
     "metadata": {},
     "output_type": "execute_result"
    },
    {
     "data": {
      "image/png": "[encoded data removed]",
      "text/plain": [
       "<Figure size 432x288 with 1 Axes>"
      ]
     },
     "metadata": {
      "needs_background": "light"
     },
     "output_type": "display_data"
    }
   ],
   "source": [
    "import matplotlib.pyplot as plt\n",
    "from matplotlib.image import imread\n",
    "image=imread('Capture.PNG')\n",
    "plt.imshow(image)"
   ]
  },
  {
   "cell_type": "code",
   "execution_count": null,
   "id": "played-gnome",
   "metadata": {},
   "outputs": [],
   "source": []
  },
  {
   "cell_type": "code",
   "execution_count": null,
   "id": "inclusive-norman",
   "metadata": {},
   "outputs": [],
   "source": []
  },
  {
   "cell_type": "markdown",
   "id": "grand-integrity",
   "metadata": {},
   "source": [
    "## Part B"
   ]
  },
  {
   "cell_type": "code",
   "execution_count": 10,
   "id": "reserved-night",
   "metadata": {},
   "outputs": [],
   "source": [
    "class conversion:\n",
    "    def __init__(self,original_currency,amount_to_convert,currency_converted_to='EUR'):\n",
    "        self.original_currency=original_currency\n",
    "        self.currency_converted_to=currency_converted_to\n",
    "        self.amount_to_convert=amount_to_convert\n",
    "    def exchange_rate(self):\n",
    "        json_resp=requests.request('GET','https://api.exchangerate.host/latest')\n",
    "        material=json_resp.json()\n",
    "        converted_currency=1/material['rates'][self.original_currency]\n",
    "        converted_amount=self.amount_to_convert*converted_currency\n",
    "        print(\"{} of {} is equal to {} {} after conversion\".format(self.amount_to_convert,self.original_currency,converted_amount,self.currency_converted_to))\n",
    "        print(\"The exchange rate from {} to {} is {} Euro \".format(self.original_currency,self.currency_converted_to,converted_currency))"
   ]
  },
  {
   "cell_type": "markdown",
   "id": "exceptional-hearing",
   "metadata": {},
   "source": [
    "### Example 1"
   ]
  },
  {
   "cell_type": "code",
   "execution_count": 11,
   "id": "classical-timer",
   "metadata": {},
   "outputs": [],
   "source": [
    "conversion_example=conversion(amount_to_convert=100,original_currency='USD',currency_converted_to='EUR')"
   ]
  },
  {
   "cell_type": "code",
   "execution_count": 12,
   "id": "intimate-brave",
   "metadata": {},
   "outputs": [
    {
     "name": "stdout",
     "output_type": "stream",
     "text": [
      "100 of USD is equal to 86.50107477585408 EUR after conversion\n",
      "The exchange rate from USD to EUR is 0.8650107477585408 Euro \n"
     ]
    }
   ],
   "source": [
    "conversion_example.exchange_rate()"
   ]
  }
 ],
 "metadata": {
  "kernelspec": {
   "display_name": "Python 3",
   "language": "python",
   "name": "python3"
  },
  "language_info": {
   "codemirror_mode": {
    "name": "ipython",
    "version": 3
   },
   "file_extension": ".py",
   "mimetype": "text/x-python",
   "name": "python",
   "nbconvert_exporter": "python",
   "pygments_lexer": "ipython3",
   "version": "3.7.4"
  }
 },
 "nbformat": 4,
 "nbformat_minor": 5
}
