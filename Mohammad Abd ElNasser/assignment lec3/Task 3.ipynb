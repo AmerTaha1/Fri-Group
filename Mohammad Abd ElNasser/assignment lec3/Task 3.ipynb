{
 "cells": [
  {
   "cell_type": "code",
   "execution_count": 1,
   "metadata": {},
   "outputs": [],
   "source": [
    "my_file = open ('test.txt', 'w+')\n",
    "L = ['hello world \\n', 'hello world \\n', 'hello world \\n', 'hello world \\n', 'hello world \\n']\n",
    "my_file.writelines(L)\n",
    "my_file.close()"
   ]
  },
  {
   "cell_type": "code",
   "execution_count": 2,
   "metadata": {},
   "outputs": [
    {
     "name": "stdout",
     "output_type": "stream",
     "text": [
      "['hello world \\n', 'hello world \\n', 'hello world \\n', 'hello world \\n', 'hello world \\n']\n"
     ]
    }
   ],
   "source": [
    "my_file = open ('test.txt', 'r+')\n",
    "my_file.seek(0)\n",
    "print(my_file.readlines())\n",
    "my_file.close()"
   ]
  },
  {
   "cell_type": "code",
   "execution_count": 3,
   "metadata": {},
   "outputs": [],
   "source": [
    "my_file = open ('test.txt', 'r+')\n",
    "file_content = my_file.readlines()\n",
    "for i in range(len(file_content)):\n",
    "    file_content[i]=file_content[i].upper()\n",
    "my_file.writelines(file_content)\n",
    "my_file.close()"
   ]
  },
  {
   "cell_type": "code",
   "execution_count": 4,
   "metadata": {},
   "outputs": [
    {
     "data": {
      "text/plain": [
       "['HELLO WORLD \\n',\n",
       " 'HELLO WORLD \\n',\n",
       " 'HELLO WORLD \\n',\n",
       " 'HELLO WORLD \\n',\n",
       " 'HELLO WORLD \\n']"
      ]
     },
     "execution_count": 4,
     "metadata": {},
     "output_type": "execute_result"
    }
   ],
   "source": [
    "file_content"
   ]
  },
  {
   "cell_type": "code",
   "execution_count": 5,
   "metadata": {},
   "outputs": [
    {
     "name": "stdout",
     "output_type": "stream",
     "text": [
      "hel\n"
     ]
    }
   ],
   "source": [
    "my_file = open ('test.txt', 'r+')\n",
    "my_file.seek(0)\n",
    "print(my_file.readline(3))\n",
    "file_content[2].capitalize()\n",
    "my_file.close()"
   ]
  },
  {
   "cell_type": "code",
   "execution_count": 7,
   "metadata": {},
   "outputs": [],
   "source": [
    "with open('test.txt', 'a+') as my_file:\n",
    "    my_file.writelines('i love python')\n",
    "    my_file.close()"
   ]
  },
  {
   "cell_type": "code",
   "execution_count": null,
   "metadata": {},
   "outputs": [],
   "source": []
  }
 ],
 "metadata": {
  "kernelspec": {
   "display_name": "Python 3",
   "language": "python",
   "name": "python3"
  },
  "language_info": {
   "codemirror_mode": {
    "name": "ipython",
    "version": 3
   },
   "file_extension": ".py",
   "mimetype": "text/x-python",
   "name": "python",
   "nbconvert_exporter": "python",
   "pygments_lexer": "ipython3",
   "version": "3.7.6"
  }
 },
 "nbformat": 4,
 "nbformat_minor": 4
}
