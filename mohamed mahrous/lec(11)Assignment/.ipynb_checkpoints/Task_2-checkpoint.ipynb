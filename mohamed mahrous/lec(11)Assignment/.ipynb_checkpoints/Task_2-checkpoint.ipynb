{
 "cells": [
  {
   "cell_type": "code",
   "execution_count": 17,
   "metadata": {},
   "outputs": [],
   "source": [
    "import requests\n",
    "import json\n",
    "import csv"
   ]
  },
  {
   "cell_type": "code",
   "execution_count": 18,
   "metadata": {},
   "outputs": [
    {
     "data": {
      "text/plain": [
       "{'request': {'type': 'City',\n",
       "  'query': 'Cairo, Egypt',\n",
       "  'language': 'en',\n",
       "  'unit': 'm'},\n",
       " 'location': {'name': 'Cairo',\n",
       "  'country': 'Egypt',\n",
       "  'region': 'Al Qahirah',\n",
       "  'lat': '30.050',\n",
       "  'lon': '31.250',\n",
       "  'timezone_id': 'Africa/Cairo',\n",
       "  'localtime': '2021-10-02 23:46',\n",
       "  'localtime_epoch': 1633218360,\n",
       "  'utc_offset': '2.0'},\n",
       " 'current': {'observation_time': '09:46 PM',\n",
       "  'temperature': 23,\n",
       "  'weather_code': 116,\n",
       "  'weather_icons': ['https://assets.weatherstack.com/images/wsymbols01_png_64/wsymbol_0004_black_low_cloud.png'],\n",
       "  'weather_descriptions': ['Partly cloudy'],\n",
       "  'wind_speed': 19,\n",
       "  'wind_degree': 330,\n",
       "  'wind_dir': 'NNW',\n",
       "  'pressure': 1014,\n",
       "  'precip': 0,\n",
       "  'humidity': 73,\n",
       "  'cloudcover': 75,\n",
       "  'feelslike': 25,\n",
       "  'uv_index': 1,\n",
       "  'visibility': 10,\n",
       "  'is_day': 'no'}}"
      ]
     },
     "execution_count": 18,
     "metadata": {},
     "output_type": "execute_result"
    }
   ],
   "source": [
    "json_req = requests.get(\"http://api.weatherstack.com/current?access_key=cce43aa3a3de500cc32c5df0e67c9408&query=Cairo\")\n",
    "data = json_req.json()\n",
    "data"
   ]
  },
  {
   "cell_type": "code",
   "execution_count": 19,
   "metadata": {},
   "outputs": [],
   "source": [
    "with open(\"weather.csv\", \"a\", newline=\"\") as file:\n",
    "    writer = csv.DictWriter(file, fieldnames=[\"temperature\", \"pressure\", \"humidity\", \"visibility\", \"wind_speed\", \"localtime\"])\n",
    "    writer.writeheader()"
   ]
  },
  {
   "cell_type": "code",
   "execution_count": 23,
   "metadata": {},
   "outputs": [],
   "source": [
    "with open(\"weather.csv\", \"a\", newline=\"\") as file:\n",
    "    writer = csv.DictWriter(file, fieldnames=[\"temperature\", \"pressure\", \"humidity\", \"visibility\", \"wind_speed\", \"localtime\"])\n",
    "    temperature = data[\"current\"][\"temperature\"]\n",
    "    pressure = data[\"current\"][\"pressure\"]\n",
    "    humidity = data[\"current\"][\"humidity\"]\n",
    "    visibility = data[\"current\"][\"visibility\"]\n",
    "    wind_speed = data[\"current\"][\"wind_speed\"]\n",
    "    localtime = data[\"location\"][\"localtime\"]\n",
    "    writer.writerow({\n",
    "        \"temperature\" : temperature,\n",
    "        \"pressure\" : pressure,\n",
    "        \"humidity\" : humidity,\n",
    "        \"visibility\" : visibility,\n",
    "        \"wind_speed\" : wind_speed,\n",
    "        \"localtime\" : localtime\n",
    "    })\n",
    "    "
   ]
  },
  {
   "cell_type": "code",
   "execution_count": null,
   "metadata": {},
   "outputs": [],
   "source": []
  }
 ],
 "metadata": {
  "kernelspec": {
   "display_name": "Python 3",
   "language": "python",
   "name": "python3"
  },
  "language_info": {
   "codemirror_mode": {
    "name": "ipython",
    "version": 3
   },
   "file_extension": ".py",
   "mimetype": "text/x-python",
   "name": "python",
   "nbconvert_exporter": "python",
   "pygments_lexer": "ipython3",
   "version": "3.8.5"
  }
 },
 "nbformat": 4,
 "nbformat_minor": 4
}
