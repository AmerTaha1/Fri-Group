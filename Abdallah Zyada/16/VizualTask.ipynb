{
 "cells": [
  {
   "cell_type": "markdown",
   "id": "cbb57970",
   "metadata": {
    "slideshow": {
     "slide_type": "slide"
    }
   },
   "source": [
    "# Visualization Task\n",
    "## By Abdallah Zyada\n",
    "### Exploring the 50ulke.csv that contain economical information about 50 Country from 6 Continent\n"
   ]
  },
  {
   "cell_type": "code",
   "execution_count": 1,
   "id": "7bdeebcb",
   "metadata": {
    "slideshow": {
     "slide_type": "skip"
    }
   },
   "outputs": [],
   "source": [
    "import pandas as pd\n",
    "import matplotlib.pyplot as plt\n",
    "import seaborn as sns\n",
    "import numpy as np\n",
    "df = pd.read_csv('50ulke.csv')"
   ]
  },
  {
   "cell_type": "code",
   "execution_count": 2,
   "id": "3a787ad2",
   "metadata": {
    "slideshow": {
     "slide_type": "skip"
    }
   },
   "outputs": [
    {
     "name": "stdout",
     "output_type": "stream",
     "text": [
      "<class 'pandas.core.frame.DataFrame'>\n",
      "RangeIndex: 50 entries, 0 to 49\n",
      "Data columns (total 6 columns):\n",
      " #   Column           Non-Null Count  Dtype  \n",
      "---  ------           --------------  -----  \n",
      " 0   Unnamed: 0       50 non-null     int64  \n",
      " 1   Countries        50 non-null     object \n",
      " 2   National Income  50 non-null     float64\n",
      " 3   Growth           50 non-null     float64\n",
      " 4   Per person       50 non-null     float64\n",
      " 5   Continent        50 non-null     object \n",
      "dtypes: float64(3), int64(1), object(2)\n",
      "memory usage: 2.5+ KB\n"
     ]
    }
   ],
   "source": [
    "df.info()"
   ]
  },
  {
   "cell_type": "code",
   "execution_count": 3,
   "id": "3fc30efb",
   "metadata": {
    "slideshow": {
     "slide_type": "skip"
    }
   },
   "outputs": [
    {
     "data": {
      "text/html": [
       "<div>\n",
       "<style scoped>\n",
       "    .dataframe tbody tr th:only-of-type {\n",
       "        vertical-align: middle;\n",
       "    }\n",
       "\n",
       "    .dataframe tbody tr th {\n",
       "        vertical-align: top;\n",
       "    }\n",
       "\n",
       "    .dataframe thead th {\n",
       "        text-align: right;\n",
       "    }\n",
       "</style>\n",
       "<table border=\"1\" class=\"dataframe\">\n",
       "  <thead>\n",
       "    <tr style=\"text-align: right;\">\n",
       "      <th></th>\n",
       "      <th>Unnamed: 0</th>\n",
       "      <th>National Income</th>\n",
       "      <th>Growth</th>\n",
       "      <th>Per person</th>\n",
       "    </tr>\n",
       "  </thead>\n",
       "  <tbody>\n",
       "    <tr>\n",
       "      <th>count</th>\n",
       "      <td>50.00000</td>\n",
       "      <td>50.000000</td>\n",
       "      <td>50.000000</td>\n",
       "      <td>50.000000</td>\n",
       "    </tr>\n",
       "    <tr>\n",
       "      <th>mean</th>\n",
       "      <td>24.50000</td>\n",
       "      <td>1646.348200</td>\n",
       "      <td>3.320400</td>\n",
       "      <td>27696.000000</td>\n",
       "    </tr>\n",
       "    <tr>\n",
       "      <th>std</th>\n",
       "      <td>14.57738</td>\n",
       "      <td>3448.554429</td>\n",
       "      <td>2.053468</td>\n",
       "      <td>25094.131496</td>\n",
       "    </tr>\n",
       "    <tr>\n",
       "      <th>min</th>\n",
       "      <td>0.00000</td>\n",
       "      <td>231.570000</td>\n",
       "      <td>-0.740000</td>\n",
       "      <td>1615.000000</td>\n",
       "    </tr>\n",
       "    <tr>\n",
       "      <th>25%</th>\n",
       "      <td>12.25000</td>\n",
       "      <td>353.440000</td>\n",
       "      <td>1.795000</td>\n",
       "      <td>6402.000000</td>\n",
       "    </tr>\n",
       "    <tr>\n",
       "      <th>50%</th>\n",
       "      <td>24.50000</td>\n",
       "      <td>522.985000</td>\n",
       "      <td>2.880000</td>\n",
       "      <td>14565.500000</td>\n",
       "    </tr>\n",
       "    <tr>\n",
       "      <th>75%</th>\n",
       "      <td>36.75000</td>\n",
       "      <td>1504.895000</td>\n",
       "      <td>4.287500</td>\n",
       "      <td>48738.250000</td>\n",
       "    </tr>\n",
       "    <tr>\n",
       "      <th>max</th>\n",
       "      <td>49.00000</td>\n",
       "      <td>20412.870000</td>\n",
       "      <td>7.810000</td>\n",
       "      <td>86835.000000</td>\n",
       "    </tr>\n",
       "  </tbody>\n",
       "</table>\n",
       "</div>"
      ],
      "text/plain": [
       "       Unnamed: 0  National Income     Growth    Per person\n",
       "count    50.00000        50.000000  50.000000     50.000000\n",
       "mean     24.50000      1646.348200   3.320400  27696.000000\n",
       "std      14.57738      3448.554429   2.053468  25094.131496\n",
       "min       0.00000       231.570000  -0.740000   1615.000000\n",
       "25%      12.25000       353.440000   1.795000   6402.000000\n",
       "50%      24.50000       522.985000   2.880000  14565.500000\n",
       "75%      36.75000      1504.895000   4.287500  48738.250000\n",
       "max      49.00000     20412.870000   7.810000  86835.000000"
      ]
     },
     "execution_count": 3,
     "metadata": {},
     "output_type": "execute_result"
    }
   ],
   "source": [
    "df.describe()"
   ]
  },
  {
   "cell_type": "code",
   "execution_count": 4,
   "id": "4fa5e5e5",
   "metadata": {
    "slideshow": {
     "slide_type": "skip"
    }
   },
   "outputs": [
    {
     "data": {
      "text/html": [
       "<div>\n",
       "<style scoped>\n",
       "    .dataframe tbody tr th:only-of-type {\n",
       "        vertical-align: middle;\n",
       "    }\n",
       "\n",
       "    .dataframe tbody tr th {\n",
       "        vertical-align: top;\n",
       "    }\n",
       "\n",
       "    .dataframe thead th {\n",
       "        text-align: right;\n",
       "    }\n",
       "</style>\n",
       "<table border=\"1\" class=\"dataframe\">\n",
       "  <thead>\n",
       "    <tr style=\"text-align: right;\">\n",
       "      <th></th>\n",
       "      <th>Unnamed: 0</th>\n",
       "      <th>Countries</th>\n",
       "      <th>National Income</th>\n",
       "      <th>Growth</th>\n",
       "      <th>Per person</th>\n",
       "      <th>Continent</th>\n",
       "    </tr>\n",
       "  </thead>\n",
       "  <tbody>\n",
       "    <tr>\n",
       "      <th>0</th>\n",
       "      <td>0</td>\n",
       "      <td>United States</td>\n",
       "      <td>20412.87</td>\n",
       "      <td>2.27</td>\n",
       "      <td>62152.0</td>\n",
       "      <td>North America</td>\n",
       "    </tr>\n",
       "    <tr>\n",
       "      <th>1</th>\n",
       "      <td>1</td>\n",
       "      <td>China</td>\n",
       "      <td>14092.51</td>\n",
       "      <td>6.86</td>\n",
       "      <td>10088.0</td>\n",
       "      <td>Asia</td>\n",
       "    </tr>\n",
       "    <tr>\n",
       "      <th>2</th>\n",
       "      <td>2</td>\n",
       "      <td>Japan</td>\n",
       "      <td>5167.05</td>\n",
       "      <td>1.71</td>\n",
       "      <td>40849.0</td>\n",
       "      <td>Asia</td>\n",
       "    </tr>\n",
       "    <tr>\n",
       "      <th>3</th>\n",
       "      <td>3</td>\n",
       "      <td>Germany</td>\n",
       "      <td>4211.64</td>\n",
       "      <td>2.51</td>\n",
       "      <td>50842.0</td>\n",
       "      <td>Europe</td>\n",
       "    </tr>\n",
       "    <tr>\n",
       "      <th>4</th>\n",
       "      <td>4</td>\n",
       "      <td>United Kingdom</td>\n",
       "      <td>2936.29</td>\n",
       "      <td>1.79</td>\n",
       "      <td>44177.0</td>\n",
       "      <td>Europe</td>\n",
       "    </tr>\n",
       "  </tbody>\n",
       "</table>\n",
       "</div>"
      ],
      "text/plain": [
       "   Unnamed: 0       Countries  National Income  Growth  Per person  \\\n",
       "0           0   United States         20412.87    2.27     62152.0   \n",
       "1           1           China         14092.51    6.86     10088.0   \n",
       "2           2           Japan          5167.05    1.71     40849.0   \n",
       "3           3         Germany          4211.64    2.51     50842.0   \n",
       "4           4  United Kingdom          2936.29    1.79     44177.0   \n",
       "\n",
       "       Continent  \n",
       "0  North America  \n",
       "1           Asia  \n",
       "2           Asia  \n",
       "3         Europe  \n",
       "4         Europe  "
      ]
     },
     "execution_count": 4,
     "metadata": {},
     "output_type": "execute_result"
    }
   ],
   "source": [
    "df.head()"
   ]
  },
  {
   "cell_type": "code",
   "execution_count": 5,
   "id": "2cba636e",
   "metadata": {
    "slideshow": {
     "slide_type": "skip"
    }
   },
   "outputs": [
    {
     "data": {
      "text/html": [
       "<div>\n",
       "<style scoped>\n",
       "    .dataframe tbody tr th:only-of-type {\n",
       "        vertical-align: middle;\n",
       "    }\n",
       "\n",
       "    .dataframe tbody tr th {\n",
       "        vertical-align: top;\n",
       "    }\n",
       "\n",
       "    .dataframe thead th {\n",
       "        text-align: right;\n",
       "    }\n",
       "</style>\n",
       "<table border=\"1\" class=\"dataframe\">\n",
       "  <thead>\n",
       "    <tr style=\"text-align: right;\">\n",
       "      <th></th>\n",
       "      <th>Unnamed: 0</th>\n",
       "      <th>Countries</th>\n",
       "      <th>National Income</th>\n",
       "      <th>Growth</th>\n",
       "      <th>Per person</th>\n",
       "      <th>Continent</th>\n",
       "    </tr>\n",
       "  </thead>\n",
       "  <tbody>\n",
       "    <tr>\n",
       "      <th>31</th>\n",
       "      <td>31</td>\n",
       "      <td>Ireland</td>\n",
       "      <td>385.14</td>\n",
       "      <td>7.81</td>\n",
       "      <td>80641.0</td>\n",
       "      <td>Europe</td>\n",
       "    </tr>\n",
       "  </tbody>\n",
       "</table>\n",
       "</div>"
      ],
      "text/plain": [
       "    Unnamed: 0 Countries  National Income  Growth  Per person Continent\n",
       "31          31   Ireland           385.14    7.81     80641.0    Europe"
      ]
     },
     "execution_count": 5,
     "metadata": {},
     "output_type": "execute_result"
    }
   ],
   "source": [
    "df[df['Growth'] == df['Growth'].max()]"
   ]
  },
  {
   "cell_type": "code",
   "execution_count": 6,
   "id": "190f52f6",
   "metadata": {
    "slideshow": {
     "slide_type": "skip"
    }
   },
   "outputs": [
    {
     "data": {
      "text/html": [
       "<div>\n",
       "<style scoped>\n",
       "    .dataframe tbody tr th:only-of-type {\n",
       "        vertical-align: middle;\n",
       "    }\n",
       "\n",
       "    .dataframe tbody tr th {\n",
       "        vertical-align: top;\n",
       "    }\n",
       "\n",
       "    .dataframe thead th {\n",
       "        text-align: right;\n",
       "    }\n",
       "</style>\n",
       "<table border=\"1\" class=\"dataframe\">\n",
       "  <thead>\n",
       "    <tr style=\"text-align: right;\">\n",
       "      <th></th>\n",
       "      <th>Unnamed: 0</th>\n",
       "      <th>Countries</th>\n",
       "      <th>National Income</th>\n",
       "      <th>Growth</th>\n",
       "      <th>Per person</th>\n",
       "      <th>Continent</th>\n",
       "    </tr>\n",
       "  </thead>\n",
       "  <tbody>\n",
       "    <tr>\n",
       "      <th>0</th>\n",
       "      <td>0</td>\n",
       "      <td>United States</td>\n",
       "      <td>20412.87</td>\n",
       "      <td>2.27</td>\n",
       "      <td>62152.0</td>\n",
       "      <td>North America</td>\n",
       "    </tr>\n",
       "  </tbody>\n",
       "</table>\n",
       "</div>"
      ],
      "text/plain": [
       "   Unnamed: 0      Countries  National Income  Growth  Per person  \\\n",
       "0           0  United States         20412.87    2.27     62152.0   \n",
       "\n",
       "       Continent  \n",
       "0  North America  "
      ]
     },
     "execution_count": 6,
     "metadata": {},
     "output_type": "execute_result"
    }
   ],
   "source": [
    "df[df['National Income'] == df['National Income'].max()]"
   ]
  },
  {
   "cell_type": "markdown",
   "id": "8b2317ff",
   "metadata": {
    "slideshow": {
     "slide_type": "slide"
    }
   },
   "source": [
    "### Exploring the relation between Growth and National Income for every Continent"
   ]
  },
  {
   "cell_type": "code",
   "execution_count": 7,
   "id": "ae9d2141",
   "metadata": {
    "slideshow": {
     "slide_type": "subslide"
    }
   },
   "outputs": [
    {
     "name": "stderr",
     "output_type": "stream",
     "text": [
      "C:\\Anaconda\\lib\\site-packages\\seaborn\\distributions.py:306: UserWarning: Dataset has 0 variance; skipping density estimate.\n",
      "  warnings.warn(msg, UserWarning)\n",
      "C:\\Anaconda\\lib\\site-packages\\seaborn\\distributions.py:306: UserWarning: Dataset has 0 variance; skipping density estimate.\n",
      "  warnings.warn(msg, UserWarning)\n"
     ]
    },
    {
     "data": {
      "text/plain": [
       "<seaborn.axisgrid.JointGrid at 0x190deb0e7c0>"
      ]
     },
     "execution_count": 7,
     "metadata": {},
     "output_type": "execute_result"
    },
    {
     "data": {
      "image/png": "[encoded data removed]",
      "text/plain": [
       "<Figure size 432x432 with 3 Axes>"
      ]
     },
     "metadata": {
      "needs_background": "light"
     },
     "output_type": "display_data"
    }
   ],
   "source": [
    "sns.jointplot(x='Growth', y='National Income', hue='Continent', data=df)"
   ]
  },
  {
   "cell_type": "markdown",
   "id": "b80491bc",
   "metadata": {
    "slideshow": {
     "slide_type": "slide"
    }
   },
   "source": [
    "### Exploring the relation between National Income and Per Person for every Continent"
   ]
  },
  {
   "cell_type": "code",
   "execution_count": 19,
   "id": "4a3c85f5",
   "metadata": {
    "slideshow": {
     "slide_type": "subslide"
    }
   },
   "outputs": [
    {
     "name": "stderr",
     "output_type": "stream",
     "text": [
      "C:\\Anaconda\\lib\\site-packages\\seaborn\\distributions.py:306: UserWarning: Dataset has 0 variance; skipping density estimate.\n",
      "  warnings.warn(msg, UserWarning)\n",
      "C:\\Anaconda\\lib\\site-packages\\seaborn\\distributions.py:306: UserWarning: Dataset has 0 variance; skipping density estimate.\n",
      "  warnings.warn(msg, UserWarning)\n"
     ]
    },
    {
     "data": {
      "text/plain": [
       "<seaborn.axisgrid.JointGrid at 0x190d5a84610>"
      ]
     },
     "execution_count": 19,
     "metadata": {},
     "output_type": "execute_result"
    },
    {
     "data": {
      "image/png": "[encoded data removed]",
      "text/plain": [
       "<Figure size 432x432 with 3 Axes>"
      ]
     },
     "metadata": {
      "needs_background": "light"
     },
     "output_type": "display_data"
    }
   ],
   "source": [
    "sns.jointplot(x='National Income', y='Per person', hue='Continent', data=df)"
   ]
  },
  {
   "cell_type": "code",
   "execution_count": 9,
   "id": "1b94b6d2",
   "metadata": {
    "slideshow": {
     "slide_type": "skip"
    }
   },
   "outputs": [],
   "source": [
    "no_nuname = df.drop('Unnamed: 0', axis=1)"
   ]
  },
  {
   "cell_type": "code",
   "execution_count": 10,
   "id": "9fb299d1",
   "metadata": {
    "slideshow": {
     "slide_type": "skip"
    }
   },
   "outputs": [
    {
     "data": {
      "text/html": [
       "<div>\n",
       "<style scoped>\n",
       "    .dataframe tbody tr th:only-of-type {\n",
       "        vertical-align: middle;\n",
       "    }\n",
       "\n",
       "    .dataframe tbody tr th {\n",
       "        vertical-align: top;\n",
       "    }\n",
       "\n",
       "    .dataframe thead th {\n",
       "        text-align: right;\n",
       "    }\n",
       "</style>\n",
       "<table border=\"1\" class=\"dataframe\">\n",
       "  <thead>\n",
       "    <tr style=\"text-align: right;\">\n",
       "      <th></th>\n",
       "      <th>Countries</th>\n",
       "      <th>National Income</th>\n",
       "      <th>Growth</th>\n",
       "      <th>Per person</th>\n",
       "      <th>Continent</th>\n",
       "    </tr>\n",
       "  </thead>\n",
       "  <tbody>\n",
       "    <tr>\n",
       "      <th>0</th>\n",
       "      <td>United States</td>\n",
       "      <td>20412.87</td>\n",
       "      <td>2.27</td>\n",
       "      <td>62152.0</td>\n",
       "      <td>North America</td>\n",
       "    </tr>\n",
       "    <tr>\n",
       "      <th>1</th>\n",
       "      <td>China</td>\n",
       "      <td>14092.51</td>\n",
       "      <td>6.86</td>\n",
       "      <td>10088.0</td>\n",
       "      <td>Asia</td>\n",
       "    </tr>\n",
       "    <tr>\n",
       "      <th>2</th>\n",
       "      <td>Japan</td>\n",
       "      <td>5167.05</td>\n",
       "      <td>1.71</td>\n",
       "      <td>40849.0</td>\n",
       "      <td>Asia</td>\n",
       "    </tr>\n",
       "    <tr>\n",
       "      <th>3</th>\n",
       "      <td>Germany</td>\n",
       "      <td>4211.64</td>\n",
       "      <td>2.51</td>\n",
       "      <td>50842.0</td>\n",
       "      <td>Europe</td>\n",
       "    </tr>\n",
       "    <tr>\n",
       "      <th>4</th>\n",
       "      <td>United Kingdom</td>\n",
       "      <td>2936.29</td>\n",
       "      <td>1.79</td>\n",
       "      <td>44177.0</td>\n",
       "      <td>Europe</td>\n",
       "    </tr>\n",
       "    <tr>\n",
       "      <th>5</th>\n",
       "      <td>France</td>\n",
       "      <td>2925.10</td>\n",
       "      <td>1.85</td>\n",
       "      <td>44934.0</td>\n",
       "      <td>Europe</td>\n",
       "    </tr>\n",
       "    <tr>\n",
       "      <th>6</th>\n",
       "      <td>India</td>\n",
       "      <td>2848.23</td>\n",
       "      <td>6.74</td>\n",
       "      <td>2135.0</td>\n",
       "      <td>Asia</td>\n",
       "    </tr>\n",
       "    <tr>\n",
       "      <th>7</th>\n",
       "      <td>Italy</td>\n",
       "      <td>2181.97</td>\n",
       "      <td>1.47</td>\n",
       "      <td>35914.0</td>\n",
       "      <td>Europe</td>\n",
       "    </tr>\n",
       "    <tr>\n",
       "      <th>8</th>\n",
       "      <td>Brazil</td>\n",
       "      <td>2138.92</td>\n",
       "      <td>0.98</td>\n",
       "      <td>10224.0</td>\n",
       "      <td>South America</td>\n",
       "    </tr>\n",
       "    <tr>\n",
       "      <th>9</th>\n",
       "      <td>Canada</td>\n",
       "      <td>1798.51</td>\n",
       "      <td>3.00</td>\n",
       "      <td>48466.0</td>\n",
       "      <td>North America</td>\n",
       "    </tr>\n",
       "    <tr>\n",
       "      <th>10</th>\n",
       "      <td>Russia</td>\n",
       "      <td>1719.90</td>\n",
       "      <td>1.55</td>\n",
       "      <td>11947.0</td>\n",
       "      <td>Europe</td>\n",
       "    </tr>\n",
       "    <tr>\n",
       "      <th>11</th>\n",
       "      <td>Korea</td>\n",
       "      <td>1693.25</td>\n",
       "      <td>3.09</td>\n",
       "      <td>32775.0</td>\n",
       "      <td>Asia</td>\n",
       "    </tr>\n",
       "    <tr>\n",
       "      <th>12</th>\n",
       "      <td>Spain</td>\n",
       "      <td>1506.44</td>\n",
       "      <td>3.05</td>\n",
       "      <td>32559.0</td>\n",
       "      <td>Europe</td>\n",
       "    </tr>\n",
       "    <tr>\n",
       "      <th>13</th>\n",
       "      <td>Australia</td>\n",
       "      <td>1500.26</td>\n",
       "      <td>2.27</td>\n",
       "      <td>59655.0</td>\n",
       "      <td>Oceania</td>\n",
       "    </tr>\n",
       "    <tr>\n",
       "      <th>14</th>\n",
       "      <td>Mexico</td>\n",
       "      <td>1212.83</td>\n",
       "      <td>2.04</td>\n",
       "      <td>9723.0</td>\n",
       "      <td>North America</td>\n",
       "    </tr>\n",
       "    <tr>\n",
       "      <th>15</th>\n",
       "      <td>Indonesia</td>\n",
       "      <td>1074.97</td>\n",
       "      <td>5.07</td>\n",
       "      <td>4052.0</td>\n",
       "      <td>Asia</td>\n",
       "    </tr>\n",
       "    <tr>\n",
       "      <th>16</th>\n",
       "      <td>Netherlands</td>\n",
       "      <td>945.33</td>\n",
       "      <td>3.11</td>\n",
       "      <td>55185.0</td>\n",
       "      <td>Europe</td>\n",
       "    </tr>\n",
       "    <tr>\n",
       "      <th>17</th>\n",
       "      <td>Turkey</td>\n",
       "      <td>909.89</td>\n",
       "      <td>7.05</td>\n",
       "      <td>11114.0</td>\n",
       "      <td>Asia</td>\n",
       "    </tr>\n",
       "    <tr>\n",
       "      <th>18</th>\n",
       "      <td>Saudi Arabia</td>\n",
       "      <td>748.00</td>\n",
       "      <td>-0.74</td>\n",
       "      <td>2265.0</td>\n",
       "      <td>Asia</td>\n",
       "    </tr>\n",
       "    <tr>\n",
       "      <th>19</th>\n",
       "      <td>Switzerland</td>\n",
       "      <td>741.69</td>\n",
       "      <td>1.07</td>\n",
       "      <td>86835.0</td>\n",
       "      <td>Europe</td>\n",
       "    </tr>\n",
       "    <tr>\n",
       "      <th>20</th>\n",
       "      <td>Argentina</td>\n",
       "      <td>625.92</td>\n",
       "      <td>2.86</td>\n",
       "      <td>14044.0</td>\n",
       "      <td>South America</td>\n",
       "    </tr>\n",
       "    <tr>\n",
       "      <th>21</th>\n",
       "      <td>Poland</td>\n",
       "      <td>614.19</td>\n",
       "      <td>4.55</td>\n",
       "      <td>1618.0</td>\n",
       "      <td>Europe</td>\n",
       "    </tr>\n",
       "    <tr>\n",
       "      <th>22</th>\n",
       "      <td>Taiwan Province of China</td>\n",
       "      <td>613.30</td>\n",
       "      <td>2.79</td>\n",
       "      <td>25977.0</td>\n",
       "      <td>Asia</td>\n",
       "    </tr>\n",
       "    <tr>\n",
       "      <th>23</th>\n",
       "      <td>Sweden</td>\n",
       "      <td>600.77</td>\n",
       "      <td>2.40</td>\n",
       "      <td>58345.0</td>\n",
       "      <td>Europe</td>\n",
       "    </tr>\n",
       "    <tr>\n",
       "      <th>24</th>\n",
       "      <td>Belgium</td>\n",
       "      <td>562.23</td>\n",
       "      <td>1.71</td>\n",
       "      <td>49272.0</td>\n",
       "      <td>Europe</td>\n",
       "    </tr>\n",
       "    <tr>\n",
       "      <th>25</th>\n",
       "      <td>Thailand</td>\n",
       "      <td>483.74</td>\n",
       "      <td>3.90</td>\n",
       "      <td>6992.0</td>\n",
       "      <td>Asia</td>\n",
       "    </tr>\n",
       "    <tr>\n",
       "      <th>26</th>\n",
       "      <td>Austria</td>\n",
       "      <td>477.67</td>\n",
       "      <td>2.90</td>\n",
       "      <td>53764.0</td>\n",
       "      <td>Europe</td>\n",
       "    </tr>\n",
       "    <tr>\n",
       "      <th>27</th>\n",
       "      <td>Norway</td>\n",
       "      <td>443.25</td>\n",
       "      <td>1.81</td>\n",
       "      <td>82711.0</td>\n",
       "      <td>Europe</td>\n",
       "    </tr>\n",
       "    <tr>\n",
       "      <th>28</th>\n",
       "      <td>Islamic Republic of Iran</td>\n",
       "      <td>418.88</td>\n",
       "      <td>4.28</td>\n",
       "      <td>5086.0</td>\n",
       "      <td>Asia</td>\n",
       "    </tr>\n",
       "    <tr>\n",
       "      <th>29</th>\n",
       "      <td>United Arab Emirates</td>\n",
       "      <td>411.83</td>\n",
       "      <td>0.53</td>\n",
       "      <td>39484.0</td>\n",
       "      <td>Asia</td>\n",
       "    </tr>\n",
       "    <tr>\n",
       "      <th>30</th>\n",
       "      <td>Nigeria</td>\n",
       "      <td>408.61</td>\n",
       "      <td>0.82</td>\n",
       "      <td>2108.0</td>\n",
       "      <td>Africa</td>\n",
       "    </tr>\n",
       "    <tr>\n",
       "      <th>31</th>\n",
       "      <td>Ireland</td>\n",
       "      <td>385.14</td>\n",
       "      <td>7.81</td>\n",
       "      <td>80641.0</td>\n",
       "      <td>Europe</td>\n",
       "    </tr>\n",
       "    <tr>\n",
       "      <th>32</th>\n",
       "      <td>Israel</td>\n",
       "      <td>373.75</td>\n",
       "      <td>3.32</td>\n",
       "      <td>42115.0</td>\n",
       "      <td>Asia</td>\n",
       "    </tr>\n",
       "    <tr>\n",
       "      <th>33</th>\n",
       "      <td>South Africa</td>\n",
       "      <td>370.89</td>\n",
       "      <td>1.32</td>\n",
       "      <td>6459.0</td>\n",
       "      <td>Africa</td>\n",
       "    </tr>\n",
       "    <tr>\n",
       "      <th>34</th>\n",
       "      <td>Denmark</td>\n",
       "      <td>369.76</td>\n",
       "      <td>2.11</td>\n",
       "      <td>6383.0</td>\n",
       "      <td>Europe</td>\n",
       "    </tr>\n",
       "    <tr>\n",
       "      <th>35</th>\n",
       "      <td>Malaysia</td>\n",
       "      <td>364.92</td>\n",
       "      <td>5.90</td>\n",
       "      <td>11237.0</td>\n",
       "      <td>Asia</td>\n",
       "    </tr>\n",
       "    <tr>\n",
       "      <th>36</th>\n",
       "      <td>Hong Kong SAR</td>\n",
       "      <td>364.78</td>\n",
       "      <td>3.82</td>\n",
       "      <td>48829.0</td>\n",
       "      <td>Asia</td>\n",
       "    </tr>\n",
       "    <tr>\n",
       "      <th>37</th>\n",
       "      <td>Singapore</td>\n",
       "      <td>349.66</td>\n",
       "      <td>3.62</td>\n",
       "      <td>61767.0</td>\n",
       "      <td>Asia</td>\n",
       "    </tr>\n",
       "    <tr>\n",
       "      <th>38</th>\n",
       "      <td>Philippines</td>\n",
       "      <td>332.45</td>\n",
       "      <td>6.67</td>\n",
       "      <td>3095.0</td>\n",
       "      <td>Asia</td>\n",
       "    </tr>\n",
       "    <tr>\n",
       "      <th>39</th>\n",
       "      <td>Colombia</td>\n",
       "      <td>327.98</td>\n",
       "      <td>1.77</td>\n",
       "      <td>6581.0</td>\n",
       "      <td>South America</td>\n",
       "    </tr>\n",
       "    <tr>\n",
       "      <th>40</th>\n",
       "      <td>Pakistan</td>\n",
       "      <td>324.73</td>\n",
       "      <td>5.28</td>\n",
       "      <td>1615.0</td>\n",
       "      <td>Asia</td>\n",
       "    </tr>\n",
       "    <tr>\n",
       "      <th>41</th>\n",
       "      <td>Finland</td>\n",
       "      <td>289.56</td>\n",
       "      <td>2.99</td>\n",
       "      <td>52422.0</td>\n",
       "      <td>Europe</td>\n",
       "    </tr>\n",
       "    <tr>\n",
       "      <th>42</th>\n",
       "      <td>Bangladesh</td>\n",
       "      <td>285.82</td>\n",
       "      <td>7.14</td>\n",
       "      <td>1734.0</td>\n",
       "      <td>Asia</td>\n",
       "    </tr>\n",
       "    <tr>\n",
       "      <th>43</th>\n",
       "      <td>Chile</td>\n",
       "      <td>280.27</td>\n",
       "      <td>1.47</td>\n",
       "      <td>15087.0</td>\n",
       "      <td>South America</td>\n",
       "    </tr>\n",
       "    <tr>\n",
       "      <th>44</th>\n",
       "      <td>Egypt</td>\n",
       "      <td>253.25</td>\n",
       "      <td>4.23</td>\n",
       "      <td>2611.0</td>\n",
       "      <td>Africa</td>\n",
       "    </tr>\n",
       "    <tr>\n",
       "      <th>45</th>\n",
       "      <td>Czech Republic</td>\n",
       "      <td>251.58</td>\n",
       "      <td>4.29</td>\n",
       "      <td>2375.0</td>\n",
       "      <td>Europe</td>\n",
       "    </tr>\n",
       "    <tr>\n",
       "      <th>46</th>\n",
       "      <td>Portugal</td>\n",
       "      <td>248.89</td>\n",
       "      <td>2.67</td>\n",
       "      <td>24237.0</td>\n",
       "      <td>Europe</td>\n",
       "    </tr>\n",
       "    <tr>\n",
       "      <th>47</th>\n",
       "      <td>Romania</td>\n",
       "      <td>245.59</td>\n",
       "      <td>7.00</td>\n",
       "      <td>12575.0</td>\n",
       "      <td>Europe</td>\n",
       "    </tr>\n",
       "    <tr>\n",
       "      <th>48</th>\n",
       "      <td>Vietnam</td>\n",
       "      <td>240.78</td>\n",
       "      <td>6.81</td>\n",
       "      <td>2546.0</td>\n",
       "      <td>Asia</td>\n",
       "    </tr>\n",
       "    <tr>\n",
       "      <th>49</th>\n",
       "      <td>Peru</td>\n",
       "      <td>231.57</td>\n",
       "      <td>2.51</td>\n",
       "      <td>7199.0</td>\n",
       "      <td>South America</td>\n",
       "    </tr>\n",
       "  </tbody>\n",
       "</table>\n",
       "</div>"
      ],
      "text/plain": [
       "                   Countries  National Income  Growth  Per person  \\\n",
       "0              United States         20412.87    2.27     62152.0   \n",
       "1                      China         14092.51    6.86     10088.0   \n",
       "2                      Japan          5167.05    1.71     40849.0   \n",
       "3                    Germany          4211.64    2.51     50842.0   \n",
       "4             United Kingdom          2936.29    1.79     44177.0   \n",
       "5                     France          2925.10    1.85     44934.0   \n",
       "6                      India          2848.23    6.74      2135.0   \n",
       "7                      Italy          2181.97    1.47     35914.0   \n",
       "8                     Brazil          2138.92    0.98     10224.0   \n",
       "9                     Canada          1798.51    3.00     48466.0   \n",
       "10                    Russia          1719.90    1.55     11947.0   \n",
       "11                     Korea          1693.25    3.09     32775.0   \n",
       "12                     Spain          1506.44    3.05     32559.0   \n",
       "13                 Australia          1500.26    2.27     59655.0   \n",
       "14                    Mexico          1212.83    2.04      9723.0   \n",
       "15                 Indonesia          1074.97    5.07      4052.0   \n",
       "16               Netherlands           945.33    3.11     55185.0   \n",
       "17                    Turkey           909.89    7.05     11114.0   \n",
       "18              Saudi Arabia           748.00   -0.74      2265.0   \n",
       "19               Switzerland           741.69    1.07     86835.0   \n",
       "20                 Argentina           625.92    2.86     14044.0   \n",
       "21                    Poland           614.19    4.55      1618.0   \n",
       "22  Taiwan Province of China           613.30    2.79     25977.0   \n",
       "23                    Sweden           600.77    2.40     58345.0   \n",
       "24                   Belgium           562.23    1.71     49272.0   \n",
       "25                  Thailand           483.74    3.90      6992.0   \n",
       "26                   Austria           477.67    2.90     53764.0   \n",
       "27                    Norway           443.25    1.81     82711.0   \n",
       "28  Islamic Republic of Iran           418.88    4.28      5086.0   \n",
       "29      United Arab Emirates           411.83    0.53     39484.0   \n",
       "30                   Nigeria           408.61    0.82      2108.0   \n",
       "31                   Ireland           385.14    7.81     80641.0   \n",
       "32                    Israel           373.75    3.32     42115.0   \n",
       "33              South Africa           370.89    1.32      6459.0   \n",
       "34                   Denmark           369.76    2.11      6383.0   \n",
       "35                  Malaysia           364.92    5.90     11237.0   \n",
       "36             Hong Kong SAR           364.78    3.82     48829.0   \n",
       "37                 Singapore           349.66    3.62     61767.0   \n",
       "38               Philippines           332.45    6.67      3095.0   \n",
       "39                  Colombia           327.98    1.77      6581.0   \n",
       "40                  Pakistan           324.73    5.28      1615.0   \n",
       "41                   Finland           289.56    2.99     52422.0   \n",
       "42                Bangladesh           285.82    7.14      1734.0   \n",
       "43                     Chile           280.27    1.47     15087.0   \n",
       "44                     Egypt           253.25    4.23      2611.0   \n",
       "45            Czech Republic           251.58    4.29      2375.0   \n",
       "46                  Portugal           248.89    2.67     24237.0   \n",
       "47                   Romania           245.59    7.00     12575.0   \n",
       "48                   Vietnam           240.78    6.81      2546.0   \n",
       "49                      Peru           231.57    2.51      7199.0   \n",
       "\n",
       "        Continent  \n",
       "0   North America  \n",
       "1            Asia  \n",
       "2            Asia  \n",
       "3          Europe  \n",
       "4          Europe  \n",
       "5          Europe  \n",
       "6            Asia  \n",
       "7          Europe  \n",
       "8   South America  \n",
       "9   North America  \n",
       "10         Europe  \n",
       "11           Asia  \n",
       "12         Europe  \n",
       "13        Oceania  \n",
       "14  North America  \n",
       "15           Asia  \n",
       "16         Europe  \n",
       "17           Asia  \n",
       "18           Asia  \n",
       "19         Europe  \n",
       "20  South America  \n",
       "21         Europe  \n",
       "22           Asia  \n",
       "23         Europe  \n",
       "24         Europe  \n",
       "25           Asia  \n",
       "26         Europe  \n",
       "27         Europe  \n",
       "28           Asia  \n",
       "29           Asia  \n",
       "30         Africa  \n",
       "31         Europe  \n",
       "32           Asia  \n",
       "33         Africa  \n",
       "34         Europe  \n",
       "35           Asia  \n",
       "36           Asia  \n",
       "37           Asia  \n",
       "38           Asia  \n",
       "39  South America  \n",
       "40           Asia  \n",
       "41         Europe  \n",
       "42           Asia  \n",
       "43  South America  \n",
       "44         Africa  \n",
       "45         Europe  \n",
       "46         Europe  \n",
       "47         Europe  \n",
       "48           Asia  \n",
       "49  South America  "
      ]
     },
     "execution_count": 10,
     "metadata": {},
     "output_type": "execute_result"
    }
   ],
   "source": [
    "no_nuname"
   ]
  },
  {
   "cell_type": "code",
   "execution_count": 11,
   "id": "fa8f64fe",
   "metadata": {
    "slideshow": {
     "slide_type": "subslide"
    }
   },
   "outputs": [
    {
     "data": {
      "text/plain": [
       "<seaborn.axisgrid.PairGrid at 0x190e049bb80>"
      ]
     },
     "execution_count": 11,
     "metadata": {},
     "output_type": "execute_result"
    },
    {
     "data": {
      "image/png": "[encoded data removed]",
      "text/plain": [
       "<Figure size 540x540 with 12 Axes>"
      ]
     },
     "metadata": {
      "needs_background": "light"
     },
     "output_type": "display_data"
    }
   ],
   "source": [
    "sns.pairplot(no_nuname)"
   ]
  },
  {
   "cell_type": "markdown",
   "id": "adce81f5",
   "metadata": {
    "slideshow": {
     "slide_type": "slide"
    }
   },
   "source": [
    "### which continent has the grown the most"
   ]
  },
  {
   "cell_type": "code",
   "execution_count": 12,
   "id": "4fb33ede",
   "metadata": {
    "slideshow": {
     "slide_type": "subslide"
    }
   },
   "outputs": [
    {
     "data": {
      "text/plain": [
       "<AxesSubplot:xlabel='Continent', ylabel='Growth'>"
      ]
     },
     "execution_count": 12,
     "metadata": {},
     "output_type": "execute_result"
    },
    {
     "data": {
      "image/png": "[encoded data removed]",
      "text/plain": [
       "<Figure size 432x288 with 1 Axes>"
      ]
     },
     "metadata": {
      "needs_background": "light"
     },
     "output_type": "display_data"
    }
   ],
   "source": [
    "sns.boxplot(x='Continent', y='Growth', data=df)"
   ]
  },
  {
   "cell_type": "markdown",
   "id": "2eeb4299",
   "metadata": {
    "slideshow": {
     "slide_type": "slide"
    }
   },
   "source": [
    "### the plot blow shows that north america has the highest national income"
   ]
  },
  {
   "cell_type": "code",
   "execution_count": 15,
   "id": "5a2a4ed0",
   "metadata": {
    "slideshow": {
     "slide_type": "subslide"
    }
   },
   "outputs": [
    {
     "data": {
      "text/plain": [
       "<AxesSubplot:xlabel='Continent', ylabel='National Income'>"
      ]
     },
     "execution_count": 15,
     "metadata": {},
     "output_type": "execute_result"
    },
    {
     "data": {
      "image/png": "[encoded data removed]",
      "text/plain": [
       "<Figure size 432x288 with 1 Axes>"
      ]
     },
     "metadata": {
      "needs_background": "light"
     },
     "output_type": "display_data"
    }
   ],
   "source": [
    "sns.boxplot(x='Continent', y='National Income', data=df)"
   ]
  },
  {
   "cell_type": "markdown",
   "id": "c8d05141",
   "metadata": {
    "slideshow": {
     "slide_type": "slide"
    }
   },
   "source": [
    "### the plot blow shows that Africa has a very low person income"
   ]
  },
  {
   "cell_type": "code",
   "execution_count": 14,
   "id": "237e182c",
   "metadata": {
    "slideshow": {
     "slide_type": "subslide"
    }
   },
   "outputs": [
    {
     "data": {
      "text/plain": [
       "<AxesSubplot:xlabel='Continent', ylabel='Per person'>"
      ]
     },
     "execution_count": 14,
     "metadata": {},
     "output_type": "execute_result"
    },
    {
     "data": {
      "image/png": "[encoded data removed]",
      "text/plain": [
       "<Figure size 432x288 with 1 Axes>"
      ]
     },
     "metadata": {
      "needs_background": "light"
     },
     "output_type": "display_data"
    }
   ],
   "source": [
    "sns.boxplot(x='Continent', y='Per person', data=df)"
   ]
  },
  {
   "cell_type": "markdown",
   "id": "bfcf47f7",
   "metadata": {
    "slideshow": {
     "slide_type": "slide"
    }
   },
   "source": [
    "### the plot blow shows that this data set has alot of countries from Asia and Europe "
   ]
  },
  {
   "cell_type": "code",
   "execution_count": 21,
   "id": "28e4c132",
   "metadata": {
    "slideshow": {
     "slide_type": "subslide"
    }
   },
   "outputs": [
    {
     "data": {
      "text/plain": [
       "<AxesSubplot:xlabel='Continent', ylabel='count'>"
      ]
     },
     "execution_count": 21,
     "metadata": {},
     "output_type": "execute_result"
    },
    {
     "data": {
      "image/png": "[encoded data removed]",
      "text/plain": [
       "<Figure size 432x288 with 1 Axes>"
      ]
     },
     "metadata": {
      "needs_background": "light"
     },
     "output_type": "display_data"
    }
   ],
   "source": [
    "sns.countplot(x='Continent', data=df)"
   ]
  },
  {
   "cell_type": "markdown",
   "id": "dd982a16",
   "metadata": {
    "slideshow": {
     "slide_type": "slide"
    }
   },
   "source": [
    "## in conculution based on the dataset North America and Europe consederd a good environment for investement or for working"
   ]
  },
  {
   "cell_type": "code",
   "execution_count": null,
   "id": "cac13dca",
   "metadata": {},
   "outputs": [],
   "source": []
  }
 ],
 "metadata": {
  "celltoolbar": "Slideshow",
  "kernelspec": {
   "display_name": "Python 3",
   "language": "python",
   "name": "python3"
  },
  "language_info": {
   "codemirror_mode": {
    "name": "ipython",
    "version": 3
   },
   "file_extension": ".py",
   "mimetype": "text/x-python",
   "name": "python",
   "nbconvert_exporter": "python",
   "pygments_lexer": "ipython3",
   "version": "3.8.8"
  }
 },
 "nbformat": 4,
 "nbformat_minor": 5
}
