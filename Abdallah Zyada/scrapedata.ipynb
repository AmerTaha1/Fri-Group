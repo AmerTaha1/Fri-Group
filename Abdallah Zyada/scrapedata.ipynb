{
 "cells": [
  {
   "cell_type": "code",
   "execution_count": 16,
   "id": "82d70f15",
   "metadata": {},
   "outputs": [],
   "source": [
    "import numpy as np\n",
    "import pandas as pd\n",
    "import csv\n",
    "import requests\n",
    "from bs4 import BeautifulSoup\n",
    "from functools import reduce\n",
    "import sqlite3"
   ]
  },
  {
   "cell_type": "code",
   "execution_count": 17,
   "id": "780f0b82",
   "metadata": {},
   "outputs": [],
   "source": [
    "book_resp = requests.get('https://books.toscrape.com/index.html')\n",
    "soup = BeautifulSoup(book_resp.text, 'html.parser')"
   ]
  },
  {
   "cell_type": "code",
   "execution_count": 18,
   "id": "a92a7cd1",
   "metadata": {},
   "outputs": [],
   "source": [
    "rates_dic={'Zero':0,'One':1,'Two':2,'Three':3,'Four':4,'Five':5}\n",
    "domain='https://books.toscrape.com/'"
   ]
  },
  {
   "cell_type": "code",
   "execution_count": 20,
   "id": "61bae763",
   "metadata": {},
   "outputs": [],
   "source": [
    "i=1\n",
    "while i <= 49:\n",
    "    fiction_url=domain+soup.find('ul',attrs={'class':''}).find_all('li')[i].find('a').get('href')\n",
    "    soup_cat=BeautifulSoup(requests.get(fiction_url).text,'html.parser')\n",
    "    category_name=soup_cat.find('title').get_text().strip().split('|')[0]\n",
    "    for article in soup_cat.find_all('article',attrs={'class':'product_pod'}):\n",
    "        Book_name=article.find('h3').find('a').get('title')\n",
    "        Price=float(article.find('div',attrs={'class':'product_price'}).find('p').get_text()[2:])\n",
    "        Rate=rates_dic[article.find('p').get('class')[1]]\n",
    "        connection = sqlite3.connect('books.db')\n",
    "        cursor = connection.execute('insert into book_category (Book_name, Price, Rate, Category) values (?, ?, ?, ?)', [Book_name, Price, Rate, category_name])\n",
    "        connection.commit()\n",
    "        connection.close()\n",
    " \n",
    "    while soup_cat.find('li',attrs={'class':'next'}):\n",
    "        new_page_url=reduce(lambda a,b:a+'/'+b,fiction_url.split('/')[:-1])+'/'+soup_cat.find('li',attrs={'class':'next'}).find('a').get('href')\n",
    "        soup_cat=BeautifulSoup(requests.get(new_page_url).text,'html.parser')\n",
    "        for article in soup_cat.find_all('article',attrs={'class':'product_pod'}):\n",
    "            Book_name=article.find('h3').find('a').get('title')\n",
    "            Price=float(article.find('div',attrs={'class':'product_price'}).find('p').get_text()[2:])\n",
    "            Rate=rates_dic[article.find('p').get('class')[1]] \n",
    "            connection = sqlite3.connect('books.db')\n",
    "            cursor = connection.execute('insert into book_category (Book_name, Price, Rate, Category) values (?, ?, ?, ?)', [Book_name, Price, Rate, category_name])\n",
    "            connection.commit()\n",
    "            connection.close()\n",
    "    i+=1"
   ]
  },
  {
   "cell_type": "code",
   "execution_count": 21,
   "id": "055aad13",
   "metadata": {},
   "outputs": [
    {
     "data": {
      "text/plain": [
       "(989, 5)"
      ]
     },
     "execution_count": 21,
     "metadata": {},
     "output_type": "execute_result"
    }
   ],
   "source": [
    "con = sqlite3.connect('books.db')\n",
    "data = pd.read_sql('select * from book_category', con)\n",
    "data.shape"
   ]
  },
  {
   "cell_type": "code",
   "execution_count": 22,
   "id": "ff6ca355",
   "metadata": {},
   "outputs": [
    {
     "data": {
      "text/html": [
       "<div>\n",
       "<style scoped>\n",
       "    .dataframe tbody tr th:only-of-type {\n",
       "        vertical-align: middle;\n",
       "    }\n",
       "\n",
       "    .dataframe tbody tr th {\n",
       "        vertical-align: top;\n",
       "    }\n",
       "\n",
       "    .dataframe thead th {\n",
       "        text-align: right;\n",
       "    }\n",
       "</style>\n",
       "<table border=\"1\" class=\"dataframe\">\n",
       "  <thead>\n",
       "    <tr style=\"text-align: right;\">\n",
       "      <th></th>\n",
       "      <th>ID</th>\n",
       "      <th>Book_name</th>\n",
       "      <th>Price</th>\n",
       "      <th>Rate</th>\n",
       "      <th>Category</th>\n",
       "    </tr>\n",
       "  </thead>\n",
       "  <tbody>\n",
       "    <tr>\n",
       "      <th>23</th>\n",
       "      <td>24</td>\n",
       "      <td>The Exiled</td>\n",
       "      <td>43.45</td>\n",
       "      <td>3</td>\n",
       "      <td>Mystery</td>\n",
       "    </tr>\n",
       "  </tbody>\n",
       "</table>\n",
       "</div>"
      ],
      "text/plain": [
       "    ID   Book_name  Price  Rate  Category\n",
       "23  24  The Exiled  43.45     3  Mystery "
      ]
     },
     "execution_count": 22,
     "metadata": {},
     "output_type": "execute_result"
    }
   ],
   "source": [
    "data[data['Book_name'] == 'The Exiled']"
   ]
  },
  {
   "cell_type": "code",
   "execution_count": 15,
   "id": "7c5a94e6",
   "metadata": {},
   "outputs": [],
   "source": [
    "i=1\n",
    "while i <= 49:\n",
    "    fiction_url=domain+soup.find('ul',attrs={'class':''}).find_all('li')[i].find('a').get('href')\n",
    "    soup_cat=BeautifulSoup(requests.get(fiction_url).text,'html.parser')\n",
    "    for article in soup_cat.find_all('article',attrs={'class':'product_pod'}):\n",
    "        Book_name=article.find('h3').find('a').get('title')\n",
    "        Price=float(article.find('div',attrs={'class':'product_price'}).find('p').get_text()[2:])\n",
    "        Rate=rates_dic[article.find('p').get('class')[1]]\n",
    "        connection = sqlite3.connect('books.db')\n",
    "        cursor = connection.execute('insert into book (Book_name, Price, Rate) values (?, ?, ?)', [Book_name, Price, Rate])\n",
    "        connection.commit()\n",
    "        connection.close()\n",
    " \n",
    "    while soup_cat.find('li',attrs={'class':'next'}):\n",
    "        new_page_url=reduce(lambda a,b:a+'/'+b,fiction_url.split('/')[:-1])+'/'+soup_cat.find('li',attrs={'class':'next'}).find('a').get('href')\n",
    "        soup_cat=BeautifulSoup(requests.get(new_page_url).text,'html.parser')\n",
    "        for article in soup_cat.find_all('article',attrs={'class':'product_pod'}):\n",
    "            Book_name=article.find('h3').find('a').get('title')\n",
    "            Price=float(article.find('div',attrs={'class':'product_price'}).find('p').get_text()[2:])\n",
    "            Rate=rates_dic[article.find('p').get('class')[1]] \n",
    "            connection = sqlite3.connect('books.db')\n",
    "            cursor = connection.execute('insert into book (Book_name, Price, Rate) values (?, ?, ?)', [Book_name, Price, Rate])\n",
    "            connection.commit()\n",
    "            connection.close()\n",
    "    i+=1"
   ]
  },
  {
   "cell_type": "code",
   "execution_count": 4,
   "id": "3a2b52f8",
   "metadata": {},
   "outputs": [],
   "source": [
    "i=1\n",
    "while i <= 49:\n",
    "    fiction_url=domain+soup.find('ul',attrs={'class':''}).find_all('li')[i].find('a').get('href')\n",
    "    soup_cat=BeautifulSoup(requests.get(fiction_url).text,'html.parser')\n",
    "    category_name=soup_cat.find('title').get_text().strip().split('|')[0]\n",
    "    connection = sqlite3.connect('books.db')\n",
    "    cursor = connection.execute('insert into category (Category) values (?)', [category_name])\n",
    "    connection.commit()\n",
    "    connection.close()\n",
    " \n",
    "    while soup_cat.find('li',attrs={'class':'next'}):\n",
    "        new_page_url=reduce(lambda a,b:a+'/'+b,fiction_url.split('/')[:-1])+'/'+soup_cat.find('li',attrs={'class':'next'}).find('a').get('href')\n",
    "        soup_cat=BeautifulSoup(requests.get(new_page_url).text,'html.parser')\n",
    "        category_name=soup_cat.find('title').get_text().strip().split('|')[0] \n",
    "        connection = sqlite3.connect('books.db')\n",
    "        cursor = connection.execute('insert into category (Category) values (?)', [category_name])\n",
    "        connection.commit()\n",
    "        connection.close()\n",
    "    i+=1"
   ]
  },
  {
   "cell_type": "code",
   "execution_count": null,
   "id": "4c275096",
   "metadata": {},
   "outputs": [],
   "source": []
  }
 ],
 "metadata": {
  "kernelspec": {
   "display_name": "Python 3",
   "language": "python",
   "name": "python3"
  },
  "language_info": {
   "codemirror_mode": {
    "name": "ipython",
    "version": 3
   },
   "file_extension": ".py",
   "mimetype": "text/x-python",
   "name": "python",
   "nbconvert_exporter": "python",
   "pygments_lexer": "ipython3",
   "version": "3.8.8"
  }
 },
 "nbformat": 4,
 "nbformat_minor": 5
}
