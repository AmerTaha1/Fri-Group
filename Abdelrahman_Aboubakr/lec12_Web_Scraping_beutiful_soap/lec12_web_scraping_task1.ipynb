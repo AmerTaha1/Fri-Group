{
 "cells": [
  {
   "cell_type": "code",
   "execution_count": 65,
   "metadata": {},
   "outputs": [],
   "source": [
    "import requests\n",
    "from bs4 import BeautifulSoup\n",
    "\n",
    "url='https://books.toscrape.com/'\n",
    "response=requests.get(url)"
   ]
  },
  {
   "cell_type": "code",
   "execution_count": 66,
   "metadata": {},
   "outputs": [],
   "source": [
    "soup=BeautifulSoup(response.text,'html.parser')"
   ]
  },
  {
   "cell_type": "code",
   "execution_count": 67,
   "metadata": {},
   "outputs": [],
   "source": [
    "lst = (soup.find('ul', attrs = {'class':''}).find_all('li'))"
   ]
  },
  {
   "cell_type": "code",
   "execution_count": 68,
   "metadata": {},
   "outputs": [
    {
     "data": {
      "text/plain": [
       "['https://books.toscrape.com/catalogue/category/books/travel_2/index.html',\n",
       " 'https://books.toscrape.com/catalogue/category/books/mystery_3/index.html',\n",
       " 'https://books.toscrape.com/catalogue/category/books/historical-fiction_4/index.html',\n",
       " 'https://books.toscrape.com/catalogue/category/books/sequential-art_5/index.html',\n",
       " 'https://books.toscrape.com/catalogue/category/books/classics_6/index.html',\n",
       " 'https://books.toscrape.com/catalogue/category/books/philosophy_7/index.html',\n",
       " 'https://books.toscrape.com/catalogue/category/books/romance_8/index.html',\n",
       " 'https://books.toscrape.com/catalogue/category/books/womens-fiction_9/index.html',\n",
       " 'https://books.toscrape.com/catalogue/category/books/fiction_10/index.html',\n",
       " 'https://books.toscrape.com/catalogue/category/books/childrens_11/index.html',\n",
       " 'https://books.toscrape.com/catalogue/category/books/religion_12/index.html',\n",
       " 'https://books.toscrape.com/catalogue/category/books/nonfiction_13/index.html',\n",
       " 'https://books.toscrape.com/catalogue/category/books/music_14/index.html',\n",
       " 'https://books.toscrape.com/catalogue/category/books/default_15/index.html',\n",
       " 'https://books.toscrape.com/catalogue/category/books/science-fiction_16/index.html',\n",
       " 'https://books.toscrape.com/catalogue/category/books/sports-and-games_17/index.html',\n",
       " 'https://books.toscrape.com/catalogue/category/books/add-a-comment_18/index.html',\n",
       " 'https://books.toscrape.com/catalogue/category/books/fantasy_19/index.html',\n",
       " 'https://books.toscrape.com/catalogue/category/books/new-adult_20/index.html',\n",
       " 'https://books.toscrape.com/catalogue/category/books/young-adult_21/index.html',\n",
       " 'https://books.toscrape.com/catalogue/category/books/science_22/index.html',\n",
       " 'https://books.toscrape.com/catalogue/category/books/poetry_23/index.html',\n",
       " 'https://books.toscrape.com/catalogue/category/books/paranormal_24/index.html',\n",
       " 'https://books.toscrape.com/catalogue/category/books/art_25/index.html',\n",
       " 'https://books.toscrape.com/catalogue/category/books/psychology_26/index.html',\n",
       " 'https://books.toscrape.com/catalogue/category/books/autobiography_27/index.html',\n",
       " 'https://books.toscrape.com/catalogue/category/books/parenting_28/index.html',\n",
       " 'https://books.toscrape.com/catalogue/category/books/adult-fiction_29/index.html',\n",
       " 'https://books.toscrape.com/catalogue/category/books/humor_30/index.html',\n",
       " 'https://books.toscrape.com/catalogue/category/books/horror_31/index.html',\n",
       " 'https://books.toscrape.com/catalogue/category/books/history_32/index.html',\n",
       " 'https://books.toscrape.com/catalogue/category/books/food-and-drink_33/index.html',\n",
       " 'https://books.toscrape.com/catalogue/category/books/christian-fiction_34/index.html',\n",
       " 'https://books.toscrape.com/catalogue/category/books/business_35/index.html',\n",
       " 'https://books.toscrape.com/catalogue/category/books/biography_36/index.html',\n",
       " 'https://books.toscrape.com/catalogue/category/books/thriller_37/index.html',\n",
       " 'https://books.toscrape.com/catalogue/category/books/contemporary_38/index.html',\n",
       " 'https://books.toscrape.com/catalogue/category/books/spirituality_39/index.html',\n",
       " 'https://books.toscrape.com/catalogue/category/books/academic_40/index.html',\n",
       " 'https://books.toscrape.com/catalogue/category/books/self-help_41/index.html',\n",
       " 'https://books.toscrape.com/catalogue/category/books/historical_42/index.html',\n",
       " 'https://books.toscrape.com/catalogue/category/books/christian_43/index.html',\n",
       " 'https://books.toscrape.com/catalogue/category/books/suspense_44/index.html',\n",
       " 'https://books.toscrape.com/catalogue/category/books/short-stories_45/index.html',\n",
       " 'https://books.toscrape.com/catalogue/category/books/novels_46/index.html',\n",
       " 'https://books.toscrape.com/catalogue/category/books/health_47/index.html',\n",
       " 'https://books.toscrape.com/catalogue/category/books/politics_48/index.html',\n",
       " 'https://books.toscrape.com/catalogue/category/books/cultural_49/index.html',\n",
       " 'https://books.toscrape.com/catalogue/category/books/erotica_50/index.html',\n",
       " 'https://books.toscrape.com/catalogue/category/books/crime_51/index.html']"
      ]
     },
     "execution_count": 68,
     "metadata": {},
     "output_type": "execute_result"
    }
   ],
   "source": [
    "links = []\n",
    "for n in range(len(lst)):\n",
    "    link = soup.find('ul', attrs = {'class':''}).find_all('li')[n].find('a').get('href')\n",
    "    domain = url\n",
    "    full_link = domain+link\n",
    "    links.append(full_link)\n",
    "links"
   ]
  },
  {
   "cell_type": "code",
   "execution_count": 111,
   "metadata": {},
   "outputs": [],
   "source": [
    "import csv\n",
    "headings = ['Book_name','Price','Rate','Category']\n",
    "with open('books_list.csv','w',encoding='utf-8',newline='') as file:\n",
    "    writer = csv.DictWriter(file, fieldnames=headings)\n",
    "    writer.writeheader()\n",
    "rate_dict = {'One':1, 'Two' : 2 , 'Three' : 3 , 'Four' : 4 , 'Five' : 5}\n",
    "for url in links:\n",
    "    response=requests.get(url)\n",
    "    soup=BeautifulSoup(response.text,'html.parser')\n",
    "    for book in soup.find_all('article',attrs={'class':'product_pod'}):\n",
    "        pricex=float(book.find('div',attrs={'class':'product_price'}).find('p').get_text()[2:])\n",
    "        titlex=book.find('h3').find('a').get('title').strip()\n",
    "        ratex=rate_dict[book.find('p').get('class')[1]]\n",
    "        categoryx=soup.find('div',attrs={'class':'page-header action'}).find('h1').get_text()\n",
    "        with open('books_list.csv', 'a', encoding='utf-8', newline='') as file:\n",
    "            writer = csv.DictWriter(file, fieldnames=headings)\n",
    "            writer.writerow({'Book_name':titlex,'Price':pricex,'Rate':ratex,'Category':categoryx})\n",
    "    while soup.find('li',attrs={'class':'next'}):\n",
    "        new_page_url=reduce(lambda a,b:a+'/'+b,url.split('/')[:-1])+'/'+soup.find('li',attrs={'class':'next'}).find('a').get('href')\n",
    "        soup=BeautifulSoup(requests.get(new_page_url).text,'html.parser')\n",
    "        for book in soup.find_all('article',attrs={'class':'product_pod'}):\n",
    "            pricex=float(book.find('div',attrs={'class':'product_price'}).find('p').get_text()[2:])\n",
    "            titlex=book.find('h3').find('a').get('title').strip()\n",
    "            ratex=rate_dict[book.find('p').get('class')[1]]\n",
    "            categoryx=soup.find('div',attrs={'class':'page-header action'}).find('h1').get_text()\n",
    "            with open('books_list.csv', 'a', encoding='utf-8', newline='') as file:\n",
    "                writer = csv.DictWriter(file, fieldnames=headings)\n",
    "                writer.writerow({'Book_name':titlex,'Price':pricex,'Rate':ratex,'Category':categoryx})"
   ]
  },
  {
   "cell_type": "code",
   "execution_count": 9,
   "metadata": {},
   "outputs": [
    {
     "data": {
      "text/html": [
       "<div>\n",
       "<style scoped>\n",
       "    .dataframe tbody tr th:only-of-type {\n",
       "        vertical-align: middle;\n",
       "    }\n",
       "\n",
       "    .dataframe tbody tr th {\n",
       "        vertical-align: top;\n",
       "    }\n",
       "\n",
       "    .dataframe thead th {\n",
       "        text-align: right;\n",
       "    }\n",
       "</style>\n",
       "<table border=\"1\" class=\"dataframe\">\n",
       "  <thead>\n",
       "    <tr style=\"text-align: right;\">\n",
       "      <th></th>\n",
       "      <th>Book_name</th>\n",
       "      <th>Price</th>\n",
       "      <th>Rate</th>\n",
       "      <th>Category</th>\n",
       "    </tr>\n",
       "  </thead>\n",
       "  <tbody>\n",
       "    <tr>\n",
       "      <th>855</th>\n",
       "      <td>A Heartbreaking Work of Staggering Genius</td>\n",
       "      <td>54.29</td>\n",
       "      <td>5</td>\n",
       "      <td>Autobiography</td>\n",
       "    </tr>\n",
       "    <tr>\n",
       "      <th>745</th>\n",
       "      <td>Set Me Free</td>\n",
       "      <td>17.46</td>\n",
       "      <td>5</td>\n",
       "      <td>Young Adult</td>\n",
       "    </tr>\n",
       "    <tr>\n",
       "      <th>956</th>\n",
       "      <td>In Her Wake</td>\n",
       "      <td>12.84</td>\n",
       "      <td>1</td>\n",
       "      <td>Thriller</td>\n",
       "    </tr>\n",
       "    <tr>\n",
       "      <th>150</th>\n",
       "      <td>Candide</td>\n",
       "      <td>58.63</td>\n",
       "      <td>3</td>\n",
       "      <td>Classics</td>\n",
       "    </tr>\n",
       "    <tr>\n",
       "      <th>551</th>\n",
       "      <td>Drama</td>\n",
       "      <td>38.70</td>\n",
       "      <td>2</td>\n",
       "      <td>Default</td>\n",
       "    </tr>\n",
       "    <tr>\n",
       "      <th>56</th>\n",
       "      <td>The Passion of Dolssa</td>\n",
       "      <td>28.32</td>\n",
       "      <td>5</td>\n",
       "      <td>Historical Fiction</td>\n",
       "    </tr>\n",
       "    <tr>\n",
       "      <th>450</th>\n",
       "      <td>The Coming Woman: A Novel Based on the Life of...</td>\n",
       "      <td>17.93</td>\n",
       "      <td>3</td>\n",
       "      <td>Default</td>\n",
       "    </tr>\n",
       "    <tr>\n",
       "      <th>153</th>\n",
       "      <td>The Picture of Dorian Gray</td>\n",
       "      <td>29.70</td>\n",
       "      <td>2</td>\n",
       "      <td>Classics</td>\n",
       "    </tr>\n",
       "    <tr>\n",
       "      <th>531</th>\n",
       "      <td>The 7 Habits of Highly Effective People: Power...</td>\n",
       "      <td>33.17</td>\n",
       "      <td>4</td>\n",
       "      <td>Default</td>\n",
       "    </tr>\n",
       "    <tr>\n",
       "      <th>815</th>\n",
       "      <td>Olio</td>\n",
       "      <td>23.88</td>\n",
       "      <td>1</td>\n",
       "      <td>Poetry</td>\n",
       "    </tr>\n",
       "  </tbody>\n",
       "</table>\n",
       "</div>"
      ],
      "text/plain": [
       "                                             Book_name  Price  Rate  \\\n",
       "855          A Heartbreaking Work of Staggering Genius  54.29     5   \n",
       "745                                        Set Me Free  17.46     5   \n",
       "956                                        In Her Wake  12.84     1   \n",
       "150                                            Candide  58.63     3   \n",
       "551                                              Drama  38.70     2   \n",
       "56                               The Passion of Dolssa  28.32     5   \n",
       "450  The Coming Woman: A Novel Based on the Life of...  17.93     3   \n",
       "153                         The Picture of Dorian Gray  29.70     2   \n",
       "531  The 7 Habits of Highly Effective People: Power...  33.17     4   \n",
       "815                                               Olio  23.88     1   \n",
       "\n",
       "               Category  \n",
       "855       Autobiography  \n",
       "745         Young Adult  \n",
       "956            Thriller  \n",
       "150            Classics  \n",
       "551             Default  \n",
       "56   Historical Fiction  \n",
       "450             Default  \n",
       "153            Classics  \n",
       "531             Default  \n",
       "815              Poetry  "
      ]
     },
     "execution_count": 9,
     "metadata": {},
     "output_type": "execute_result"
    }
   ],
   "source": [
    "import pandas as pd\n",
    "df=pd.read_csv('books_list.csv')\n",
    "df.sample(10)"
   ]
  },
  {
   "cell_type": "code",
   "execution_count": 108,
   "metadata": {},
   "outputs": [
    {
     "data": {
      "text/plain": [
       "(1000, 4)"
      ]
     },
     "execution_count": 108,
     "metadata": {},
     "output_type": "execute_result"
    }
   ],
   "source": [
    "df.shape"
   ]
  },
  {
   "cell_type": "code",
   "execution_count": null,
   "metadata": {},
   "outputs": [],
   "source": []
  }
 ],
 "metadata": {
  "kernelspec": {
   "display_name": "Python 3",
   "language": "python",
   "name": "python3"
  },
  "language_info": {
   "codemirror_mode": {
    "name": "ipython",
    "version": 3
   },
   "file_extension": ".py",
   "mimetype": "text/x-python",
   "name": "python",
   "nbconvert_exporter": "python",
   "pygments_lexer": "ipython3",
   "version": "3.7.6"
  }
 },
 "nbformat": 4,
 "nbformat_minor": 4
}
