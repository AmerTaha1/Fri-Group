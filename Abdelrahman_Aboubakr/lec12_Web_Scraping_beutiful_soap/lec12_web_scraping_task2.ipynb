{
 "cells": [
  {
   "cell_type": "code",
   "execution_count": 87,
   "metadata": {},
   "outputs": [],
   "source": [
    "def USDtoEGP():\n",
    "    import requests\n",
    "    from bs4 import BeautifulSoup\n",
    "    url = 'https://www.exchangerates.org.uk/Dollars-to-Egyptian-Pounds-currency-conversion-page.html'\n",
    "    response=requests.get(url)\n",
    "    soup=BeautifulSoup(response.text,'html.parser')\n",
    "    nDollar = float(input('please write ammount in dollars: '))\n",
    "    EGP = float(soup.find('span',attrs={'id':'shd2b;'}).get_text()) * nDollar\n",
    "    print(f'{EGP} EGP')"
   ]
  },
  {
   "cell_type": "code",
   "execution_count": 89,
   "metadata": {},
   "outputs": [
    {
     "name": "stdout",
     "output_type": "stream",
     "text": [
      "please write ammount in dollars: 3\n",
      "47.1171 EGP\n"
     ]
    }
   ],
   "source": [
    "USDtoEGP()"
   ]
  },
  {
   "cell_type": "code",
   "execution_count": null,
   "metadata": {},
   "outputs": [],
   "source": []
  }
 ],
 "metadata": {
  "kernelspec": {
   "display_name": "Python 3",
   "language": "python",
   "name": "python3"
  },
  "language_info": {
   "codemirror_mode": {
    "name": "ipython",
    "version": 3
   },
   "file_extension": ".py",
   "mimetype": "text/x-python",
   "name": "python",
   "nbconvert_exporter": "python",
   "pygments_lexer": "ipython3",
   "version": "3.7.6"
  }
 },
 "nbformat": 4,
 "nbformat_minor": 4
}
