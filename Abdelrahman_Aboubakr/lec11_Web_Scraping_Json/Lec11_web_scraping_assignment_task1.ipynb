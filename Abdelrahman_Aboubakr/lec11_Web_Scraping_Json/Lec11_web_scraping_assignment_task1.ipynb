{
 "cells": [
  {
   "cell_type": "code",
   "execution_count": 31,
   "metadata": {},
   "outputs": [],
   "source": [
    "def USDtoEUR():\n",
    "    import json\n",
    "    import requests\n",
    "    json_resp=requests.get('https://api.exchangerate.host/latest')\n",
    "    data = json.loads(json_resp.text)\n",
    "    Dollar = input('Please write the ammount in dollars: ')\n",
    "    Euro = float(Dollar) * data['rates']['USD']\n",
    "    print (f'{Euro} Euro')"
   ]
  },
  {
   "cell_type": "code",
   "execution_count": 32,
   "metadata": {},
   "outputs": [
    {
     "name": "stdout",
     "output_type": "stream",
     "text": [
      "Please write the ammount in dollars: 3\n",
      "3.560988 Euro\n"
     ]
    }
   ],
   "source": [
    "USDtoEUR()"
   ]
  },
  {
   "cell_type": "code",
   "execution_count": null,
   "metadata": {},
   "outputs": [],
   "source": []
  }
 ],
 "metadata": {
  "kernelspec": {
   "display_name": "Python 3",
   "language": "python",
   "name": "python3"
  },
  "language_info": {
   "codemirror_mode": {
    "name": "ipython",
    "version": 3
   },
   "file_extension": ".py",
   "mimetype": "text/x-python",
   "name": "python",
   "nbconvert_exporter": "python",
   "pygments_lexer": "ipython3",
   "version": "3.7.6"
  }
 },
 "nbformat": 4,
 "nbformat_minor": 4
}
