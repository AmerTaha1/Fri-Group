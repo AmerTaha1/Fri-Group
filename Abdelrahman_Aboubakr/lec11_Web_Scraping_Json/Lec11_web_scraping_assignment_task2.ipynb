{
 "cells": [
  {
   "cell_type": "code",
   "execution_count": 2,
   "metadata": {},
   "outputs": [],
   "source": [
    "import json\n",
    "import requests\n",
    "import csv"
   ]
  },
  {
   "cell_type": "code",
   "execution_count": 19,
   "metadata": {},
   "outputs": [],
   "source": [
    "with open('Cairo_Weather.csv', 'w', newline = '') as file:\n",
    "    writer = csv.DictWriter(file, fieldnames=['local_time','location','temprature', 'humidity', 'visibility','pressure','wind_speed'])\n",
    "    writer.writeheader()\n",
    "def weatherreport():\n",
    "    json_resp=requests.get('http://api.weatherstack.com/current?access_key=cce43aa3a3de500cc32c5df0e67c9408&query=Cairo')\n",
    "    data = json.loads(json_resp.text)\n",
    "    humidity = data['current']['humidity']\n",
    "    temp = data['current']['temperature']\n",
    "    visibility = data['current']['visibility']\n",
    "    pressure = data['current']['pressure']\n",
    "    wind_speed = data['current']['wind_speed']\n",
    "    location = data['location']['name']\n",
    "    Time = data['location']['localtime']\n",
    "    with open('Cairo_Weather.csv', 'a', newline='') as file:\n",
    "        writer = csv.DictWriter(file, fieldnames=['local_time','location','temprature', 'humidity', 'visibility','pressure','wind_speed'])\n",
    "        writer.writerow({'local_time':Time,'location':location,'temprature':temp,'humidity':humidity,'visibility':visibility,'pressure':pressure,'wind_speed':wind_speed})"
   ]
  },
  {
   "cell_type": "code",
   "execution_count": 33,
   "metadata": {},
   "outputs": [],
   "source": [
    "weatherreport()"
   ]
  },
  {
   "cell_type": "code",
   "execution_count": null,
   "metadata": {},
   "outputs": [],
   "source": []
  }
 ],
 "metadata": {
  "kernelspec": {
   "display_name": "Python 3",
   "language": "python",
   "name": "python3"
  },
  "language_info": {
   "codemirror_mode": {
    "name": "ipython",
    "version": 3
   },
   "file_extension": ".py",
   "mimetype": "text/x-python",
   "name": "python",
   "nbconvert_exporter": "python",
   "pygments_lexer": "ipython3",
   "version": "3.7.6"
  }
 },
 "nbformat": 4,
 "nbformat_minor": 4
}
